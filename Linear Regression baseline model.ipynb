{
 "cells": [
  {
   "cell_type": "code",
   "execution_count": 3,
   "metadata": {},
   "outputs": [],
   "source": [
    "import matplotlib.pyplot as plt\n",
    "import seaborn as sns\n",
    "\n",
    "import pandas as pd\n",
    "import numpy as np\n",
    "import matplotlib.pyplot as plt\n",
    "import seaborn as sns\n",
    "\n",
    "from sklearn.model_selection import train_test_split\n",
    "from sklearn.metrics import mean_squared_error, r2_score, explained_variance_score\n",
    "from sklearn.linear_model import LassoCV\n",
    "\n",
    "import warnings\n",
    "warnings.filterwarnings(\"ignore\")\n",
    "\n",
    "# from math import sqrt\n",
    "import statsmodels.api as sm\n",
    "from statsmodels.formula.api import ols"
   ]
  },
  {
   "cell_type": "code",
   "execution_count": 5,
   "metadata": {},
   "outputs": [],
   "source": [
    "###############################################################################\n",
    "### local imports                                                           ###\n",
    "###############################################################################\n",
    "\n",
    "import acquire as acq\n",
    "import prepare as prep\n",
    "\n",
    "from debug import local_settings, timeifdebug, timeargsifdebug, frame_splain\n",
    "from dfo import DFO, set_dfo"
   ]
  },
  {
   "cell_type": "code",
   "execution_count": 6,
   "metadata": {},
   "outputs": [],
   "source": [
    "from wrangle_zillow import get_zillow_data, prep_zillow_data, sqls"
   ]
  },
  {
   "cell_type": "markdown",
   "metadata": {},
   "source": [
    "Acquire & Summarize\n",
    "Acquire data from mySQL using the python module to connect and query. You will want to end with a single dataframe. Make sure to include: the logerror, all fields related to the properties that are available. You will end up using all the tables in the database.\n",
    "Be sure to do the correct join (inner, outer, etc.). We do not want to eliminate properties purely because they may have a null value for airconditioningtypeid .\n",
    "Only include properties with a transaction in 2017, and include only the last transaction for each properity (so no duplicate property ID's), along with zestimate error and date of transaction.\n",
    "Only include properties that include a latitude and longitude value."
   ]
  },
  {
   "cell_type": "code",
   "execution_count": 8,
   "metadata": {},
   "outputs": [],
   "source": [
    "dfo = set_dfo(get_zillow_data(sql=sqls['mvp']), splain=True)"
   ]
  },
  {
   "cell_type": "code",
   "execution_count": 10,
   "metadata": {},
   "outputs": [],
   "source": [
    "df = dfo.df"
   ]
  },
  {
   "cell_type": "code",
   "execution_count": 11,
   "metadata": {},
   "outputs": [
    {
     "data": {
      "text/html": [
       "<div>\n",
       "<style scoped>\n",
       "    .dataframe tbody tr th:only-of-type {\n",
       "        vertical-align: middle;\n",
       "    }\n",
       "\n",
       "    .dataframe tbody tr th {\n",
       "        vertical-align: top;\n",
       "    }\n",
       "\n",
       "    .dataframe thead th {\n",
       "        text-align: right;\n",
       "    }\n",
       "</style>\n",
       "<table border=\"1\" class=\"dataframe\">\n",
       "  <thead>\n",
       "    <tr style=\"text-align: right;\">\n",
       "      <th></th>\n",
       "      <th>parcelid</th>\n",
       "      <th>bathroomcnt</th>\n",
       "      <th>bedroomcnt</th>\n",
       "      <th>calculatedfinishedsquarefeet</th>\n",
       "      <th>logerror</th>\n",
       "    </tr>\n",
       "  </thead>\n",
       "  <tbody>\n",
       "    <tr>\n",
       "      <th>0</th>\n",
       "      <td>14297519</td>\n",
       "      <td>3.5</td>\n",
       "      <td>4.0</td>\n",
       "      <td>3100.0</td>\n",
       "      <td>0.025595</td>\n",
       "    </tr>\n",
       "    <tr>\n",
       "      <th>1</th>\n",
       "      <td>17052889</td>\n",
       "      <td>1.0</td>\n",
       "      <td>2.0</td>\n",
       "      <td>1465.0</td>\n",
       "      <td>0.055619</td>\n",
       "    </tr>\n",
       "    <tr>\n",
       "      <th>2</th>\n",
       "      <td>14186244</td>\n",
       "      <td>2.0</td>\n",
       "      <td>3.0</td>\n",
       "      <td>1243.0</td>\n",
       "      <td>0.005383</td>\n",
       "    </tr>\n",
       "    <tr>\n",
       "      <th>3</th>\n",
       "      <td>12177905</td>\n",
       "      <td>3.0</td>\n",
       "      <td>4.0</td>\n",
       "      <td>2376.0</td>\n",
       "      <td>-0.103410</td>\n",
       "    </tr>\n",
       "    <tr>\n",
       "      <th>4</th>\n",
       "      <td>12095076</td>\n",
       "      <td>3.0</td>\n",
       "      <td>4.0</td>\n",
       "      <td>2962.0</td>\n",
       "      <td>-0.001011</td>\n",
       "    </tr>\n",
       "  </tbody>\n",
       "</table>\n",
       "</div>"
      ],
      "text/plain": [
       "   parcelid  bathroomcnt  bedroomcnt  calculatedfinishedsquarefeet  logerror\n",
       "0  14297519          3.5         4.0                        3100.0  0.025595\n",
       "1  17052889          1.0         2.0                        1465.0  0.055619\n",
       "2  14186244          2.0         3.0                        1243.0  0.005383\n",
       "3  12177905          3.0         4.0                        2376.0 -0.103410\n",
       "4  12095076          3.0         4.0                        2962.0 -0.001011"
      ]
     },
     "execution_count": 11,
     "metadata": {},
     "output_type": "execute_result"
    }
   ],
   "source": [
    "df.head()"
   ]
  },
  {
   "cell_type": "code",
   "execution_count": 19,
   "metadata": {},
   "outputs": [],
   "source": [
    "import pandas as pd\n",
    "from sklearn.model_selection import train_test_split\n",
    "y = df['logerror']\n",
    "X= df[['bathroomcnt', 'bedroomcnt', 'calculatedfinishedsquarefeet']]\n",
    "X_train, X_test, y_train, y_test = train_test_split(X, y, test_size=0.2, random_state=123)"
   ]
  },
  {
   "cell_type": "code",
   "execution_count": 20,
   "metadata": {},
   "outputs": [
    {
     "name": "stdout",
     "output_type": "stream",
     "text": [
      "(41728, 5)\n",
      "(10433, 5)\n"
     ]
    }
   ],
   "source": [
    "print(train.shape); print(test.shape)"
   ]
  },
  {
   "cell_type": "markdown",
   "metadata": {},
   "source": [
    "#### Training the Model\n",
    "Now its time to train our model on our training data!"
   ]
  },
  {
   "cell_type": "code",
   "execution_count": 21,
   "metadata": {},
   "outputs": [],
   "source": [
    "from sklearn.linear_model import LinearRegression"
   ]
  },
  {
   "cell_type": "code",
   "execution_count": 22,
   "metadata": {},
   "outputs": [],
   "source": [
    "lm = LinearRegression()"
   ]
  },
  {
   "cell_type": "code",
   "execution_count": 23,
   "metadata": {},
   "outputs": [
    {
     "data": {
      "text/plain": [
       "LinearRegression(copy_X=True, fit_intercept=True, n_jobs=None, normalize=False)"
      ]
     },
     "execution_count": 23,
     "metadata": {},
     "output_type": "execute_result"
    }
   ],
   "source": [
    "lm.fit(X_train,y_train)"
   ]
  },
  {
   "cell_type": "code",
   "execution_count": 31,
   "metadata": {},
   "outputs": [
    {
     "name": "stdout",
     "output_type": "stream",
     "text": [
      "Linear Model: LinearRegression(copy_X=True, fit_intercept=True, n_jobs=None, normalize=False)\n",
      "intercept:  -0.004516590056757357\n",
      "coefficients:  [-1.52193288e-03  4.82509029e-03  5.48131807e-06]\n"
     ]
    }
   ],
   "source": [
    "lm.fit(X_train, y_train)\n",
    "print(\"Linear Model:\", lm)\n",
    "\n",
    "lm_y_intercept = lm.intercept_\n",
    "print(\"intercept: \", lm_y_intercept)\n",
    "\n",
    "lm_coefficients = lm.coef_\n",
    "print(\"coefficients: \", lm_coefficients)"
   ]
  },
  {
   "cell_type": "code",
   "execution_count": 35,
   "metadata": {},
   "outputs": [
    {
     "name": "stdout",
     "output_type": "stream",
     "text": [
      "14357   -0.009250\n",
      "25617   -0.033362\n",
      "46743    0.079581\n",
      "28702    0.036173\n",
      "31222    0.164710\n",
      "17139    0.008093\n",
      "17334    0.524423\n",
      "7250     0.001454\n",
      "18837   -0.013678\n",
      "28573    0.081074\n",
      "43354   -0.003688\n",
      "14996    0.116986\n",
      "14863   -0.052676\n",
      "39271    0.435081\n",
      "3554    -0.094097\n",
      "47375   -0.019032\n",
      "32338   -0.008857\n",
      "22340    0.044632\n",
      "48939    0.073533\n",
      "19221    0.097824\n",
      "23502    0.032605\n",
      "17558    0.153572\n",
      "7823    -0.049993\n",
      "37957   -0.005219\n",
      "27741   -0.936589\n",
      "13267    0.226321\n",
      "32669   -0.053511\n",
      "23214   -0.016213\n",
      "23418   -0.020084\n",
      "45928    0.678121\n",
      "           ...   \n",
      "22461    0.002747\n",
      "6648     0.117729\n",
      "30255    0.038662\n",
      "52158    0.013209\n",
      "49191    0.008621\n",
      "6484     0.024015\n",
      "26626    0.081715\n",
      "45507    0.042394\n",
      "50999    0.060059\n",
      "7985     0.050269\n",
      "17476   -0.011551\n",
      "14944    0.044140\n",
      "31140   -0.009510\n",
      "3325     0.107358\n",
      "35662    0.048804\n",
      "17747    0.018510\n",
      "36249    0.003024\n",
      "111     -0.186837\n",
      "33710    0.013369\n",
      "5664     0.047396\n",
      "23166    0.013743\n",
      "96       0.164707\n",
      "22241    0.013504\n",
      "23766    0.001934\n",
      "46203    0.024685\n",
      "7763     0.014373\n",
      "15377   -0.134012\n",
      "17730   -0.047965\n",
      "28030   -0.032733\n",
      "15725    0.034745\n",
      "Name: logerror, Length: 41728, dtype: float64 = b + m1 *        bathroomcnt  bedroomcnt  calculatedfinishedsquarefeet\n",
      "14357          2.0         4.0                        2418.0\n",
      "25617          1.0         3.0                         980.0\n",
      "46743          1.0         2.0                        1332.0\n",
      "28702          2.5         3.0                        2710.0\n",
      "31222          4.0         5.0                        3082.0\n",
      "17139          2.5         4.0                        1866.0\n",
      "17334          2.0         3.0                        1104.0\n",
      "7250           3.0         4.0                        2582.0\n",
      "18837          4.0         5.0                        3664.0\n",
      "28573          3.0         2.0                        4040.0\n",
      "43354          1.5         3.0                        1359.0\n",
      "14996          1.0         2.0                         650.0\n",
      "14863          1.0         4.0                        1952.0\n",
      "39271          2.0         4.0                        2011.0\n",
      "3554           3.0         3.0                        1637.0\n",
      "47375          2.0         2.0                        1798.0\n",
      "32338          1.0         2.0                        1290.0\n",
      "22340          3.5         5.0                        3316.0\n",
      "48939          5.0         6.0                        4336.0\n",
      "19221          3.5         5.0                        2307.0\n",
      "23502          2.0         3.0                        1680.0\n",
      "17558          4.0         4.0                        2159.0\n",
      "7823           1.0         1.0                        1170.0\n",
      "37957          2.0         3.0                        1521.0\n",
      "27741          2.0         2.0                        1256.0\n",
      "13267          2.0         3.0                        1854.0\n",
      "32669          1.0         2.0                        1212.0\n",
      "23214          2.0         3.0                        1072.0\n",
      "23418          2.0         3.0                        1680.0\n",
      "45928          4.0         3.0                        5612.0\n",
      "...            ...         ...                           ...\n",
      "22461          1.0         3.0                        1115.0\n",
      "6648           5.0         4.0                        5216.0\n",
      "30255          3.0         3.0                        1838.0\n",
      "52158          2.0         4.0                        1612.0\n",
      "49191          3.0         6.0                        3075.0\n",
      "6484           7.0         7.0                        5513.0\n",
      "26626          2.5         5.0                        2510.0\n",
      "45507          2.0         3.0                        1465.0\n",
      "50999          3.0         5.0                        4691.0\n",
      "7985           2.0         3.0                        1203.0\n",
      "17476          2.5         4.0                        2039.0\n",
      "14944          2.0         3.0                        1763.0\n",
      "31140          1.0         3.0                         945.0\n",
      "3325           6.5         5.0                        7031.0\n",
      "35662          2.0         3.0                        1368.0\n",
      "17747          2.0         2.0                        1842.0\n",
      "36249          3.5         3.0                        1974.0\n",
      "111            2.0         2.0                        2294.0\n",
      "33710          3.0         4.0                        2541.0\n",
      "5664           1.0         2.0                         720.0\n",
      "23166          3.0         4.0                        2417.0\n",
      "96             1.0         3.0                        1295.0\n",
      "22241          2.5         3.0                        1426.0\n",
      "23766          3.0         3.0                        1716.0\n",
      "46203          1.0         2.0                        1455.0\n",
      "7763           3.0         3.0                        1638.0\n",
      "15377          4.0         6.0                        3365.0\n",
      "17730          3.0         4.0                        2626.0\n",
      "28030          2.0         3.0                        1360.0\n",
      "15725          2.0         3.0                        1281.0\n",
      "\n",
      "[41728 rows x 3 columns] + m2 *        bathroomcnt  bedroomcnt  calculatedfinishedsquarefeet\n",
      "14357          2.0         4.0                        2418.0\n",
      "25617          1.0         3.0                         980.0\n",
      "46743          1.0         2.0                        1332.0\n",
      "28702          2.5         3.0                        2710.0\n",
      "31222          4.0         5.0                        3082.0\n",
      "17139          2.5         4.0                        1866.0\n",
      "17334          2.0         3.0                        1104.0\n",
      "7250           3.0         4.0                        2582.0\n",
      "18837          4.0         5.0                        3664.0\n",
      "28573          3.0         2.0                        4040.0\n",
      "43354          1.5         3.0                        1359.0\n",
      "14996          1.0         2.0                         650.0\n",
      "14863          1.0         4.0                        1952.0\n",
      "39271          2.0         4.0                        2011.0\n",
      "3554           3.0         3.0                        1637.0\n",
      "47375          2.0         2.0                        1798.0\n",
      "32338          1.0         2.0                        1290.0\n",
      "22340          3.5         5.0                        3316.0\n",
      "48939          5.0         6.0                        4336.0\n",
      "19221          3.5         5.0                        2307.0\n",
      "23502          2.0         3.0                        1680.0\n",
      "17558          4.0         4.0                        2159.0\n",
      "7823           1.0         1.0                        1170.0\n",
      "37957          2.0         3.0                        1521.0\n",
      "27741          2.0         2.0                        1256.0\n",
      "13267          2.0         3.0                        1854.0\n",
      "32669          1.0         2.0                        1212.0\n",
      "23214          2.0         3.0                        1072.0\n",
      "23418          2.0         3.0                        1680.0\n",
      "45928          4.0         3.0                        5612.0\n",
      "...            ...         ...                           ...\n",
      "22461          1.0         3.0                        1115.0\n",
      "6648           5.0         4.0                        5216.0\n",
      "30255          3.0         3.0                        1838.0\n",
      "52158          2.0         4.0                        1612.0\n",
      "49191          3.0         6.0                        3075.0\n",
      "6484           7.0         7.0                        5513.0\n",
      "26626          2.5         5.0                        2510.0\n",
      "45507          2.0         3.0                        1465.0\n",
      "50999          3.0         5.0                        4691.0\n",
      "7985           2.0         3.0                        1203.0\n",
      "17476          2.5         4.0                        2039.0\n",
      "14944          2.0         3.0                        1763.0\n",
      "31140          1.0         3.0                         945.0\n",
      "3325           6.5         5.0                        7031.0\n",
      "35662          2.0         3.0                        1368.0\n",
      "17747          2.0         2.0                        1842.0\n",
      "36249          3.5         3.0                        1974.0\n",
      "111            2.0         2.0                        2294.0\n",
      "33710          3.0         4.0                        2541.0\n",
      "5664           1.0         2.0                         720.0\n",
      "23166          3.0         4.0                        2417.0\n",
      "96             1.0         3.0                        1295.0\n",
      "22241          2.5         3.0                        1426.0\n",
      "23766          3.0         3.0                        1716.0\n",
      "46203          1.0         2.0                        1455.0\n",
      "7763           3.0         3.0                        1638.0\n",
      "15377          4.0         6.0                        3365.0\n",
      "17730          3.0         4.0                        2626.0\n",
      "28030          2.0         3.0                        1360.0\n",
      "15725          2.0         3.0                        1281.0\n",
      "\n",
      "[41728 rows x 3 columns]\n",
      "    y-intercept  (b): -0.00\n"
     ]
    },
    {
     "ename": "IndexError",
     "evalue": "invalid index to scalar variable.",
     "output_type": "error",
     "traceback": [
      "\u001b[0;31m---------------------------------------------------------------------------\u001b[0m",
      "\u001b[0;31mIndexError\u001b[0m                                Traceback (most recent call last)",
      "\u001b[0;32m<ipython-input-35-d510250b68ba>\u001b[0m in \u001b[0;36m<module>\u001b[0;34m\u001b[0m\n\u001b[1;32m      1\u001b[0m \u001b[0mprint\u001b[0m\u001b[0;34m(\u001b[0m\u001b[0;34m'{} = b + m1 * {} + m2 * {}'\u001b[0m\u001b[0;34m.\u001b[0m\u001b[0mformat\u001b[0m\u001b[0;34m(\u001b[0m\u001b[0my_train\u001b[0m\u001b[0;34m,\u001b[0m \u001b[0mX_train\u001b[0m\u001b[0;34m,\u001b[0m\u001b[0mX_train\u001b[0m\u001b[0;34m)\u001b[0m\u001b[0;34m)\u001b[0m\u001b[0;34m\u001b[0m\u001b[0;34m\u001b[0m\u001b[0m\n\u001b[1;32m      2\u001b[0m \u001b[0mprint\u001b[0m\u001b[0;34m(\u001b[0m\u001b[0;34m'    y-intercept  (b): %.2f'\u001b[0m \u001b[0;34m%\u001b[0m \u001b[0mlm_y_intercept\u001b[0m\u001b[0;34m)\u001b[0m\u001b[0;34m\u001b[0m\u001b[0;34m\u001b[0m\u001b[0m\n\u001b[0;32m----> 3\u001b[0;31m \u001b[0mprint\u001b[0m\u001b[0;34m(\u001b[0m\u001b[0;34m'    coefficient (m1): %.2f'\u001b[0m \u001b[0;34m%\u001b[0m \u001b[0mlm_coefficients\u001b[0m\u001b[0;34m[\u001b[0m\u001b[0;36m0\u001b[0m\u001b[0;34m]\u001b[0m\u001b[0;34m[\u001b[0m\u001b[0;36m0\u001b[0m\u001b[0;34m]\u001b[0m\u001b[0;34m)\u001b[0m\u001b[0;34m\u001b[0m\u001b[0;34m\u001b[0m\u001b[0m\n\u001b[0m\u001b[1;32m      4\u001b[0m \u001b[0mprint\u001b[0m\u001b[0;34m(\u001b[0m\u001b[0;34m'    coefficient (m2): %.2f'\u001b[0m \u001b[0;34m%\u001b[0m \u001b[0mlm_coefficients\u001b[0m\u001b[0;34m[\u001b[0m\u001b[0;36m0\u001b[0m\u001b[0;34m]\u001b[0m\u001b[0;34m[\u001b[0m\u001b[0;36m1\u001b[0m\u001b[0;34m]\u001b[0m\u001b[0;34m)\u001b[0m\u001b[0;34m\u001b[0m\u001b[0;34m\u001b[0m\u001b[0m\n",
      "\u001b[0;31mIndexError\u001b[0m: invalid index to scalar variable."
     ]
    }
   ],
   "source": [
    "print('{} = b + m1 * {} + m2 * {}'.format(y_train, X_train,X_train))\n",
    "print('    y-intercept  (b): %.2f' % lm_y_intercept)\n",
    "print('    coefficient (m1): %.2f' % lm_coefficients[0][0])\n",
    "print('    coefficient (m2): %.2f' % lm_coefficients[0][1])"
   ]
  },
  {
   "cell_type": "code",
   "execution_count": 36,
   "metadata": {},
   "outputs": [],
   "source": [
    "y_pred_lm = lm.predict(X_train)"
   ]
  },
  {
   "cell_type": "code",
   "execution_count": 40,
   "metadata": {},
   "outputs": [
    {
     "name": "stdout",
     "output_type": "stream",
     "text": [
      "linear model\n",
      "  mean squared error: 0.0312\n",
      "0.001934026314660997\n"
     ]
    }
   ],
   "source": [
    "mse_lm = mean_squared_error(y_train, y_pred_lm)\n",
    "print(\"linear model\\n  mean squared error: {:.3}\".format(mse_lm)) \n",
    "\n",
    "r2_lm = r2_score(y_train, y_pred_lm)\n",
    "print((r2_lm))"
   ]
  },
  {
   "cell_type": "code",
   "execution_count": 41,
   "metadata": {},
   "outputs": [
    {
     "ename": "TypeError",
     "evalue": "'float' object is not subscriptable",
     "output_type": "error",
     "traceback": [
      "\u001b[0;31m---------------------------------------------------------------------------\u001b[0m",
      "\u001b[0;31mTypeError\u001b[0m                                 Traceback (most recent call last)",
      "\u001b[0;32m<ipython-input-41-aa89200abbe8>\u001b[0m in \u001b[0;36m<module>\u001b[0;34m\u001b[0m\n\u001b[1;32m      1\u001b[0m \u001b[0;32mfrom\u001b[0m \u001b[0mmath\u001b[0m \u001b[0;32mimport\u001b[0m \u001b[0msqrt\u001b[0m\u001b[0;34m\u001b[0m\u001b[0;34m\u001b[0m\u001b[0m\n\u001b[1;32m      2\u001b[0m \u001b[0;34m\u001b[0m\u001b[0m\n\u001b[0;32m----> 3\u001b[0;31m \u001b[0my_pred_baseline\u001b[0m \u001b[0;34m=\u001b[0m \u001b[0mnp\u001b[0m\u001b[0;34m.\u001b[0m\u001b[0marray\u001b[0m\u001b[0;34m(\u001b[0m\u001b[0;34m[\u001b[0m\u001b[0my_train\u001b[0m\u001b[0;34m.\u001b[0m\u001b[0mmean\u001b[0m\u001b[0;34m(\u001b[0m\u001b[0;34m)\u001b[0m\u001b[0;34m[\u001b[0m\u001b[0;36m0\u001b[0m\u001b[0;34m]\u001b[0m\u001b[0;34m]\u001b[0m\u001b[0;34m*\u001b[0m\u001b[0mlen\u001b[0m\u001b[0;34m(\u001b[0m\u001b[0my_train\u001b[0m\u001b[0;34m)\u001b[0m\u001b[0;34m)\u001b[0m\u001b[0;34m\u001b[0m\u001b[0;34m\u001b[0m\u001b[0m\n\u001b[0m\u001b[1;32m      4\u001b[0m \u001b[0mMSE\u001b[0m \u001b[0;34m=\u001b[0m \u001b[0mmean_squared_error\u001b[0m\u001b[0;34m(\u001b[0m\u001b[0my_train\u001b[0m\u001b[0;34m,\u001b[0m \u001b[0my_pred_baseline\u001b[0m\u001b[0;34m)\u001b[0m\u001b[0;34m\u001b[0m\u001b[0;34m\u001b[0m\u001b[0m\n\u001b[1;32m      5\u001b[0m \u001b[0mSSE\u001b[0m \u001b[0;34m=\u001b[0m \u001b[0mMSE\u001b[0m\u001b[0;34m*\u001b[0m\u001b[0mlen\u001b[0m\u001b[0;34m(\u001b[0m\u001b[0my_train\u001b[0m\u001b[0;34m)\u001b[0m\u001b[0;34m\u001b[0m\u001b[0;34m\u001b[0m\u001b[0m\n",
      "\u001b[0;31mTypeError\u001b[0m: 'float' object is not subscriptable"
     ]
    }
   ],
   "source": [
    "from math import sqrt\n",
    "\n",
    "y_pred_baseline = np.array([y_train.mean()[0]]*len(y_train))\n",
    "MSE = mean_squared_error(y_train, y_pred_baseline)\n",
    "SSE = MSE*len(y_train)\n",
    "RMSE = sqrt(MSE)\n",
    "\n",
    "evs = explained_variance_score(y_train, y_pred_baseline)"
   ]
  },
  {
   "cell_type": "code",
   "execution_count": null,
   "metadata": {},
   "outputs": [],
   "source": []
  }
 ],
 "metadata": {
  "kernelspec": {
   "display_name": "Python 3",
   "language": "python",
   "name": "python3"
  },
  "language_info": {
   "codemirror_mode": {
    "name": "ipython",
    "version": 3
   },
   "file_extension": ".py",
   "mimetype": "text/x-python",
   "name": "python",
   "nbconvert_exporter": "python",
   "pygments_lexer": "ipython3",
   "version": "3.7.3"
  }
 },
 "nbformat": 4,
 "nbformat_minor": 2
}
