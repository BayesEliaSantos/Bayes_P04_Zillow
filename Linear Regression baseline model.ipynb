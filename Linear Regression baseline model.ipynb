{
 "cells": [
  {
   "cell_type": "code",
   "execution_count": 60,
   "metadata": {},
   "outputs": [],
   "source": [
    "import matplotlib.pyplot as plt\n",
    "import seaborn as sns\n",
    "\n",
    "import pandas as pd\n",
    "import numpy as np\n",
    "import matplotlib.pyplot as plt\n",
    "import seaborn as sns\n",
    "\n",
    "from sklearn.model_selection import train_test_split\n",
    "from sklearn.metrics import mean_squared_error, r2_score, explained_variance_score\n",
    "from sklearn.linear_model import LassoCV\n",
    "from statsmodels.sandbox.regression.predstd import wls_prediction_std\n",
    "from sklearn.linear_model import LassoCV\n",
    "from scipy import stats\n",
    "from statsmodels.formula.api import ols\n",
    "from sklearn.metrics import mean_squared_error, r2_score, explained_variance_score\n",
    "from sklearn.feature_selection import f_regression\n",
    "from sklearn.preprocessing import StandardScaler, QuantileTransformer, PowerTransformer, RobustScaler, MinMaxScaler\n",
    "\n",
    "\n",
    "\n",
    "import warnings\n",
    "warnings.filterwarnings(\"ignore\")\n",
    "\n",
    "# from math import sqrt\n",
    "import statsmodels.api as sm\n",
    "from statsmodels.formula.api import ols"
   ]
  },
  {
   "cell_type": "code",
   "execution_count": 2,
   "metadata": {},
   "outputs": [],
   "source": [
    "###############################################################################\n",
    "### local imports                                                           ###\n",
    "###############################################################################\n",
    "\n",
    "import acquire as acq\n",
    "import prepare as prep\n",
    "\n",
    "from debug import local_settings, timeifdebug, timeargsifdebug, frame_splain\n",
    "from dfo import DFO, set_dfo"
   ]
  },
  {
   "cell_type": "code",
   "execution_count": 3,
   "metadata": {},
   "outputs": [],
   "source": [
    "from wrangle_zillow import get_zillow_data, prep_zillow_data, sqls"
   ]
  },
  {
   "cell_type": "markdown",
   "metadata": {},
   "source": [
    "Acquire & Summarize\n",
    "Acquire data from mySQL using the python module to connect and query. You will want to end with a single dataframe. Make sure to include: the logerror, all fields related to the properties that are available. You will end up using all the tables in the database.\n",
    "Be sure to do the correct join (inner, outer, etc.). We do not want to eliminate properties purely because they may have a null value for airconditioningtypeid .\n",
    "Only include properties with a transaction in 2017, and include only the last transaction for each properity (so no duplicate property ID's), along with zestimate error and date of transaction.\n",
    "Only include properties that include a latitude and longitude value."
   ]
  },
  {
   "cell_type": "code",
   "execution_count": 4,
   "metadata": {},
   "outputs": [],
   "source": [
    "dfo = set_dfo(get_zillow_data(sql=sqls['mvp']), splain=True)"
   ]
  },
  {
   "cell_type": "code",
   "execution_count": 5,
   "metadata": {},
   "outputs": [],
   "source": [
    "df = dfo.df"
   ]
  },
  {
   "cell_type": "code",
   "execution_count": 6,
   "metadata": {},
   "outputs": [
    {
     "data": {
      "text/html": [
       "<div>\n",
       "<style scoped>\n",
       "    .dataframe tbody tr th:only-of-type {\n",
       "        vertical-align: middle;\n",
       "    }\n",
       "\n",
       "    .dataframe tbody tr th {\n",
       "        vertical-align: top;\n",
       "    }\n",
       "\n",
       "    .dataframe thead th {\n",
       "        text-align: right;\n",
       "    }\n",
       "</style>\n",
       "<table border=\"1\" class=\"dataframe\">\n",
       "  <thead>\n",
       "    <tr style=\"text-align: right;\">\n",
       "      <th></th>\n",
       "      <th>parcelid</th>\n",
       "      <th>bathroomcnt</th>\n",
       "      <th>bedroomcnt</th>\n",
       "      <th>calculatedfinishedsquarefeet</th>\n",
       "      <th>latitude</th>\n",
       "      <th>longitude</th>\n",
       "      <th>structuretaxvaluedollarcnt</th>\n",
       "      <th>structuredollarpersqft</th>\n",
       "      <th>logerror</th>\n",
       "    </tr>\n",
       "  </thead>\n",
       "  <tbody>\n",
       "    <tr>\n",
       "      <th>0</th>\n",
       "      <td>14297519</td>\n",
       "      <td>3.5</td>\n",
       "      <td>4.0</td>\n",
       "      <td>3100.0</td>\n",
       "      <td>33634931.0</td>\n",
       "      <td>-117869207.0</td>\n",
       "      <td>485713.0</td>\n",
       "      <td>156.681613</td>\n",
       "      <td>0.025595</td>\n",
       "    </tr>\n",
       "    <tr>\n",
       "      <th>1</th>\n",
       "      <td>17052889</td>\n",
       "      <td>1.0</td>\n",
       "      <td>2.0</td>\n",
       "      <td>1465.0</td>\n",
       "      <td>34449266.0</td>\n",
       "      <td>-119281531.0</td>\n",
       "      <td>88000.0</td>\n",
       "      <td>60.068259</td>\n",
       "      <td>0.055619</td>\n",
       "    </tr>\n",
       "    <tr>\n",
       "      <th>2</th>\n",
       "      <td>14186244</td>\n",
       "      <td>2.0</td>\n",
       "      <td>3.0</td>\n",
       "      <td>1243.0</td>\n",
       "      <td>33886168.0</td>\n",
       "      <td>-117823170.0</td>\n",
       "      <td>85289.0</td>\n",
       "      <td>68.615447</td>\n",
       "      <td>0.005383</td>\n",
       "    </tr>\n",
       "    <tr>\n",
       "      <th>3</th>\n",
       "      <td>12177905</td>\n",
       "      <td>3.0</td>\n",
       "      <td>4.0</td>\n",
       "      <td>2376.0</td>\n",
       "      <td>34245180.0</td>\n",
       "      <td>-118240722.0</td>\n",
       "      <td>108918.0</td>\n",
       "      <td>45.840909</td>\n",
       "      <td>-0.103410</td>\n",
       "    </tr>\n",
       "    <tr>\n",
       "      <th>4</th>\n",
       "      <td>12095076</td>\n",
       "      <td>3.0</td>\n",
       "      <td>4.0</td>\n",
       "      <td>2962.0</td>\n",
       "      <td>34145202.0</td>\n",
       "      <td>-118179824.0</td>\n",
       "      <td>276684.0</td>\n",
       "      <td>93.411209</td>\n",
       "      <td>-0.001011</td>\n",
       "    </tr>\n",
       "  </tbody>\n",
       "</table>\n",
       "</div>"
      ],
      "text/plain": [
       "   parcelid  bathroomcnt  bedroomcnt  calculatedfinishedsquarefeet  \\\n",
       "0  14297519          3.5         4.0                        3100.0   \n",
       "1  17052889          1.0         2.0                        1465.0   \n",
       "2  14186244          2.0         3.0                        1243.0   \n",
       "3  12177905          3.0         4.0                        2376.0   \n",
       "4  12095076          3.0         4.0                        2962.0   \n",
       "\n",
       "     latitude    longitude  structuretaxvaluedollarcnt  \\\n",
       "0  33634931.0 -117869207.0                    485713.0   \n",
       "1  34449266.0 -119281531.0                     88000.0   \n",
       "2  33886168.0 -117823170.0                     85289.0   \n",
       "3  34245180.0 -118240722.0                    108918.0   \n",
       "4  34145202.0 -118179824.0                    276684.0   \n",
       "\n",
       "   structuredollarpersqft  logerror  \n",
       "0              156.681613  0.025595  \n",
       "1               60.068259  0.055619  \n",
       "2               68.615447  0.005383  \n",
       "3               45.840909 -0.103410  \n",
       "4               93.411209 -0.001011  "
      ]
     },
     "execution_count": 6,
     "metadata": {},
     "output_type": "execute_result"
    }
   ],
   "source": [
    "df.head()"
   ]
  },
  {
   "cell_type": "code",
   "execution_count": 7,
   "metadata": {},
   "outputs": [],
   "source": [
    "import pandas as pd\n",
    "from sklearn.model_selection import train_test_split\n",
    "y = df['logerror']\n",
    "X= df[['bathroomcnt', 'bedroomcnt', 'calculatedfinishedsquarefeet']]\n",
    "X_train, X_test, y_train, y_test = train_test_split(X, y, test_size=0.2, random_state=123)"
   ]
  },
  {
   "cell_type": "markdown",
   "metadata": {},
   "source": [
    "#### Training the Model\n",
    "Now its time to train our model on our training data!"
   ]
  },
  {
   "cell_type": "code",
   "execution_count": 27,
   "metadata": {},
   "outputs": [],
   "source": [
    "from sklearn.linear_model import LinearRegression"
   ]
  },
  {
   "cell_type": "code",
   "execution_count": 28,
   "metadata": {},
   "outputs": [],
   "source": [
    "lm = LinearRegression()"
   ]
  },
  {
   "cell_type": "code",
   "execution_count": 35,
   "metadata": {},
   "outputs": [
    {
     "name": "stdout",
     "output_type": "stream",
     "text": [
      "0.002600932895118313\n"
     ]
    }
   ],
   "source": [
    "lm.fit(X_train, y_train) \n",
    "print(lm.score(X_test, y_test)) "
   ]
  },
  {
   "cell_type": "code",
   "execution_count": null,
   "metadata": {},
   "outputs": [],
   "source": []
  },
  {
   "cell_type": "code",
   "execution_count": 29,
   "metadata": {},
   "outputs": [
    {
     "data": {
      "text/plain": [
       "LinearRegression(copy_X=True, fit_intercept=True, n_jobs=None, normalize=False)"
      ]
     },
     "execution_count": 29,
     "metadata": {},
     "output_type": "execute_result"
    }
   ],
   "source": [
    "lm.fit(X_train,y_train)"
   ]
  },
  {
   "cell_type": "code",
   "execution_count": 30,
   "metadata": {},
   "outputs": [
    {
     "name": "stdout",
     "output_type": "stream",
     "text": [
      "Linear Model: LinearRegression(copy_X=True, fit_intercept=True, n_jobs=None, normalize=False)\n",
      "intercept:  -0.0041216158350283125\n",
      "coefficients:  [1.16494995e-03 3.71055458e-03 3.69513763e-06]\n"
     ]
    }
   ],
   "source": [
    "lm.fit(X_train, y_train)\n",
    "print(\"Linear Model:\", lm)\n",
    "\n",
    "lm_y_intercept = lm.intercept_\n",
    "print(\"intercept: \", lm_y_intercept)\n",
    "\n",
    "lm_coefficients = lm.coef_\n",
    "print(\"coefficients: \", lm_coefficients)"
   ]
  },
  {
   "cell_type": "code",
   "execution_count": 31,
   "metadata": {},
   "outputs": [
    {
     "name": "stdout",
     "output_type": "stream",
     "text": [
      "22685   -0.149851\n",
      "18874   -0.019995\n",
      "11776    0.228283\n",
      "13920   -0.002501\n",
      "30696    0.004202\n",
      "34974   -0.030510\n",
      "36823    0.027156\n",
      "45374    0.057224\n",
      "21162    0.197872\n",
      "7880    -0.070456\n",
      "30493   -0.002721\n",
      "17829   -0.090198\n",
      "9043     0.157724\n",
      "18785   -0.174206\n",
      "39008    0.053454\n",
      "41782    0.071354\n",
      "24833    0.029356\n",
      "5425    -0.139227\n",
      "49349    0.026322\n",
      "50664   -0.090718\n",
      "34808    0.000528\n",
      "13340    0.000925\n",
      "49683   -0.129345\n",
      "7163     0.100324\n",
      "6653     0.061056\n",
      "35641   -0.041579\n",
      "47725    0.006863\n",
      "50061    0.031097\n",
      "28810   -0.012065\n",
      "44745    0.001410\n",
      "           ...   \n",
      "22461   -0.052791\n",
      "6648    -0.042414\n",
      "30255    0.072626\n",
      "52086    0.013209\n",
      "49191    0.024677\n",
      "6484     0.014847\n",
      "26626   -0.020490\n",
      "45507    0.002282\n",
      "50999    0.318471\n",
      "7985     0.470966\n",
      "17476    0.003648\n",
      "14944    0.003739\n",
      "31140    0.095635\n",
      "3325     0.028150\n",
      "35662    0.003967\n",
      "17747    0.128773\n",
      "36249    0.017080\n",
      "111     -0.186837\n",
      "33710   -0.001698\n",
      "5664     0.119679\n",
      "23166   -0.608106\n",
      "96       0.164707\n",
      "22241   -0.063671\n",
      "23766    0.104392\n",
      "46203    0.027013\n",
      "7763     0.332310\n",
      "15377   -0.010758\n",
      "17730    0.058559\n",
      "28030   -0.100805\n",
      "15725   -0.062862\n",
      "Name: logerror, Length: 41671, dtype: float64 = b + m1 *        bathroomcnt  bedroomcnt  calculatedfinishedsquarefeet\n",
      "22685          1.0         3.0                        1242.0\n",
      "18874          1.0         3.0                        1219.0\n",
      "11776          3.0         3.0                        3155.0\n",
      "13920          1.5         3.0                        1176.0\n",
      "30696          2.0         3.0                        1450.0\n",
      "34974          2.0         4.0                        1424.0\n",
      "36823          3.0         3.0                        1678.0\n",
      "45374          3.0         4.0                        2314.0\n",
      "21162          3.0         4.0                        1934.0\n",
      "7880           4.5         5.0                        3945.0\n",
      "30493          2.0         3.0                        1551.0\n",
      "17829          3.0         3.0                        1810.0\n",
      "9043           1.0         3.0                        1568.0\n",
      "18785          2.0         2.0                         972.0\n",
      "39008          2.0         3.0                        1452.0\n",
      "41782          1.0         2.0                         804.0\n",
      "24833          2.0         3.0                        1614.0\n",
      "5425           3.0         4.0                        1538.0\n",
      "49349          2.0         3.0                        1634.0\n",
      "50664          2.0         3.0                        2498.0\n",
      "34808          2.5         3.0                        1737.0\n",
      "13340          3.0         4.0                        1954.0\n",
      "49683          2.0         2.0                        1949.0\n",
      "7163           3.0         2.0                        2154.0\n",
      "6653           2.0         2.0                        1855.0\n",
      "35641          3.0         4.0                        2559.0\n",
      "47725          3.0         4.0                        2108.0\n",
      "50061          1.0         2.0                        1092.0\n",
      "28810          2.0         3.0                        2114.0\n",
      "44745          1.0         2.0                        1112.0\n",
      "...            ...         ...                           ...\n",
      "22461          2.0         4.0                        1821.0\n",
      "6648           3.0         4.0                        2390.0\n",
      "30255          2.0         3.0                        1596.0\n",
      "52086          2.0         4.0                        1612.0\n",
      "49191          2.0         3.0                        1662.0\n",
      "6484           2.0         3.0                        1242.0\n",
      "26626          3.0         5.0                        2448.0\n",
      "45507          1.5         3.0                        1069.0\n",
      "50999          3.0         4.0                        2763.0\n",
      "7985           1.0         2.0                        1000.0\n",
      "17476          3.0         3.0                        2747.0\n",
      "14944          2.0         3.0                        1304.0\n",
      "31140          1.0         2.0                         908.0\n",
      "3325           3.0         3.0                        2866.0\n",
      "35662          2.0         3.0                        1205.0\n",
      "17747          1.0         2.0                        1004.0\n",
      "36249          2.0         4.0                        1500.0\n",
      "111            2.0         2.0                        2294.0\n",
      "33710          2.0         3.0                        1546.0\n",
      "5664           2.0         3.0                        1332.0\n",
      "23166          5.0         4.0                        5868.0\n",
      "96             1.0         3.0                        1295.0\n",
      "22241          2.0         4.0                        1765.0\n",
      "23766          7.0         5.0                        4572.0\n",
      "46203          2.0         3.0                        1524.0\n",
      "7763           2.0         3.0                        1527.0\n",
      "15377          2.0         3.0                        1296.0\n",
      "17730          3.0         3.0                        2052.0\n",
      "28030          2.0         3.0                        1352.0\n",
      "15725          2.0         3.0                        1544.0\n",
      "\n",
      "[41671 rows x 3 columns] + m2 *        bathroomcnt  bedroomcnt  calculatedfinishedsquarefeet\n",
      "22685          1.0         3.0                        1242.0\n",
      "18874          1.0         3.0                        1219.0\n",
      "11776          3.0         3.0                        3155.0\n",
      "13920          1.5         3.0                        1176.0\n",
      "30696          2.0         3.0                        1450.0\n",
      "34974          2.0         4.0                        1424.0\n",
      "36823          3.0         3.0                        1678.0\n",
      "45374          3.0         4.0                        2314.0\n",
      "21162          3.0         4.0                        1934.0\n",
      "7880           4.5         5.0                        3945.0\n",
      "30493          2.0         3.0                        1551.0\n",
      "17829          3.0         3.0                        1810.0\n",
      "9043           1.0         3.0                        1568.0\n",
      "18785          2.0         2.0                         972.0\n",
      "39008          2.0         3.0                        1452.0\n",
      "41782          1.0         2.0                         804.0\n",
      "24833          2.0         3.0                        1614.0\n",
      "5425           3.0         4.0                        1538.0\n",
      "49349          2.0         3.0                        1634.0\n",
      "50664          2.0         3.0                        2498.0\n",
      "34808          2.5         3.0                        1737.0\n",
      "13340          3.0         4.0                        1954.0\n",
      "49683          2.0         2.0                        1949.0\n",
      "7163           3.0         2.0                        2154.0\n",
      "6653           2.0         2.0                        1855.0\n",
      "35641          3.0         4.0                        2559.0\n",
      "47725          3.0         4.0                        2108.0\n",
      "50061          1.0         2.0                        1092.0\n",
      "28810          2.0         3.0                        2114.0\n",
      "44745          1.0         2.0                        1112.0\n",
      "...            ...         ...                           ...\n",
      "22461          2.0         4.0                        1821.0\n",
      "6648           3.0         4.0                        2390.0\n",
      "30255          2.0         3.0                        1596.0\n",
      "52086          2.0         4.0                        1612.0\n",
      "49191          2.0         3.0                        1662.0\n",
      "6484           2.0         3.0                        1242.0\n",
      "26626          3.0         5.0                        2448.0\n",
      "45507          1.5         3.0                        1069.0\n",
      "50999          3.0         4.0                        2763.0\n",
      "7985           1.0         2.0                        1000.0\n",
      "17476          3.0         3.0                        2747.0\n",
      "14944          2.0         3.0                        1304.0\n",
      "31140          1.0         2.0                         908.0\n",
      "3325           3.0         3.0                        2866.0\n",
      "35662          2.0         3.0                        1205.0\n",
      "17747          1.0         2.0                        1004.0\n",
      "36249          2.0         4.0                        1500.0\n",
      "111            2.0         2.0                        2294.0\n",
      "33710          2.0         3.0                        1546.0\n",
      "5664           2.0         3.0                        1332.0\n",
      "23166          5.0         4.0                        5868.0\n",
      "96             1.0         3.0                        1295.0\n",
      "22241          2.0         4.0                        1765.0\n",
      "23766          7.0         5.0                        4572.0\n",
      "46203          2.0         3.0                        1524.0\n",
      "7763           2.0         3.0                        1527.0\n",
      "15377          2.0         3.0                        1296.0\n",
      "17730          3.0         3.0                        2052.0\n",
      "28030          2.0         3.0                        1352.0\n",
      "15725          2.0         3.0                        1544.0\n",
      "\n",
      "[41671 rows x 3 columns]\n",
      "    y-intercept  (b): -0.00\n"
     ]
    },
    {
     "ename": "IndexError",
     "evalue": "invalid index to scalar variable.",
     "output_type": "error",
     "traceback": [
      "\u001b[0;31m---------------------------------------------------------------------------\u001b[0m",
      "\u001b[0;31mIndexError\u001b[0m                                Traceback (most recent call last)",
      "\u001b[0;32m<ipython-input-31-d510250b68ba>\u001b[0m in \u001b[0;36m<module>\u001b[0;34m\u001b[0m\n\u001b[1;32m      1\u001b[0m \u001b[0mprint\u001b[0m\u001b[0;34m(\u001b[0m\u001b[0;34m'{} = b + m1 * {} + m2 * {}'\u001b[0m\u001b[0;34m.\u001b[0m\u001b[0mformat\u001b[0m\u001b[0;34m(\u001b[0m\u001b[0my_train\u001b[0m\u001b[0;34m,\u001b[0m \u001b[0mX_train\u001b[0m\u001b[0;34m,\u001b[0m\u001b[0mX_train\u001b[0m\u001b[0;34m)\u001b[0m\u001b[0;34m)\u001b[0m\u001b[0;34m\u001b[0m\u001b[0;34m\u001b[0m\u001b[0m\n\u001b[1;32m      2\u001b[0m \u001b[0mprint\u001b[0m\u001b[0;34m(\u001b[0m\u001b[0;34m'    y-intercept  (b): %.2f'\u001b[0m \u001b[0;34m%\u001b[0m \u001b[0mlm_y_intercept\u001b[0m\u001b[0;34m)\u001b[0m\u001b[0;34m\u001b[0m\u001b[0;34m\u001b[0m\u001b[0m\n\u001b[0;32m----> 3\u001b[0;31m \u001b[0mprint\u001b[0m\u001b[0;34m(\u001b[0m\u001b[0;34m'    coefficient (m1): %.2f'\u001b[0m \u001b[0;34m%\u001b[0m \u001b[0mlm_coefficients\u001b[0m\u001b[0;34m[\u001b[0m\u001b[0;36m0\u001b[0m\u001b[0;34m]\u001b[0m\u001b[0;34m[\u001b[0m\u001b[0;36m0\u001b[0m\u001b[0;34m]\u001b[0m\u001b[0;34m)\u001b[0m\u001b[0;34m\u001b[0m\u001b[0;34m\u001b[0m\u001b[0m\n\u001b[0m\u001b[1;32m      4\u001b[0m \u001b[0mprint\u001b[0m\u001b[0;34m(\u001b[0m\u001b[0;34m'    coefficient (m2): %.2f'\u001b[0m \u001b[0;34m%\u001b[0m \u001b[0mlm_coefficients\u001b[0m\u001b[0;34m[\u001b[0m\u001b[0;36m0\u001b[0m\u001b[0;34m]\u001b[0m\u001b[0;34m[\u001b[0m\u001b[0;36m1\u001b[0m\u001b[0;34m]\u001b[0m\u001b[0;34m)\u001b[0m\u001b[0;34m\u001b[0m\u001b[0;34m\u001b[0m\u001b[0m\n",
      "\u001b[0;31mIndexError\u001b[0m: invalid index to scalar variable."
     ]
    }
   ],
   "source": [
    "print('{} = b + m1 * {} + m2 * {}'.format(y_train, X_train,X_train))\n",
    "print('    y-intercept  (b): %.2f' % lm_y_intercept)\n",
    "print('    coefficient (m1): %.2f' % lm_coefficients[0][0])\n",
    "print('    coefficient (m2): %.2f' % lm_coefficients[0][1])"
   ]
  },
  {
   "cell_type": "code",
   "execution_count": 32,
   "metadata": {},
   "outputs": [],
   "source": [
    "y_pred_lm = lm.predict(X_train)"
   ]
  },
  {
   "cell_type": "code",
   "execution_count": 34,
   "metadata": {},
   "outputs": [
    {
     "name": "stdout",
     "output_type": "stream",
     "text": [
      "linear model\n",
      "  mean squared error: 0.0313\n",
      "0.0017804647387745787\n"
     ]
    }
   ],
   "source": [
    "mse_lm = mean_squared_error(y_train, y_pred_lm)\n",
    "print(\"linear model\\n  mean squared error: {:.3}\".format(mse_lm)) \n",
    "\n",
    "r2_lm = r2_score(y_train, y_pred_lm)\n",
    "print((r2_lm))"
   ]
  },
  {
   "cell_type": "code",
   "execution_count": 44,
   "metadata": {},
   "outputs": [
    {
     "data": {
      "text/html": [
       "<table class=\"simpletable\">\n",
       "<caption>OLS Regression Results</caption>\n",
       "<tr>\n",
       "  <th>Dep. Variable:</th>        <td>logerror</td>     <th>  R-squared (uncentered):</th>       <td>   0.013</td> \n",
       "</tr>\n",
       "<tr>\n",
       "  <th>Model:</th>                   <td>OLS</td>       <th>  Adj. R-squared (uncentered):</th>  <td>   0.012</td> \n",
       "</tr>\n",
       "<tr>\n",
       "  <th>Method:</th>             <td>Least Squares</td>  <th>  F-statistic:       </th>           <td>   220.1</td> \n",
       "</tr>\n",
       "<tr>\n",
       "  <th>Date:</th>             <td>Thu, 07 Nov 2019</td> <th>  Prob (F-statistic):</th>           <td>6.65e-142</td>\n",
       "</tr>\n",
       "<tr>\n",
       "  <th>Time:</th>                 <td>09:33:13</td>     <th>  Log-Likelihood:    </th>           <td>  16635.</td> \n",
       "</tr>\n",
       "<tr>\n",
       "  <th>No. Observations:</th>      <td> 52089</td>      <th>  AIC:               </th>          <td>-3.326e+04</td>\n",
       "</tr>\n",
       "<tr>\n",
       "  <th>Df Residuals:</th>          <td> 52086</td>      <th>  BIC:               </th>          <td>-3.324e+04</td>\n",
       "</tr>\n",
       "<tr>\n",
       "  <th>Df Model:</th>              <td>     3</td>      <th>                     </th>               <td> </td>    \n",
       "</tr>\n",
       "<tr>\n",
       "  <th>Covariance Type:</th>      <td>nonrobust</td>    <th>                     </th>               <td> </td>    \n",
       "</tr>\n",
       "</table>\n",
       "<table class=\"simpletable\">\n",
       "<tr>\n",
       "                <td></td>                  <th>coef</th>     <th>std err</th>      <th>t</th>      <th>P>|t|</th>  <th>[0.025</th>    <th>0.975]</th>  \n",
       "</tr>\n",
       "<tr>\n",
       "  <th>bathroomcnt</th>                  <td>-1.241e-05</td> <td>    0.001</td> <td>   -0.008</td> <td> 0.993</td> <td>   -0.003</td> <td>    0.003</td>\n",
       "</tr>\n",
       "<tr>\n",
       "  <th>bedroomcnt</th>                   <td>    0.0029</td> <td>    0.001</td> <td>    3.968</td> <td> 0.000</td> <td>    0.001</td> <td>    0.004</td>\n",
       "</tr>\n",
       "<tr>\n",
       "  <th>calculatedfinishedsquarefeet</th> <td> 4.677e-06</td> <td> 1.48e-06</td> <td>    3.152</td> <td> 0.002</td> <td> 1.77e-06</td> <td> 7.58e-06</td>\n",
       "</tr>\n",
       "</table>\n",
       "<table class=\"simpletable\">\n",
       "<tr>\n",
       "  <th>Omnibus:</th>       <td>49991.743</td> <th>  Durbin-Watson:     </th>   <td>   2.009</td>  \n",
       "</tr>\n",
       "<tr>\n",
       "  <th>Prob(Omnibus):</th>  <td> 0.000</td>   <th>  Jarque-Bera (JB):  </th> <td>27205876.849</td>\n",
       "</tr>\n",
       "<tr>\n",
       "  <th>Skew:</th>           <td> 3.820</td>   <th>  Prob(JB):          </th>   <td>    0.00</td>  \n",
       "</tr>\n",
       "<tr>\n",
       "  <th>Kurtosis:</th>       <td>114.699</td>  <th>  Cond. No.          </th>   <td>4.37e+03</td>  \n",
       "</tr>\n",
       "</table><br/><br/>Warnings:<br/>[1] Standard Errors assume that the covariance matrix of the errors is correctly specified.<br/>[2] The condition number is large, 4.37e+03. This might indicate that there are<br/>strong multicollinearity or other numerical problems."
      ],
      "text/plain": [
       "<class 'statsmodels.iolib.summary.Summary'>\n",
       "\"\"\"\n",
       "                                 OLS Regression Results                                \n",
       "=======================================================================================\n",
       "Dep. Variable:               logerror   R-squared (uncentered):                   0.013\n",
       "Model:                            OLS   Adj. R-squared (uncentered):              0.012\n",
       "Method:                 Least Squares   F-statistic:                              220.1\n",
       "Date:                Thu, 07 Nov 2019   Prob (F-statistic):                   6.65e-142\n",
       "Time:                        09:33:13   Log-Likelihood:                          16635.\n",
       "No. Observations:               52089   AIC:                                 -3.326e+04\n",
       "Df Residuals:                   52086   BIC:                                 -3.324e+04\n",
       "Df Model:                           3                                                  \n",
       "Covariance Type:            nonrobust                                                  \n",
       "================================================================================================\n",
       "                                   coef    std err          t      P>|t|      [0.025      0.975]\n",
       "------------------------------------------------------------------------------------------------\n",
       "bathroomcnt                  -1.241e-05      0.001     -0.008      0.993      -0.003       0.003\n",
       "bedroomcnt                       0.0029      0.001      3.968      0.000       0.001       0.004\n",
       "calculatedfinishedsquarefeet  4.677e-06   1.48e-06      3.152      0.002    1.77e-06    7.58e-06\n",
       "==============================================================================\n",
       "Omnibus:                    49991.743   Durbin-Watson:                   2.009\n",
       "Prob(Omnibus):                  0.000   Jarque-Bera (JB):         27205876.849\n",
       "Skew:                           3.820   Prob(JB):                         0.00\n",
       "Kurtosis:                     114.699   Cond. No.                     4.37e+03\n",
       "==============================================================================\n",
       "\n",
       "Warnings:\n",
       "[1] Standard Errors assume that the covariance matrix of the errors is correctly specified.\n",
       "[2] The condition number is large, 4.37e+03. This might indicate that there are\n",
       "strong multicollinearity or other numerical problems.\n",
       "\"\"\""
      ]
     },
     "execution_count": 44,
     "metadata": {},
     "output_type": "execute_result"
    }
   ],
   "source": [
    "import statsmodels.api as sm\n",
    "\n",
    "#OLS object to analyze features\n",
    "\n",
    "ols_model = sm.OLS(y_train, X_train)\n",
    "regr = sm.OLS(y, X).fit()\n",
    "regr.summary()\n",
    "\n"
   ]
  },
  {
   "cell_type": "code",
   "execution_count": null,
   "metadata": {},
   "outputs": [],
   "source": []
  },
  {
   "cell_type": "code",
   "execution_count": null,
   "metadata": {},
   "outputs": [],
   "source": []
  },
  {
   "cell_type": "code",
   "execution_count": null,
   "metadata": {},
   "outputs": [],
   "source": []
  },
  {
   "cell_type": "markdown",
   "metadata": {},
   "source": [
    "###### Linear Regression with the Latitude, longitude, anmd Price per square feet"
   ]
  },
  {
   "cell_type": "code",
   "execution_count": 46,
   "metadata": {},
   "outputs": [
    {
     "data": {
      "text/html": [
       "<div>\n",
       "<style scoped>\n",
       "    .dataframe tbody tr th:only-of-type {\n",
       "        vertical-align: middle;\n",
       "    }\n",
       "\n",
       "    .dataframe tbody tr th {\n",
       "        vertical-align: top;\n",
       "    }\n",
       "\n",
       "    .dataframe thead th {\n",
       "        text-align: right;\n",
       "    }\n",
       "</style>\n",
       "<table border=\"1\" class=\"dataframe\">\n",
       "  <thead>\n",
       "    <tr style=\"text-align: right;\">\n",
       "      <th></th>\n",
       "      <th>parcelid</th>\n",
       "      <th>bathroomcnt</th>\n",
       "      <th>bedroomcnt</th>\n",
       "      <th>calculatedfinishedsquarefeet</th>\n",
       "      <th>latitude</th>\n",
       "      <th>longitude</th>\n",
       "      <th>structuretaxvaluedollarcnt</th>\n",
       "      <th>structuredollarpersqft</th>\n",
       "      <th>logerror</th>\n",
       "    </tr>\n",
       "  </thead>\n",
       "  <tbody>\n",
       "    <tr>\n",
       "      <th>0</th>\n",
       "      <td>14297519</td>\n",
       "      <td>3.5</td>\n",
       "      <td>4.0</td>\n",
       "      <td>3100.0</td>\n",
       "      <td>33634931.0</td>\n",
       "      <td>-117869207.0</td>\n",
       "      <td>485713.0</td>\n",
       "      <td>156.681613</td>\n",
       "      <td>0.025595</td>\n",
       "    </tr>\n",
       "    <tr>\n",
       "      <th>1</th>\n",
       "      <td>17052889</td>\n",
       "      <td>1.0</td>\n",
       "      <td>2.0</td>\n",
       "      <td>1465.0</td>\n",
       "      <td>34449266.0</td>\n",
       "      <td>-119281531.0</td>\n",
       "      <td>88000.0</td>\n",
       "      <td>60.068259</td>\n",
       "      <td>0.055619</td>\n",
       "    </tr>\n",
       "    <tr>\n",
       "      <th>2</th>\n",
       "      <td>14186244</td>\n",
       "      <td>2.0</td>\n",
       "      <td>3.0</td>\n",
       "      <td>1243.0</td>\n",
       "      <td>33886168.0</td>\n",
       "      <td>-117823170.0</td>\n",
       "      <td>85289.0</td>\n",
       "      <td>68.615447</td>\n",
       "      <td>0.005383</td>\n",
       "    </tr>\n",
       "    <tr>\n",
       "      <th>3</th>\n",
       "      <td>12177905</td>\n",
       "      <td>3.0</td>\n",
       "      <td>4.0</td>\n",
       "      <td>2376.0</td>\n",
       "      <td>34245180.0</td>\n",
       "      <td>-118240722.0</td>\n",
       "      <td>108918.0</td>\n",
       "      <td>45.840909</td>\n",
       "      <td>-0.103410</td>\n",
       "    </tr>\n",
       "    <tr>\n",
       "      <th>4</th>\n",
       "      <td>12095076</td>\n",
       "      <td>3.0</td>\n",
       "      <td>4.0</td>\n",
       "      <td>2962.0</td>\n",
       "      <td>34145202.0</td>\n",
       "      <td>-118179824.0</td>\n",
       "      <td>276684.0</td>\n",
       "      <td>93.411209</td>\n",
       "      <td>-0.001011</td>\n",
       "    </tr>\n",
       "  </tbody>\n",
       "</table>\n",
       "</div>"
      ],
      "text/plain": [
       "   parcelid  bathroomcnt  bedroomcnt  calculatedfinishedsquarefeet  \\\n",
       "0  14297519          3.5         4.0                        3100.0   \n",
       "1  17052889          1.0         2.0                        1465.0   \n",
       "2  14186244          2.0         3.0                        1243.0   \n",
       "3  12177905          3.0         4.0                        2376.0   \n",
       "4  12095076          3.0         4.0                        2962.0   \n",
       "\n",
       "     latitude    longitude  structuretaxvaluedollarcnt  \\\n",
       "0  33634931.0 -117869207.0                    485713.0   \n",
       "1  34449266.0 -119281531.0                     88000.0   \n",
       "2  33886168.0 -117823170.0                     85289.0   \n",
       "3  34245180.0 -118240722.0                    108918.0   \n",
       "4  34145202.0 -118179824.0                    276684.0   \n",
       "\n",
       "   structuredollarpersqft  logerror  \n",
       "0              156.681613  0.025595  \n",
       "1               60.068259  0.055619  \n",
       "2               68.615447  0.005383  \n",
       "3               45.840909 -0.103410  \n",
       "4               93.411209 -0.001011  "
      ]
     },
     "execution_count": 46,
     "metadata": {},
     "output_type": "execute_result"
    }
   ],
   "source": [
    "df.head()"
   ]
  },
  {
   "cell_type": "code",
   "execution_count": 47,
   "metadata": {},
   "outputs": [],
   "source": [
    "mvp_df = df.drop([ 'bathroomcnt', 'calculatedfinishedsquarefeet', 'structuretaxvaluedollarcnt'], axis = 1)"
   ]
  },
  {
   "cell_type": "markdown",
   "metadata": {},
   "source": [
    "Split Data"
   ]
  },
  {
   "cell_type": "code",
   "execution_count": 68,
   "metadata": {},
   "outputs": [],
   "source": [
    "import pandas as pd\n",
    "from sklearn.model_selection import train_test_split\n",
    "y = df['logerror']\n",
    "X= df[['latitude', 'longitude', 'structuredollarpersqft']]\n",
    "X_train, X_test, y_train, y_test, = train_test_split(X, y, test_size=0.2, random_state=123)"
   ]
  },
  {
   "cell_type": "markdown",
   "metadata": {},
   "source": [
    "Scale"
   ]
  },
  {
   "cell_type": "code",
   "execution_count": 56,
   "metadata": {},
   "outputs": [],
   "source": [
    "cluster_cols = ['longitude', 'latitude', 'structuredollarpersqft']"
   ]
  },
  {
   "cell_type": "code",
   "execution_count": 57,
   "metadata": {},
   "outputs": [],
   "source": [
    "Xc = X[cluster_cols]"
   ]
  },
  {
   "cell_type": "code",
   "execution_count": 58,
   "metadata": {},
   "outputs": [
    {
     "name": "stdout",
     "output_type": "stream",
     "text": [
      "<class 'pandas.core.frame.DataFrame'>\n",
      "RangeIndex: 52089 entries, 0 to 52088\n",
      "Data columns (total 3 columns):\n",
      "longitude                 52089 non-null float64\n",
      "latitude                  52089 non-null float64\n",
      "structuredollarpersqft    52089 non-null float64\n",
      "dtypes: float64(3)\n",
      "memory usage: 1.2 MB\n"
     ]
    }
   ],
   "source": [
    "Xc.info()"
   ]
  },
  {
   "cell_type": "code",
   "execution_count": 61,
   "metadata": {},
   "outputs": [],
   "source": [
    "Xc_scaler = MinMaxScaler(copy=True, feature_range=(0,1)).fit(Xc)"
   ]
  },
  {
   "cell_type": "code",
   "execution_count": 63,
   "metadata": {},
   "outputs": [],
   "source": [
    "Xc_scaled = pd.DataFrame(Xc_scaler.transform(Xc), columns=Xc.columns.values).set_index([Xc.index.values])"
   ]
  },
  {
   "cell_type": "code",
   "execution_count": 64,
   "metadata": {},
   "outputs": [
    {
     "name": "stdout",
     "output_type": "stream",
     "text": [
      "<class 'pandas.core.frame.DataFrame'>\n",
      "Int64Index: 52089 entries, 0 to 52088\n",
      "Data columns (total 3 columns):\n",
      "longitude                 52089 non-null float64\n",
      "latitude                  52089 non-null float64\n",
      "structuredollarpersqft    52089 non-null float64\n",
      "dtypes: float64(3)\n",
      "memory usage: 1.6 MB\n"
     ]
    }
   ],
   "source": [
    "Xc_scaled.info()"
   ]
  },
  {
   "cell_type": "code",
   "execution_count": 69,
   "metadata": {},
   "outputs": [],
   "source": [
    "Xc_scaled['sdpsf_score'] = Xc_scaled.structuredollarpersqft * 15"
   ]
  },
  {
   "cell_type": "code",
   "execution_count": 70,
   "metadata": {},
   "outputs": [],
   "source": [
    "Xc_structuredollarpersqft = Xc_scaled[['structuredollarpersqft']]\n",
    "Xc_scaled = Xc_scaled.drop(columns='structuredollarpersqft')\n"
   ]
  },
  {
   "cell_type": "code",
   "execution_count": 75,
   "metadata": {},
   "outputs": [
    {
     "data": {
      "text/html": [
       "<div>\n",
       "<style scoped>\n",
       "    .dataframe tbody tr th:only-of-type {\n",
       "        vertical-align: middle;\n",
       "    }\n",
       "\n",
       "    .dataframe tbody tr th {\n",
       "        vertical-align: top;\n",
       "    }\n",
       "\n",
       "    .dataframe thead th {\n",
       "        text-align: right;\n",
       "    }\n",
       "</style>\n",
       "<table border=\"1\" class=\"dataframe\">\n",
       "  <thead>\n",
       "    <tr style=\"text-align: right;\">\n",
       "      <th></th>\n",
       "      <th>longitude</th>\n",
       "      <th>latitude</th>\n",
       "      <th>sdpsf_score</th>\n",
       "    </tr>\n",
       "  </thead>\n",
       "  <tbody>\n",
       "    <tr>\n",
       "      <th>0</th>\n",
       "      <td>0.836227</td>\n",
       "      <td>0.199108</td>\n",
       "      <td>1.626961</td>\n",
       "    </tr>\n",
       "    <tr>\n",
       "      <th>1</th>\n",
       "      <td>0.100941</td>\n",
       "      <td>0.750024</td>\n",
       "      <td>0.623486</td>\n",
       "    </tr>\n",
       "    <tr>\n",
       "      <th>2</th>\n",
       "      <td>0.860195</td>\n",
       "      <td>0.369076</td>\n",
       "      <td>0.712261</td>\n",
       "    </tr>\n",
       "    <tr>\n",
       "      <th>3</th>\n",
       "      <td>0.642809</td>\n",
       "      <td>0.611955</td>\n",
       "      <td>0.475713</td>\n",
       "    </tr>\n",
       "    <tr>\n",
       "      <th>4</th>\n",
       "      <td>0.674513</td>\n",
       "      <td>0.544318</td>\n",
       "      <td>0.969803</td>\n",
       "    </tr>\n",
       "  </tbody>\n",
       "</table>\n",
       "</div>"
      ],
      "text/plain": [
       "   longitude  latitude  sdpsf_score\n",
       "0   0.836227  0.199108     1.626961\n",
       "1   0.100941  0.750024     0.623486\n",
       "2   0.860195  0.369076     0.712261\n",
       "3   0.642809  0.611955     0.475713\n",
       "4   0.674513  0.544318     0.969803"
      ]
     },
     "execution_count": 75,
     "metadata": {},
     "output_type": "execute_result"
    }
   ],
   "source": []
  },
  {
   "cell_type": "code",
   "execution_count": 85,
   "metadata": {},
   "outputs": [],
   "source": [
    "import pandas as pd\n",
    "from sklearn.model_selection import train_test_split\n",
    "y1 = df['logerror']\n",
    "X1= Xc_scaled\n",
    "X_train1, X_test1, y_train1, y_test1, = train_test_split(X1, y1, test_size=0.2, random_state=123)"
   ]
  },
  {
   "cell_type": "markdown",
   "metadata": {},
   "source": [
    "Training the Model¶- with Long, Lat, and price per square feet\n",
    "Now its time to train our model on our training data!"
   ]
  },
  {
   "cell_type": "code",
   "execution_count": 86,
   "metadata": {},
   "outputs": [],
   "source": [
    "lm1 = LinearRegression()"
   ]
  },
  {
   "cell_type": "code",
   "execution_count": 87,
   "metadata": {},
   "outputs": [
    {
     "name": "stdout",
     "output_type": "stream",
     "text": [
      "-0.0005504398209625894\n"
     ]
    }
   ],
   "source": [
    "lm.fit(X_train1, y_train1) \n",
    "print(lm.score(X_test1, y_test1))"
   ]
  },
  {
   "cell_type": "code",
   "execution_count": 88,
   "metadata": {},
   "outputs": [
    {
     "data": {
      "text/plain": [
       "LinearRegression(copy_X=True, fit_intercept=True, n_jobs=None, normalize=False)"
      ]
     },
     "execution_count": 88,
     "metadata": {},
     "output_type": "execute_result"
    }
   ],
   "source": [
    "lm1.fit(X_train1,y_train1)"
   ]
  },
  {
   "cell_type": "code",
   "execution_count": 89,
   "metadata": {},
   "outputs": [
    {
     "name": "stdout",
     "output_type": "stream",
     "text": [
      "Linear Model: LinearRegression(copy_X=True, fit_intercept=True, n_jobs=None, normalize=False)\n",
      "intercept:  0.01903284589679547\n",
      "coefficients:  [ 0.01746986 -0.01062831 -0.00829822]\n"
     ]
    }
   ],
   "source": [
    "lm1.fit(X_train1, y_train1)\n",
    "print(\"Linear Model:\", lm1)\n",
    "\n",
    "lm1_y_intercept1 = lm1.intercept_\n",
    "print(\"intercept: \", lm1_y_intercept)\n",
    "\n",
    "lm1_coefficients1 = lm1.coef_\n",
    "print(\"coefficients: \", lm1_coefficients)"
   ]
  },
  {
   "cell_type": "code",
   "execution_count": 90,
   "metadata": {},
   "outputs": [
    {
     "name": "stdout",
     "output_type": "stream",
     "text": [
      "22685   -0.149851\n",
      "18874   -0.019995\n",
      "11776    0.228283\n",
      "13920   -0.002501\n",
      "30696    0.004202\n",
      "34974   -0.030510\n",
      "36823    0.027156\n",
      "45374    0.057224\n",
      "21162    0.197872\n",
      "7880    -0.070456\n",
      "30493   -0.002721\n",
      "17829   -0.090198\n",
      "9043     0.157724\n",
      "18785   -0.174206\n",
      "39008    0.053454\n",
      "41782    0.071354\n",
      "24833    0.029356\n",
      "5425    -0.139227\n",
      "49349    0.026322\n",
      "50664   -0.090718\n",
      "34808    0.000528\n",
      "13340    0.000925\n",
      "49683   -0.129345\n",
      "7163     0.100324\n",
      "6653     0.061056\n",
      "35641   -0.041579\n",
      "47725    0.006863\n",
      "50061    0.031097\n",
      "28810   -0.012065\n",
      "44745    0.001410\n",
      "           ...   \n",
      "22461   -0.052791\n",
      "6648    -0.042414\n",
      "30255    0.072626\n",
      "52086    0.013209\n",
      "49191    0.024677\n",
      "6484     0.014847\n",
      "26626   -0.020490\n",
      "45507    0.002282\n",
      "50999    0.318471\n",
      "7985     0.470966\n",
      "17476    0.003648\n",
      "14944    0.003739\n",
      "31140    0.095635\n",
      "3325     0.028150\n",
      "35662    0.003967\n",
      "17747    0.128773\n",
      "36249    0.017080\n",
      "111     -0.186837\n",
      "33710   -0.001698\n",
      "5664     0.119679\n",
      "23166   -0.608106\n",
      "96       0.164707\n",
      "22241   -0.063671\n",
      "23766    0.104392\n",
      "46203    0.027013\n",
      "7763     0.332310\n",
      "15377   -0.010758\n",
      "17730    0.058559\n",
      "28030   -0.100805\n",
      "15725   -0.062862\n",
      "Name: logerror, Length: 41671, dtype: float64 = b + m1 *        longitude  latitude  sdpsf_score\n",
      "22685   0.620189  0.407406     0.182931\n",
      "18874   0.715973  0.337017     0.382123\n",
      "11776   0.170515  0.651041     0.222131\n",
      "13920   0.754581  0.318719     0.613892\n",
      "30696   0.718956  0.929607     0.698813\n",
      "34974   0.576359  0.596082     0.309066\n",
      "36823   0.503502  0.619224     1.440494\n",
      "45374   0.730777  0.325287     1.071179\n",
      "21162   0.742107  0.357291     1.197203\n",
      "7880    0.915467  0.244424     1.989912\n",
      "30493   0.756656  0.514376     1.458974\n",
      "17829   0.703054  0.472648     0.907551\n",
      "9043    0.722480  0.490610     0.187352\n",
      "18785   0.586508  0.383205     0.818421\n",
      "39008   0.879909  0.525941     0.398616\n",
      "41782   0.497419  0.565171     0.240013\n",
      "24833   0.805831  0.236248     0.581443\n",
      "5425    0.705118  0.413108     0.294528\n",
      "49349   0.583968  0.555099     0.707814\n",
      "50664   0.452793  0.565791     0.627791\n",
      "34808   0.791421  0.368053     1.681549\n",
      "13340   0.836186  0.439688     0.842143\n",
      "49683   0.942029  0.168742     0.862524\n",
      "7163    0.746187  0.517016     0.352004\n",
      "6653    0.541987  0.543451     1.586152\n",
      "35641   0.918059  0.118516     0.867503\n",
      "47725   0.585695  0.546180     2.750863\n",
      "50061   0.669095  0.534391     0.149078\n",
      "28810   0.880378  0.536830     0.841041\n",
      "44745   0.663915  0.764162     1.992068\n",
      "...          ...       ...          ...\n",
      "22461   0.931325  0.093144     0.569960\n",
      "6648    0.567505  0.503819     1.854634\n",
      "30255   0.151580  0.588827     0.780527\n",
      "52086   0.400405  0.649137     0.326149\n",
      "49191   0.767300  0.399688     0.658155\n",
      "6484    0.807390  0.404759     0.516294\n",
      "26626   0.832665  0.378023     0.332362\n",
      "45507   0.153003  0.548749     1.449928\n",
      "50999   0.954109  0.169001     1.197373\n",
      "7985    0.664690  0.519088     0.936345\n",
      "17476   0.585945  0.623619     0.365197\n",
      "14944   0.508958  0.629019     0.337546\n",
      "31140   0.128116  0.750667     2.115780\n",
      "3325    0.110639  0.617140     0.976349\n",
      "35662   0.720521  0.337590     0.633025\n",
      "17747   0.597215  0.403110     0.600907\n",
      "36249   0.542247  0.621894     0.945846\n",
      "111     0.958540  0.082731     1.081182\n",
      "33710   0.511076  0.608176     0.359788\n",
      "5664    0.573242  0.425665     0.462301\n",
      "23166   0.559174  0.367905     2.413848\n",
      "96      0.583733  0.401849     0.381906\n",
      "22241   0.524230  0.614064     0.367504\n",
      "23766   0.417576  0.541309     2.557566\n",
      "46203   0.326494  0.601184     1.736505\n",
      "7763    0.618448  0.381129     0.503696\n",
      "15377   0.777231  0.399717     0.933707\n",
      "17730   0.723109  0.827311     0.933461\n",
      "28030   0.872491  0.270002     0.578972\n",
      "15725   0.580818  0.511842     2.944894\n",
      "\n",
      "[41671 rows x 3 columns] + m2 *        longitude  latitude  sdpsf_score\n",
      "22685   0.620189  0.407406     0.182931\n",
      "18874   0.715973  0.337017     0.382123\n",
      "11776   0.170515  0.651041     0.222131\n",
      "13920   0.754581  0.318719     0.613892\n",
      "30696   0.718956  0.929607     0.698813\n",
      "34974   0.576359  0.596082     0.309066\n",
      "36823   0.503502  0.619224     1.440494\n",
      "45374   0.730777  0.325287     1.071179\n",
      "21162   0.742107  0.357291     1.197203\n",
      "7880    0.915467  0.244424     1.989912\n",
      "30493   0.756656  0.514376     1.458974\n",
      "17829   0.703054  0.472648     0.907551\n",
      "9043    0.722480  0.490610     0.187352\n",
      "18785   0.586508  0.383205     0.818421\n",
      "39008   0.879909  0.525941     0.398616\n",
      "41782   0.497419  0.565171     0.240013\n",
      "24833   0.805831  0.236248     0.581443\n",
      "5425    0.705118  0.413108     0.294528\n",
      "49349   0.583968  0.555099     0.707814\n",
      "50664   0.452793  0.565791     0.627791\n",
      "34808   0.791421  0.368053     1.681549\n",
      "13340   0.836186  0.439688     0.842143\n",
      "49683   0.942029  0.168742     0.862524\n",
      "7163    0.746187  0.517016     0.352004\n",
      "6653    0.541987  0.543451     1.586152\n",
      "35641   0.918059  0.118516     0.867503\n",
      "47725   0.585695  0.546180     2.750863\n",
      "50061   0.669095  0.534391     0.149078\n",
      "28810   0.880378  0.536830     0.841041\n",
      "44745   0.663915  0.764162     1.992068\n",
      "...          ...       ...          ...\n",
      "22461   0.931325  0.093144     0.569960\n",
      "6648    0.567505  0.503819     1.854634\n",
      "30255   0.151580  0.588827     0.780527\n",
      "52086   0.400405  0.649137     0.326149\n",
      "49191   0.767300  0.399688     0.658155\n",
      "6484    0.807390  0.404759     0.516294\n",
      "26626   0.832665  0.378023     0.332362\n",
      "45507   0.153003  0.548749     1.449928\n",
      "50999   0.954109  0.169001     1.197373\n",
      "7985    0.664690  0.519088     0.936345\n",
      "17476   0.585945  0.623619     0.365197\n",
      "14944   0.508958  0.629019     0.337546\n",
      "31140   0.128116  0.750667     2.115780\n",
      "3325    0.110639  0.617140     0.976349\n",
      "35662   0.720521  0.337590     0.633025\n",
      "17747   0.597215  0.403110     0.600907\n",
      "36249   0.542247  0.621894     0.945846\n",
      "111     0.958540  0.082731     1.081182\n",
      "33710   0.511076  0.608176     0.359788\n",
      "5664    0.573242  0.425665     0.462301\n",
      "23166   0.559174  0.367905     2.413848\n",
      "96      0.583733  0.401849     0.381906\n",
      "22241   0.524230  0.614064     0.367504\n",
      "23766   0.417576  0.541309     2.557566\n",
      "46203   0.326494  0.601184     1.736505\n",
      "7763    0.618448  0.381129     0.503696\n",
      "15377   0.777231  0.399717     0.933707\n",
      "17730   0.723109  0.827311     0.933461\n",
      "28030   0.872491  0.270002     0.578972\n",
      "15725   0.580818  0.511842     2.944894\n",
      "\n",
      "[41671 rows x 3 columns]\n"
     ]
    },
    {
     "ename": "NameError",
     "evalue": "name 'lm_y_intercept1' is not defined",
     "output_type": "error",
     "traceback": [
      "\u001b[0;31m---------------------------------------------------------------------------\u001b[0m",
      "\u001b[0;31mNameError\u001b[0m                                 Traceback (most recent call last)",
      "\u001b[0;32m<ipython-input-90-b29cfc20cca3>\u001b[0m in \u001b[0;36m<module>\u001b[0;34m\u001b[0m\n\u001b[1;32m      1\u001b[0m \u001b[0mprint\u001b[0m\u001b[0;34m(\u001b[0m\u001b[0;34m'{} = b + m1 * {} + m2 * {}'\u001b[0m\u001b[0;34m.\u001b[0m\u001b[0mformat\u001b[0m\u001b[0;34m(\u001b[0m\u001b[0my_train1\u001b[0m\u001b[0;34m,\u001b[0m \u001b[0mX_train1\u001b[0m\u001b[0;34m,\u001b[0m\u001b[0mX_train1\u001b[0m\u001b[0;34m)\u001b[0m\u001b[0;34m)\u001b[0m\u001b[0;34m\u001b[0m\u001b[0;34m\u001b[0m\u001b[0m\n\u001b[0;32m----> 2\u001b[0;31m \u001b[0mprint\u001b[0m\u001b[0;34m(\u001b[0m\u001b[0;34m'    y-intercept  (b): %.2f'\u001b[0m \u001b[0;34m%\u001b[0m \u001b[0mlm_y_intercept1\u001b[0m\u001b[0;34m)\u001b[0m\u001b[0;34m\u001b[0m\u001b[0;34m\u001b[0m\u001b[0m\n\u001b[0m\u001b[1;32m      3\u001b[0m \u001b[0mprint\u001b[0m\u001b[0;34m(\u001b[0m\u001b[0;34m'    coefficient (m1): %.2f'\u001b[0m \u001b[0;34m%\u001b[0m \u001b[0mlm_coefficients1\u001b[0m\u001b[0;34m[\u001b[0m\u001b[0;36m0\u001b[0m\u001b[0;34m]\u001b[0m\u001b[0;34m[\u001b[0m\u001b[0;36m0\u001b[0m\u001b[0;34m]\u001b[0m\u001b[0;34m)\u001b[0m\u001b[0;34m\u001b[0m\u001b[0;34m\u001b[0m\u001b[0m\n\u001b[1;32m      4\u001b[0m \u001b[0mprint\u001b[0m\u001b[0;34m(\u001b[0m\u001b[0;34m'    coefficient (m2): %.2f'\u001b[0m \u001b[0;34m%\u001b[0m \u001b[0mlm_coefficients1\u001b[0m\u001b[0;34m[\u001b[0m\u001b[0;36m0\u001b[0m\u001b[0;34m]\u001b[0m\u001b[0;34m[\u001b[0m\u001b[0;36m1\u001b[0m\u001b[0;34m]\u001b[0m\u001b[0;34m)\u001b[0m\u001b[0;34m\u001b[0m\u001b[0;34m\u001b[0m\u001b[0m\n",
      "\u001b[0;31mNameError\u001b[0m: name 'lm_y_intercept1' is not defined"
     ]
    }
   ],
   "source": [
    "print('{} = b + m1 * {} + m2 * {}'.format(y_train1, X_train1,X_train1))\n",
    "print('    y-intercept  (b): %.2f' % lm_y_intercept1)\n",
    "print('    coefficient (m1): %.2f' % lm_coefficients1[0][0])\n",
    "print('    coefficient (m2): %.2f' % lm_coefficients1[0][1])"
   ]
  },
  {
   "cell_type": "code",
   "execution_count": 91,
   "metadata": {},
   "outputs": [],
   "source": [
    "y_pred_lm1 = lm1.predict(X_train1)"
   ]
  },
  {
   "cell_type": "code",
   "execution_count": 92,
   "metadata": {},
   "outputs": [
    {
     "name": "stdout",
     "output_type": "stream",
     "text": [
      "linear model\n",
      "  mean squared error: 0.0314\n",
      "0.0016998756913904067\n"
     ]
    }
   ],
   "source": [
    "mse_lm1 = mean_squared_error(y_train1, y_pred_lm1)\n",
    "print(\"linear model\\n  mean squared error: {:.3}\".format(mse_lm1)) \n",
    "\n",
    "r2_lm1 = r2_score(y_train, y_pred_lm1)\n",
    "print((r2_lm1))"
   ]
  },
  {
   "cell_type": "code",
   "execution_count": 93,
   "metadata": {},
   "outputs": [
    {
     "data": {
      "text/html": [
       "<table class=\"simpletable\">\n",
       "<caption>OLS Regression Results</caption>\n",
       "<tr>\n",
       "  <th>Dep. Variable:</th>        <td>logerror</td>     <th>  R-squared (uncentered):</th>       <td>   0.012</td> \n",
       "</tr>\n",
       "<tr>\n",
       "  <th>Model:</th>                   <td>OLS</td>       <th>  Adj. R-squared (uncentered):</th>  <td>   0.012</td> \n",
       "</tr>\n",
       "<tr>\n",
       "  <th>Method:</th>             <td>Least Squares</td>  <th>  F-statistic:       </th>           <td>   205.6</td> \n",
       "</tr>\n",
       "<tr>\n",
       "  <th>Date:</th>             <td>Thu, 07 Nov 2019</td> <th>  Prob (F-statistic):</th>           <td>1.40e-132</td>\n",
       "</tr>\n",
       "<tr>\n",
       "  <th>Time:</th>                 <td>10:41:17</td>     <th>  Log-Likelihood:    </th>           <td>  16613.</td> \n",
       "</tr>\n",
       "<tr>\n",
       "  <th>No. Observations:</th>      <td> 52089</td>      <th>  AIC:               </th>          <td>-3.322e+04</td>\n",
       "</tr>\n",
       "<tr>\n",
       "  <th>Df Residuals:</th>          <td> 52086</td>      <th>  BIC:               </th>          <td>-3.319e+04</td>\n",
       "</tr>\n",
       "<tr>\n",
       "  <th>Df Model:</th>              <td>     3</td>      <th>                     </th>               <td> </td>    \n",
       "</tr>\n",
       "<tr>\n",
       "  <th>Covariance Type:</th>      <td>nonrobust</td>    <th>                     </th>               <td> </td>    \n",
       "</tr>\n",
       "</table>\n",
       "<table class=\"simpletable\">\n",
       "<tr>\n",
       "       <td></td>          <th>coef</th>     <th>std err</th>      <th>t</th>      <th>P>|t|</th>  <th>[0.025</th>    <th>0.975]</th>  \n",
       "</tr>\n",
       "<tr>\n",
       "  <th>longitude</th>   <td>    0.0318</td> <td>    0.002</td> <td>   14.332</td> <td> 0.000</td> <td>    0.027</td> <td>    0.036</td>\n",
       "</tr>\n",
       "<tr>\n",
       "  <th>latitude</th>    <td>    0.0042</td> <td>    0.003</td> <td>    1.383</td> <td> 0.167</td> <td>   -0.002</td> <td>    0.010</td>\n",
       "</tr>\n",
       "<tr>\n",
       "  <th>sdpsf_score</th> <td>   -0.0056</td> <td>    0.001</td> <td>   -4.759</td> <td> 0.000</td> <td>   -0.008</td> <td>   -0.003</td>\n",
       "</tr>\n",
       "</table>\n",
       "<table class=\"simpletable\">\n",
       "<tr>\n",
       "  <th>Omnibus:</th>       <td>50150.044</td> <th>  Durbin-Watson:     </th>   <td>   2.009</td>  \n",
       "</tr>\n",
       "<tr>\n",
       "  <th>Prob(Omnibus):</th>  <td> 0.000</td>   <th>  Jarque-Bera (JB):  </th> <td>27390044.286</td>\n",
       "</tr>\n",
       "<tr>\n",
       "  <th>Skew:</th>           <td> 3.842</td>   <th>  Prob(JB):          </th>   <td>    0.00</td>  \n",
       "</tr>\n",
       "<tr>\n",
       "  <th>Kurtosis:</th>       <td>115.076</td>  <th>  Cond. No.          </th>   <td>    5.93</td>  \n",
       "</tr>\n",
       "</table><br/><br/>Warnings:<br/>[1] Standard Errors assume that the covariance matrix of the errors is correctly specified."
      ],
      "text/plain": [
       "<class 'statsmodels.iolib.summary.Summary'>\n",
       "\"\"\"\n",
       "                                 OLS Regression Results                                \n",
       "=======================================================================================\n",
       "Dep. Variable:               logerror   R-squared (uncentered):                   0.012\n",
       "Model:                            OLS   Adj. R-squared (uncentered):              0.012\n",
       "Method:                 Least Squares   F-statistic:                              205.6\n",
       "Date:                Thu, 07 Nov 2019   Prob (F-statistic):                   1.40e-132\n",
       "Time:                        10:41:17   Log-Likelihood:                          16613.\n",
       "No. Observations:               52089   AIC:                                 -3.322e+04\n",
       "Df Residuals:                   52086   BIC:                                 -3.319e+04\n",
       "Df Model:                           3                                                  \n",
       "Covariance Type:            nonrobust                                                  \n",
       "===============================================================================\n",
       "                  coef    std err          t      P>|t|      [0.025      0.975]\n",
       "-------------------------------------------------------------------------------\n",
       "longitude       0.0318      0.002     14.332      0.000       0.027       0.036\n",
       "latitude        0.0042      0.003      1.383      0.167      -0.002       0.010\n",
       "sdpsf_score    -0.0056      0.001     -4.759      0.000      -0.008      -0.003\n",
       "==============================================================================\n",
       "Omnibus:                    50150.044   Durbin-Watson:                   2.009\n",
       "Prob(Omnibus):                  0.000   Jarque-Bera (JB):         27390044.286\n",
       "Skew:                           3.842   Prob(JB):                         0.00\n",
       "Kurtosis:                     115.076   Cond. No.                         5.93\n",
       "==============================================================================\n",
       "\n",
       "Warnings:\n",
       "[1] Standard Errors assume that the covariance matrix of the errors is correctly specified.\n",
       "\"\"\""
      ]
     },
     "execution_count": 93,
     "metadata": {},
     "output_type": "execute_result"
    }
   ],
   "source": [
    "ols_model = sm.OLS(y_train1, X_train1)\n",
    "regr = sm.OLS(y1, X1).fit()\n",
    "regr.summary()\n",
    "\n",
    "\n"
   ]
  },
  {
   "cell_type": "code",
   "execution_count": 94,
   "metadata": {},
   "outputs": [
    {
     "data": {
      "text/html": [
       "<div>\n",
       "<style scoped>\n",
       "    .dataframe tbody tr th:only-of-type {\n",
       "        vertical-align: middle;\n",
       "    }\n",
       "\n",
       "    .dataframe tbody tr th {\n",
       "        vertical-align: top;\n",
       "    }\n",
       "\n",
       "    .dataframe thead th {\n",
       "        text-align: right;\n",
       "    }\n",
       "</style>\n",
       "<table border=\"1\" class=\"dataframe\">\n",
       "  <thead>\n",
       "    <tr style=\"text-align: right;\">\n",
       "      <th></th>\n",
       "      <th>longitude</th>\n",
       "      <th>latitude</th>\n",
       "      <th>sdpsf_score</th>\n",
       "    </tr>\n",
       "  </thead>\n",
       "  <tbody>\n",
       "    <tr>\n",
       "      <th>0</th>\n",
       "      <td>0.836227</td>\n",
       "      <td>0.199108</td>\n",
       "      <td>1.626961</td>\n",
       "    </tr>\n",
       "    <tr>\n",
       "      <th>1</th>\n",
       "      <td>0.100941</td>\n",
       "      <td>0.750024</td>\n",
       "      <td>0.623486</td>\n",
       "    </tr>\n",
       "    <tr>\n",
       "      <th>2</th>\n",
       "      <td>0.860195</td>\n",
       "      <td>0.369076</td>\n",
       "      <td>0.712261</td>\n",
       "    </tr>\n",
       "    <tr>\n",
       "      <th>3</th>\n",
       "      <td>0.642809</td>\n",
       "      <td>0.611955</td>\n",
       "      <td>0.475713</td>\n",
       "    </tr>\n",
       "    <tr>\n",
       "      <th>4</th>\n",
       "      <td>0.674513</td>\n",
       "      <td>0.544318</td>\n",
       "      <td>0.969803</td>\n",
       "    </tr>\n",
       "  </tbody>\n",
       "</table>\n",
       "</div>"
      ],
      "text/plain": [
       "   longitude  latitude  sdpsf_score\n",
       "0   0.836227  0.199108     1.626961\n",
       "1   0.100941  0.750024     0.623486\n",
       "2   0.860195  0.369076     0.712261\n",
       "3   0.642809  0.611955     0.475713\n",
       "4   0.674513  0.544318     0.969803"
      ]
     },
     "execution_count": 94,
     "metadata": {},
     "output_type": "execute_result"
    }
   ],
   "source": []
  },
  {
   "cell_type": "code",
   "execution_count": null,
   "metadata": {},
   "outputs": [],
   "source": []
  }
 ],
 "metadata": {
  "kernelspec": {
   "display_name": "Python 3",
   "language": "python",
   "name": "python3"
  },
  "language_info": {
   "codemirror_mode": {
    "name": "ipython",
    "version": 3
   },
   "file_extension": ".py",
   "mimetype": "text/x-python",
   "name": "python",
   "nbconvert_exporter": "python",
   "pygments_lexer": "ipython3",
   "version": "3.7.3"
  }
 },
 "nbformat": 4,
 "nbformat_minor": 2
}
