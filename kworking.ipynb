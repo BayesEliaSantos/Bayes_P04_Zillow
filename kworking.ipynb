{
 "cells": [
  {
   "cell_type": "markdown",
   "metadata": {},
   "source": [
    "# Exercises"
   ]
  },
  {
   "cell_type": "markdown",
   "metadata": {},
   "source": [
    "## Acquire (`acquire.py`)"
   ]
  },
  {
   "cell_type": "markdown",
   "metadata": {},
   "source": [
    "### Zillow\n",
    "**For the following, iterate through the steps you would take to create functions: Write the code to do the following in a jupyter notebook, test it, convert to functions, then create the file to house those functions.**\n",
    "\n",
    "**You will have a** \n",
    "`zillow.ipynb` \n",
    "**file and a helper file for each section in the pipeline.**"
   ]
  },
  {
   "cell_type": "code",
   "execution_count": 1,
   "metadata": {},
   "outputs": [],
   "source": [
    "###############################################################################\n",
    "### python imports                                                          ###\n",
    "###############################################################################\n",
    "\n",
    "import matplotlib.pyplot as plt\n",
    "import seaborn as sns\n",
    "\n",
    "import pandas as pd\n",
    "import numpy as np\n",
    "import matplotlib.pyplot as plt\n",
    "import seaborn as sns #; sns.set()\n",
    "\n",
    "from sklearn.model_selection import train_test_split\n",
    "from sklearn.metrics import mean_squared_error, r2_score, explained_variance_score\n",
    "from sklearn.linear_model import LassoCV\n",
    "\n",
    "from sklearn.preprocessing import StandardScaler, QuantileTransformer, PowerTransformer, RobustScaler, MinMaxScaler\n",
    "\n",
    "\n",
    "import warnings\n",
    "warnings.filterwarnings(\"ignore\")\n",
    "\n",
    "# from math import sqrt\n",
    "import statsmodels.api as sm\n",
    "from statsmodels.formula.api import ols"
   ]
  },
  {
   "cell_type": "code",
   "execution_count": 2,
   "metadata": {},
   "outputs": [],
   "source": [
    "from sklearn.tree import DecisionTreeRegressor\n",
    "from sklearn.tree import export_graphviz\n",
    "from sklearn.metrics import classification_report\n",
    "from sklearn.metrics import confusion_matrix\n",
    "\n",
    "from sklearn.model_selection import cross_val_score\n",
    "import graphviz\n",
    "\n",
    "from graphviz import Graph"
   ]
  },
  {
   "cell_type": "code",
   "execution_count": 3,
   "metadata": {},
   "outputs": [],
   "source": [
    "from math import sqrt\n",
    "from scipy import stats"
   ]
  },
  {
   "cell_type": "code",
   "execution_count": 4,
   "metadata": {},
   "outputs": [],
   "source": [
    "###############################################################################\n",
    "### local imports                                                           ###\n",
    "###############################################################################\n",
    "\n",
    "import acquire as acq\n",
    "import prepare as prep\n",
    "import clusterfunctions as cf\n",
    "import explore as xplr\n",
    "\n",
    "from debug import local_settings, timeifdebug, timeargsifdebug, frame_splain\n",
    "from dfo import DFO, set_dfo\n",
    "from prepare import convert_to_dates, get_column_values_stats, retype_cols, remove_cols, nulls_by_row"
   ]
  },
  {
   "cell_type": "code",
   "execution_count": 5,
   "metadata": {},
   "outputs": [],
   "source": [
    "local_settings.splain=True\n",
    "local_settings.debug=True\n",
    "splain = local_settings.splain\n",
    "debug = local_settings.debug"
   ]
  },
  {
   "cell_type": "code",
   "execution_count": 6,
   "metadata": {},
   "outputs": [],
   "source": [
    "import evaluate as p_eval"
   ]
  },
  {
   "cell_type": "code",
   "execution_count": 7,
   "metadata": {},
   "outputs": [],
   "source": [
    "from wrangle_zillow import get_zillow_data, get_zillow_local_data, prep_zillow_data, sqls, keep_cols"
   ]
  },
  {
   "cell_type": "markdown",
   "metadata": {},
   "source": [
    "#### Acquire & Summarize"
   ]
  },
  {
   "cell_type": "markdown",
   "metadata": {},
   "source": [
    "1. **Acquire data from mySQL using the python module to connect and query. You will want to end with a single dataframe. Make sure to include: the logerror, all fields related to the properties that are available. You will end up using all the tables in the database.**\n",
    "\n",
    "   - *Be sure to do the correct join (inner, outer, etc.). We do not want to eliminate properties purely because they may have a null value for* \n",
    "`airconditioningtypeid`\n",
    "*.*\n",
    "   - Only include properties with a transaction in 2017, and include only the last transaction for each properity (so no duplicate property ID's), along with zestimate error and date of transaction.\n",
    "   - Only include properties that include a latitude and longitude value."
   ]
  },
  {
   "cell_type": "code",
   "execution_count": 8,
   "metadata": {},
   "outputs": [
    {
     "name": "stdout",
     "output_type": "stream",
     "text": [
      "2019-11-11 18:59:00 starting get_zillow_local_data\n",
      "2019-11-11 18:59:00 starting csv_df\n",
      "2019-11-11 18:59:01 starting check_df\n",
      "2019-11-11 18:59:01 starting frame_splain\n",
      "DATAFRAME SHAPE:\n",
      "(52089, 11) \n",
      "\n",
      "DATAFRAME INFO:\n",
      "<class 'pandas.core.frame.DataFrame'>\n",
      "RangeIndex: 52089 entries, 0 to 52088\n",
      "Data columns (total 11 columns):\n",
      "id                              52089 non-null int64\n",
      "parcelid                        52089 non-null int64\n",
      "bathroomcnt                     52089 non-null float64\n",
      "bedroomcnt                      52089 non-null float64\n",
      "calculatedfinishedsquarefeet    52089 non-null float64\n",
      "fips                            52089 non-null float64\n",
      "latitude                        52089 non-null float64\n",
      "longitude                       52089 non-null float64\n",
      "structuretaxvaluedollarcnt      52089 non-null float64\n",
      "structuredollarpersqft          52089 non-null float64\n",
      "logerror                        52089 non-null float64\n",
      "dtypes: float64(9), int64(2)\n",
      "memory usage: 4.4 MB\n",
      "None \n",
      "\n",
      "DATAFRAME DESCRIPTION:\n",
      "                                count          mean           std  \\\n",
      "id                            52089.0  1.496967e+06  8.594335e+05   \n",
      "parcelid                      52089.0  1.298377e+07  3.070062e+06   \n",
      "bathroomcnt                   52089.0  2.305669e+00  1.017265e+00   \n",
      "bedroomcnt                    52089.0  3.309912e+00  9.334532e-01   \n",
      "calculatedfinishedsquarefeet  52089.0  1.923432e+03  1.003069e+03   \n",
      "fips                          52089.0  6.049118e+03  2.100962e+01   \n",
      "latitude                      52089.0  3.402263e+07  2.740844e+05   \n",
      "longitude                     52089.0 -1.181938e+08  3.564175e+05   \n",
      "structuretaxvaluedollarcnt    52089.0  1.959778e+05  2.524218e+05   \n",
      "structuredollarpersqft        52089.0  9.084642e+01  5.995686e+01   \n",
      "logerror                      52089.0  1.824858e-02  1.759901e-01   \n",
      "\n",
      "                                       min           25%           50%  \\\n",
      "id                            3.490000e+02  7.579590e+05  1.500051e+06   \n",
      "parcelid                      1.071186e+07  1.150787e+07  1.257813e+07   \n",
      "bathroomcnt                   1.000000e+00  2.000000e+00  2.000000e+00   \n",
      "bedroomcnt                    1.000000e+00  3.000000e+00  3.000000e+00   \n",
      "calculatedfinishedsquarefeet  1.520000e+02  1.268000e+03  1.659000e+03   \n",
      "fips                          6.037000e+03  6.037000e+03  6.037000e+03   \n",
      "latitude                      3.334062e+07  3.382689e+07  3.402338e+07   \n",
      "longitude                    -1.194754e+08 -1.184004e+08 -1.181529e+08   \n",
      "structuretaxvaluedollarcnt    1.480000e+02  7.720000e+04  1.318830e+05   \n",
      "structuredollarpersqft        3.983275e-02  5.498029e+01  8.216741e+01   \n",
      "logerror                     -4.655420e+00 -2.457495e-02  6.956119e-03   \n",
      "\n",
      "                                       75%           max  \n",
      "id                            2.241643e+06  2.982270e+06  \n",
      "parcelid                      1.412934e+07  1.676392e+08  \n",
      "bathroomcnt                   3.000000e+00  1.800000e+01  \n",
      "bedroomcnt                    4.000000e+00  1.400000e+01  \n",
      "calculatedfinishedsquarefeet  2.306000e+03  2.192900e+04  \n",
      "fips                          6.059000e+03  6.111000e+03  \n",
      "latitude                      3.418742e+07  3.481877e+07  \n",
      "longitude                    -1.179291e+08 -1.175546e+08  \n",
      "structuretaxvaluedollarcnt    2.261220e+05  9.164901e+06  \n",
      "structuredollarpersqft        1.135682e+02  1.444221e+03  \n",
      "logerror                      4.052645e-02  5.262999e+00   \n",
      "\n",
      "2019-11-11 18:59:01 ending frame_splain ; time: 0:00:00.064068\n",
      "2019-11-11 18:59:01 ending check_df ; time: 0:00:00.065768\n",
      "2019-11-11 18:59:01 ending csv_df ; time: 0:00:00.192480\n",
      "2019-11-11 18:59:01 ending get_zillow_local_data ; time: 0:00:00.192965\n",
      "2019-11-11 18:59:01 starting set_dfo\n",
      "2019-11-11 18:59:01 ending set_dfo ; time: 0:00:00.000046\n"
     ]
    }
   ],
   "source": [
    "# dfo = set_dfo(get_zillow_data(sql=sqls['mvp']), splain=True)\n",
    "dfo = set_dfo(get_zillow_local_data(csv='zillow_local_mvp.csv'), splain=True)"
   ]
  },
  {
   "cell_type": "markdown",
   "metadata": {},
   "source": [
    "2. **Summarize your data (summary stats, info, dtypes, shape, distributions, value_counts, etc.).**"
   ]
  },
  {
   "cell_type": "code",
   "execution_count": 9,
   "metadata": {},
   "outputs": [],
   "source": [
    "df = dfo.df"
   ]
  },
  {
   "cell_type": "code",
   "execution_count": 10,
   "metadata": {},
   "outputs": [
    {
     "name": "stdout",
     "output_type": "stream",
     "text": [
      "2019-11-11 18:59:01 starting remove_cols\n",
      "2019-11-11 18:59:01 ending remove_cols ; time: 0:00:00.004529\n"
     ]
    }
   ],
   "source": [
    "df = remove_cols(df, ['Unnamed: 0', 'id'])"
   ]
  },
  {
   "cell_type": "code",
   "execution_count": 11,
   "metadata": {},
   "outputs": [],
   "source": [
    "dfo.index_columns = 'parcelid'"
   ]
  },
  {
   "cell_type": "code",
   "execution_count": 12,
   "metadata": {},
   "outputs": [],
   "source": [
    "df = df.set_index(dfo.index_columns)"
   ]
  },
  {
   "cell_type": "code",
   "execution_count": 13,
   "metadata": {},
   "outputs": [],
   "source": [
    "dfo.y_column = 'logerror'"
   ]
  },
  {
   "cell_type": "code",
   "execution_count": 14,
   "metadata": {},
   "outputs": [],
   "source": [
    "df = df.rename(columns={dfo.y_column: 'y'})"
   ]
  },
  {
   "cell_type": "code",
   "execution_count": 15,
   "metadata": {},
   "outputs": [],
   "source": [
    "dfo.stratify = 'fips'"
   ]
  },
  {
   "cell_type": "code",
   "execution_count": 16,
   "metadata": {},
   "outputs": [
    {
     "name": "stdout",
     "output_type": "stream",
     "text": [
      "2019-11-11 18:59:01 starting frame_splain\n",
      "ZILLOW DATA SHAPE:\n",
      "(52089, 9) \n",
      "\n",
      "ZILLOW DATA INFO:\n",
      "<class 'pandas.core.frame.DataFrame'>\n",
      "Int64Index: 52089 entries, 14297519 to 12826780\n",
      "Data columns (total 9 columns):\n",
      "bathroomcnt                     52089 non-null float64\n",
      "bedroomcnt                      52089 non-null float64\n",
      "calculatedfinishedsquarefeet    52089 non-null float64\n",
      "fips                            52089 non-null float64\n",
      "latitude                        52089 non-null float64\n",
      "longitude                       52089 non-null float64\n",
      "structuretaxvaluedollarcnt      52089 non-null float64\n",
      "structuredollarpersqft          52089 non-null float64\n",
      "y                               52089 non-null float64\n",
      "dtypes: float64(9)\n",
      "memory usage: 4.0 MB\n",
      "None \n",
      "\n",
      "ZILLOW DATA DESCRIPTION:\n",
      "                                count          mean            std  \\\n",
      "bathroomcnt                   52089.0  2.305669e+00       1.017265   \n",
      "bedroomcnt                    52089.0  3.309912e+00       0.933453   \n",
      "calculatedfinishedsquarefeet  52089.0  1.923432e+03    1003.068834   \n",
      "fips                          52089.0  6.049118e+03      21.009624   \n",
      "latitude                      52089.0  3.402263e+07  274084.436731   \n",
      "longitude                     52089.0 -1.181938e+08  356417.454324   \n",
      "structuretaxvaluedollarcnt    52089.0  1.959778e+05  252421.820192   \n",
      "structuredollarpersqft        52089.0  9.084642e+01      59.956862   \n",
      "y                             52089.0  1.824858e-02       0.175990   \n",
      "\n",
      "                                       min           25%           50%  \\\n",
      "bathroomcnt                   1.000000e+00  2.000000e+00  2.000000e+00   \n",
      "bedroomcnt                    1.000000e+00  3.000000e+00  3.000000e+00   \n",
      "calculatedfinishedsquarefeet  1.520000e+02  1.268000e+03  1.659000e+03   \n",
      "fips                          6.037000e+03  6.037000e+03  6.037000e+03   \n",
      "latitude                      3.334062e+07  3.382689e+07  3.402338e+07   \n",
      "longitude                    -1.194754e+08 -1.184004e+08 -1.181529e+08   \n",
      "structuretaxvaluedollarcnt    1.480000e+02  7.720000e+04  1.318830e+05   \n",
      "structuredollarpersqft        3.983275e-02  5.498029e+01  8.216741e+01   \n",
      "y                            -4.655420e+00 -2.457495e-02  6.956119e-03   \n",
      "\n",
      "                                       75%           max  \n",
      "bathroomcnt                   3.000000e+00  1.800000e+01  \n",
      "bedroomcnt                    4.000000e+00  1.400000e+01  \n",
      "calculatedfinishedsquarefeet  2.306000e+03  2.192900e+04  \n",
      "fips                          6.059000e+03  6.111000e+03  \n",
      "latitude                      3.418742e+07  3.481877e+07  \n",
      "longitude                    -1.179291e+08 -1.175546e+08  \n",
      "structuretaxvaluedollarcnt    2.261220e+05  9.164901e+06  \n",
      "structuredollarpersqft        1.135682e+02  1.444221e+03  \n",
      "y                             4.052645e-02  5.262999e+00   \n",
      "\n",
      "ZILLOW DATA HEAD:\n",
      "          bathroomcnt  bedroomcnt  calculatedfinishedsquarefeet    fips  \\\n",
      "parcelid                                                                  \n",
      "14297519          3.5         4.0                        3100.0  6059.0   \n",
      "17052889          1.0         2.0                        1465.0  6111.0   \n",
      "14186244          2.0         3.0                        1243.0  6059.0   \n",
      "12177905          3.0         4.0                        2376.0  6037.0   \n",
      "12095076          3.0         4.0                        2962.0  6037.0   \n",
      "\n",
      "            latitude    longitude  structuretaxvaluedollarcnt  \\\n",
      "parcelid                                                        \n",
      "14297519  33634931.0 -117869207.0                    485713.0   \n",
      "17052889  34449266.0 -119281531.0                     88000.0   \n",
      "14186244  33886168.0 -117823170.0                     85289.0   \n",
      "12177905  34245180.0 -118240722.0                    108918.0   \n",
      "12095076  34145202.0 -118179824.0                    276684.0   \n",
      "\n",
      "          structuredollarpersqft         y  \n",
      "parcelid                                    \n",
      "14297519              156.681613  0.025595  \n",
      "17052889               60.068259  0.055619  \n",
      "14186244               68.615447  0.005383  \n",
      "12177905               45.840909 -0.103410  \n",
      "12095076               93.411209 -0.001011   \n",
      "\n",
      "2019-11-11 18:59:01 ending frame_splain ; time: 0:00:00.111541\n"
     ]
    }
   ],
   "source": [
    "frame_splain(df, title='Zillow Data', splain=True)"
   ]
  },
  {
   "cell_type": "code",
   "execution_count": 17,
   "metadata": {},
   "outputs": [
    {
     "name": "stdout",
     "output_type": "stream",
     "text": [
      "2019-11-11 18:59:01 starting convert_to_dates\n",
      "2019-11-11 18:59:01 ending convert_to_dates ; time: 0:00:00.001009\n"
     ]
    }
   ],
   "source": [
    "date_columns = ['transactiondate']\n",
    "df = convert_to_dates(df, cols=date_columns)"
   ]
  },
  {
   "cell_type": "code",
   "execution_count": 18,
   "metadata": {},
   "outputs": [
    {
     "data": {
      "text/html": [
       "<div>\n",
       "<style scoped>\n",
       "    .dataframe tbody tr th:only-of-type {\n",
       "        vertical-align: middle;\n",
       "    }\n",
       "\n",
       "    .dataframe tbody tr th {\n",
       "        vertical-align: top;\n",
       "    }\n",
       "\n",
       "    .dataframe thead th {\n",
       "        text-align: right;\n",
       "    }\n",
       "</style>\n",
       "<table border=\"1\" class=\"dataframe\">\n",
       "  <thead>\n",
       "    <tr style=\"text-align: right;\">\n",
       "      <th></th>\n",
       "      <th>bathroomcnt</th>\n",
       "      <th>bedroomcnt</th>\n",
       "      <th>calculatedfinishedsquarefeet</th>\n",
       "      <th>fips</th>\n",
       "      <th>latitude</th>\n",
       "      <th>longitude</th>\n",
       "      <th>structuretaxvaluedollarcnt</th>\n",
       "      <th>structuredollarpersqft</th>\n",
       "      <th>y</th>\n",
       "    </tr>\n",
       "    <tr>\n",
       "      <th>parcelid</th>\n",
       "      <th></th>\n",
       "      <th></th>\n",
       "      <th></th>\n",
       "      <th></th>\n",
       "      <th></th>\n",
       "      <th></th>\n",
       "      <th></th>\n",
       "      <th></th>\n",
       "      <th></th>\n",
       "    </tr>\n",
       "  </thead>\n",
       "  <tbody>\n",
       "    <tr>\n",
       "      <th>14297519</th>\n",
       "      <td>3.5</td>\n",
       "      <td>4.0</td>\n",
       "      <td>3100.0</td>\n",
       "      <td>6059.0</td>\n",
       "      <td>33634931.0</td>\n",
       "      <td>-117869207.0</td>\n",
       "      <td>485713.0</td>\n",
       "      <td>156.681613</td>\n",
       "      <td>0.025595</td>\n",
       "    </tr>\n",
       "    <tr>\n",
       "      <th>17052889</th>\n",
       "      <td>1.0</td>\n",
       "      <td>2.0</td>\n",
       "      <td>1465.0</td>\n",
       "      <td>6111.0</td>\n",
       "      <td>34449266.0</td>\n",
       "      <td>-119281531.0</td>\n",
       "      <td>88000.0</td>\n",
       "      <td>60.068259</td>\n",
       "      <td>0.055619</td>\n",
       "    </tr>\n",
       "    <tr>\n",
       "      <th>14186244</th>\n",
       "      <td>2.0</td>\n",
       "      <td>3.0</td>\n",
       "      <td>1243.0</td>\n",
       "      <td>6059.0</td>\n",
       "      <td>33886168.0</td>\n",
       "      <td>-117823170.0</td>\n",
       "      <td>85289.0</td>\n",
       "      <td>68.615447</td>\n",
       "      <td>0.005383</td>\n",
       "    </tr>\n",
       "    <tr>\n",
       "      <th>12177905</th>\n",
       "      <td>3.0</td>\n",
       "      <td>4.0</td>\n",
       "      <td>2376.0</td>\n",
       "      <td>6037.0</td>\n",
       "      <td>34245180.0</td>\n",
       "      <td>-118240722.0</td>\n",
       "      <td>108918.0</td>\n",
       "      <td>45.840909</td>\n",
       "      <td>-0.103410</td>\n",
       "    </tr>\n",
       "    <tr>\n",
       "      <th>12095076</th>\n",
       "      <td>3.0</td>\n",
       "      <td>4.0</td>\n",
       "      <td>2962.0</td>\n",
       "      <td>6037.0</td>\n",
       "      <td>34145202.0</td>\n",
       "      <td>-118179824.0</td>\n",
       "      <td>276684.0</td>\n",
       "      <td>93.411209</td>\n",
       "      <td>-0.001011</td>\n",
       "    </tr>\n",
       "    <tr>\n",
       "      <th>12069064</th>\n",
       "      <td>1.0</td>\n",
       "      <td>2.0</td>\n",
       "      <td>738.0</td>\n",
       "      <td>6037.0</td>\n",
       "      <td>34149214.0</td>\n",
       "      <td>-118239357.0</td>\n",
       "      <td>18890.0</td>\n",
       "      <td>25.596206</td>\n",
       "      <td>0.101723</td>\n",
       "    </tr>\n",
       "    <tr>\n",
       "      <th>12790562</th>\n",
       "      <td>3.0</td>\n",
       "      <td>4.0</td>\n",
       "      <td>3039.0</td>\n",
       "      <td>6037.0</td>\n",
       "      <td>33960230.0</td>\n",
       "      <td>-118006914.0</td>\n",
       "      <td>177527.0</td>\n",
       "      <td>58.416255</td>\n",
       "      <td>-0.040966</td>\n",
       "    </tr>\n",
       "    <tr>\n",
       "      <th>11104527</th>\n",
       "      <td>3.0</td>\n",
       "      <td>4.0</td>\n",
       "      <td>2540.0</td>\n",
       "      <td>6037.0</td>\n",
       "      <td>34434971.0</td>\n",
       "      <td>-118464390.0</td>\n",
       "      <td>271715.0</td>\n",
       "      <td>106.974409</td>\n",
       "      <td>0.005963</td>\n",
       "    </tr>\n",
       "    <tr>\n",
       "      <th>13944538</th>\n",
       "      <td>2.5</td>\n",
       "      <td>3.0</td>\n",
       "      <td>1340.0</td>\n",
       "      <td>6059.0</td>\n",
       "      <td>33771438.0</td>\n",
       "      <td>-117982834.0</td>\n",
       "      <td>96617.0</td>\n",
       "      <td>72.102239</td>\n",
       "      <td>0.045602</td>\n",
       "    </tr>\n",
       "    <tr>\n",
       "      <th>17110996</th>\n",
       "      <td>2.5</td>\n",
       "      <td>3.0</td>\n",
       "      <td>1371.0</td>\n",
       "      <td>6111.0</td>\n",
       "      <td>34238229.0</td>\n",
       "      <td>-119170633.0</td>\n",
       "      <td>99026.0</td>\n",
       "      <td>72.229030</td>\n",
       "      <td>0.008669</td>\n",
       "    </tr>\n",
       "    <tr>\n",
       "      <th>14375300</th>\n",
       "      <td>2.0</td>\n",
       "      <td>4.0</td>\n",
       "      <td>1677.0</td>\n",
       "      <td>6059.0</td>\n",
       "      <td>33642800.0</td>\n",
       "      <td>-117707211.0</td>\n",
       "      <td>169118.0</td>\n",
       "      <td>100.845558</td>\n",
       "      <td>-0.021896</td>\n",
       "    </tr>\n",
       "    <tr>\n",
       "      <th>11830315</th>\n",
       "      <td>1.0</td>\n",
       "      <td>2.0</td>\n",
       "      <td>1146.0</td>\n",
       "      <td>6037.0</td>\n",
       "      <td>34024040.0</td>\n",
       "      <td>-118159090.0</td>\n",
       "      <td>127960.0</td>\n",
       "      <td>111.657941</td>\n",
       "      <td>-0.035085</td>\n",
       "    </tr>\n",
       "    <tr>\n",
       "      <th>14387959</th>\n",
       "      <td>2.5</td>\n",
       "      <td>3.0</td>\n",
       "      <td>2074.0</td>\n",
       "      <td>6059.0</td>\n",
       "      <td>33586693.0</td>\n",
       "      <td>-117697202.0</td>\n",
       "      <td>173269.0</td>\n",
       "      <td>83.543394</td>\n",
       "      <td>-0.006653</td>\n",
       "    </tr>\n",
       "    <tr>\n",
       "      <th>14349322</th>\n",
       "      <td>2.5</td>\n",
       "      <td>3.0</td>\n",
       "      <td>2018.0</td>\n",
       "      <td>6059.0</td>\n",
       "      <td>33728985.0</td>\n",
       "      <td>-117754647.0</td>\n",
       "      <td>221433.0</td>\n",
       "      <td>109.728940</td>\n",
       "      <td>0.044309</td>\n",
       "    </tr>\n",
       "    <tr>\n",
       "      <th>11706737</th>\n",
       "      <td>1.0</td>\n",
       "      <td>2.0</td>\n",
       "      <td>1316.0</td>\n",
       "      <td>6037.0</td>\n",
       "      <td>34009471.0</td>\n",
       "      <td>-118281052.0</td>\n",
       "      <td>37663.0</td>\n",
       "      <td>28.619301</td>\n",
       "      <td>-0.120976</td>\n",
       "    </tr>\n",
       "  </tbody>\n",
       "</table>\n",
       "</div>"
      ],
      "text/plain": [
       "          bathroomcnt  bedroomcnt  calculatedfinishedsquarefeet    fips  \\\n",
       "parcelid                                                                  \n",
       "14297519          3.5         4.0                        3100.0  6059.0   \n",
       "17052889          1.0         2.0                        1465.0  6111.0   \n",
       "14186244          2.0         3.0                        1243.0  6059.0   \n",
       "12177905          3.0         4.0                        2376.0  6037.0   \n",
       "12095076          3.0         4.0                        2962.0  6037.0   \n",
       "12069064          1.0         2.0                         738.0  6037.0   \n",
       "12790562          3.0         4.0                        3039.0  6037.0   \n",
       "11104527          3.0         4.0                        2540.0  6037.0   \n",
       "13944538          2.5         3.0                        1340.0  6059.0   \n",
       "17110996          2.5         3.0                        1371.0  6111.0   \n",
       "14375300          2.0         4.0                        1677.0  6059.0   \n",
       "11830315          1.0         2.0                        1146.0  6037.0   \n",
       "14387959          2.5         3.0                        2074.0  6059.0   \n",
       "14349322          2.5         3.0                        2018.0  6059.0   \n",
       "11706737          1.0         2.0                        1316.0  6037.0   \n",
       "\n",
       "            latitude    longitude  structuretaxvaluedollarcnt  \\\n",
       "parcelid                                                        \n",
       "14297519  33634931.0 -117869207.0                    485713.0   \n",
       "17052889  34449266.0 -119281531.0                     88000.0   \n",
       "14186244  33886168.0 -117823170.0                     85289.0   \n",
       "12177905  34245180.0 -118240722.0                    108918.0   \n",
       "12095076  34145202.0 -118179824.0                    276684.0   \n",
       "12069064  34149214.0 -118239357.0                     18890.0   \n",
       "12790562  33960230.0 -118006914.0                    177527.0   \n",
       "11104527  34434971.0 -118464390.0                    271715.0   \n",
       "13944538  33771438.0 -117982834.0                     96617.0   \n",
       "17110996  34238229.0 -119170633.0                     99026.0   \n",
       "14375300  33642800.0 -117707211.0                    169118.0   \n",
       "11830315  34024040.0 -118159090.0                    127960.0   \n",
       "14387959  33586693.0 -117697202.0                    173269.0   \n",
       "14349322  33728985.0 -117754647.0                    221433.0   \n",
       "11706737  34009471.0 -118281052.0                     37663.0   \n",
       "\n",
       "          structuredollarpersqft         y  \n",
       "parcelid                                    \n",
       "14297519              156.681613  0.025595  \n",
       "17052889               60.068259  0.055619  \n",
       "14186244               68.615447  0.005383  \n",
       "12177905               45.840909 -0.103410  \n",
       "12095076               93.411209 -0.001011  \n",
       "12069064               25.596206  0.101723  \n",
       "12790562               58.416255 -0.040966  \n",
       "11104527              106.974409  0.005963  \n",
       "13944538               72.102239  0.045602  \n",
       "17110996               72.229030  0.008669  \n",
       "14375300              100.845558 -0.021896  \n",
       "11830315              111.657941 -0.035085  \n",
       "14387959               83.543394 -0.006653  \n",
       "14349322              109.728940  0.044309  \n",
       "11706737               28.619301 -0.120976  "
      ]
     },
     "execution_count": 18,
     "metadata": {},
     "output_type": "execute_result"
    }
   ],
   "source": [
    "df.head(15)"
   ]
  },
  {
   "cell_type": "code",
   "execution_count": 19,
   "metadata": {},
   "outputs": [
    {
     "name": "stdout",
     "output_type": "stream",
     "text": [
      "2019-11-11 18:59:01 starting frame_splain\n",
      "DATAFRAME SHAPE:\n",
      "(52089, 9) \n",
      "\n",
      "DATAFRAME INFO:\n",
      "<class 'pandas.core.frame.DataFrame'>\n",
      "Int64Index: 52089 entries, 14297519 to 12826780\n",
      "Data columns (total 9 columns):\n",
      "bathroomcnt                     52089 non-null float64\n",
      "bedroomcnt                      52089 non-null float64\n",
      "calculatedfinishedsquarefeet    52089 non-null float64\n",
      "fips                            52089 non-null float64\n",
      "latitude                        52089 non-null float64\n",
      "longitude                       52089 non-null float64\n",
      "structuretaxvaluedollarcnt      52089 non-null float64\n",
      "structuredollarpersqft          52089 non-null float64\n",
      "y                               52089 non-null float64\n",
      "dtypes: float64(9)\n",
      "memory usage: 4.0 MB\n",
      "None \n",
      "\n",
      "DATAFRAME DESCRIPTION:\n",
      "                                count          mean            std  \\\n",
      "bathroomcnt                   52089.0  2.305669e+00       1.017265   \n",
      "bedroomcnt                    52089.0  3.309912e+00       0.933453   \n",
      "calculatedfinishedsquarefeet  52089.0  1.923432e+03    1003.068834   \n",
      "fips                          52089.0  6.049118e+03      21.009624   \n",
      "latitude                      52089.0  3.402263e+07  274084.436731   \n",
      "longitude                     52089.0 -1.181938e+08  356417.454324   \n",
      "structuretaxvaluedollarcnt    52089.0  1.959778e+05  252421.820192   \n",
      "structuredollarpersqft        52089.0  9.084642e+01      59.956862   \n",
      "y                             52089.0  1.824858e-02       0.175990   \n",
      "\n",
      "                                       min           25%           50%  \\\n",
      "bathroomcnt                   1.000000e+00  2.000000e+00  2.000000e+00   \n",
      "bedroomcnt                    1.000000e+00  3.000000e+00  3.000000e+00   \n",
      "calculatedfinishedsquarefeet  1.520000e+02  1.268000e+03  1.659000e+03   \n",
      "fips                          6.037000e+03  6.037000e+03  6.037000e+03   \n",
      "latitude                      3.334062e+07  3.382689e+07  3.402338e+07   \n",
      "longitude                    -1.194754e+08 -1.184004e+08 -1.181529e+08   \n",
      "structuretaxvaluedollarcnt    1.480000e+02  7.720000e+04  1.318830e+05   \n",
      "structuredollarpersqft        3.983275e-02  5.498029e+01  8.216741e+01   \n",
      "y                            -4.655420e+00 -2.457495e-02  6.956119e-03   \n",
      "\n",
      "                                       75%           max  \n",
      "bathroomcnt                   3.000000e+00  1.800000e+01  \n",
      "bedroomcnt                    4.000000e+00  1.400000e+01  \n",
      "calculatedfinishedsquarefeet  2.306000e+03  2.192900e+04  \n",
      "fips                          6.059000e+03  6.111000e+03  \n",
      "latitude                      3.418742e+07  3.481877e+07  \n",
      "longitude                    -1.179291e+08 -1.175546e+08  \n",
      "structuretaxvaluedollarcnt    2.261220e+05  9.164901e+06  \n",
      "structuredollarpersqft        1.135682e+02  1.444221e+03  \n",
      "y                             4.052645e-02  5.262999e+00   \n",
      "\n",
      "DATAFRAME HEAD:\n",
      "          bathroomcnt  bedroomcnt  calculatedfinishedsquarefeet    fips  \\\n",
      "parcelid                                                                  \n",
      "14297519          3.5         4.0                        3100.0  6059.0   \n",
      "17052889          1.0         2.0                        1465.0  6111.0   \n",
      "14186244          2.0         3.0                        1243.0  6059.0   \n",
      "12177905          3.0         4.0                        2376.0  6037.0   \n",
      "12095076          3.0         4.0                        2962.0  6037.0   \n",
      "\n",
      "            latitude    longitude  structuretaxvaluedollarcnt  \\\n",
      "parcelid                                                        \n",
      "14297519  33634931.0 -117869207.0                    485713.0   \n",
      "17052889  34449266.0 -119281531.0                     88000.0   \n",
      "14186244  33886168.0 -117823170.0                     85289.0   \n",
      "12177905  34245180.0 -118240722.0                    108918.0   \n",
      "12095076  34145202.0 -118179824.0                    276684.0   \n",
      "\n",
      "          structuredollarpersqft         y  \n",
      "parcelid                                    \n",
      "14297519              156.681613  0.025595  \n",
      "17052889               60.068259  0.055619  \n",
      "14186244               68.615447  0.005383  \n",
      "12177905               45.840909 -0.103410  \n",
      "12095076               93.411209 -0.001011   \n",
      "\n",
      "2019-11-11 18:59:01 ending frame_splain ; time: 0:00:00.103848\n"
     ]
    }
   ],
   "source": [
    "frame_splain(df, splain=True)"
   ]
  },
  {
   "cell_type": "markdown",
   "metadata": {},
   "source": [
    "**Find string categoricals**"
   ]
  },
  {
   "cell_type": "code",
   "execution_count": 20,
   "metadata": {},
   "outputs": [
    {
     "name": "stdout",
     "output_type": "stream",
     "text": [
      "2019-11-11 18:59:01 starting get_column_values_stats\n",
      "2019-11-11 18:59:01 ending get_column_values_stats ; time: 0:00:00.149638\n"
     ]
    },
    {
     "data": {
      "text/html": [
       "<div>\n",
       "<style scoped>\n",
       "    .dataframe tbody tr th:only-of-type {\n",
       "        vertical-align: middle;\n",
       "    }\n",
       "\n",
       "    .dataframe tbody tr th {\n",
       "        vertical-align: top;\n",
       "    }\n",
       "\n",
       "    .dataframe thead th {\n",
       "        text-align: right;\n",
       "    }\n",
       "</style>\n",
       "<table border=\"1\" class=\"dataframe\">\n",
       "  <thead>\n",
       "    <tr style=\"text-align: right;\">\n",
       "      <th></th>\n",
       "      <th>dtype</th>\n",
       "      <th>num_rows_values</th>\n",
       "      <th>num_rows_missing</th>\n",
       "      <th>pct_rows_missing</th>\n",
       "      <th>num_uniques</th>\n",
       "      <th>unique_values</th>\n",
       "    </tr>\n",
       "    <tr>\n",
       "      <th>cols</th>\n",
       "      <th></th>\n",
       "      <th></th>\n",
       "      <th></th>\n",
       "      <th></th>\n",
       "      <th></th>\n",
       "      <th></th>\n",
       "    </tr>\n",
       "  </thead>\n",
       "  <tbody>\n",
       "    <tr>\n",
       "      <th>bathroomcnt</th>\n",
       "      <td>float64</td>\n",
       "      <td>52089</td>\n",
       "      <td>0</td>\n",
       "      <td>0.0</td>\n",
       "      <td>21</td>\n",
       "      <td>[3.5, 1.0, 2.0, 3.0, 2.5, 4.5, 4.0, 5.0, 6.5, ...</td>\n",
       "    </tr>\n",
       "    <tr>\n",
       "      <th>bedroomcnt</th>\n",
       "      <td>float64</td>\n",
       "      <td>52089</td>\n",
       "      <td>0</td>\n",
       "      <td>0.0</td>\n",
       "      <td>13</td>\n",
       "      <td>[4.0, 2.0, 3.0, 6.0, 5.0, 1.0, 7.0, 8.0, 9.0, ...</td>\n",
       "    </tr>\n",
       "    <tr>\n",
       "      <th>calculatedfinishedsquarefeet</th>\n",
       "      <td>float64</td>\n",
       "      <td>52089</td>\n",
       "      <td>0</td>\n",
       "      <td>0.0</td>\n",
       "      <td>4710</td>\n",
       "      <td>[3100.0, 1465.0, 1243.0, 2376.0, 2962.0, 738.0...</td>\n",
       "    </tr>\n",
       "    <tr>\n",
       "      <th>fips</th>\n",
       "      <td>float64</td>\n",
       "      <td>52089</td>\n",
       "      <td>0</td>\n",
       "      <td>0.0</td>\n",
       "      <td>3</td>\n",
       "      <td>[6059.0, 6111.0, 6037.0]</td>\n",
       "    </tr>\n",
       "  </tbody>\n",
       "</table>\n",
       "</div>"
      ],
      "text/plain": [
       "                                dtype  num_rows_values  num_rows_missing  \\\n",
       "cols                                                                       \n",
       "bathroomcnt                   float64            52089                 0   \n",
       "bedroomcnt                    float64            52089                 0   \n",
       "calculatedfinishedsquarefeet  float64            52089                 0   \n",
       "fips                          float64            52089                 0   \n",
       "\n",
       "                              pct_rows_missing  num_uniques  \\\n",
       "cols                                                          \n",
       "bathroomcnt                                0.0           21   \n",
       "bedroomcnt                                 0.0           13   \n",
       "calculatedfinishedsquarefeet               0.0         4710   \n",
       "fips                                       0.0            3   \n",
       "\n",
       "                                                                  unique_values  \n",
       "cols                                                                             \n",
       "bathroomcnt                   [3.5, 1.0, 2.0, 3.0, 2.5, 4.5, 4.0, 5.0, 6.5, ...  \n",
       "bedroomcnt                    [4.0, 2.0, 3.0, 6.0, 5.0, 1.0, 7.0, 8.0, 9.0, ...  \n",
       "calculatedfinishedsquarefeet  [3100.0, 1465.0, 1243.0, 2376.0, 2962.0, 738.0...  \n",
       "fips                                                   [6059.0, 6111.0, 6037.0]  "
      ]
     },
     "execution_count": 20,
     "metadata": {},
     "output_type": "execute_result"
    }
   ],
   "source": [
    "df_strings = get_column_values_stats(\n",
    "    df, \n",
    "    get_cols=df.columns[df.dtypes=='object'],\n",
    "    max_uniques=20000,\n",
    "    limit_to_max=True\n",
    ")\n",
    "df_strings"
   ]
  },
  {
   "cell_type": "code",
   "execution_count": 21,
   "metadata": {},
   "outputs": [
    {
     "data": {
      "text/plain": [
       "Index(['bathroomcnt', 'bedroomcnt', 'calculatedfinishedsquarefeet', 'fips'], dtype='object', name='cols')"
      ]
     },
     "execution_count": 21,
     "metadata": {},
     "output_type": "execute_result"
    }
   ],
   "source": [
    "df_strings.index"
   ]
  },
  {
   "cell_type": "code",
   "execution_count": 22,
   "metadata": {},
   "outputs": [],
   "source": [
    "string_categoricals = [\n",
    "    'airconditioningdesc', \n",
    "    'architecturalstyledesc', \n",
    "    'buildingclassdesc', \n",
    "    'county', \n",
    "    'state', \n",
    "    'heatingorsystemdesc', \n",
    "    'propertycountylandusecode', \n",
    "    'propertylandusedesc', \n",
    "    'propertyzoningdesc', \n",
    "    'storydesc', \n",
    "    'taxdelinquencyflag', \n",
    "    'typeconstructiondesc'\n",
    "]"
   ]
  },
  {
   "cell_type": "code",
   "execution_count": 23,
   "metadata": {},
   "outputs": [
    {
     "name": "stdout",
     "output_type": "stream",
     "text": [
      "2019-11-11 18:59:01 starting retype_cols\n",
      "2019-11-11 18:59:01 ending retype_cols ; time: 0:00:00.000733\n",
      "<class 'pandas.core.frame.DataFrame'>\n",
      "Int64Index: 52089 entries, 14297519 to 12826780\n",
      "Data columns (total 9 columns):\n",
      "bathroomcnt                     52089 non-null float64\n",
      "bedroomcnt                      52089 non-null float64\n",
      "calculatedfinishedsquarefeet    52089 non-null float64\n",
      "fips                            52089 non-null float64\n",
      "latitude                        52089 non-null float64\n",
      "longitude                       52089 non-null float64\n",
      "structuretaxvaluedollarcnt      52089 non-null float64\n",
      "structuredollarpersqft          52089 non-null float64\n",
      "y                               52089 non-null float64\n",
      "dtypes: float64(9)\n",
      "memory usage: 4.0 MB\n"
     ]
    }
   ],
   "source": [
    "df = retype_cols(df, cols=string_categoricals, to_dtype='category')\n",
    "df.info()"
   ]
  },
  {
   "cell_type": "markdown",
   "metadata": {},
   "source": [
    "**Find Numeric Categoricals**"
   ]
  },
  {
   "cell_type": "code",
   "execution_count": 24,
   "metadata": {},
   "outputs": [
    {
     "name": "stdout",
     "output_type": "stream",
     "text": [
      "2019-11-11 18:59:01 starting get_column_values_stats\n",
      "2019-11-11 18:59:01 ending get_column_values_stats ; time: 0:00:00.088736\n"
     ]
    },
    {
     "data": {
      "text/html": [
       "<div>\n",
       "<style scoped>\n",
       "    .dataframe tbody tr th:only-of-type {\n",
       "        vertical-align: middle;\n",
       "    }\n",
       "\n",
       "    .dataframe tbody tr th {\n",
       "        vertical-align: top;\n",
       "    }\n",
       "\n",
       "    .dataframe thead th {\n",
       "        text-align: right;\n",
       "    }\n",
       "</style>\n",
       "<table border=\"1\" class=\"dataframe\">\n",
       "  <thead>\n",
       "    <tr style=\"text-align: right;\">\n",
       "      <th></th>\n",
       "      <th>dtype</th>\n",
       "      <th>num_rows_values</th>\n",
       "      <th>num_rows_missing</th>\n",
       "      <th>pct_rows_missing</th>\n",
       "      <th>num_uniques</th>\n",
       "      <th>unique_values</th>\n",
       "    </tr>\n",
       "    <tr>\n",
       "      <th>cols</th>\n",
       "      <th></th>\n",
       "      <th></th>\n",
       "      <th></th>\n",
       "      <th></th>\n",
       "      <th></th>\n",
       "      <th></th>\n",
       "    </tr>\n",
       "  </thead>\n",
       "  <tbody>\n",
       "    <tr>\n",
       "      <th>bathroomcnt</th>\n",
       "      <td>float64</td>\n",
       "      <td>52089</td>\n",
       "      <td>0</td>\n",
       "      <td>0.0</td>\n",
       "      <td>21</td>\n",
       "      <td>[3.5, 1.0, 2.0, 3.0, 2.5, 4.5, 4.0, 5.0, 6.5, ...</td>\n",
       "    </tr>\n",
       "    <tr>\n",
       "      <th>bedroomcnt</th>\n",
       "      <td>float64</td>\n",
       "      <td>52089</td>\n",
       "      <td>0</td>\n",
       "      <td>0.0</td>\n",
       "      <td>13</td>\n",
       "      <td>[4.0, 2.0, 3.0, 6.0, 5.0, 1.0, 7.0, 8.0, 9.0, ...</td>\n",
       "    </tr>\n",
       "    <tr>\n",
       "      <th>calculatedfinishedsquarefeet</th>\n",
       "      <td>float64</td>\n",
       "      <td>52089</td>\n",
       "      <td>0</td>\n",
       "      <td>0.0</td>\n",
       "      <td>4710</td>\n",
       "      <td>[3100.0, 1465.0, 1243.0, 2376.0, 2962.0, 738.0...</td>\n",
       "    </tr>\n",
       "    <tr>\n",
       "      <th>fips</th>\n",
       "      <td>float64</td>\n",
       "      <td>52089</td>\n",
       "      <td>0</td>\n",
       "      <td>0.0</td>\n",
       "      <td>3</td>\n",
       "      <td>[6059.0, 6111.0, 6037.0]</td>\n",
       "    </tr>\n",
       "    <tr>\n",
       "      <th>latitude</th>\n",
       "      <td>float64</td>\n",
       "      <td>52089</td>\n",
       "      <td>0</td>\n",
       "      <td>0.0</td>\n",
       "      <td>50293</td>\n",
       "      <td>[33634931.0, 34449266.0, 33886168.0, 34245180....</td>\n",
       "    </tr>\n",
       "    <tr>\n",
       "      <th>longitude</th>\n",
       "      <td>float64</td>\n",
       "      <td>52089</td>\n",
       "      <td>0</td>\n",
       "      <td>0.0</td>\n",
       "      <td>50571</td>\n",
       "      <td>[-117869207.0, -119281531.0, -117823170.0, -11...</td>\n",
       "    </tr>\n",
       "    <tr>\n",
       "      <th>structuretaxvaluedollarcnt</th>\n",
       "      <td>float64</td>\n",
       "      <td>52089</td>\n",
       "      <td>0</td>\n",
       "      <td>0.0</td>\n",
       "      <td>37220</td>\n",
       "      <td>[485713.0, 88000.0, 85289.0, 108918.0, 276684....</td>\n",
       "    </tr>\n",
       "    <tr>\n",
       "      <th>structuredollarpersqft</th>\n",
       "      <td>float64</td>\n",
       "      <td>52089</td>\n",
       "      <td>0</td>\n",
       "      <td>0.0</td>\n",
       "      <td>51809</td>\n",
       "      <td>[156.6816129032258, 60.068259385665534, 68.615...</td>\n",
       "    </tr>\n",
       "    <tr>\n",
       "      <th>y</th>\n",
       "      <td>float64</td>\n",
       "      <td>52089</td>\n",
       "      <td>0</td>\n",
       "      <td>0.0</td>\n",
       "      <td>51831</td>\n",
       "      <td>[0.0255949017584, 0.0556190874015, 0.005382853...</td>\n",
       "    </tr>\n",
       "  </tbody>\n",
       "</table>\n",
       "</div>"
      ],
      "text/plain": [
       "                                dtype  num_rows_values  num_rows_missing  \\\n",
       "cols                                                                       \n",
       "bathroomcnt                   float64            52089                 0   \n",
       "bedroomcnt                    float64            52089                 0   \n",
       "calculatedfinishedsquarefeet  float64            52089                 0   \n",
       "fips                          float64            52089                 0   \n",
       "latitude                      float64            52089                 0   \n",
       "longitude                     float64            52089                 0   \n",
       "structuretaxvaluedollarcnt    float64            52089                 0   \n",
       "structuredollarpersqft        float64            52089                 0   \n",
       "y                             float64            52089                 0   \n",
       "\n",
       "                              pct_rows_missing  num_uniques  \\\n",
       "cols                                                          \n",
       "bathroomcnt                                0.0           21   \n",
       "bedroomcnt                                 0.0           13   \n",
       "calculatedfinishedsquarefeet               0.0         4710   \n",
       "fips                                       0.0            3   \n",
       "latitude                                   0.0        50293   \n",
       "longitude                                  0.0        50571   \n",
       "structuretaxvaluedollarcnt                 0.0        37220   \n",
       "structuredollarpersqft                     0.0        51809   \n",
       "y                                          0.0        51831   \n",
       "\n",
       "                                                                  unique_values  \n",
       "cols                                                                             \n",
       "bathroomcnt                   [3.5, 1.0, 2.0, 3.0, 2.5, 4.5, 4.0, 5.0, 6.5, ...  \n",
       "bedroomcnt                    [4.0, 2.0, 3.0, 6.0, 5.0, 1.0, 7.0, 8.0, 9.0, ...  \n",
       "calculatedfinishedsquarefeet  [3100.0, 1465.0, 1243.0, 2376.0, 2962.0, 738.0...  \n",
       "fips                                                   [6059.0, 6111.0, 6037.0]  \n",
       "latitude                      [33634931.0, 34449266.0, 33886168.0, 34245180....  \n",
       "longitude                     [-117869207.0, -119281531.0, -117823170.0, -11...  \n",
       "structuretaxvaluedollarcnt    [485713.0, 88000.0, 85289.0, 108918.0, 276684....  \n",
       "structuredollarpersqft        [156.6816129032258, 60.068259385665534, 68.615...  \n",
       "y                             [0.0255949017584, 0.0556190874015, 0.005382853...  "
      ]
     },
     "execution_count": 24,
     "metadata": {},
     "output_type": "execute_result"
    }
   ],
   "source": [
    "df_cat_check = prep.get_column_values_stats(\n",
    "    df, \n",
    "    get_cols=df.columns[df.dtypes!='category'],\n",
    "    max_uniques=750000,\n",
    "    target_col=dfo.y_column,\n",
    "    limit_to_max=True\n",
    ")\n",
    "df_cat_check"
   ]
  },
  {
   "cell_type": "code",
   "execution_count": 25,
   "metadata": {},
   "outputs": [
    {
     "data": {
      "text/plain": [
       "Index(['bathroomcnt', 'bedroomcnt', 'calculatedfinishedsquarefeet', 'fips',\n",
       "       'latitude', 'longitude', 'structuretaxvaluedollarcnt',\n",
       "       'structuredollarpersqft', 'y'],\n",
       "      dtype='object', name='cols')"
      ]
     },
     "execution_count": 25,
     "metadata": {},
     "output_type": "execute_result"
    }
   ],
   "source": [
    "df_cat_check.index"
   ]
  },
  {
   "cell_type": "code",
   "execution_count": 26,
   "metadata": {},
   "outputs": [],
   "source": [
    "numeric_categoricals = [\n",
    "    'airconditioningtypeid', \n",
    "    'architecturalstyletypeid', \n",
    "    'buildingclasstypeid', \n",
    "    'buildingqualitytypeid',\n",
    "    'decktypeid', \n",
    "    'fips', \n",
    "    'hashottuborspa',\n",
    "    'heatingorsystemtypeid',\n",
    "    'pooltypeid10', \n",
    "    'pooltypeid2', \n",
    "    'pooltypeid7', \n",
    "    'propertylandusetypeid',\n",
    "    'regionidcounty', \n",
    "    'regionidcity',\n",
    "    'regionidneighborhood',\n",
    "    'regionidzip',\n",
    "    'rawcensustractandblock',\n",
    "    'censustractandblock',\n",
    "    'storytypeid', \n",
    "    'threequarterbathnbr', \n",
    "    'numberofstories', \n",
    "    'fireplaceflag', \n",
    "    'assessmentyear', \n",
    "    'typeconstructiontypeid', \n",
    "    'transactions'\n",
    "]"
   ]
  },
  {
   "cell_type": "code",
   "execution_count": 27,
   "metadata": {},
   "outputs": [
    {
     "name": "stdout",
     "output_type": "stream",
     "text": [
      "2019-11-11 18:59:01 starting retype_cols\n",
      "2019-11-11 18:59:01 ending retype_cols ; time: 0:00:00.006113\n",
      "<class 'pandas.core.frame.DataFrame'>\n",
      "Int64Index: 52089 entries, 14297519 to 12826780\n",
      "Data columns (total 9 columns):\n",
      "bathroomcnt                     52089 non-null float64\n",
      "bedroomcnt                      52089 non-null float64\n",
      "calculatedfinishedsquarefeet    52089 non-null float64\n",
      "fips                            52089 non-null category\n",
      "latitude                        52089 non-null float64\n",
      "longitude                       52089 non-null float64\n",
      "structuretaxvaluedollarcnt      52089 non-null float64\n",
      "structuredollarpersqft          52089 non-null float64\n",
      "y                               52089 non-null float64\n",
      "dtypes: category(1), float64(8)\n",
      "memory usage: 3.6 MB\n"
     ]
    }
   ],
   "source": [
    "df = retype_cols(df, cols=numeric_categoricals, to_dtype='category')\n",
    "df.info()"
   ]
  },
  {
   "cell_type": "code",
   "execution_count": 28,
   "metadata": {},
   "outputs": [
    {
     "name": "stdout",
     "output_type": "stream",
     "text": [
      "2019-11-11 18:59:01 starting nulls_by_row\n",
      "2019-11-11 18:59:02 ending nulls_by_row ; time: 0:00:00.055511\n"
     ]
    },
    {
     "data": {
      "text/html": [
       "<div>\n",
       "<style scoped>\n",
       "    .dataframe tbody tr th:only-of-type {\n",
       "        vertical-align: middle;\n",
       "    }\n",
       "\n",
       "    .dataframe tbody tr th {\n",
       "        vertical-align: top;\n",
       "    }\n",
       "\n",
       "    .dataframe thead th {\n",
       "        text-align: right;\n",
       "    }\n",
       "</style>\n",
       "<table border=\"1\" class=\"dataframe\">\n",
       "  <thead>\n",
       "    <tr style=\"text-align: right;\">\n",
       "      <th></th>\n",
       "      <th>num_cols_missing</th>\n",
       "      <th>pct_cols_missing</th>\n",
       "      <th>parcelid</th>\n",
       "    </tr>\n",
       "  </thead>\n",
       "  <tbody>\n",
       "    <tr>\n",
       "      <th>0</th>\n",
       "      <td>0</td>\n",
       "      <td>0.0</td>\n",
       "      <td>52089</td>\n",
       "    </tr>\n",
       "  </tbody>\n",
       "</table>\n",
       "</div>"
      ],
      "text/plain": [
       "  num_cols_missing pct_cols_missing  parcelid\n",
       "0                0              0.0     52089"
      ]
     },
     "execution_count": 28,
     "metadata": {},
     "output_type": "execute_result"
    }
   ],
   "source": [
    "nulls_by_row(df)"
   ]
  },
  {
   "cell_type": "code",
   "execution_count": 29,
   "metadata": {},
   "outputs": [],
   "source": [
    "dfo.df = df"
   ]
  },
  {
   "cell_type": "markdown",
   "metadata": {},
   "source": [
    "Split to Train and Test"
   ]
  },
  {
   "cell_type": "code",
   "execution_count": 30,
   "metadata": {},
   "outputs": [
    {
     "name": "stdout",
     "output_type": "stream",
     "text": [
      "2019-11-11 18:59:02 starting split_dfo\n",
      "2019-11-11 18:59:02 starting remove_cols\n",
      "2019-11-11 18:59:02 ending remove_cols ; time: 0:00:00.000124\n",
      "2019-11-11 18:59:02 starting split_my_data_whole\n",
      "2019-11-11 18:59:02 ending split_my_data_whole ; time: 0:00:00.009723\n",
      "2019-11-11 18:59:02 starting frame_splain\n",
      "DFO TRAIN SHAPE:\n",
      "(39066, 9) \n",
      "\n",
      "DFO TRAIN INFO:\n",
      "<class 'pandas.core.frame.DataFrame'>\n",
      "Int64Index: 39066 entries, 12709284 to 11344051\n",
      "Data columns (total 9 columns):\n",
      "bathroomcnt                     39066 non-null float64\n",
      "bedroomcnt                      39066 non-null float64\n",
      "calculatedfinishedsquarefeet    39066 non-null float64\n",
      "fips                            39066 non-null category\n",
      "latitude                        39066 non-null float64\n",
      "longitude                       39066 non-null float64\n",
      "structuretaxvaluedollarcnt      39066 non-null float64\n",
      "structuredollarpersqft          39066 non-null float64\n",
      "y                               39066 non-null float64\n",
      "dtypes: category(1), float64(8)\n",
      "memory usage: 2.7 MB\n",
      "None \n",
      "\n",
      "DFO TRAIN DESCRIPTION:\n",
      "                                count          mean            std  \\\n",
      "bathroomcnt                   39066.0  2.308324e+00       1.018864   \n",
      "bedroomcnt                    39066.0  3.308657e+00       0.928139   \n",
      "calculatedfinishedsquarefeet  39066.0  1.924155e+03    1005.062909   \n",
      "latitude                      39066.0  3.402244e+07  274084.175787   \n",
      "longitude                     39066.0 -1.181920e+08  354447.210080   \n",
      "structuretaxvaluedollarcnt    39066.0  1.964836e+05  257548.024761   \n",
      "structuredollarpersqft        39066.0  9.094653e+01      60.567713   \n",
      "y                             39066.0  1.772410e-02       0.177520   \n",
      "\n",
      "                                       min           25%           50%  \\\n",
      "bathroomcnt                   1.000000e+00  2.000000e+00  2.000000e+00   \n",
      "bedroomcnt                    1.000000e+00  3.000000e+00  3.000000e+00   \n",
      "calculatedfinishedsquarefeet  1.520000e+02  1.267000e+03  1.658000e+03   \n",
      "latitude                      3.334062e+07  3.382678e+07  3.402308e+07   \n",
      "longitude                    -1.194754e+08 -1.183992e+08 -1.181527e+08   \n",
      "structuretaxvaluedollarcnt    1.810000e+02  7.697375e+04  1.319820e+05   \n",
      "structuredollarpersqft        3.983275e-02  5.501783e+01  8.218571e+01   \n",
      "y                            -4.655420e+00 -2.494333e-02  6.854048e-03   \n",
      "\n",
      "                                       75%           max  \n",
      "bathroomcnt                   3.000000e+00  1.300000e+01  \n",
      "bedroomcnt                    4.000000e+00  1.200000e+01  \n",
      "calculatedfinishedsquarefeet  2.308000e+03  2.192900e+04  \n",
      "latitude                      3.418690e+07  3.481877e+07  \n",
      "longitude                    -1.179284e+08 -1.175546e+08  \n",
      "structuretaxvaluedollarcnt    2.263392e+05  9.164901e+06  \n",
      "structuredollarpersqft        1.135178e+02  1.444221e+03  \n",
      "y                             4.035895e-02  5.262999e+00   \n",
      "\n",
      "DFO TRAIN HEAD:\n",
      "          bathroomcnt  bedroomcnt  calculatedfinishedsquarefeet    fips  \\\n",
      "parcelid                                                                  \n",
      "12709284          2.0         3.0                        1864.0  6037.0   \n",
      "17135073          2.0         4.0                        1844.0  6111.0   \n",
      "11450752          2.0         3.0                        1198.0  6037.0   \n",
      "12887447          1.0         2.0                         775.0  6037.0   \n",
      "10935173          4.0         3.0                        2722.0  6037.0   \n",
      "\n",
      "            latitude    longitude  structuretaxvaluedollarcnt  \\\n",
      "parcelid                                                        \n",
      "12709284  33761779.0 -118409671.0                     79508.0   \n",
      "17135073  34230054.0 -119053514.0                    178666.0   \n",
      "11450752  33876320.0 -118318877.0                     36634.0   \n",
      "12887447  34055348.0 -117765318.0                     47000.0   \n",
      "10935173  34127486.0 -118347902.0                    792910.0   \n",
      "\n",
      "          structuredollarpersqft         y  \n",
      "parcelid                                    \n",
      "12709284               42.654506  0.154148  \n",
      "17135073               96.890456 -0.003112  \n",
      "11450752               30.579299  0.149855  \n",
      "12887447               60.645161  0.003864  \n",
      "10935173              291.296841  0.074136   \n",
      "\n",
      "2019-11-11 18:59:02 ending frame_splain ; time: 0:00:00.077452\n",
      "2019-11-11 18:59:02 starting frame_splain\n",
      "DFO TEST SHAPE:\n",
      "(13023, 9) \n",
      "\n",
      "DFO TEST INFO:\n",
      "<class 'pandas.core.frame.DataFrame'>\n",
      "Int64Index: 13023 entries, 13880661 to 17181171\n",
      "Data columns (total 9 columns):\n",
      "bathroomcnt                     13023 non-null float64\n",
      "bedroomcnt                      13023 non-null float64\n",
      "calculatedfinishedsquarefeet    13023 non-null float64\n",
      "fips                            13023 non-null category\n",
      "latitude                        13023 non-null float64\n",
      "longitude                       13023 non-null float64\n",
      "structuretaxvaluedollarcnt      13023 non-null float64\n",
      "structuredollarpersqft          13023 non-null float64\n",
      "y                               13023 non-null float64\n",
      "dtypes: category(1), float64(8)\n",
      "memory usage: 928.5 KB\n",
      "None \n",
      "\n",
      "DFO TEST DESCRIPTION:\n",
      "                                count          mean            std  \\\n",
      "bathroomcnt                   13023.0  2.297704e+00       1.012451   \n",
      "bedroomcnt                    13023.0  3.313676e+00       0.949243   \n",
      "calculatedfinishedsquarefeet  13023.0  1.921262e+03     997.098430   \n",
      "latitude                      13023.0  3.402320e+07  274094.951089   \n",
      "longitude                     13023.0 -1.181992e+08  362223.896537   \n",
      "structuretaxvaluedollarcnt    13023.0  1.944606e+05  236381.408234   \n",
      "structuredollarpersqft        13023.0  9.054610e+01      58.087168   \n",
      "y                             13023.0  1.982193e-02       0.171315   \n",
      "\n",
      "                                       min           25%           50%  \\\n",
      "bathroomcnt                   1.000000e+00  2.000000e+00  2.000000e+00   \n",
      "bedroomcnt                    1.000000e+00  3.000000e+00  3.000000e+00   \n",
      "calculatedfinishedsquarefeet  4.000000e+02  1.273000e+03  1.664000e+03   \n",
      "latitude                      3.334122e+07  3.382723e+07  3.402387e+07   \n",
      "longitude                    -1.194753e+08 -1.184045e+08 -1.181535e+08   \n",
      "structuretaxvaluedollarcnt    1.480000e+02  7.781850e+04  1.314840e+05   \n",
      "structuredollarpersqft        1.582809e-01  5.489186e+01  8.209847e+01   \n",
      "y                            -2.331727e+00 -2.361231e-02  7.223281e-03   \n",
      "\n",
      "                                       75%           max  \n",
      "bathroomcnt                   3.000000e+00  1.800000e+01  \n",
      "bedroomcnt                    4.000000e+00  1.400000e+01  \n",
      "calculatedfinishedsquarefeet  2.303000e+03  1.865400e+04  \n",
      "latitude                      3.418880e+07  3.481240e+07  \n",
      "longitude                    -1.179317e+08 -1.175554e+08  \n",
      "structuretaxvaluedollarcnt    2.254010e+05  6.932495e+06  \n",
      "structuredollarpersqft        1.138249e+02  1.386371e+03  \n",
      "y                             4.083018e-02  2.536896e+00   \n",
      "\n",
      "DFO TEST HEAD:\n",
      "          bathroomcnt  bedroomcnt  calculatedfinishedsquarefeet    fips  \\\n",
      "parcelid                                                                  \n",
      "13880661          3.0         3.0                        1526.0  6059.0   \n",
      "10827235          2.0         3.0                        1360.0  6037.0   \n",
      "12873120          2.0         4.0                        1400.0  6037.0   \n",
      "14152265          3.0         4.0                        2732.0  6059.0   \n",
      "12192258          2.0         2.0                        1248.0  6037.0   \n",
      "\n",
      "            latitude    longitude  structuretaxvaluedollarcnt  \\\n",
      "parcelid                                                        \n",
      "13880661  33831232.0 -117922645.0                     30398.0   \n",
      "10827235  34199081.0 -118432838.0                    135230.0   \n",
      "12873120  34069228.0 -117731880.0                    178422.0   \n",
      "14152265  33944225.0 -117926829.0                    167630.0   \n",
      "12192258  33980121.0 -118315598.0                     62802.0   \n",
      "\n",
      "          structuredollarpersqft         y  \n",
      "parcelid                                    \n",
      "13880661               19.920052  0.048389  \n",
      "10827235               99.433824  0.032907  \n",
      "12873120              127.444286 -0.043181  \n",
      "14152265               61.357980  0.007022  \n",
      "12192258               50.322115 -0.087248   \n",
      "\n",
      "2019-11-11 18:59:02 ending frame_splain ; time: 0:00:00.070161\n",
      "2019-11-11 18:59:02 ending split_dfo ; time: 0:00:00.160728\n"
     ]
    }
   ],
   "source": [
    "dfo = prep.split_dfo(\n",
    "    dfo, \n",
    "    train_pct=.7, \n",
    "    randomer=12345, \n",
    "    stratify=dfo.stratify, \n",
    "    drop_cols={'id'}, \n",
    "    splain=local_settings.splain\n",
    ")"
   ]
  },
  {
   "cell_type": "code",
   "execution_count": 31,
   "metadata": {},
   "outputs": [
    {
     "name": "stdout",
     "output_type": "stream",
     "text": [
      "2019-11-11 18:59:02 starting remove_cols\n",
      "2019-11-11 18:59:02 ending remove_cols ; time: 0:00:00.001778\n"
     ]
    }
   ],
   "source": [
    "dfo.train = remove_cols(dfo.train, [dfo.stratify])"
   ]
  },
  {
   "cell_type": "code",
   "execution_count": 32,
   "metadata": {},
   "outputs": [
    {
     "name": "stdout",
     "output_type": "stream",
     "text": [
      "2019-11-11 18:59:02 starting remove_cols\n",
      "2019-11-11 18:59:02 ending remove_cols ; time: 0:00:00.003433\n"
     ]
    }
   ],
   "source": [
    "dfo.test = remove_cols(dfo.test, [dfo.stratify])"
   ]
  },
  {
   "cell_type": "code",
   "execution_count": 33,
   "metadata": {},
   "outputs": [],
   "source": [
    "train = dfo.train\n",
    "test = dfo.test"
   ]
  },
  {
   "cell_type": "code",
   "execution_count": 34,
   "metadata": {},
   "outputs": [
    {
     "name": "stdout",
     "output_type": "stream",
     "text": [
      "<class 'pandas.core.frame.DataFrame'>\n",
      "Int64Index: 39066 entries, 12709284 to 11344051\n",
      "Data columns (total 8 columns):\n",
      "bathroomcnt                     39066 non-null float64\n",
      "bedroomcnt                      39066 non-null float64\n",
      "calculatedfinishedsquarefeet    39066 non-null float64\n",
      "latitude                        39066 non-null float64\n",
      "longitude                       39066 non-null float64\n",
      "structuretaxvaluedollarcnt      39066 non-null float64\n",
      "structuredollarpersqft          39066 non-null float64\n",
      "y                               39066 non-null float64\n",
      "dtypes: float64(8)\n",
      "memory usage: 2.7 MB\n"
     ]
    }
   ],
   "source": [
    "train.info()"
   ]
  },
  {
   "cell_type": "code",
   "execution_count": null,
   "metadata": {},
   "outputs": [],
   "source": []
  },
  {
   "cell_type": "code",
   "execution_count": null,
   "metadata": {},
   "outputs": [],
   "source": []
  },
  {
   "cell_type": "code",
   "execution_count": null,
   "metadata": {},
   "outputs": [],
   "source": []
  },
  {
   "cell_type": "code",
   "execution_count": null,
   "metadata": {},
   "outputs": [],
   "source": []
  },
  {
   "cell_type": "code",
   "execution_count": null,
   "metadata": {},
   "outputs": [],
   "source": []
  },
  {
   "cell_type": "code",
   "execution_count": null,
   "metadata": {},
   "outputs": [],
   "source": []
  },
  {
   "cell_type": "code",
   "execution_count": 35,
   "metadata": {},
   "outputs": [],
   "source": [
    "dfo.yhat = dfo.train.y.mean()\n",
    "dfo.ystd = dfo.train.y.std()"
   ]
  },
  {
   "cell_type": "code",
   "execution_count": 36,
   "metadata": {},
   "outputs": [
    {
     "data": {
      "text/plain": [
       "0.017724095219023978"
      ]
     },
     "execution_count": 36,
     "metadata": {},
     "output_type": "execute_result"
    }
   ],
   "source": [
    "dfo.yhat"
   ]
  },
  {
   "cell_type": "code",
   "execution_count": 37,
   "metadata": {},
   "outputs": [],
   "source": [
    "#dfo.df = df\n",
    "#dfo.df.info()"
   ]
  },
  {
   "cell_type": "code",
   "execution_count": 38,
   "metadata": {},
   "outputs": [],
   "source": [
    "dfo.train['yhat'] = dfo.yhat\n",
    "dfo.test['yhat'] = dfo.yhat"
   ]
  },
  {
   "cell_type": "code",
   "execution_count": null,
   "metadata": {},
   "outputs": [],
   "source": []
  },
  {
   "cell_type": "code",
   "execution_count": 39,
   "metadata": {},
   "outputs": [
    {
     "data": {
      "image/png": "[encoded data removed]",
      "text/plain": [
       "<Figure size 792x720 with 2 Axes>"
      ]
     },
     "metadata": {
      "needs_background": "light"
     },
     "output_type": "display_data"
    }
   ],
   "source": [
    "plt.figure(figsize=(11,10))\n",
    "cor = train.corr()\n",
    "plot = sns.heatmap(cor, annot=True, cmap=plt.cm.RdBu_r)\n"
   ]
  },
  {
   "cell_type": "code",
   "execution_count": 40,
   "metadata": {},
   "outputs": [
    {
     "data": {
      "text/html": [
       "<div>\n",
       "<style scoped>\n",
       "    .dataframe tbody tr th:only-of-type {\n",
       "        vertical-align: middle;\n",
       "    }\n",
       "\n",
       "    .dataframe tbody tr th {\n",
       "        vertical-align: top;\n",
       "    }\n",
       "\n",
       "    .dataframe thead th {\n",
       "        text-align: right;\n",
       "    }\n",
       "</style>\n",
       "<table border=\"1\" class=\"dataframe\">\n",
       "  <thead>\n",
       "    <tr style=\"text-align: right;\">\n",
       "      <th></th>\n",
       "      <th>bathroomcnt</th>\n",
       "      <th>bedroomcnt</th>\n",
       "      <th>calculatedfinishedsquarefeet</th>\n",
       "      <th>latitude</th>\n",
       "      <th>longitude</th>\n",
       "      <th>structuretaxvaluedollarcnt</th>\n",
       "      <th>structuredollarpersqft</th>\n",
       "      <th>y</th>\n",
       "      <th>yhat</th>\n",
       "    </tr>\n",
       "  </thead>\n",
       "  <tbody>\n",
       "    <tr>\n",
       "      <th>bathroomcnt</th>\n",
       "      <td>1.000000e+00</td>\n",
       "      <td>6.457939e-01</td>\n",
       "      <td>8.526870e-01</td>\n",
       "      <td>-1.716593e-02</td>\n",
       "      <td>-1.404653e-03</td>\n",
       "      <td>6.568747e-01</td>\n",
       "      <td>3.645294e-01</td>\n",
       "      <td>3.684265e-02</td>\n",
       "      <td>-1.955667e-15</td>\n",
       "    </tr>\n",
       "    <tr>\n",
       "      <th>bedroomcnt</th>\n",
       "      <td>6.457939e-01</td>\n",
       "      <td>1.000000e+00</td>\n",
       "      <td>6.328414e-01</td>\n",
       "      <td>1.606882e-02</td>\n",
       "      <td>-6.119322e-03</td>\n",
       "      <td>3.877744e-01</td>\n",
       "      <td>1.445020e-01</td>\n",
       "      <td>3.896952e-02</td>\n",
       "      <td>4.901697e-15</td>\n",
       "    </tr>\n",
       "    <tr>\n",
       "      <th>calculatedfinishedsquarefeet</th>\n",
       "      <td>8.526870e-01</td>\n",
       "      <td>6.328414e-01</td>\n",
       "      <td>1.000000e+00</td>\n",
       "      <td>-4.081998e-02</td>\n",
       "      <td>-5.382943e-03</td>\n",
       "      <td>7.584918e-01</td>\n",
       "      <td>3.530044e-01</td>\n",
       "      <td>3.915734e-02</td>\n",
       "      <td>-2.714617e-15</td>\n",
       "    </tr>\n",
       "    <tr>\n",
       "      <th>latitude</th>\n",
       "      <td>-1.716593e-02</td>\n",
       "      <td>1.606882e-02</td>\n",
       "      <td>-4.081998e-02</td>\n",
       "      <td>1.000000e+00</td>\n",
       "      <td>-5.480237e-01</td>\n",
       "      <td>-2.777790e-02</td>\n",
       "      <td>2.648211e-02</td>\n",
       "      <td>-1.875156e-02</td>\n",
       "      <td>7.639828e-16</td>\n",
       "    </tr>\n",
       "    <tr>\n",
       "      <th>longitude</th>\n",
       "      <td>-1.404653e-03</td>\n",
       "      <td>-6.119322e-03</td>\n",
       "      <td>-5.382943e-03</td>\n",
       "      <td>-5.480237e-01</td>\n",
       "      <td>1.000000e+00</td>\n",
       "      <td>-5.974980e-02</td>\n",
       "      <td>-1.266262e-01</td>\n",
       "      <td>2.774317e-02</td>\n",
       "      <td>-1.377479e-14</td>\n",
       "    </tr>\n",
       "    <tr>\n",
       "      <th>structuretaxvaluedollarcnt</th>\n",
       "      <td>6.568747e-01</td>\n",
       "      <td>3.877744e-01</td>\n",
       "      <td>7.584918e-01</td>\n",
       "      <td>-2.777790e-02</td>\n",
       "      <td>-5.974980e-02</td>\n",
       "      <td>1.000000e+00</td>\n",
       "      <td>7.235747e-01</td>\n",
       "      <td>2.755546e-03</td>\n",
       "      <td>-2.883147e-15</td>\n",
       "    </tr>\n",
       "    <tr>\n",
       "      <th>structuredollarpersqft</th>\n",
       "      <td>3.645294e-01</td>\n",
       "      <td>1.445020e-01</td>\n",
       "      <td>3.530044e-01</td>\n",
       "      <td>2.648211e-02</td>\n",
       "      <td>-1.266262e-01</td>\n",
       "      <td>7.235747e-01</td>\n",
       "      <td>1.000000e+00</td>\n",
       "      <td>-3.075148e-02</td>\n",
       "      <td>-1.177487e-14</td>\n",
       "    </tr>\n",
       "    <tr>\n",
       "      <th>y</th>\n",
       "      <td>3.684265e-02</td>\n",
       "      <td>3.896952e-02</td>\n",
       "      <td>3.915734e-02</td>\n",
       "      <td>-1.875156e-02</td>\n",
       "      <td>2.774317e-02</td>\n",
       "      <td>2.755546e-03</td>\n",
       "      <td>-3.075148e-02</td>\n",
       "      <td>1.000000e+00</td>\n",
       "      <td>-1.268924e-16</td>\n",
       "    </tr>\n",
       "    <tr>\n",
       "      <th>yhat</th>\n",
       "      <td>-1.955667e-15</td>\n",
       "      <td>4.901697e-15</td>\n",
       "      <td>-2.714617e-15</td>\n",
       "      <td>7.639828e-16</td>\n",
       "      <td>-1.377479e-14</td>\n",
       "      <td>-2.883147e-15</td>\n",
       "      <td>-1.177487e-14</td>\n",
       "      <td>-1.268924e-16</td>\n",
       "      <td>1.000000e+00</td>\n",
       "    </tr>\n",
       "  </tbody>\n",
       "</table>\n",
       "</div>"
      ],
      "text/plain": [
       "                               bathroomcnt    bedroomcnt  \\\n",
       "bathroomcnt                   1.000000e+00  6.457939e-01   \n",
       "bedroomcnt                    6.457939e-01  1.000000e+00   \n",
       "calculatedfinishedsquarefeet  8.526870e-01  6.328414e-01   \n",
       "latitude                     -1.716593e-02  1.606882e-02   \n",
       "longitude                    -1.404653e-03 -6.119322e-03   \n",
       "structuretaxvaluedollarcnt    6.568747e-01  3.877744e-01   \n",
       "structuredollarpersqft        3.645294e-01  1.445020e-01   \n",
       "y                             3.684265e-02  3.896952e-02   \n",
       "yhat                         -1.955667e-15  4.901697e-15   \n",
       "\n",
       "                              calculatedfinishedsquarefeet      latitude  \\\n",
       "bathroomcnt                                   8.526870e-01 -1.716593e-02   \n",
       "bedroomcnt                                    6.328414e-01  1.606882e-02   \n",
       "calculatedfinishedsquarefeet                  1.000000e+00 -4.081998e-02   \n",
       "latitude                                     -4.081998e-02  1.000000e+00   \n",
       "longitude                                    -5.382943e-03 -5.480237e-01   \n",
       "structuretaxvaluedollarcnt                    7.584918e-01 -2.777790e-02   \n",
       "structuredollarpersqft                        3.530044e-01  2.648211e-02   \n",
       "y                                             3.915734e-02 -1.875156e-02   \n",
       "yhat                                         -2.714617e-15  7.639828e-16   \n",
       "\n",
       "                                 longitude  structuretaxvaluedollarcnt  \\\n",
       "bathroomcnt                  -1.404653e-03                6.568747e-01   \n",
       "bedroomcnt                   -6.119322e-03                3.877744e-01   \n",
       "calculatedfinishedsquarefeet -5.382943e-03                7.584918e-01   \n",
       "latitude                     -5.480237e-01               -2.777790e-02   \n",
       "longitude                     1.000000e+00               -5.974980e-02   \n",
       "structuretaxvaluedollarcnt   -5.974980e-02                1.000000e+00   \n",
       "structuredollarpersqft       -1.266262e-01                7.235747e-01   \n",
       "y                             2.774317e-02                2.755546e-03   \n",
       "yhat                         -1.377479e-14               -2.883147e-15   \n",
       "\n",
       "                              structuredollarpersqft             y  \\\n",
       "bathroomcnt                             3.645294e-01  3.684265e-02   \n",
       "bedroomcnt                              1.445020e-01  3.896952e-02   \n",
       "calculatedfinishedsquarefeet            3.530044e-01  3.915734e-02   \n",
       "latitude                                2.648211e-02 -1.875156e-02   \n",
       "longitude                              -1.266262e-01  2.774317e-02   \n",
       "structuretaxvaluedollarcnt              7.235747e-01  2.755546e-03   \n",
       "structuredollarpersqft                  1.000000e+00 -3.075148e-02   \n",
       "y                                      -3.075148e-02  1.000000e+00   \n",
       "yhat                                   -1.177487e-14 -1.268924e-16   \n",
       "\n",
       "                                      yhat  \n",
       "bathroomcnt                  -1.955667e-15  \n",
       "bedroomcnt                    4.901697e-15  \n",
       "calculatedfinishedsquarefeet -2.714617e-15  \n",
       "latitude                      7.639828e-16  \n",
       "longitude                    -1.377479e-14  \n",
       "structuretaxvaluedollarcnt   -2.883147e-15  \n",
       "structuredollarpersqft       -1.177487e-14  \n",
       "y                            -1.268924e-16  \n",
       "yhat                          1.000000e+00  "
      ]
     },
     "execution_count": 40,
     "metadata": {},
     "output_type": "execute_result"
    }
   ],
   "source": [
    "cor"
   ]
  },
  {
   "cell_type": "code",
   "execution_count": 41,
   "metadata": {},
   "outputs": [
    {
     "name": "stdout",
     "output_type": "stream",
     "text": [
      "<class 'pandas.core.frame.DataFrame'>\n",
      "Int64Index: 39066 entries, 12709284 to 11344051\n",
      "Data columns (total 9 columns):\n",
      "bathroomcnt                     39066 non-null float64\n",
      "bedroomcnt                      39066 non-null float64\n",
      "calculatedfinishedsquarefeet    39066 non-null float64\n",
      "latitude                        39066 non-null float64\n",
      "longitude                       39066 non-null float64\n",
      "structuretaxvaluedollarcnt      39066 non-null float64\n",
      "structuredollarpersqft          39066 non-null float64\n",
      "y                               39066 non-null float64\n",
      "yhat                            39066 non-null float64\n",
      "dtypes: float64(9)\n",
      "memory usage: 3.0 MB\n"
     ]
    }
   ],
   "source": [
    "train.info()"
   ]
  },
  {
   "cell_type": "code",
   "execution_count": 42,
   "metadata": {},
   "outputs": [],
   "source": [
    "# sns.pairplot(df)"
   ]
  },
  {
   "cell_type": "code",
   "execution_count": 43,
   "metadata": {},
   "outputs": [
    {
     "name": "stdout",
     "output_type": "stream",
     "text": [
      "2019-11-11 18:59:03 starting xy_df\n",
      "2019-11-11 18:59:03 starting frame_splain\n",
      "2019-11-11 18:59:03 ending frame_splain ; time: 0:00:00.000554\n",
      "2019-11-11 18:59:03 starting frame_splain\n",
      "2019-11-11 18:59:03 ending frame_splain ; time: 0:00:00.000125\n",
      "2019-11-11 18:59:03 ending xy_df ; time: 0:00:00.005195\n"
     ]
    }
   ],
   "source": [
    "dfo.X_train, dfo.y_train = prep.xy_df(dfo.train, 'y')"
   ]
  },
  {
   "cell_type": "code",
   "execution_count": 44,
   "metadata": {},
   "outputs": [
    {
     "name": "stdout",
     "output_type": "stream",
     "text": [
      "<class 'pandas.core.frame.DataFrame'>\n",
      "Int64Index: 39066 entries, 12709284 to 11344051\n",
      "Data columns (total 8 columns):\n",
      "bathroomcnt                     39066 non-null float64\n",
      "bedroomcnt                      39066 non-null float64\n",
      "calculatedfinishedsquarefeet    39066 non-null float64\n",
      "latitude                        39066 non-null float64\n",
      "longitude                       39066 non-null float64\n",
      "structuretaxvaluedollarcnt      39066 non-null float64\n",
      "structuredollarpersqft          39066 non-null float64\n",
      "yhat                            39066 non-null float64\n",
      "dtypes: float64(8)\n",
      "memory usage: 2.7 MB\n"
     ]
    }
   ],
   "source": [
    "X = dfo.X_train\n",
    "X.info()"
   ]
  },
  {
   "cell_type": "code",
   "execution_count": 45,
   "metadata": {},
   "outputs": [],
   "source": [
    "y = dfo.y_train"
   ]
  },
  {
   "cell_type": "code",
   "execution_count": 46,
   "metadata": {},
   "outputs": [
    {
     "name": "stdout",
     "output_type": "stream",
     "text": [
      "<class 'pandas.core.frame.DataFrame'>\n",
      "Int64Index: 39066 entries, 12709284 to 11344051\n",
      "Data columns (total 1 columns):\n",
      "y    39066 non-null float64\n",
      "dtypes: float64(1)\n",
      "memory usage: 610.4 KB\n"
     ]
    }
   ],
   "source": [
    "y.info()"
   ]
  },
  {
   "cell_type": "code",
   "execution_count": 47,
   "metadata": {},
   "outputs": [
    {
     "data": {
      "text/html": [
       "<div>\n",
       "<style scoped>\n",
       "    .dataframe tbody tr th:only-of-type {\n",
       "        vertical-align: middle;\n",
       "    }\n",
       "\n",
       "    .dataframe tbody tr th {\n",
       "        vertical-align: top;\n",
       "    }\n",
       "\n",
       "    .dataframe thead th {\n",
       "        text-align: right;\n",
       "    }\n",
       "</style>\n",
       "<table border=\"1\" class=\"dataframe\">\n",
       "  <thead>\n",
       "    <tr style=\"text-align: right;\">\n",
       "      <th></th>\n",
       "      <th>y</th>\n",
       "    </tr>\n",
       "    <tr>\n",
       "      <th>parcelid</th>\n",
       "      <th></th>\n",
       "    </tr>\n",
       "  </thead>\n",
       "  <tbody>\n",
       "    <tr>\n",
       "      <th>12709284</th>\n",
       "      <td>0.154148</td>\n",
       "    </tr>\n",
       "    <tr>\n",
       "      <th>17135073</th>\n",
       "      <td>-0.003112</td>\n",
       "    </tr>\n",
       "    <tr>\n",
       "      <th>11450752</th>\n",
       "      <td>0.149855</td>\n",
       "    </tr>\n",
       "    <tr>\n",
       "      <th>12887447</th>\n",
       "      <td>0.003864</td>\n",
       "    </tr>\n",
       "    <tr>\n",
       "      <th>10935173</th>\n",
       "      <td>0.074136</td>\n",
       "    </tr>\n",
       "  </tbody>\n",
       "</table>\n",
       "</div>"
      ],
      "text/plain": [
       "                 y\n",
       "parcelid          \n",
       "12709284  0.154148\n",
       "17135073 -0.003112\n",
       "11450752  0.149855\n",
       "12887447  0.003864\n",
       "10935173  0.074136"
      ]
     },
     "execution_count": 47,
     "metadata": {},
     "output_type": "execute_result"
    }
   ],
   "source": [
    "y.head()"
   ]
  },
  {
   "cell_type": "code",
   "execution_count": 48,
   "metadata": {},
   "outputs": [
    {
     "name": "stdout",
     "output_type": "stream",
     "text": [
      "2019-11-11 18:59:03 starting xy_df\n",
      "2019-11-11 18:59:03 starting frame_splain\n",
      "2019-11-11 18:59:03 ending frame_splain ; time: 0:00:00.000869\n",
      "2019-11-11 18:59:03 starting frame_splain\n",
      "2019-11-11 18:59:03 ending frame_splain ; time: 0:00:00.000085\n",
      "2019-11-11 18:59:03 ending xy_df ; time: 0:00:00.005078\n"
     ]
    }
   ],
   "source": [
    "dfo.X_test, dfo.y_test = prep.xy_df(dfo.test, 'y')"
   ]
  },
  {
   "cell_type": "code",
   "execution_count": 49,
   "metadata": {},
   "outputs": [],
   "source": [
    "X_test = dfo.X_test"
   ]
  },
  {
   "cell_type": "code",
   "execution_count": 50,
   "metadata": {},
   "outputs": [],
   "source": [
    "y_test = dfo.y_test"
   ]
  },
  {
   "cell_type": "code",
   "execution_count": null,
   "metadata": {},
   "outputs": [],
   "source": []
  },
  {
   "cell_type": "code",
   "execution_count": null,
   "metadata": {},
   "outputs": [],
   "source": []
  },
  {
   "cell_type": "code",
   "execution_count": null,
   "metadata": {},
   "outputs": [],
   "source": []
  },
  {
   "cell_type": "code",
   "execution_count": null,
   "metadata": {},
   "outputs": [],
   "source": []
  },
  {
   "cell_type": "code",
   "execution_count": null,
   "metadata": {},
   "outputs": [],
   "source": []
  },
  {
   "cell_type": "code",
   "execution_count": 51,
   "metadata": {},
   "outputs": [],
   "source": [
    "cluster_cols = ['longitude', 'latitude', 'structuredollarpersqft']"
   ]
  },
  {
   "cell_type": "code",
   "execution_count": 52,
   "metadata": {},
   "outputs": [],
   "source": [
    "cluster_col = ['cluster']"
   ]
  },
  {
   "cell_type": "code",
   "execution_count": 53,
   "metadata": {},
   "outputs": [],
   "source": [
    "ignore_cols = ['structuretaxvaluedollarcnt']"
   ]
  },
  {
   "cell_type": "code",
   "execution_count": 54,
   "metadata": {},
   "outputs": [],
   "source": [
    "non_cluster_cols = [col for col in X.columns if col not in cluster_cols + ignore_cols + cluster_col]"
   ]
  },
  {
   "cell_type": "code",
   "execution_count": 55,
   "metadata": {},
   "outputs": [
    {
     "data": {
      "text/plain": [
       "['bathroomcnt', 'bedroomcnt', 'calculatedfinishedsquarefeet', 'yhat']"
      ]
     },
     "execution_count": 55,
     "metadata": {},
     "output_type": "execute_result"
    }
   ],
   "source": [
    "non_cluster_cols"
   ]
  },
  {
   "cell_type": "code",
   "execution_count": 56,
   "metadata": {},
   "outputs": [],
   "source": [
    "Xc = X[cluster_cols]"
   ]
  },
  {
   "cell_type": "code",
   "execution_count": 57,
   "metadata": {},
   "outputs": [
    {
     "name": "stdout",
     "output_type": "stream",
     "text": [
      "<class 'pandas.core.frame.DataFrame'>\n",
      "Int64Index: 39066 entries, 12709284 to 11344051\n",
      "Data columns (total 3 columns):\n",
      "longitude                 39066 non-null float64\n",
      "latitude                  39066 non-null float64\n",
      "structuredollarpersqft    39066 non-null float64\n",
      "dtypes: float64(3)\n",
      "memory usage: 1.2 MB\n"
     ]
    }
   ],
   "source": [
    "Xc.info()"
   ]
  },
  {
   "cell_type": "code",
   "execution_count": 58,
   "metadata": {},
   "outputs": [
    {
     "data": {
      "text/html": [
       "<div>\n",
       "<style scoped>\n",
       "    .dataframe tbody tr th:only-of-type {\n",
       "        vertical-align: middle;\n",
       "    }\n",
       "\n",
       "    .dataframe tbody tr th {\n",
       "        vertical-align: top;\n",
       "    }\n",
       "\n",
       "    .dataframe thead th {\n",
       "        text-align: right;\n",
       "    }\n",
       "</style>\n",
       "<table border=\"1\" class=\"dataframe\">\n",
       "  <thead>\n",
       "    <tr style=\"text-align: right;\">\n",
       "      <th></th>\n",
       "      <th>longitude</th>\n",
       "      <th>latitude</th>\n",
       "      <th>structuredollarpersqft</th>\n",
       "    </tr>\n",
       "    <tr>\n",
       "      <th>parcelid</th>\n",
       "      <th></th>\n",
       "      <th></th>\n",
       "      <th></th>\n",
       "    </tr>\n",
       "  </thead>\n",
       "  <tbody>\n",
       "    <tr>\n",
       "      <th>12709284</th>\n",
       "      <td>-118409671.0</td>\n",
       "      <td>33761779.0</td>\n",
       "      <td>42.654506</td>\n",
       "    </tr>\n",
       "    <tr>\n",
       "      <th>17135073</th>\n",
       "      <td>-119053514.0</td>\n",
       "      <td>34230054.0</td>\n",
       "      <td>96.890456</td>\n",
       "    </tr>\n",
       "    <tr>\n",
       "      <th>11450752</th>\n",
       "      <td>-118318877.0</td>\n",
       "      <td>33876320.0</td>\n",
       "      <td>30.579299</td>\n",
       "    </tr>\n",
       "    <tr>\n",
       "      <th>12887447</th>\n",
       "      <td>-117765318.0</td>\n",
       "      <td>34055348.0</td>\n",
       "      <td>60.645161</td>\n",
       "    </tr>\n",
       "    <tr>\n",
       "      <th>10935173</th>\n",
       "      <td>-118347902.0</td>\n",
       "      <td>34127486.0</td>\n",
       "      <td>291.296841</td>\n",
       "    </tr>\n",
       "  </tbody>\n",
       "</table>\n",
       "</div>"
      ],
      "text/plain": [
       "            longitude    latitude  structuredollarpersqft\n",
       "parcelid                                                 \n",
       "12709284 -118409671.0  33761779.0               42.654506\n",
       "17135073 -119053514.0  34230054.0               96.890456\n",
       "11450752 -118318877.0  33876320.0               30.579299\n",
       "12887447 -117765318.0  34055348.0               60.645161\n",
       "10935173 -118347902.0  34127486.0              291.296841"
      ]
     },
     "execution_count": 58,
     "metadata": {},
     "output_type": "execute_result"
    }
   ],
   "source": [
    "Xc.head()"
   ]
  },
  {
   "cell_type": "code",
   "execution_count": 59,
   "metadata": {},
   "outputs": [
    {
     "name": "stdout",
     "output_type": "stream",
     "text": [
      "<class 'pandas.core.frame.DataFrame'>\n",
      "Int64Index: 39066 entries, 12709284 to 11344051\n",
      "Data columns (total 4 columns):\n",
      "bathroomcnt                     39066 non-null float64\n",
      "bedroomcnt                      39066 non-null float64\n",
      "calculatedfinishedsquarefeet    39066 non-null float64\n",
      "yhat                            39066 non-null float64\n",
      "dtypes: float64(4)\n",
      "memory usage: 1.5 MB\n"
     ]
    }
   ],
   "source": [
    "Xnc = X[non_cluster_cols]\n",
    "Xnc.info()"
   ]
  },
  {
   "cell_type": "code",
   "execution_count": 60,
   "metadata": {},
   "outputs": [
    {
     "data": {
      "text/html": [
       "<div>\n",
       "<style scoped>\n",
       "    .dataframe tbody tr th:only-of-type {\n",
       "        vertical-align: middle;\n",
       "    }\n",
       "\n",
       "    .dataframe tbody tr th {\n",
       "        vertical-align: top;\n",
       "    }\n",
       "\n",
       "    .dataframe thead th {\n",
       "        text-align: right;\n",
       "    }\n",
       "</style>\n",
       "<table border=\"1\" class=\"dataframe\">\n",
       "  <thead>\n",
       "    <tr style=\"text-align: right;\">\n",
       "      <th></th>\n",
       "      <th>bathroomcnt</th>\n",
       "      <th>bedroomcnt</th>\n",
       "      <th>calculatedfinishedsquarefeet</th>\n",
       "      <th>yhat</th>\n",
       "    </tr>\n",
       "    <tr>\n",
       "      <th>parcelid</th>\n",
       "      <th></th>\n",
       "      <th></th>\n",
       "      <th></th>\n",
       "      <th></th>\n",
       "    </tr>\n",
       "  </thead>\n",
       "  <tbody>\n",
       "    <tr>\n",
       "      <th>12709284</th>\n",
       "      <td>2.0</td>\n",
       "      <td>3.0</td>\n",
       "      <td>1864.0</td>\n",
       "      <td>0.017724</td>\n",
       "    </tr>\n",
       "    <tr>\n",
       "      <th>17135073</th>\n",
       "      <td>2.0</td>\n",
       "      <td>4.0</td>\n",
       "      <td>1844.0</td>\n",
       "      <td>0.017724</td>\n",
       "    </tr>\n",
       "    <tr>\n",
       "      <th>11450752</th>\n",
       "      <td>2.0</td>\n",
       "      <td>3.0</td>\n",
       "      <td>1198.0</td>\n",
       "      <td>0.017724</td>\n",
       "    </tr>\n",
       "    <tr>\n",
       "      <th>12887447</th>\n",
       "      <td>1.0</td>\n",
       "      <td>2.0</td>\n",
       "      <td>775.0</td>\n",
       "      <td>0.017724</td>\n",
       "    </tr>\n",
       "    <tr>\n",
       "      <th>10935173</th>\n",
       "      <td>4.0</td>\n",
       "      <td>3.0</td>\n",
       "      <td>2722.0</td>\n",
       "      <td>0.017724</td>\n",
       "    </tr>\n",
       "  </tbody>\n",
       "</table>\n",
       "</div>"
      ],
      "text/plain": [
       "          bathroomcnt  bedroomcnt  calculatedfinishedsquarefeet      yhat\n",
       "parcelid                                                                 \n",
       "12709284          2.0         3.0                        1864.0  0.017724\n",
       "17135073          2.0         4.0                        1844.0  0.017724\n",
       "11450752          2.0         3.0                        1198.0  0.017724\n",
       "12887447          1.0         2.0                         775.0  0.017724\n",
       "10935173          4.0         3.0                        2722.0  0.017724"
      ]
     },
     "execution_count": 60,
     "metadata": {},
     "output_type": "execute_result"
    }
   ],
   "source": [
    "Xnc.head()"
   ]
  },
  {
   "cell_type": "code",
   "execution_count": 61,
   "metadata": {},
   "outputs": [],
   "source": [
    "Xc_scaler = MinMaxScaler(copy=True, feature_range=(0,1)).fit(Xc)"
   ]
  },
  {
   "cell_type": "code",
   "execution_count": 62,
   "metadata": {},
   "outputs": [],
   "source": [
    "Xc_scaled = pd.DataFrame(Xc_scaler.transform(Xc), columns=Xc.columns.values).set_index([Xc.index.values])"
   ]
  },
  {
   "cell_type": "code",
   "execution_count": 63,
   "metadata": {},
   "outputs": [
    {
     "name": "stdout",
     "output_type": "stream",
     "text": [
      "<class 'pandas.core.frame.DataFrame'>\n",
      "Int64Index: 39066 entries, 12709284 to 11344051\n",
      "Data columns (total 3 columns):\n",
      "longitude                 39066 non-null float64\n",
      "latitude                  39066 non-null float64\n",
      "structuredollarpersqft    39066 non-null float64\n",
      "dtypes: float64(3)\n",
      "memory usage: 1.2 MB\n"
     ]
    }
   ],
   "source": [
    "Xc_scaled.info()"
   ]
  },
  {
   "cell_type": "code",
   "execution_count": 64,
   "metadata": {},
   "outputs": [],
   "source": [
    "Xc_scaled['sdpsf_score'] = Xc_scaled.structuredollarpersqft * 15"
   ]
  },
  {
   "cell_type": "code",
   "execution_count": 65,
   "metadata": {},
   "outputs": [],
   "source": [
    "Xc_structuredollarpersqft = Xc_scaled[['structuredollarpersqft']]\n",
    "Xc_scaled = Xc_scaled.drop(columns='structuredollarpersqft')"
   ]
  },
  {
   "cell_type": "code",
   "execution_count": null,
   "metadata": {},
   "outputs": [],
   "source": []
  },
  {
   "cell_type": "code",
   "execution_count": null,
   "metadata": {},
   "outputs": [],
   "source": []
  },
  {
   "cell_type": "code",
   "execution_count": null,
   "metadata": {},
   "outputs": [],
   "source": []
  },
  {
   "cell_type": "code",
   "execution_count": null,
   "metadata": {},
   "outputs": [],
   "source": []
  },
  {
   "cell_type": "code",
   "execution_count": null,
   "metadata": {},
   "outputs": [],
   "source": []
  },
  {
   "cell_type": "code",
   "execution_count": null,
   "metadata": {},
   "outputs": [],
   "source": []
  },
  {
   "cell_type": "code",
   "execution_count": null,
   "metadata": {},
   "outputs": [],
   "source": []
  },
  {
   "cell_type": "code",
   "execution_count": null,
   "metadata": {},
   "outputs": [],
   "source": []
  },
  {
   "cell_type": "code",
   "execution_count": null,
   "metadata": {},
   "outputs": [],
   "source": []
  },
  {
   "cell_type": "code",
   "execution_count": null,
   "metadata": {},
   "outputs": [],
   "source": []
  },
  {
   "cell_type": "code",
   "execution_count": null,
   "metadata": {},
   "outputs": [],
   "source": []
  },
  {
   "cell_type": "code",
   "execution_count": null,
   "metadata": {},
   "outputs": [],
   "source": []
  },
  {
   "cell_type": "code",
   "execution_count": null,
   "metadata": {},
   "outputs": [],
   "source": []
  },
  {
   "cell_type": "code",
   "execution_count": null,
   "metadata": {},
   "outputs": [],
   "source": []
  },
  {
   "cell_type": "code",
   "execution_count": null,
   "metadata": {},
   "outputs": [],
   "source": []
  },
  {
   "cell_type": "code",
   "execution_count": 66,
   "metadata": {},
   "outputs": [],
   "source": [
    "# cf.compare_ks(Xc_scaled, min_k=4, max_k=18)"
   ]
  },
  {
   "cell_type": "code",
   "execution_count": 67,
   "metadata": {},
   "outputs": [
    {
     "name": "stdout",
     "output_type": "stream",
     "text": [
      "2019-11-11 18:59:03 starting set_kmeans_clusters\n",
      "2019-11-11 18:59:05 ending set_kmeans_clusters ; time: 0:00:01.748161\n"
     ]
    },
    {
     "data": {
      "text/html": [
       "<div>\n",
       "<style scoped>\n",
       "    .dataframe tbody tr th:only-of-type {\n",
       "        vertical-align: middle;\n",
       "    }\n",
       "\n",
       "    .dataframe tbody tr th {\n",
       "        vertical-align: top;\n",
       "    }\n",
       "\n",
       "    .dataframe thead th {\n",
       "        text-align: right;\n",
       "    }\n",
       "</style>\n",
       "<table border=\"1\" class=\"dataframe\">\n",
       "  <thead>\n",
       "    <tr style=\"text-align: right;\">\n",
       "      <th></th>\n",
       "      <th>longitude</th>\n",
       "      <th>latitude</th>\n",
       "      <th>sdpsf_score</th>\n",
       "      <th>cluster</th>\n",
       "    </tr>\n",
       "  </thead>\n",
       "  <tbody>\n",
       "    <tr>\n",
       "      <th>12709284</th>\n",
       "      <td>0.554850</td>\n",
       "      <td>0.284924</td>\n",
       "      <td>0.442618</td>\n",
       "      <td>3</td>\n",
       "    </tr>\n",
       "    <tr>\n",
       "      <th>17135073</th>\n",
       "      <td>0.219651</td>\n",
       "      <td>0.601722</td>\n",
       "      <td>1.005940</td>\n",
       "      <td>7</td>\n",
       "    </tr>\n",
       "    <tr>\n",
       "      <th>11450752</th>\n",
       "      <td>0.602119</td>\n",
       "      <td>0.362413</td>\n",
       "      <td>0.317198</td>\n",
       "      <td>3</td>\n",
       "    </tr>\n",
       "    <tr>\n",
       "      <th>12887447</th>\n",
       "      <td>0.890314</td>\n",
       "      <td>0.483530</td>\n",
       "      <td>0.629478</td>\n",
       "      <td>0</td>\n",
       "    </tr>\n",
       "    <tr>\n",
       "      <th>10935173</th>\n",
       "      <td>0.587008</td>\n",
       "      <td>0.532333</td>\n",
       "      <td>3.025143</td>\n",
       "      <td>2</td>\n",
       "    </tr>\n",
       "    <tr>\n",
       "      <th>12173882</th>\n",
       "      <td>0.716412</td>\n",
       "      <td>0.561346</td>\n",
       "      <td>0.915112</td>\n",
       "      <td>7</td>\n",
       "    </tr>\n",
       "    <tr>\n",
       "      <th>12723102</th>\n",
       "      <td>0.715062</td>\n",
       "      <td>0.396322</td>\n",
       "      <td>0.785834</td>\n",
       "      <td>0</td>\n",
       "    </tr>\n",
       "    <tr>\n",
       "      <th>12241721</th>\n",
       "      <td>0.617050</td>\n",
       "      <td>0.397116</td>\n",
       "      <td>0.221414</td>\n",
       "      <td>3</td>\n",
       "    </tr>\n",
       "    <tr>\n",
       "      <th>11111466</th>\n",
       "      <td>0.487865</td>\n",
       "      <td>0.749444</td>\n",
       "      <td>1.199100</td>\n",
       "      <td>6</td>\n",
       "    </tr>\n",
       "    <tr>\n",
       "      <th>14296641</th>\n",
       "      <td>0.832970</td>\n",
       "      <td>0.192293</td>\n",
       "      <td>0.445037</td>\n",
       "      <td>3</td>\n",
       "    </tr>\n",
       "    <tr>\n",
       "      <th>10819684</th>\n",
       "      <td>0.501005</td>\n",
       "      <td>0.585867</td>\n",
       "      <td>0.298013</td>\n",
       "      <td>3</td>\n",
       "    </tr>\n",
       "    <tr>\n",
       "      <th>10719126</th>\n",
       "      <td>0.441337</td>\n",
       "      <td>0.585424</td>\n",
       "      <td>0.588792</td>\n",
       "      <td>7</td>\n",
       "    </tr>\n",
       "    <tr>\n",
       "      <th>13854499</th>\n",
       "      <td>0.797490</td>\n",
       "      <td>0.394423</td>\n",
       "      <td>0.506513</td>\n",
       "      <td>3</td>\n",
       "    </tr>\n",
       "    <tr>\n",
       "      <th>11821491</th>\n",
       "      <td>0.677496</td>\n",
       "      <td>0.483589</td>\n",
       "      <td>1.179871</td>\n",
       "      <td>1</td>\n",
       "    </tr>\n",
       "    <tr>\n",
       "      <th>14122618</th>\n",
       "      <td>0.749139</td>\n",
       "      <td>0.333969</td>\n",
       "      <td>0.188543</td>\n",
       "      <td>3</td>\n",
       "    </tr>\n",
       "  </tbody>\n",
       "</table>\n",
       "</div>"
      ],
      "text/plain": [
       "          longitude  latitude  sdpsf_score  cluster\n",
       "12709284   0.554850  0.284924     0.442618        3\n",
       "17135073   0.219651  0.601722     1.005940        7\n",
       "11450752   0.602119  0.362413     0.317198        3\n",
       "12887447   0.890314  0.483530     0.629478        0\n",
       "10935173   0.587008  0.532333     3.025143        2\n",
       "12173882   0.716412  0.561346     0.915112        7\n",
       "12723102   0.715062  0.396322     0.785834        0\n",
       "12241721   0.617050  0.397116     0.221414        3\n",
       "11111466   0.487865  0.749444     1.199100        6\n",
       "14296641   0.832970  0.192293     0.445037        3\n",
       "10819684   0.501005  0.585867     0.298013        3\n",
       "10719126   0.441337  0.585424     0.588792        7\n",
       "13854499   0.797490  0.394423     0.506513        3\n",
       "11821491   0.677496  0.483589     1.179871        1\n",
       "14122618   0.749139  0.333969     0.188543        3"
      ]
     },
     "execution_count": 67,
     "metadata": {},
     "output_type": "execute_result"
    }
   ],
   "source": [
    "Xc_scaled, Xc_kmeans = cf.set_kmeans_clusters(Xc_scaled, n_clusters=8, random_state=dfo.randomer)\n",
    "Xc_scaled.head(15)"
   ]
  },
  {
   "cell_type": "code",
   "execution_count": 68,
   "metadata": {},
   "outputs": [],
   "source": [
    "@timeifdebug\n",
    "def features_2d(df, c_col=None, **kwargs):\n",
    "    \n",
    "    cols = [col for col in df.columns if col != c_col]\n",
    "    n = len(cols)\n",
    "    grid = []\n",
    "    for x in range(0, n-1):\n",
    "        for y in range(x+1, n):\n",
    "            line = [cols[x], cols[y]]\n",
    "            grid.append(line)\n",
    "    \n",
    "    return_df = pd.DataFrame(grid, columns=['x_col', 'y_col'])\n",
    "    if c_col:\n",
    "        return_df['c_col'] = c_col\n",
    "    return return_df\n",
    "\n"
   ]
  },
  {
   "cell_type": "code",
   "execution_count": 69,
   "metadata": {},
   "outputs": [],
   "source": [
    "@timeifdebug\n",
    "def features_3d(df, c_col=None, **kwargs):\n",
    "    \n",
    "    cols = [col for col in df.columns if col != c_col]\n",
    "    n = len(cols)\n",
    "    grid = []\n",
    "    for x in range(0, n-2):\n",
    "        for y in range(x+1, n-1):\n",
    "            for z in range(y+1, n):\n",
    "                line = [cols[x], cols[y], cols[z]]\n",
    "                grid.append(line)\n",
    "    \n",
    "\n",
    "    return_df = pd.DataFrame(grid, columns=['x_col', 'y_col', 'z_col'])\n",
    "    if c_col:\n",
    "        return_df['c_col'] = c_col\n",
    "    return return_df\n",
    "\n"
   ]
  },
  {
   "cell_type": "code",
   "execution_count": 70,
   "metadata": {},
   "outputs": [],
   "source": [
    "# features_2d(Xc_scaled)"
   ]
  },
  {
   "cell_type": "code",
   "execution_count": 71,
   "metadata": {},
   "outputs": [
    {
     "name": "stdout",
     "output_type": "stream",
     "text": [
      "2019-11-11 18:59:05 starting features_2d\n",
      "2019-11-11 18:59:05 ending features_2d ; time: 0:00:00.002464\n"
     ]
    },
    {
     "data": {
      "text/html": [
       "<div>\n",
       "<style scoped>\n",
       "    .dataframe tbody tr th:only-of-type {\n",
       "        vertical-align: middle;\n",
       "    }\n",
       "\n",
       "    .dataframe tbody tr th {\n",
       "        vertical-align: top;\n",
       "    }\n",
       "\n",
       "    .dataframe thead th {\n",
       "        text-align: right;\n",
       "    }\n",
       "</style>\n",
       "<table border=\"1\" class=\"dataframe\">\n",
       "  <thead>\n",
       "    <tr style=\"text-align: right;\">\n",
       "      <th></th>\n",
       "      <th>x_col</th>\n",
       "      <th>y_col</th>\n",
       "      <th>c_col</th>\n",
       "    </tr>\n",
       "  </thead>\n",
       "  <tbody>\n",
       "    <tr>\n",
       "      <th>0</th>\n",
       "      <td>longitude</td>\n",
       "      <td>latitude</td>\n",
       "      <td>cluster</td>\n",
       "    </tr>\n",
       "    <tr>\n",
       "      <th>1</th>\n",
       "      <td>longitude</td>\n",
       "      <td>sdpsf_score</td>\n",
       "      <td>cluster</td>\n",
       "    </tr>\n",
       "    <tr>\n",
       "      <th>2</th>\n",
       "      <td>latitude</td>\n",
       "      <td>sdpsf_score</td>\n",
       "      <td>cluster</td>\n",
       "    </tr>\n",
       "  </tbody>\n",
       "</table>\n",
       "</div>"
      ],
      "text/plain": [
       "       x_col        y_col    c_col\n",
       "0  longitude     latitude  cluster\n",
       "1  longitude  sdpsf_score  cluster\n",
       "2   latitude  sdpsf_score  cluster"
      ]
     },
     "execution_count": 71,
     "metadata": {},
     "output_type": "execute_result"
    }
   ],
   "source": [
    "features_cl = features_2d(Xc_scaled, c_col=cluster_col[0])\n",
    "features_cl"
   ]
  },
  {
   "cell_type": "code",
   "execution_count": 72,
   "metadata": {},
   "outputs": [],
   "source": [
    "# features_3d(Xc_scaled, c_col=)"
   ]
  },
  {
   "cell_type": "code",
   "execution_count": 73,
   "metadata": {},
   "outputs": [],
   "source": [
    "# features_3d(X)"
   ]
  },
  {
   "cell_type": "code",
   "execution_count": 74,
   "metadata": {},
   "outputs": [],
   "source": [
    "@timeifdebug\n",
    "def plot_features_2D(feature_df, df, x_col='x_col', y_col='y_col', c_col='c_col'):\n",
    "    x_vals = feature_df[x_col]\n",
    "    y_vals = feature_df[y_col]\n",
    "    c_vals = feature_df[c_col]\n",
    "    n = len(x_vals)\n",
    "    for idx in range(0,n):\n",
    "        plt.figure(figsize=(8,7))\n",
    "        cf.plot_2d_clusters(\n",
    "            df, \n",
    "            x_col=x_vals[idx], \n",
    "            y_col=y_vals[idx], \n",
    "            c_col=c_vals[idx], \n",
    "            alpha=.5, \n",
    "#             marker='x', \n",
    "#             s=250, \n",
    "#             c='black'\n",
    "        )\n",
    "        plt.show()"
   ]
  },
  {
   "cell_type": "code",
   "execution_count": 75,
   "metadata": {},
   "outputs": [
    {
     "name": "stdout",
     "output_type": "stream",
     "text": [
      "2019-11-11 18:59:05 starting plot_features_2D\n",
      "2019-11-11 18:59:05 starting plot_2d_clusters\n",
      "2019-11-11 18:59:06 ending plot_2d_clusters ; time: 0:00:00.733009\n"
     ]
    },
    {
     "data": {
      "image/png": "[encoded data removed]",
      "text/plain": [
       "<Figure size 576x504 with 1 Axes>"
      ]
     },
     "metadata": {
      "needs_background": "light"
     },
     "output_type": "display_data"
    },
    {
     "name": "stdout",
     "output_type": "stream",
     "text": [
      "2019-11-11 18:59:16 starting plot_2d_clusters\n",
      "2019-11-11 18:59:17 ending plot_2d_clusters ; time: 0:00:00.720070\n"
     ]
    },
    {
     "data": {
      "image/png": "[encoded data removed]",
      "text/plain": [
       "<Figure size 576x504 with 1 Axes>"
      ]
     },
     "metadata": {
      "needs_background": "light"
     },
     "output_type": "display_data"
    },
    {
     "name": "stdout",
     "output_type": "stream",
     "text": [
      "2019-11-11 18:59:25 starting plot_2d_clusters\n",
      "2019-11-11 18:59:26 ending plot_2d_clusters ; time: 0:00:00.681882\n"
     ]
    },
    {
     "data": {
      "image/png": "[encoded data removed]",
      "text/plain": [
       "<Figure size 576x504 with 1 Axes>"
      ]
     },
     "metadata": {
      "needs_background": "light"
     },
     "output_type": "display_data"
    },
    {
     "name": "stdout",
     "output_type": "stream",
     "text": [
      "2019-11-11 18:59:31 ending plot_features_2D ; time: 0:00:25.761785\n"
     ]
    }
   ],
   "source": [
    "plot_features_2D(features_cl, Xc_scaled)"
   ]
  },
  {
   "cell_type": "code",
   "execution_count": 76,
   "metadata": {},
   "outputs": [
    {
     "name": "stdout",
     "output_type": "stream",
     "text": [
      "2019-11-11 18:59:31 starting df_join_xy\n",
      "2019-11-11 18:59:31 starting frame_splain\n",
      "2019-11-11 18:59:31 ending frame_splain ; time: 0:00:00.000147\n",
      "2019-11-11 18:59:31 ending df_join_xy ; time: 0:00:00.011109\n"
     ]
    }
   ],
   "source": [
    "cluster_y = prep.df_join_xy(Xc_scaled[[cluster_col[0]]], y) "
   ]
  },
  {
   "cell_type": "code",
   "execution_count": 77,
   "metadata": {},
   "outputs": [
    {
     "name": "stdout",
     "output_type": "stream",
     "text": [
      "2019-11-11 18:59:31 starting frame_splain\n",
      "DATAFRAME SHAPE:\n",
      "(39066, 2) \n",
      "\n",
      "DATAFRAME INFO:\n",
      "<class 'pandas.core.frame.DataFrame'>\n",
      "Int64Index: 39066 entries, 12709284 to 11344051\n",
      "Data columns (total 2 columns):\n",
      "cluster    39066 non-null int32\n",
      "y          39066 non-null float64\n",
      "dtypes: float64(1), int32(1)\n",
      "memory usage: 2.0 MB\n",
      "None \n",
      "\n",
      "DATAFRAME DESCRIPTION:\n",
      "           count      mean       std      min       25%       50%       75%  \\\n",
      "cluster  39066.0  3.117903  2.652862  0.00000  0.000000  3.000000  6.000000   \n",
      "y        39066.0  0.017724  0.177520 -4.65542 -0.024943  0.006854  0.040359   \n",
      "\n",
      "              max  \n",
      "cluster  7.000000  \n",
      "y        5.262999   \n",
      "\n",
      "DATAFRAME HEAD:\n",
      "          cluster         y\n",
      "12709284        3  0.154148\n",
      "17135073        7 -0.003112\n",
      "11450752        3  0.149855\n",
      "12887447        0  0.003864\n",
      "10935173        2  0.074136 \n",
      "\n",
      "2019-11-11 18:59:31 ending frame_splain ; time: 0:00:00.027022\n"
     ]
    }
   ],
   "source": [
    "frame_splain(cluster_y, splain=True)"
   ]
  },
  {
   "cell_type": "code",
   "execution_count": 78,
   "metadata": {},
   "outputs": [],
   "source": [
    "c_col = cluster_col[0]\n",
    "y_col = 'y'"
   ]
  },
  {
   "cell_type": "code",
   "execution_count": 79,
   "metadata": {},
   "outputs": [
    {
     "name": "stdout",
     "output_type": "stream",
     "text": [
      "2019-11-11 18:59:31 starting df_join_xy\n",
      "2019-11-11 18:59:31 starting frame_splain\n",
      "2019-11-11 18:59:31 ending frame_splain ; time: 0:00:00.007976\n",
      "2019-11-11 18:59:31 ending df_join_xy ; time: 0:00:00.016520\n"
     ]
    },
    {
     "data": {
      "text/html": [
       "<div>\n",
       "<style scoped>\n",
       "    .dataframe tbody tr th:only-of-type {\n",
       "        vertical-align: middle;\n",
       "    }\n",
       "\n",
       "    .dataframe tbody tr th {\n",
       "        vertical-align: top;\n",
       "    }\n",
       "\n",
       "    .dataframe thead th {\n",
       "        text-align: right;\n",
       "    }\n",
       "</style>\n",
       "<table border=\"1\" class=\"dataframe\">\n",
       "  <thead>\n",
       "    <tr style=\"text-align: right;\">\n",
       "      <th></th>\n",
       "      <th>bathroomcnt</th>\n",
       "      <th>bedroomcnt</th>\n",
       "      <th>calculatedfinishedsquarefeet</th>\n",
       "      <th>yhat</th>\n",
       "      <th>cluster</th>\n",
       "    </tr>\n",
       "    <tr>\n",
       "      <th>parcelid</th>\n",
       "      <th></th>\n",
       "      <th></th>\n",
       "      <th></th>\n",
       "      <th></th>\n",
       "      <th></th>\n",
       "    </tr>\n",
       "  </thead>\n",
       "  <tbody>\n",
       "    <tr>\n",
       "      <th>12709284</th>\n",
       "      <td>2.0</td>\n",
       "      <td>3.0</td>\n",
       "      <td>1864.0</td>\n",
       "      <td>0.017724</td>\n",
       "      <td>3</td>\n",
       "    </tr>\n",
       "    <tr>\n",
       "      <th>17135073</th>\n",
       "      <td>2.0</td>\n",
       "      <td>4.0</td>\n",
       "      <td>1844.0</td>\n",
       "      <td>0.017724</td>\n",
       "      <td>7</td>\n",
       "    </tr>\n",
       "    <tr>\n",
       "      <th>11450752</th>\n",
       "      <td>2.0</td>\n",
       "      <td>3.0</td>\n",
       "      <td>1198.0</td>\n",
       "      <td>0.017724</td>\n",
       "      <td>3</td>\n",
       "    </tr>\n",
       "    <tr>\n",
       "      <th>12887447</th>\n",
       "      <td>1.0</td>\n",
       "      <td>2.0</td>\n",
       "      <td>775.0</td>\n",
       "      <td>0.017724</td>\n",
       "      <td>0</td>\n",
       "    </tr>\n",
       "    <tr>\n",
       "      <th>10935173</th>\n",
       "      <td>4.0</td>\n",
       "      <td>3.0</td>\n",
       "      <td>2722.0</td>\n",
       "      <td>0.017724</td>\n",
       "      <td>2</td>\n",
       "    </tr>\n",
       "  </tbody>\n",
       "</table>\n",
       "</div>"
      ],
      "text/plain": [
       "          bathroomcnt  bedroomcnt  calculatedfinishedsquarefeet      yhat  \\\n",
       "parcelid                                                                    \n",
       "12709284          2.0         3.0                        1864.0  0.017724   \n",
       "17135073          2.0         4.0                        1844.0  0.017724   \n",
       "11450752          2.0         3.0                        1198.0  0.017724   \n",
       "12887447          1.0         2.0                         775.0  0.017724   \n",
       "10935173          4.0         3.0                        2722.0  0.017724   \n",
       "\n",
       "          cluster  \n",
       "parcelid           \n",
       "12709284        3  \n",
       "17135073        7  \n",
       "11450752        3  \n",
       "12887447        0  \n",
       "10935173        2  "
      ]
     },
     "execution_count": 79,
     "metadata": {},
     "output_type": "execute_result"
    }
   ],
   "source": [
    "XncC = prep.df_join_xy(Xnc, Xc_scaled['cluster']) \n",
    "XncC.head()"
   ]
  },
  {
   "cell_type": "code",
   "execution_count": 80,
   "metadata": {},
   "outputs": [],
   "source": [
    "cluster_stats = cluster_y.groupby(c_col).y.agg(['count', 'mean', 'std']).reset_index()"
   ]
  },
  {
   "cell_type": "code",
   "execution_count": 81,
   "metadata": {},
   "outputs": [
    {
     "data": {
      "text/html": [
       "<div>\n",
       "<style scoped>\n",
       "    .dataframe tbody tr th:only-of-type {\n",
       "        vertical-align: middle;\n",
       "    }\n",
       "\n",
       "    .dataframe tbody tr th {\n",
       "        vertical-align: top;\n",
       "    }\n",
       "\n",
       "    .dataframe thead th {\n",
       "        text-align: right;\n",
       "    }\n",
       "</style>\n",
       "<table border=\"1\" class=\"dataframe\">\n",
       "  <thead>\n",
       "    <tr style=\"text-align: right;\">\n",
       "      <th></th>\n",
       "      <th>cluster</th>\n",
       "      <th>count</th>\n",
       "      <th>mean</th>\n",
       "      <th>std</th>\n",
       "    </tr>\n",
       "  </thead>\n",
       "  <tbody>\n",
       "    <tr>\n",
       "      <th>0</th>\n",
       "      <td>0</td>\n",
       "      <td>9903</td>\n",
       "      <td>0.020616</td>\n",
       "      <td>0.168071</td>\n",
       "    </tr>\n",
       "    <tr>\n",
       "      <th>1</th>\n",
       "      <td>1</td>\n",
       "      <td>5729</td>\n",
       "      <td>0.017810</td>\n",
       "      <td>0.187241</td>\n",
       "    </tr>\n",
       "    <tr>\n",
       "      <th>2</th>\n",
       "      <td>2</td>\n",
       "      <td>358</td>\n",
       "      <td>0.009353</td>\n",
       "      <td>0.233194</td>\n",
       "    </tr>\n",
       "    <tr>\n",
       "      <th>3</th>\n",
       "      <td>3</td>\n",
       "      <td>8667</td>\n",
       "      <td>0.025534</td>\n",
       "      <td>0.201871</td>\n",
       "    </tr>\n",
       "    <tr>\n",
       "      <th>4</th>\n",
       "      <td>4</td>\n",
       "      <td>2160</td>\n",
       "      <td>0.011250</td>\n",
       "      <td>0.188869</td>\n",
       "    </tr>\n",
       "    <tr>\n",
       "      <th>5</th>\n",
       "      <td>5</td>\n",
       "      <td>50</td>\n",
       "      <td>-0.077525</td>\n",
       "      <td>0.365626</td>\n",
       "    </tr>\n",
       "    <tr>\n",
       "      <th>6</th>\n",
       "      <td>6</td>\n",
       "      <td>4925</td>\n",
       "      <td>0.008740</td>\n",
       "      <td>0.150717</td>\n",
       "    </tr>\n",
       "    <tr>\n",
       "      <th>7</th>\n",
       "      <td>7</td>\n",
       "      <td>7274</td>\n",
       "      <td>0.013484</td>\n",
       "      <td>0.157689</td>\n",
       "    </tr>\n",
       "  </tbody>\n",
       "</table>\n",
       "</div>"
      ],
      "text/plain": [
       "   cluster  count      mean       std\n",
       "0        0   9903  0.020616  0.168071\n",
       "1        1   5729  0.017810  0.187241\n",
       "2        2    358  0.009353  0.233194\n",
       "3        3   8667  0.025534  0.201871\n",
       "4        4   2160  0.011250  0.188869\n",
       "5        5     50 -0.077525  0.365626\n",
       "6        6   4925  0.008740  0.150717\n",
       "7        7   7274  0.013484  0.157689"
      ]
     },
     "execution_count": 81,
     "metadata": {},
     "output_type": "execute_result"
    }
   ],
   "source": [
    "cluster_stats"
   ]
  },
  {
   "cell_type": "code",
   "execution_count": 82,
   "metadata": {},
   "outputs": [
    {
     "data": {
      "text/html": [
       "<div>\n",
       "<style scoped>\n",
       "    .dataframe tbody tr th:only-of-type {\n",
       "        vertical-align: middle;\n",
       "    }\n",
       "\n",
       "    .dataframe tbody tr th {\n",
       "        vertical-align: top;\n",
       "    }\n",
       "\n",
       "    .dataframe thead th {\n",
       "        text-align: right;\n",
       "    }\n",
       "</style>\n",
       "<table border=\"1\" class=\"dataframe\">\n",
       "  <thead>\n",
       "    <tr style=\"text-align: right;\">\n",
       "      <th></th>\n",
       "      <th>y</th>\n",
       "    </tr>\n",
       "  </thead>\n",
       "  <tbody>\n",
       "    <tr>\n",
       "      <th>count</th>\n",
       "      <td>39066.000000</td>\n",
       "    </tr>\n",
       "    <tr>\n",
       "      <th>mean</th>\n",
       "      <td>0.017724</td>\n",
       "    </tr>\n",
       "    <tr>\n",
       "      <th>std</th>\n",
       "      <td>0.177520</td>\n",
       "    </tr>\n",
       "  </tbody>\n",
       "</table>\n",
       "</div>"
      ],
      "text/plain": [
       "                  y\n",
       "count  39066.000000\n",
       "mean       0.017724\n",
       "std        0.177520"
      ]
     },
     "execution_count": 82,
     "metadata": {},
     "output_type": "execute_result"
    }
   ],
   "source": [
    "df_stats = y.agg(['count', 'mean', 'std'])\n",
    "df_stats"
   ]
  },
  {
   "cell_type": "code",
   "execution_count": 83,
   "metadata": {},
   "outputs": [],
   "source": [
    "@timeifdebug\n",
    "def bool_ttest_single_uniq(df, target_column='target', check_column='check', alpha=.05, **kwargs):\n",
    "\n",
    "    p_list = []\n",
    "    uniq_vals = sorted(df[check_column].unique())\n",
    "    print(uniq_vals)\n",
    "    #tgt_name = target_column\n",
    "    #chk_name = check_column\n",
    "    for val in uniq_vals:\n",
    "        is_true = df[df[check_column] == val]\n",
    "        num_true = len(is_true)\n",
    "        y_if_true = is_true[target_column].mean()\n",
    "        std_if_true = is_true[target_column].std()\n",
    "        y_mean = df[target_column].mean()\n",
    "        y_std = df[target_column].std()\n",
    "        t, p = stats.ttest_1samp(is_true[target_column], df[target_column].mean())\n",
    "        p_list.append([check_column, val, num_true, t, p, p<alpha, y_if_true, y_mean, std_if_true, y_std])\n",
    "    df_p = (pd.DataFrame(\n",
    "        p_list, \n",
    "        columns=[\n",
    "            'column','value','count','t_stat','p_value','is_sig',\n",
    "            target_column+'_if_value',target_column+'_mean',\n",
    "            'std_if_value','std_all'])\n",
    "        .set_index(['value'])\n",
    "            .sort_values(by='p_value'))\n",
    "    return df_p\n"
   ]
  },
  {
   "cell_type": "code",
   "execution_count": 84,
   "metadata": {},
   "outputs": [
    {
     "name": "stdout",
     "output_type": "stream",
     "text": [
      "2019-11-11 18:59:31 starting bool_ttest_single_uniq\n",
      "[0, 1, 2, 3, 4, 5, 6, 7]\n",
      "2019-11-11 18:59:31 ending bool_ttest_single_uniq ; time: 0:00:00.059912\n"
     ]
    }
   ],
   "source": [
    "tc = bool_ttest_single_uniq(cluster_y, target_column='y', check_column=c_col, alpha=.05, debug=True)"
   ]
  },
  {
   "cell_type": "code",
   "execution_count": 85,
   "metadata": {},
   "outputs": [
    {
     "data": {
      "text/html": [
       "<div>\n",
       "<style scoped>\n",
       "    .dataframe tbody tr th:only-of-type {\n",
       "        vertical-align: middle;\n",
       "    }\n",
       "\n",
       "    .dataframe tbody tr th {\n",
       "        vertical-align: top;\n",
       "    }\n",
       "\n",
       "    .dataframe thead th {\n",
       "        text-align: right;\n",
       "    }\n",
       "</style>\n",
       "<table border=\"1\" class=\"dataframe\">\n",
       "  <thead>\n",
       "    <tr style=\"text-align: right;\">\n",
       "      <th></th>\n",
       "      <th>column</th>\n",
       "      <th>count</th>\n",
       "      <th>t_stat</th>\n",
       "      <th>p_value</th>\n",
       "      <th>is_sig</th>\n",
       "      <th>y_if_value</th>\n",
       "      <th>y_mean</th>\n",
       "      <th>std_if_value</th>\n",
       "      <th>std_all</th>\n",
       "    </tr>\n",
       "    <tr>\n",
       "      <th>value</th>\n",
       "      <th></th>\n",
       "      <th></th>\n",
       "      <th></th>\n",
       "      <th></th>\n",
       "      <th></th>\n",
       "      <th></th>\n",
       "      <th></th>\n",
       "      <th></th>\n",
       "      <th></th>\n",
       "    </tr>\n",
       "  </thead>\n",
       "  <tbody>\n",
       "    <tr>\n",
       "      <th>6</th>\n",
       "      <td>cluster</td>\n",
       "      <td>4925</td>\n",
       "      <td>-4.183089</td>\n",
       "      <td>0.000029</td>\n",
       "      <td>True</td>\n",
       "      <td>0.008740</td>\n",
       "      <td>0.017724</td>\n",
       "      <td>0.150717</td>\n",
       "      <td>0.17752</td>\n",
       "    </tr>\n",
       "    <tr>\n",
       "      <th>3</th>\n",
       "      <td>cluster</td>\n",
       "      <td>8667</td>\n",
       "      <td>3.601901</td>\n",
       "      <td>0.000318</td>\n",
       "      <td>True</td>\n",
       "      <td>0.025534</td>\n",
       "      <td>0.017724</td>\n",
       "      <td>0.201871</td>\n",
       "      <td>0.17752</td>\n",
       "    </tr>\n",
       "    <tr>\n",
       "      <th>7</th>\n",
       "      <td>cluster</td>\n",
       "      <td>7274</td>\n",
       "      <td>-2.293179</td>\n",
       "      <td>0.021866</td>\n",
       "      <td>True</td>\n",
       "      <td>0.013484</td>\n",
       "      <td>0.017724</td>\n",
       "      <td>0.157689</td>\n",
       "      <td>0.17752</td>\n",
       "    </tr>\n",
       "    <tr>\n",
       "      <th>5</th>\n",
       "      <td>cluster</td>\n",
       "      <td>50</td>\n",
       "      <td>-1.842076</td>\n",
       "      <td>0.071520</td>\n",
       "      <td>False</td>\n",
       "      <td>-0.077525</td>\n",
       "      <td>0.017724</td>\n",
       "      <td>0.365626</td>\n",
       "      <td>0.17752</td>\n",
       "    </tr>\n",
       "    <tr>\n",
       "      <th>0</th>\n",
       "      <td>cluster</td>\n",
       "      <td>9903</td>\n",
       "      <td>1.712514</td>\n",
       "      <td>0.086833</td>\n",
       "      <td>False</td>\n",
       "      <td>0.020616</td>\n",
       "      <td>0.017724</td>\n",
       "      <td>0.168071</td>\n",
       "      <td>0.17752</td>\n",
       "    </tr>\n",
       "    <tr>\n",
       "      <th>4</th>\n",
       "      <td>cluster</td>\n",
       "      <td>2160</td>\n",
       "      <td>-1.593032</td>\n",
       "      <td>0.111299</td>\n",
       "      <td>False</td>\n",
       "      <td>0.011250</td>\n",
       "      <td>0.017724</td>\n",
       "      <td>0.188869</td>\n",
       "      <td>0.17752</td>\n",
       "    </tr>\n",
       "    <tr>\n",
       "      <th>2</th>\n",
       "      <td>cluster</td>\n",
       "      <td>358</td>\n",
       "      <td>-0.679250</td>\n",
       "      <td>0.497420</td>\n",
       "      <td>False</td>\n",
       "      <td>0.009353</td>\n",
       "      <td>0.017724</td>\n",
       "      <td>0.233194</td>\n",
       "      <td>0.17752</td>\n",
       "    </tr>\n",
       "    <tr>\n",
       "      <th>1</th>\n",
       "      <td>cluster</td>\n",
       "      <td>5729</td>\n",
       "      <td>0.034836</td>\n",
       "      <td>0.972212</td>\n",
       "      <td>False</td>\n",
       "      <td>0.017810</td>\n",
       "      <td>0.017724</td>\n",
       "      <td>0.187241</td>\n",
       "      <td>0.17752</td>\n",
       "    </tr>\n",
       "  </tbody>\n",
       "</table>\n",
       "</div>"
      ],
      "text/plain": [
       "        column  count    t_stat   p_value  is_sig  y_if_value    y_mean  \\\n",
       "value                                                                     \n",
       "6      cluster   4925 -4.183089  0.000029    True    0.008740  0.017724   \n",
       "3      cluster   8667  3.601901  0.000318    True    0.025534  0.017724   \n",
       "7      cluster   7274 -2.293179  0.021866    True    0.013484  0.017724   \n",
       "5      cluster     50 -1.842076  0.071520   False   -0.077525  0.017724   \n",
       "0      cluster   9903  1.712514  0.086833   False    0.020616  0.017724   \n",
       "4      cluster   2160 -1.593032  0.111299   False    0.011250  0.017724   \n",
       "2      cluster    358 -0.679250  0.497420   False    0.009353  0.017724   \n",
       "1      cluster   5729  0.034836  0.972212   False    0.017810  0.017724   \n",
       "\n",
       "       std_if_value  std_all  \n",
       "value                         \n",
       "6          0.150717  0.17752  \n",
       "3          0.201871  0.17752  \n",
       "7          0.157689  0.17752  \n",
       "5          0.365626  0.17752  \n",
       "0          0.168071  0.17752  \n",
       "4          0.188869  0.17752  \n",
       "2          0.233194  0.17752  \n",
       "1          0.187241  0.17752  "
      ]
     },
     "execution_count": 85,
     "metadata": {},
     "output_type": "execute_result"
    }
   ],
   "source": [
    "tc"
   ]
  },
  {
   "cell_type": "code",
   "execution_count": 86,
   "metadata": {},
   "outputs": [
    {
     "data": {
      "text/plain": [
       "[3, 6, 7]"
      ]
     },
     "execution_count": 86,
     "metadata": {},
     "output_type": "execute_result"
    }
   ],
   "source": [
    "tctrue = sorted(tc[tc.is_sig].index)\n",
    "tctrue"
   ]
  },
  {
   "cell_type": "code",
   "execution_count": 87,
   "metadata": {},
   "outputs": [
    {
     "data": {
      "text/html": [
       "<div>\n",
       "<style scoped>\n",
       "    .dataframe tbody tr th:only-of-type {\n",
       "        vertical-align: middle;\n",
       "    }\n",
       "\n",
       "    .dataframe tbody tr th {\n",
       "        vertical-align: top;\n",
       "    }\n",
       "\n",
       "    .dataframe thead th {\n",
       "        text-align: right;\n",
       "    }\n",
       "</style>\n",
       "<table border=\"1\" class=\"dataframe\">\n",
       "  <thead>\n",
       "    <tr style=\"text-align: right;\">\n",
       "      <th></th>\n",
       "      <th>bathroomcnt</th>\n",
       "      <th>bedroomcnt</th>\n",
       "      <th>calculatedfinishedsquarefeet</th>\n",
       "      <th>yhat</th>\n",
       "      <th>cluster</th>\n",
       "      <th>c3</th>\n",
       "      <th>c6</th>\n",
       "      <th>c7</th>\n",
       "    </tr>\n",
       "    <tr>\n",
       "      <th>parcelid</th>\n",
       "      <th></th>\n",
       "      <th></th>\n",
       "      <th></th>\n",
       "      <th></th>\n",
       "      <th></th>\n",
       "      <th></th>\n",
       "      <th></th>\n",
       "      <th></th>\n",
       "    </tr>\n",
       "  </thead>\n",
       "  <tbody>\n",
       "    <tr>\n",
       "      <th>12709284</th>\n",
       "      <td>2.0</td>\n",
       "      <td>3.0</td>\n",
       "      <td>1864.0</td>\n",
       "      <td>0.017724</td>\n",
       "      <td>3</td>\n",
       "      <td>True</td>\n",
       "      <td>False</td>\n",
       "      <td>False</td>\n",
       "    </tr>\n",
       "    <tr>\n",
       "      <th>17135073</th>\n",
       "      <td>2.0</td>\n",
       "      <td>4.0</td>\n",
       "      <td>1844.0</td>\n",
       "      <td>0.017724</td>\n",
       "      <td>7</td>\n",
       "      <td>False</td>\n",
       "      <td>False</td>\n",
       "      <td>True</td>\n",
       "    </tr>\n",
       "    <tr>\n",
       "      <th>11450752</th>\n",
       "      <td>2.0</td>\n",
       "      <td>3.0</td>\n",
       "      <td>1198.0</td>\n",
       "      <td>0.017724</td>\n",
       "      <td>3</td>\n",
       "      <td>True</td>\n",
       "      <td>False</td>\n",
       "      <td>False</td>\n",
       "    </tr>\n",
       "    <tr>\n",
       "      <th>12887447</th>\n",
       "      <td>1.0</td>\n",
       "      <td>2.0</td>\n",
       "      <td>775.0</td>\n",
       "      <td>0.017724</td>\n",
       "      <td>0</td>\n",
       "      <td>False</td>\n",
       "      <td>False</td>\n",
       "      <td>False</td>\n",
       "    </tr>\n",
       "    <tr>\n",
       "      <th>10935173</th>\n",
       "      <td>4.0</td>\n",
       "      <td>3.0</td>\n",
       "      <td>2722.0</td>\n",
       "      <td>0.017724</td>\n",
       "      <td>2</td>\n",
       "      <td>False</td>\n",
       "      <td>False</td>\n",
       "      <td>False</td>\n",
       "    </tr>\n",
       "  </tbody>\n",
       "</table>\n",
       "</div>"
      ],
      "text/plain": [
       "          bathroomcnt  bedroomcnt  calculatedfinishedsquarefeet      yhat  \\\n",
       "parcelid                                                                    \n",
       "12709284          2.0         3.0                        1864.0  0.017724   \n",
       "17135073          2.0         4.0                        1844.0  0.017724   \n",
       "11450752          2.0         3.0                        1198.0  0.017724   \n",
       "12887447          1.0         2.0                         775.0  0.017724   \n",
       "10935173          4.0         3.0                        2722.0  0.017724   \n",
       "\n",
       "          cluster     c3     c6     c7  \n",
       "parcelid                                \n",
       "12709284        3   True  False  False  \n",
       "17135073        7  False  False   True  \n",
       "11450752        3   True  False  False  \n",
       "12887447        0  False  False  False  \n",
       "10935173        2  False  False  False  "
      ]
     },
     "execution_count": 87,
     "metadata": {},
     "output_type": "execute_result"
    }
   ],
   "source": [
    "for tcval in tctrue:\n",
    "    XncC['c' + str(tcval)] = XncC.cluster == tcval\n",
    "    \n",
    "XncC.head()"
   ]
  },
  {
   "cell_type": "code",
   "execution_count": 88,
   "metadata": {},
   "outputs": [
    {
     "data": {
      "text/html": [
       "<div>\n",
       "<style scoped>\n",
       "    .dataframe tbody tr th:only-of-type {\n",
       "        vertical-align: middle;\n",
       "    }\n",
       "\n",
       "    .dataframe tbody tr th {\n",
       "        vertical-align: top;\n",
       "    }\n",
       "\n",
       "    .dataframe thead th {\n",
       "        text-align: right;\n",
       "    }\n",
       "</style>\n",
       "<table border=\"1\" class=\"dataframe\">\n",
       "  <thead>\n",
       "    <tr style=\"text-align: right;\">\n",
       "      <th></th>\n",
       "      <th>bathroomcnt</th>\n",
       "      <th>bedroomcnt</th>\n",
       "      <th>calculatedfinishedsquarefeet</th>\n",
       "      <th>yhat</th>\n",
       "      <th>c3</th>\n",
       "      <th>c6</th>\n",
       "      <th>c7</th>\n",
       "    </tr>\n",
       "    <tr>\n",
       "      <th>parcelid</th>\n",
       "      <th></th>\n",
       "      <th></th>\n",
       "      <th></th>\n",
       "      <th></th>\n",
       "      <th></th>\n",
       "      <th></th>\n",
       "      <th></th>\n",
       "    </tr>\n",
       "  </thead>\n",
       "  <tbody>\n",
       "    <tr>\n",
       "      <th>12709284</th>\n",
       "      <td>2.0</td>\n",
       "      <td>3.0</td>\n",
       "      <td>1864.0</td>\n",
       "      <td>0.017724</td>\n",
       "      <td>True</td>\n",
       "      <td>False</td>\n",
       "      <td>False</td>\n",
       "    </tr>\n",
       "    <tr>\n",
       "      <th>17135073</th>\n",
       "      <td>2.0</td>\n",
       "      <td>4.0</td>\n",
       "      <td>1844.0</td>\n",
       "      <td>0.017724</td>\n",
       "      <td>False</td>\n",
       "      <td>False</td>\n",
       "      <td>True</td>\n",
       "    </tr>\n",
       "    <tr>\n",
       "      <th>11450752</th>\n",
       "      <td>2.0</td>\n",
       "      <td>3.0</td>\n",
       "      <td>1198.0</td>\n",
       "      <td>0.017724</td>\n",
       "      <td>True</td>\n",
       "      <td>False</td>\n",
       "      <td>False</td>\n",
       "    </tr>\n",
       "    <tr>\n",
       "      <th>12887447</th>\n",
       "      <td>1.0</td>\n",
       "      <td>2.0</td>\n",
       "      <td>775.0</td>\n",
       "      <td>0.017724</td>\n",
       "      <td>False</td>\n",
       "      <td>False</td>\n",
       "      <td>False</td>\n",
       "    </tr>\n",
       "    <tr>\n",
       "      <th>10935173</th>\n",
       "      <td>4.0</td>\n",
       "      <td>3.0</td>\n",
       "      <td>2722.0</td>\n",
       "      <td>0.017724</td>\n",
       "      <td>False</td>\n",
       "      <td>False</td>\n",
       "      <td>False</td>\n",
       "    </tr>\n",
       "    <tr>\n",
       "      <th>12173882</th>\n",
       "      <td>1.0</td>\n",
       "      <td>2.0</td>\n",
       "      <td>1586.0</td>\n",
       "      <td>0.017724</td>\n",
       "      <td>False</td>\n",
       "      <td>False</td>\n",
       "      <td>True</td>\n",
       "    </tr>\n",
       "    <tr>\n",
       "      <th>12723102</th>\n",
       "      <td>3.0</td>\n",
       "      <td>4.0</td>\n",
       "      <td>1877.0</td>\n",
       "      <td>0.017724</td>\n",
       "      <td>False</td>\n",
       "      <td>False</td>\n",
       "      <td>False</td>\n",
       "    </tr>\n",
       "    <tr>\n",
       "      <th>12241721</th>\n",
       "      <td>1.0</td>\n",
       "      <td>2.0</td>\n",
       "      <td>1114.0</td>\n",
       "      <td>0.017724</td>\n",
       "      <td>True</td>\n",
       "      <td>False</td>\n",
       "      <td>False</td>\n",
       "    </tr>\n",
       "    <tr>\n",
       "      <th>11111466</th>\n",
       "      <td>2.0</td>\n",
       "      <td>4.0</td>\n",
       "      <td>1624.0</td>\n",
       "      <td>0.017724</td>\n",
       "      <td>False</td>\n",
       "      <td>True</td>\n",
       "      <td>False</td>\n",
       "    </tr>\n",
       "    <tr>\n",
       "      <th>14296641</th>\n",
       "      <td>4.5</td>\n",
       "      <td>4.0</td>\n",
       "      <td>4042.0</td>\n",
       "      <td>0.017724</td>\n",
       "      <td>True</td>\n",
       "      <td>False</td>\n",
       "      <td>False</td>\n",
       "    </tr>\n",
       "    <tr>\n",
       "      <th>10819684</th>\n",
       "      <td>1.0</td>\n",
       "      <td>2.0</td>\n",
       "      <td>799.0</td>\n",
       "      <td>0.017724</td>\n",
       "      <td>True</td>\n",
       "      <td>False</td>\n",
       "      <td>False</td>\n",
       "    </tr>\n",
       "    <tr>\n",
       "      <th>10719126</th>\n",
       "      <td>3.0</td>\n",
       "      <td>4.0</td>\n",
       "      <td>2224.0</td>\n",
       "      <td>0.017724</td>\n",
       "      <td>False</td>\n",
       "      <td>False</td>\n",
       "      <td>True</td>\n",
       "    </tr>\n",
       "    <tr>\n",
       "      <th>13854499</th>\n",
       "      <td>2.0</td>\n",
       "      <td>4.0</td>\n",
       "      <td>1399.0</td>\n",
       "      <td>0.017724</td>\n",
       "      <td>True</td>\n",
       "      <td>False</td>\n",
       "      <td>False</td>\n",
       "    </tr>\n",
       "    <tr>\n",
       "      <th>11821491</th>\n",
       "      <td>1.0</td>\n",
       "      <td>1.0</td>\n",
       "      <td>528.0</td>\n",
       "      <td>0.017724</td>\n",
       "      <td>False</td>\n",
       "      <td>False</td>\n",
       "      <td>False</td>\n",
       "    </tr>\n",
       "    <tr>\n",
       "      <th>14122618</th>\n",
       "      <td>1.5</td>\n",
       "      <td>4.0</td>\n",
       "      <td>1314.0</td>\n",
       "      <td>0.017724</td>\n",
       "      <td>True</td>\n",
       "      <td>False</td>\n",
       "      <td>False</td>\n",
       "    </tr>\n",
       "  </tbody>\n",
       "</table>\n",
       "</div>"
      ],
      "text/plain": [
       "          bathroomcnt  bedroomcnt  calculatedfinishedsquarefeet      yhat  \\\n",
       "parcelid                                                                    \n",
       "12709284          2.0         3.0                        1864.0  0.017724   \n",
       "17135073          2.0         4.0                        1844.0  0.017724   \n",
       "11450752          2.0         3.0                        1198.0  0.017724   \n",
       "12887447          1.0         2.0                         775.0  0.017724   \n",
       "10935173          4.0         3.0                        2722.0  0.017724   \n",
       "12173882          1.0         2.0                        1586.0  0.017724   \n",
       "12723102          3.0         4.0                        1877.0  0.017724   \n",
       "12241721          1.0         2.0                        1114.0  0.017724   \n",
       "11111466          2.0         4.0                        1624.0  0.017724   \n",
       "14296641          4.5         4.0                        4042.0  0.017724   \n",
       "10819684          1.0         2.0                         799.0  0.017724   \n",
       "10719126          3.0         4.0                        2224.0  0.017724   \n",
       "13854499          2.0         4.0                        1399.0  0.017724   \n",
       "11821491          1.0         1.0                         528.0  0.017724   \n",
       "14122618          1.5         4.0                        1314.0  0.017724   \n",
       "\n",
       "             c3     c6     c7  \n",
       "parcelid                       \n",
       "12709284   True  False  False  \n",
       "17135073  False  False   True  \n",
       "11450752   True  False  False  \n",
       "12887447  False  False  False  \n",
       "10935173  False  False  False  \n",
       "12173882  False  False   True  \n",
       "12723102  False  False  False  \n",
       "12241721   True  False  False  \n",
       "11111466  False   True  False  \n",
       "14296641   True  False  False  \n",
       "10819684   True  False  False  \n",
       "10719126  False  False   True  \n",
       "13854499   True  False  False  \n",
       "11821491  False  False  False  \n",
       "14122618   True  False  False  "
      ]
     },
     "execution_count": 88,
     "metadata": {},
     "output_type": "execute_result"
    }
   ],
   "source": [
    "XncCs = XncC.drop(columns='cluster')\n",
    "XncCs.head(15)"
   ]
  },
  {
   "cell_type": "code",
   "execution_count": null,
   "metadata": {},
   "outputs": [],
   "source": []
  },
  {
   "cell_type": "code",
   "execution_count": null,
   "metadata": {},
   "outputs": [],
   "source": []
  },
  {
   "cell_type": "code",
   "execution_count": 89,
   "metadata": {},
   "outputs": [],
   "source": [
    "if 'prediction' in XncCs.columns:\n",
    "    XncCs = XncCs.drop(columns='prediction')"
   ]
  },
  {
   "cell_type": "code",
   "execution_count": 90,
   "metadata": {},
   "outputs": [
    {
     "data": {
      "text/plain": [
       "DecisionTreeRegressor(criterion='mse', max_depth=9, max_features=None,\n",
       "                      max_leaf_nodes=None, min_impurity_decrease=0.0,\n",
       "                      min_impurity_split=None, min_samples_leaf=3,\n",
       "                      min_samples_split=2, min_weight_fraction_leaf=0.0,\n",
       "                      presort=False, random_state=12345, splitter='best')"
      ]
     },
     "execution_count": 90,
     "metadata": {},
     "output_type": "execute_result"
    }
   ],
   "source": [
    "dtr = DecisionTreeRegressor(\n",
    "    max_depth=9,\n",
    "    random_state=dfo.randomer,\n",
    "    min_samples_leaf=3,\n",
    "    max_leaf_nodes=None\n",
    ")\n",
    "dtr.fit(XncCs, y)\n",
    "#clf = clf.fit(XncCs, dfo.y_column)\n",
    "\n",
    "\n",
    "#dot_data = export_graphviz(clf, out_file=None) \n",
    "#graph = graphviz.Source(dot_data) \n",
    "\n",
    "#graph.render('iris_decision_tree', view=True)"
   ]
  },
  {
   "cell_type": "code",
   "execution_count": 91,
   "metadata": {},
   "outputs": [],
   "source": [
    "# cross_val_score(dtr, XncCs, y, cv=10)\n"
   ]
  },
  {
   "cell_type": "code",
   "execution_count": 92,
   "metadata": {},
   "outputs": [
    {
     "data": {
      "text/plain": [
       "0.04237865837860022"
      ]
     },
     "execution_count": 92,
     "metadata": {},
     "output_type": "execute_result"
    }
   ],
   "source": [
    "dtr_score_ = dtr.score(XncCs, y)\n",
    "dtr_score_"
   ]
  },
  {
   "cell_type": "code",
   "execution_count": 93,
   "metadata": {},
   "outputs": [],
   "source": [
    "dtr_pred_ = dtr.predict(XncCs)"
   ]
  },
  {
   "cell_type": "code",
   "execution_count": 94,
   "metadata": {},
   "outputs": [],
   "source": [
    "Xp = XncCs[XncCs.columns]"
   ]
  },
  {
   "cell_type": "code",
   "execution_count": 95,
   "metadata": {},
   "outputs": [
    {
     "data": {
      "text/html": [
       "<div>\n",
       "<style scoped>\n",
       "    .dataframe tbody tr th:only-of-type {\n",
       "        vertical-align: middle;\n",
       "    }\n",
       "\n",
       "    .dataframe tbody tr th {\n",
       "        vertical-align: top;\n",
       "    }\n",
       "\n",
       "    .dataframe thead th {\n",
       "        text-align: right;\n",
       "    }\n",
       "</style>\n",
       "<table border=\"1\" class=\"dataframe\">\n",
       "  <thead>\n",
       "    <tr style=\"text-align: right;\">\n",
       "      <th></th>\n",
       "      <th>bathroomcnt</th>\n",
       "      <th>bedroomcnt</th>\n",
       "      <th>calculatedfinishedsquarefeet</th>\n",
       "      <th>yhat</th>\n",
       "      <th>c3</th>\n",
       "      <th>c6</th>\n",
       "      <th>c7</th>\n",
       "      <th>y</th>\n",
       "    </tr>\n",
       "    <tr>\n",
       "      <th>parcelid</th>\n",
       "      <th></th>\n",
       "      <th></th>\n",
       "      <th></th>\n",
       "      <th></th>\n",
       "      <th></th>\n",
       "      <th></th>\n",
       "      <th></th>\n",
       "      <th></th>\n",
       "    </tr>\n",
       "  </thead>\n",
       "  <tbody>\n",
       "    <tr>\n",
       "      <th>12709284</th>\n",
       "      <td>2.0</td>\n",
       "      <td>3.0</td>\n",
       "      <td>1864.0</td>\n",
       "      <td>0.017724</td>\n",
       "      <td>True</td>\n",
       "      <td>False</td>\n",
       "      <td>False</td>\n",
       "      <td>0.154148</td>\n",
       "    </tr>\n",
       "    <tr>\n",
       "      <th>17135073</th>\n",
       "      <td>2.0</td>\n",
       "      <td>4.0</td>\n",
       "      <td>1844.0</td>\n",
       "      <td>0.017724</td>\n",
       "      <td>False</td>\n",
       "      <td>False</td>\n",
       "      <td>True</td>\n",
       "      <td>-0.003112</td>\n",
       "    </tr>\n",
       "    <tr>\n",
       "      <th>11450752</th>\n",
       "      <td>2.0</td>\n",
       "      <td>3.0</td>\n",
       "      <td>1198.0</td>\n",
       "      <td>0.017724</td>\n",
       "      <td>True</td>\n",
       "      <td>False</td>\n",
       "      <td>False</td>\n",
       "      <td>0.149855</td>\n",
       "    </tr>\n",
       "    <tr>\n",
       "      <th>12887447</th>\n",
       "      <td>1.0</td>\n",
       "      <td>2.0</td>\n",
       "      <td>775.0</td>\n",
       "      <td>0.017724</td>\n",
       "      <td>False</td>\n",
       "      <td>False</td>\n",
       "      <td>False</td>\n",
       "      <td>0.003864</td>\n",
       "    </tr>\n",
       "    <tr>\n",
       "      <th>10935173</th>\n",
       "      <td>4.0</td>\n",
       "      <td>3.0</td>\n",
       "      <td>2722.0</td>\n",
       "      <td>0.017724</td>\n",
       "      <td>False</td>\n",
       "      <td>False</td>\n",
       "      <td>False</td>\n",
       "      <td>0.074136</td>\n",
       "    </tr>\n",
       "  </tbody>\n",
       "</table>\n",
       "</div>"
      ],
      "text/plain": [
       "          bathroomcnt  bedroomcnt  calculatedfinishedsquarefeet      yhat  \\\n",
       "parcelid                                                                    \n",
       "12709284          2.0         3.0                        1864.0  0.017724   \n",
       "17135073          2.0         4.0                        1844.0  0.017724   \n",
       "11450752          2.0         3.0                        1198.0  0.017724   \n",
       "12887447          1.0         2.0                         775.0  0.017724   \n",
       "10935173          4.0         3.0                        2722.0  0.017724   \n",
       "\n",
       "             c3     c6     c7         y  \n",
       "parcelid                                 \n",
       "12709284   True  False  False  0.154148  \n",
       "17135073  False  False   True -0.003112  \n",
       "11450752   True  False  False  0.149855  \n",
       "12887447  False  False  False  0.003864  \n",
       "10935173  False  False  False  0.074136  "
      ]
     },
     "execution_count": 95,
     "metadata": {},
     "output_type": "execute_result"
    }
   ],
   "source": [
    "Xp = Xp.join(y)\n",
    "Xp.head()"
   ]
  },
  {
   "cell_type": "code",
   "execution_count": 96,
   "metadata": {},
   "outputs": [
    {
     "data": {
      "text/html": [
       "<div>\n",
       "<style scoped>\n",
       "    .dataframe tbody tr th:only-of-type {\n",
       "        vertical-align: middle;\n",
       "    }\n",
       "\n",
       "    .dataframe tbody tr th {\n",
       "        vertical-align: top;\n",
       "    }\n",
       "\n",
       "    .dataframe thead th {\n",
       "        text-align: right;\n",
       "    }\n",
       "</style>\n",
       "<table border=\"1\" class=\"dataframe\">\n",
       "  <thead>\n",
       "    <tr style=\"text-align: right;\">\n",
       "      <th></th>\n",
       "      <th>bathroomcnt</th>\n",
       "      <th>bedroomcnt</th>\n",
       "      <th>calculatedfinishedsquarefeet</th>\n",
       "      <th>yhat</th>\n",
       "      <th>c3</th>\n",
       "      <th>c6</th>\n",
       "      <th>c7</th>\n",
       "      <th>y</th>\n",
       "      <th>pred_dtr</th>\n",
       "    </tr>\n",
       "    <tr>\n",
       "      <th>parcelid</th>\n",
       "      <th></th>\n",
       "      <th></th>\n",
       "      <th></th>\n",
       "      <th></th>\n",
       "      <th></th>\n",
       "      <th></th>\n",
       "      <th></th>\n",
       "      <th></th>\n",
       "      <th></th>\n",
       "    </tr>\n",
       "  </thead>\n",
       "  <tbody>\n",
       "    <tr>\n",
       "      <th>12709284</th>\n",
       "      <td>2.0</td>\n",
       "      <td>3.0</td>\n",
       "      <td>1864.0</td>\n",
       "      <td>0.017724</td>\n",
       "      <td>True</td>\n",
       "      <td>False</td>\n",
       "      <td>False</td>\n",
       "      <td>0.154148</td>\n",
       "      <td>0.023560</td>\n",
       "    </tr>\n",
       "    <tr>\n",
       "      <th>17135073</th>\n",
       "      <td>2.0</td>\n",
       "      <td>4.0</td>\n",
       "      <td>1844.0</td>\n",
       "      <td>0.017724</td>\n",
       "      <td>False</td>\n",
       "      <td>False</td>\n",
       "      <td>True</td>\n",
       "      <td>-0.003112</td>\n",
       "      <td>0.007364</td>\n",
       "    </tr>\n",
       "    <tr>\n",
       "      <th>11450752</th>\n",
       "      <td>2.0</td>\n",
       "      <td>3.0</td>\n",
       "      <td>1198.0</td>\n",
       "      <td>0.017724</td>\n",
       "      <td>True</td>\n",
       "      <td>False</td>\n",
       "      <td>False</td>\n",
       "      <td>0.149855</td>\n",
       "      <td>0.008372</td>\n",
       "    </tr>\n",
       "    <tr>\n",
       "      <th>12887447</th>\n",
       "      <td>1.0</td>\n",
       "      <td>2.0</td>\n",
       "      <td>775.0</td>\n",
       "      <td>0.017724</td>\n",
       "      <td>False</td>\n",
       "      <td>False</td>\n",
       "      <td>False</td>\n",
       "      <td>0.003864</td>\n",
       "      <td>0.006472</td>\n",
       "    </tr>\n",
       "    <tr>\n",
       "      <th>10935173</th>\n",
       "      <td>4.0</td>\n",
       "      <td>3.0</td>\n",
       "      <td>2722.0</td>\n",
       "      <td>0.017724</td>\n",
       "      <td>False</td>\n",
       "      <td>False</td>\n",
       "      <td>False</td>\n",
       "      <td>0.074136</td>\n",
       "      <td>0.011454</td>\n",
       "    </tr>\n",
       "  </tbody>\n",
       "</table>\n",
       "</div>"
      ],
      "text/plain": [
       "          bathroomcnt  bedroomcnt  calculatedfinishedsquarefeet      yhat  \\\n",
       "parcelid                                                                    \n",
       "12709284          2.0         3.0                        1864.0  0.017724   \n",
       "17135073          2.0         4.0                        1844.0  0.017724   \n",
       "11450752          2.0         3.0                        1198.0  0.017724   \n",
       "12887447          1.0         2.0                         775.0  0.017724   \n",
       "10935173          4.0         3.0                        2722.0  0.017724   \n",
       "\n",
       "             c3     c6     c7         y  pred_dtr  \n",
       "parcelid                                           \n",
       "12709284   True  False  False  0.154148  0.023560  \n",
       "17135073  False  False   True -0.003112  0.007364  \n",
       "11450752   True  False  False  0.149855  0.008372  \n",
       "12887447  False  False  False  0.003864  0.006472  \n",
       "10935173  False  False  False  0.074136  0.011454  "
      ]
     },
     "execution_count": 96,
     "metadata": {},
     "output_type": "execute_result"
    }
   ],
   "source": [
    "Xp['pred_dtr'] = dtr_pred_\n",
    "Xp.head()"
   ]
  },
  {
   "cell_type": "code",
   "execution_count": 97,
   "metadata": {},
   "outputs": [
    {
     "data": {
      "text/plain": [
       "{'criterion': 'mse',\n",
       " 'max_depth': 9,\n",
       " 'max_features': None,\n",
       " 'max_leaf_nodes': None,\n",
       " 'min_impurity_decrease': 0.0,\n",
       " 'min_impurity_split': None,\n",
       " 'min_samples_leaf': 3,\n",
       " 'min_samples_split': 2,\n",
       " 'min_weight_fraction_leaf': 0.0,\n",
       " 'presort': False,\n",
       " 'random_state': 12345,\n",
       " 'splitter': 'best'}"
      ]
     },
     "execution_count": 97,
     "metadata": {},
     "output_type": "execute_result"
    }
   ],
   "source": [
    "dtr.get_params()"
   ]
  },
  {
   "cell_type": "code",
   "execution_count": 98,
   "metadata": {},
   "outputs": [
    {
     "name": "stdout",
     "output_type": "stream",
     "text": [
      "{'ESS': 0.0, 'MSE': 0.03151261612727865, 'SSE': 1231.071861628268, 'TSS': 1231.071861628268, 'RMSE': 0.17751793184711975}\n",
      "{'ESS': 52.171173863447464, 'MSE': 0.030177153733804748, 'SSE': 1178.9006877648162, 'TSS': 1231.0718616282636, 'RMSE': 0.1737157267889259}\n"
     ]
    }
   ],
   "source": [
    "bl_errors = p_eval.regression_errors(Xp.y, Xp.yhat)\n",
    "print(bl_errors)\n",
    "dtr_errors = p_eval.regression_errors(Xp.y, Xp.pred_dtr)\n",
    "print(dtr_errors)\n"
   ]
  },
  {
   "cell_type": "code",
   "execution_count": 99,
   "metadata": {},
   "outputs": [
    {
     "data": {
      "text/plain": [
       "y    0.17752\n",
       "dtype: float64"
      ]
     },
     "execution_count": 99,
     "metadata": {},
     "output_type": "execute_result"
    }
   ],
   "source": [
    "y.std()"
   ]
  },
  {
   "cell_type": "code",
   "execution_count": 100,
   "metadata": {},
   "outputs": [
    {
     "data": {
      "text/plain": [
       "y    0.999987\n",
       "dtype: float64"
      ]
     },
     "execution_count": 100,
     "metadata": {},
     "output_type": "execute_result"
    }
   ],
   "source": [
    "bl_errors['RMSE']/y.std()"
   ]
  },
  {
   "cell_type": "code",
   "execution_count": 101,
   "metadata": {},
   "outputs": [
    {
     "data": {
      "text/plain": [
       "y    0.978569\n",
       "dtype: float64"
      ]
     },
     "execution_count": 101,
     "metadata": {},
     "output_type": "execute_result"
    }
   ],
   "source": [
    "dtr_errors['RMSE']/y.std()"
   ]
  },
  {
   "cell_type": "code",
   "execution_count": null,
   "metadata": {},
   "outputs": [],
   "source": []
  },
  {
   "cell_type": "code",
   "execution_count": null,
   "metadata": {},
   "outputs": [],
   "source": []
  },
  {
   "cell_type": "code",
   "execution_count": null,
   "metadata": {},
   "outputs": [],
   "source": []
  },
  {
   "cell_type": "code",
   "execution_count": null,
   "metadata": {},
   "outputs": [],
   "source": []
  }
 ],
 "metadata": {
  "kernelspec": {
   "display_name": "Python 3",
   "language": "python",
   "name": "python3"
  },
  "language_info": {
   "codemirror_mode": {
    "name": "ipython",
    "version": 3
   },
   "file_extension": ".py",
   "mimetype": "text/x-python",
   "name": "python",
   "nbconvert_exporter": "python",
   "pygments_lexer": "ipython3",
   "version": "3.7.3"
  }
 },
 "nbformat": 4,
 "nbformat_minor": 2
}
