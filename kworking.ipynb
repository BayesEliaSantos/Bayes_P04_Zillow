{
 "cells": [
  {
   "cell_type": "markdown",
   "metadata": {},
   "source": [
    "# Exercises"
   ]
  },
  {
   "cell_type": "markdown",
   "metadata": {},
   "source": [
    "## Acquire (`acquire.py`)"
   ]
  },
  {
   "cell_type": "markdown",
   "metadata": {},
   "source": [
    "### Zillow\n",
    "**For the following, iterate through the steps you would take to create functions: Write the code to do the following in a jupyter notebook, test it, convert to functions, then create the file to house those functions.**\n",
    "\n",
    "**You will have a** \n",
    "`zillow.ipynb` \n",
    "**file and a helper file for each section in the pipeline.**"
   ]
  },
  {
   "cell_type": "code",
   "execution_count": 1,
   "metadata": {},
   "outputs": [],
   "source": [
    "###############################################################################\n",
    "### python imports                                                          ###\n",
    "###############################################################################\n",
    "\n",
    "import matplotlib.pyplot as plt\n",
    "import seaborn as sns\n",
    "\n",
    "import pandas as pd\n",
    "import numpy as np\n",
    "import matplotlib.pyplot as plt\n",
    "import seaborn as sns\n",
    "\n",
    "from sklearn.model_selection import train_test_split\n",
    "from sklearn.metrics import mean_squared_error, r2_score, explained_variance_score\n",
    "from sklearn.linear_model import LassoCV\n",
    "\n",
    "from sklearn.preprocessing import StandardScaler, QuantileTransformer, PowerTransformer, RobustScaler, MinMaxScaler\n",
    "\n",
    "\n",
    "import warnings\n",
    "warnings.filterwarnings(\"ignore\")\n",
    "\n",
    "# from math import sqrt\n",
    "import statsmodels.api as sm\n",
    "from statsmodels.formula.api import ols"
   ]
  },
  {
   "cell_type": "code",
   "execution_count": 2,
   "metadata": {},
   "outputs": [],
   "source": [
    "###############################################################################\n",
    "### local imports                                                           ###\n",
    "###############################################################################\n",
    "\n",
    "import acquire as acq\n",
    "import prepare as prep\n",
    "import clusterfunctions as cf\n",
    "\n",
    "from debug import local_settings, timeifdebug, timeargsifdebug, frame_splain\n",
    "from dfo import DFO, set_dfo\n",
    "from prepare import convert_to_dates, get_column_values_stats, retype_cols, nulls_by_row"
   ]
  },
  {
   "cell_type": "code",
   "execution_count": 3,
   "metadata": {},
   "outputs": [],
   "source": [
    "local_settings.splain=True\n",
    "local_settings.debug=True\n",
    "splain = local_settings.splain\n",
    "debug = local_settings.debug"
   ]
  },
  {
   "cell_type": "code",
   "execution_count": 4,
   "metadata": {},
   "outputs": [],
   "source": [
    "from wrangle_zillow import get_zillow_data, prep_zillow_data, sqls"
   ]
  },
  {
   "cell_type": "markdown",
   "metadata": {},
   "source": [
    "#### Acquire & Summarize"
   ]
  },
  {
   "cell_type": "markdown",
   "metadata": {},
   "source": [
    "1. **Acquire data from mySQL using the python module to connect and query. You will want to end with a single dataframe. Make sure to include: the logerror, all fields related to the properties that are available. You will end up using all the tables in the database.**\n",
    "\n",
    "   - *Be sure to do the correct join (inner, outer, etc.). We do not want to eliminate properties purely because they may have a null value for* \n",
    "`airconditioningtypeid`\n",
    "*.*\n",
    "   - Only include properties with a transaction in 2017, and include only the last transaction for each properity (so no duplicate property ID's), along with zestimate error and date of transaction.\n",
    "   - Only include properties that include a latitude and longitude value."
   ]
  },
  {
   "cell_type": "code",
   "execution_count": 5,
   "metadata": {},
   "outputs": [
    {
     "name": "stdout",
     "output_type": "stream",
     "text": [
      "2019-11-07 10:47:26 starting get_zillow_data\n",
      "2019-11-07 10:47:26 starting sql_df\n",
      "2019-11-07 10:47:26 starting get_db_url\n",
      "2019-11-07 10:47:26 ending get_db_url ; time: 0:00:00.000090\n",
      "2019-11-07 10:54:11 starting check_df\n",
      "2019-11-07 10:54:11 starting frame_splain\n",
      "DATAFRAME SHAPE:\n",
      "(52089, 9) \n",
      "\n",
      "DATAFRAME INFO:\n",
      "<class 'pandas.core.frame.DataFrame'>\n",
      "RangeIndex: 52089 entries, 0 to 52088\n",
      "Data columns (total 9 columns):\n",
      "parcelid                        52089 non-null int64\n",
      "bathroomcnt                     52089 non-null float64\n",
      "bedroomcnt                      52089 non-null float64\n",
      "calculatedfinishedsquarefeet    52089 non-null float64\n",
      "latitude                        52089 non-null float64\n",
      "longitude                       52089 non-null float64\n",
      "structuretaxvaluedollarcnt      52089 non-null float64\n",
      "structuredollarpersqft          52089 non-null float64\n",
      "logerror                        52089 non-null float64\n",
      "dtypes: float64(8), int64(1)\n",
      "memory usage: 3.6 MB\n",
      "None \n",
      "\n",
      "DATAFRAME DESCRIPTION:\n",
      "                                count          mean           std  \\\n",
      "parcelid                      52089.0  1.298377e+07  3.070062e+06   \n",
      "bathroomcnt                   52089.0  2.305669e+00  1.017265e+00   \n",
      "bedroomcnt                    52089.0  3.309912e+00  9.334532e-01   \n",
      "calculatedfinishedsquarefeet  52089.0  1.923432e+03  1.003069e+03   \n",
      "latitude                      52089.0  3.402263e+07  2.740844e+05   \n",
      "longitude                     52089.0 -1.181938e+08  3.564175e+05   \n",
      "structuretaxvaluedollarcnt    52089.0  1.959778e+05  2.524218e+05   \n",
      "structuredollarpersqft        52089.0  9.084642e+01  5.995686e+01   \n",
      "logerror                      52089.0  1.824858e-02  1.759901e-01   \n",
      "\n",
      "                                       min           25%           50%  \\\n",
      "parcelid                      1.071186e+07  1.150787e+07  1.257813e+07   \n",
      "bathroomcnt                   1.000000e+00  2.000000e+00  2.000000e+00   \n",
      "bedroomcnt                    1.000000e+00  3.000000e+00  3.000000e+00   \n",
      "calculatedfinishedsquarefeet  1.520000e+02  1.268000e+03  1.659000e+03   \n",
      "latitude                      3.334062e+07  3.382689e+07  3.402338e+07   \n",
      "longitude                    -1.194754e+08 -1.184004e+08 -1.181529e+08   \n",
      "structuretaxvaluedollarcnt    1.480000e+02  7.720000e+04  1.318830e+05   \n",
      "structuredollarpersqft        3.983275e-02  5.498029e+01  8.216741e+01   \n",
      "logerror                     -4.655420e+00 -2.457495e-02  6.956119e-03   \n",
      "\n",
      "                                       75%           max  \n",
      "parcelid                      1.412934e+07  1.676392e+08  \n",
      "bathroomcnt                   3.000000e+00  1.800000e+01  \n",
      "bedroomcnt                    4.000000e+00  1.400000e+01  \n",
      "calculatedfinishedsquarefeet  2.306000e+03  2.192900e+04  \n",
      "latitude                      3.418742e+07  3.481877e+07  \n",
      "longitude                    -1.179291e+08 -1.175546e+08  \n",
      "structuretaxvaluedollarcnt    2.261220e+05  9.164901e+06  \n",
      "structuredollarpersqft        1.135682e+02  1.444221e+03  \n",
      "logerror                      4.052645e-02  5.262999e+00   \n",
      "\n",
      "DATAFRAME HEAD:\n",
      "   parcelid  bathroomcnt  bedroomcnt  calculatedfinishedsquarefeet  \\\n",
      "0  14297519          3.5         4.0                        3100.0   \n",
      "1  17052889          1.0         2.0                        1465.0   \n",
      "2  14186244          2.0         3.0                        1243.0   \n",
      "3  12177905          3.0         4.0                        2376.0   \n",
      "4  12095076          3.0         4.0                        2962.0   \n",
      "\n",
      "     latitude    longitude  structuretaxvaluedollarcnt  \\\n",
      "0  33634931.0 -117869207.0                    485713.0   \n",
      "1  34449266.0 -119281531.0                     88000.0   \n",
      "2  33886168.0 -117823170.0                     85289.0   \n",
      "3  34245180.0 -118240722.0                    108918.0   \n",
      "4  34145202.0 -118179824.0                    276684.0   \n",
      "\n",
      "   structuredollarpersqft  logerror  \n",
      "0              156.681613  0.025595  \n",
      "1               60.068259  0.055619  \n",
      "2               68.615447  0.005383  \n",
      "3               45.840909 -0.103410  \n",
      "4               93.411209 -0.001011   \n",
      "\n",
      "2019-11-07 10:54:11 ending frame_splain ; time: 0:00:00.057312\n",
      "2019-11-07 10:54:11 ending check_df ; time: 0:00:00.058947\n",
      "2019-11-07 10:54:11 ending sql_df ; time: 0:06:44.792527\n",
      "2019-11-07 10:54:11 ending get_zillow_data ; time: 0:06:44.793071\n",
      "2019-11-07 10:54:11 starting set_dfo\n",
      "2019-11-07 10:54:11 ending set_dfo ; time: 0:00:00.000087\n"
     ]
    }
   ],
   "source": [
    "dfo = set_dfo(get_zillow_data(sql=sqls['mvp']), splain=True)"
   ]
  },
  {
   "cell_type": "markdown",
   "metadata": {},
   "source": [
    "2. **Summarize your data (summary stats, info, dtypes, shape, distributions, value_counts, etc.).**"
   ]
  },
  {
   "cell_type": "code",
   "execution_count": 6,
   "metadata": {},
   "outputs": [],
   "source": [
    "df = dfo.df"
   ]
  },
  {
   "cell_type": "code",
   "execution_count": 7,
   "metadata": {},
   "outputs": [],
   "source": [
    "dfo.index_columns = 'parcelid'"
   ]
  },
  {
   "cell_type": "code",
   "execution_count": 8,
   "metadata": {},
   "outputs": [],
   "source": [
    "dfo.y_column = 'logerror'"
   ]
  },
  {
   "cell_type": "code",
   "execution_count": 9,
   "metadata": {},
   "outputs": [],
   "source": [
    "df = df.set_index(dfo.index_columns)"
   ]
  },
  {
   "cell_type": "code",
   "execution_count": 10,
   "metadata": {},
   "outputs": [
    {
     "name": "stdout",
     "output_type": "stream",
     "text": [
      "2019-11-07 10:54:11 starting frame_splain\n",
      "ZILLOW DATA SHAPE:\n",
      "(52089, 8) \n",
      "\n",
      "ZILLOW DATA INFO:\n",
      "<class 'pandas.core.frame.DataFrame'>\n",
      "Int64Index: 52089 entries, 14297519 to 12826780\n",
      "Data columns (total 8 columns):\n",
      "bathroomcnt                     52089 non-null float64\n",
      "bedroomcnt                      52089 non-null float64\n",
      "calculatedfinishedsquarefeet    52089 non-null float64\n",
      "latitude                        52089 non-null float64\n",
      "longitude                       52089 non-null float64\n",
      "structuretaxvaluedollarcnt      52089 non-null float64\n",
      "structuredollarpersqft          52089 non-null float64\n",
      "logerror                        52089 non-null float64\n",
      "dtypes: float64(8)\n",
      "memory usage: 3.6 MB\n",
      "None \n",
      "\n",
      "ZILLOW DATA DESCRIPTION:\n",
      "                                count          mean            std  \\\n",
      "bathroomcnt                   52089.0  2.305669e+00       1.017265   \n",
      "bedroomcnt                    52089.0  3.309912e+00       0.933453   \n",
      "calculatedfinishedsquarefeet  52089.0  1.923432e+03    1003.068834   \n",
      "latitude                      52089.0  3.402263e+07  274084.436731   \n",
      "longitude                     52089.0 -1.181938e+08  356417.454324   \n",
      "structuretaxvaluedollarcnt    52089.0  1.959778e+05  252421.820192   \n",
      "structuredollarpersqft        52089.0  9.084642e+01      59.956862   \n",
      "logerror                      52089.0  1.824858e-02       0.175990   \n",
      "\n",
      "                                       min           25%           50%  \\\n",
      "bathroomcnt                   1.000000e+00  2.000000e+00  2.000000e+00   \n",
      "bedroomcnt                    1.000000e+00  3.000000e+00  3.000000e+00   \n",
      "calculatedfinishedsquarefeet  1.520000e+02  1.268000e+03  1.659000e+03   \n",
      "latitude                      3.334062e+07  3.382689e+07  3.402338e+07   \n",
      "longitude                    -1.194754e+08 -1.184004e+08 -1.181529e+08   \n",
      "structuretaxvaluedollarcnt    1.480000e+02  7.720000e+04  1.318830e+05   \n",
      "structuredollarpersqft        3.983275e-02  5.498029e+01  8.216741e+01   \n",
      "logerror                     -4.655420e+00 -2.457495e-02  6.956119e-03   \n",
      "\n",
      "                                       75%           max  \n",
      "bathroomcnt                   3.000000e+00  1.800000e+01  \n",
      "bedroomcnt                    4.000000e+00  1.400000e+01  \n",
      "calculatedfinishedsquarefeet  2.306000e+03  2.192900e+04  \n",
      "latitude                      3.418742e+07  3.481877e+07  \n",
      "longitude                    -1.179291e+08 -1.175546e+08  \n",
      "structuretaxvaluedollarcnt    2.261220e+05  9.164901e+06  \n",
      "structuredollarpersqft        1.135682e+02  1.444221e+03  \n",
      "logerror                      4.052645e-02  5.262999e+00   \n",
      "\n",
      "ZILLOW DATA HEAD:\n",
      "          bathroomcnt  bedroomcnt  calculatedfinishedsquarefeet    latitude  \\\n",
      "parcelid                                                                      \n",
      "14297519          3.5         4.0                        3100.0  33634931.0   \n",
      "17052889          1.0         2.0                        1465.0  34449266.0   \n",
      "14186244          2.0         3.0                        1243.0  33886168.0   \n",
      "12177905          3.0         4.0                        2376.0  34245180.0   \n",
      "12095076          3.0         4.0                        2962.0  34145202.0   \n",
      "\n",
      "            longitude  structuretaxvaluedollarcnt  structuredollarpersqft  \\\n",
      "parcelid                                                                    \n",
      "14297519 -117869207.0                    485713.0              156.681613   \n",
      "17052889 -119281531.0                     88000.0               60.068259   \n",
      "14186244 -117823170.0                     85289.0               68.615447   \n",
      "12177905 -118240722.0                    108918.0               45.840909   \n",
      "12095076 -118179824.0                    276684.0               93.411209   \n",
      "\n",
      "          logerror  \n",
      "parcelid            \n",
      "14297519  0.025595  \n",
      "17052889  0.055619  \n",
      "14186244  0.005383  \n",
      "12177905 -0.103410  \n",
      "12095076 -0.001011   \n",
      "\n",
      "2019-11-07 10:54:11 ending frame_splain ; time: 0:00:00.070995\n"
     ]
    }
   ],
   "source": [
    "frame_splain(df, title='Zillow Data', splain=True)"
   ]
  },
  {
   "cell_type": "code",
   "execution_count": 11,
   "metadata": {},
   "outputs": [
    {
     "name": "stdout",
     "output_type": "stream",
     "text": [
      "2019-11-07 10:54:11 starting convert_to_dates\n",
      "2019-11-07 10:54:11 ending convert_to_dates ; time: 0:00:00.003690\n"
     ]
    }
   ],
   "source": [
    "date_columns = ['transactiondate']\n",
    "df = convert_to_dates(df, cols=date_columns)"
   ]
  },
  {
   "cell_type": "code",
   "execution_count": 12,
   "metadata": {},
   "outputs": [
    {
     "data": {
      "text/html": [
       "<div>\n",
       "<style scoped>\n",
       "    .dataframe tbody tr th:only-of-type {\n",
       "        vertical-align: middle;\n",
       "    }\n",
       "\n",
       "    .dataframe tbody tr th {\n",
       "        vertical-align: top;\n",
       "    }\n",
       "\n",
       "    .dataframe thead th {\n",
       "        text-align: right;\n",
       "    }\n",
       "</style>\n",
       "<table border=\"1\" class=\"dataframe\">\n",
       "  <thead>\n",
       "    <tr style=\"text-align: right;\">\n",
       "      <th></th>\n",
       "      <th>bathroomcnt</th>\n",
       "      <th>bedroomcnt</th>\n",
       "      <th>calculatedfinishedsquarefeet</th>\n",
       "      <th>latitude</th>\n",
       "      <th>longitude</th>\n",
       "      <th>structuretaxvaluedollarcnt</th>\n",
       "      <th>structuredollarpersqft</th>\n",
       "      <th>logerror</th>\n",
       "    </tr>\n",
       "    <tr>\n",
       "      <th>parcelid</th>\n",
       "      <th></th>\n",
       "      <th></th>\n",
       "      <th></th>\n",
       "      <th></th>\n",
       "      <th></th>\n",
       "      <th></th>\n",
       "      <th></th>\n",
       "      <th></th>\n",
       "    </tr>\n",
       "  </thead>\n",
       "  <tbody>\n",
       "    <tr>\n",
       "      <th>14297519</th>\n",
       "      <td>3.5</td>\n",
       "      <td>4.0</td>\n",
       "      <td>3100.0</td>\n",
       "      <td>33634931.0</td>\n",
       "      <td>-117869207.0</td>\n",
       "      <td>485713.0</td>\n",
       "      <td>156.681613</td>\n",
       "      <td>0.025595</td>\n",
       "    </tr>\n",
       "    <tr>\n",
       "      <th>17052889</th>\n",
       "      <td>1.0</td>\n",
       "      <td>2.0</td>\n",
       "      <td>1465.0</td>\n",
       "      <td>34449266.0</td>\n",
       "      <td>-119281531.0</td>\n",
       "      <td>88000.0</td>\n",
       "      <td>60.068259</td>\n",
       "      <td>0.055619</td>\n",
       "    </tr>\n",
       "    <tr>\n",
       "      <th>14186244</th>\n",
       "      <td>2.0</td>\n",
       "      <td>3.0</td>\n",
       "      <td>1243.0</td>\n",
       "      <td>33886168.0</td>\n",
       "      <td>-117823170.0</td>\n",
       "      <td>85289.0</td>\n",
       "      <td>68.615447</td>\n",
       "      <td>0.005383</td>\n",
       "    </tr>\n",
       "    <tr>\n",
       "      <th>12177905</th>\n",
       "      <td>3.0</td>\n",
       "      <td>4.0</td>\n",
       "      <td>2376.0</td>\n",
       "      <td>34245180.0</td>\n",
       "      <td>-118240722.0</td>\n",
       "      <td>108918.0</td>\n",
       "      <td>45.840909</td>\n",
       "      <td>-0.103410</td>\n",
       "    </tr>\n",
       "    <tr>\n",
       "      <th>12095076</th>\n",
       "      <td>3.0</td>\n",
       "      <td>4.0</td>\n",
       "      <td>2962.0</td>\n",
       "      <td>34145202.0</td>\n",
       "      <td>-118179824.0</td>\n",
       "      <td>276684.0</td>\n",
       "      <td>93.411209</td>\n",
       "      <td>-0.001011</td>\n",
       "    </tr>\n",
       "    <tr>\n",
       "      <th>12069064</th>\n",
       "      <td>1.0</td>\n",
       "      <td>2.0</td>\n",
       "      <td>738.0</td>\n",
       "      <td>34149214.0</td>\n",
       "      <td>-118239357.0</td>\n",
       "      <td>18890.0</td>\n",
       "      <td>25.596206</td>\n",
       "      <td>0.101723</td>\n",
       "    </tr>\n",
       "    <tr>\n",
       "      <th>12790562</th>\n",
       "      <td>3.0</td>\n",
       "      <td>4.0</td>\n",
       "      <td>3039.0</td>\n",
       "      <td>33960230.0</td>\n",
       "      <td>-118006914.0</td>\n",
       "      <td>177527.0</td>\n",
       "      <td>58.416255</td>\n",
       "      <td>-0.040966</td>\n",
       "    </tr>\n",
       "    <tr>\n",
       "      <th>11104527</th>\n",
       "      <td>3.0</td>\n",
       "      <td>4.0</td>\n",
       "      <td>2540.0</td>\n",
       "      <td>34434971.0</td>\n",
       "      <td>-118464390.0</td>\n",
       "      <td>271715.0</td>\n",
       "      <td>106.974409</td>\n",
       "      <td>0.005963</td>\n",
       "    </tr>\n",
       "    <tr>\n",
       "      <th>13944538</th>\n",
       "      <td>2.5</td>\n",
       "      <td>3.0</td>\n",
       "      <td>1340.0</td>\n",
       "      <td>33771438.0</td>\n",
       "      <td>-117982834.0</td>\n",
       "      <td>96617.0</td>\n",
       "      <td>72.102239</td>\n",
       "      <td>0.045602</td>\n",
       "    </tr>\n",
       "    <tr>\n",
       "      <th>17110996</th>\n",
       "      <td>2.5</td>\n",
       "      <td>3.0</td>\n",
       "      <td>1371.0</td>\n",
       "      <td>34238229.0</td>\n",
       "      <td>-119170633.0</td>\n",
       "      <td>99026.0</td>\n",
       "      <td>72.229030</td>\n",
       "      <td>0.008669</td>\n",
       "    </tr>\n",
       "    <tr>\n",
       "      <th>14375300</th>\n",
       "      <td>2.0</td>\n",
       "      <td>4.0</td>\n",
       "      <td>1677.0</td>\n",
       "      <td>33642800.0</td>\n",
       "      <td>-117707211.0</td>\n",
       "      <td>169118.0</td>\n",
       "      <td>100.845558</td>\n",
       "      <td>-0.021896</td>\n",
       "    </tr>\n",
       "    <tr>\n",
       "      <th>11830315</th>\n",
       "      <td>1.0</td>\n",
       "      <td>2.0</td>\n",
       "      <td>1146.0</td>\n",
       "      <td>34024040.0</td>\n",
       "      <td>-118159090.0</td>\n",
       "      <td>127960.0</td>\n",
       "      <td>111.657941</td>\n",
       "      <td>-0.035085</td>\n",
       "    </tr>\n",
       "    <tr>\n",
       "      <th>14387959</th>\n",
       "      <td>2.5</td>\n",
       "      <td>3.0</td>\n",
       "      <td>2074.0</td>\n",
       "      <td>33586693.0</td>\n",
       "      <td>-117697202.0</td>\n",
       "      <td>173269.0</td>\n",
       "      <td>83.543394</td>\n",
       "      <td>-0.006653</td>\n",
       "    </tr>\n",
       "    <tr>\n",
       "      <th>14349322</th>\n",
       "      <td>2.5</td>\n",
       "      <td>3.0</td>\n",
       "      <td>2018.0</td>\n",
       "      <td>33728985.0</td>\n",
       "      <td>-117754647.0</td>\n",
       "      <td>221433.0</td>\n",
       "      <td>109.728940</td>\n",
       "      <td>0.044309</td>\n",
       "    </tr>\n",
       "    <tr>\n",
       "      <th>11706737</th>\n",
       "      <td>1.0</td>\n",
       "      <td>2.0</td>\n",
       "      <td>1316.0</td>\n",
       "      <td>34009471.0</td>\n",
       "      <td>-118281052.0</td>\n",
       "      <td>37663.0</td>\n",
       "      <td>28.619301</td>\n",
       "      <td>-0.120976</td>\n",
       "    </tr>\n",
       "  </tbody>\n",
       "</table>\n",
       "</div>"
      ],
      "text/plain": [
       "          bathroomcnt  bedroomcnt  calculatedfinishedsquarefeet    latitude  \\\n",
       "parcelid                                                                      \n",
       "14297519          3.5         4.0                        3100.0  33634931.0   \n",
       "17052889          1.0         2.0                        1465.0  34449266.0   \n",
       "14186244          2.0         3.0                        1243.0  33886168.0   \n",
       "12177905          3.0         4.0                        2376.0  34245180.0   \n",
       "12095076          3.0         4.0                        2962.0  34145202.0   \n",
       "12069064          1.0         2.0                         738.0  34149214.0   \n",
       "12790562          3.0         4.0                        3039.0  33960230.0   \n",
       "11104527          3.0         4.0                        2540.0  34434971.0   \n",
       "13944538          2.5         3.0                        1340.0  33771438.0   \n",
       "17110996          2.5         3.0                        1371.0  34238229.0   \n",
       "14375300          2.0         4.0                        1677.0  33642800.0   \n",
       "11830315          1.0         2.0                        1146.0  34024040.0   \n",
       "14387959          2.5         3.0                        2074.0  33586693.0   \n",
       "14349322          2.5         3.0                        2018.0  33728985.0   \n",
       "11706737          1.0         2.0                        1316.0  34009471.0   \n",
       "\n",
       "            longitude  structuretaxvaluedollarcnt  structuredollarpersqft  \\\n",
       "parcelid                                                                    \n",
       "14297519 -117869207.0                    485713.0              156.681613   \n",
       "17052889 -119281531.0                     88000.0               60.068259   \n",
       "14186244 -117823170.0                     85289.0               68.615447   \n",
       "12177905 -118240722.0                    108918.0               45.840909   \n",
       "12095076 -118179824.0                    276684.0               93.411209   \n",
       "12069064 -118239357.0                     18890.0               25.596206   \n",
       "12790562 -118006914.0                    177527.0               58.416255   \n",
       "11104527 -118464390.0                    271715.0              106.974409   \n",
       "13944538 -117982834.0                     96617.0               72.102239   \n",
       "17110996 -119170633.0                     99026.0               72.229030   \n",
       "14375300 -117707211.0                    169118.0              100.845558   \n",
       "11830315 -118159090.0                    127960.0              111.657941   \n",
       "14387959 -117697202.0                    173269.0               83.543394   \n",
       "14349322 -117754647.0                    221433.0              109.728940   \n",
       "11706737 -118281052.0                     37663.0               28.619301   \n",
       "\n",
       "          logerror  \n",
       "parcelid            \n",
       "14297519  0.025595  \n",
       "17052889  0.055619  \n",
       "14186244  0.005383  \n",
       "12177905 -0.103410  \n",
       "12095076 -0.001011  \n",
       "12069064  0.101723  \n",
       "12790562 -0.040966  \n",
       "11104527  0.005963  \n",
       "13944538  0.045602  \n",
       "17110996  0.008669  \n",
       "14375300 -0.021896  \n",
       "11830315 -0.035085  \n",
       "14387959 -0.006653  \n",
       "14349322  0.044309  \n",
       "11706737 -0.120976  "
      ]
     },
     "execution_count": 12,
     "metadata": {},
     "output_type": "execute_result"
    }
   ],
   "source": [
    "df.head(15)"
   ]
  },
  {
   "cell_type": "code",
   "execution_count": 13,
   "metadata": {},
   "outputs": [
    {
     "name": "stdout",
     "output_type": "stream",
     "text": [
      "2019-11-07 10:54:11 starting frame_splain\n",
      "DATAFRAME SHAPE:\n",
      "(52089, 8) \n",
      "\n",
      "DATAFRAME INFO:\n",
      "<class 'pandas.core.frame.DataFrame'>\n",
      "Int64Index: 52089 entries, 14297519 to 12826780\n",
      "Data columns (total 8 columns):\n",
      "bathroomcnt                     52089 non-null float64\n",
      "bedroomcnt                      52089 non-null float64\n",
      "calculatedfinishedsquarefeet    52089 non-null float64\n",
      "latitude                        52089 non-null float64\n",
      "longitude                       52089 non-null float64\n",
      "structuretaxvaluedollarcnt      52089 non-null float64\n",
      "structuredollarpersqft          52089 non-null float64\n",
      "logerror                        52089 non-null float64\n",
      "dtypes: float64(8)\n",
      "memory usage: 3.6 MB\n",
      "None \n",
      "\n",
      "DATAFRAME DESCRIPTION:\n",
      "                                count          mean            std  \\\n",
      "bathroomcnt                   52089.0  2.305669e+00       1.017265   \n",
      "bedroomcnt                    52089.0  3.309912e+00       0.933453   \n",
      "calculatedfinishedsquarefeet  52089.0  1.923432e+03    1003.068834   \n",
      "latitude                      52089.0  3.402263e+07  274084.436731   \n",
      "longitude                     52089.0 -1.181938e+08  356417.454324   \n",
      "structuretaxvaluedollarcnt    52089.0  1.959778e+05  252421.820192   \n",
      "structuredollarpersqft        52089.0  9.084642e+01      59.956862   \n",
      "logerror                      52089.0  1.824858e-02       0.175990   \n",
      "\n",
      "                                       min           25%           50%  \\\n",
      "bathroomcnt                   1.000000e+00  2.000000e+00  2.000000e+00   \n",
      "bedroomcnt                    1.000000e+00  3.000000e+00  3.000000e+00   \n",
      "calculatedfinishedsquarefeet  1.520000e+02  1.268000e+03  1.659000e+03   \n",
      "latitude                      3.334062e+07  3.382689e+07  3.402338e+07   \n",
      "longitude                    -1.194754e+08 -1.184004e+08 -1.181529e+08   \n",
      "structuretaxvaluedollarcnt    1.480000e+02  7.720000e+04  1.318830e+05   \n",
      "structuredollarpersqft        3.983275e-02  5.498029e+01  8.216741e+01   \n",
      "logerror                     -4.655420e+00 -2.457495e-02  6.956119e-03   \n",
      "\n",
      "                                       75%           max  \n",
      "bathroomcnt                   3.000000e+00  1.800000e+01  \n",
      "bedroomcnt                    4.000000e+00  1.400000e+01  \n",
      "calculatedfinishedsquarefeet  2.306000e+03  2.192900e+04  \n",
      "latitude                      3.418742e+07  3.481877e+07  \n",
      "longitude                    -1.179291e+08 -1.175546e+08  \n",
      "structuretaxvaluedollarcnt    2.261220e+05  9.164901e+06  \n",
      "structuredollarpersqft        1.135682e+02  1.444221e+03  \n",
      "logerror                      4.052645e-02  5.262999e+00   \n",
      "\n",
      "DATAFRAME HEAD:\n",
      "          bathroomcnt  bedroomcnt  calculatedfinishedsquarefeet    latitude  \\\n",
      "parcelid                                                                      \n",
      "14297519          3.5         4.0                        3100.0  33634931.0   \n",
      "17052889          1.0         2.0                        1465.0  34449266.0   \n",
      "14186244          2.0         3.0                        1243.0  33886168.0   \n",
      "12177905          3.0         4.0                        2376.0  34245180.0   \n",
      "12095076          3.0         4.0                        2962.0  34145202.0   \n",
      "\n",
      "            longitude  structuretaxvaluedollarcnt  structuredollarpersqft  \\\n",
      "parcelid                                                                    \n",
      "14297519 -117869207.0                    485713.0              156.681613   \n",
      "17052889 -119281531.0                     88000.0               60.068259   \n",
      "14186244 -117823170.0                     85289.0               68.615447   \n",
      "12177905 -118240722.0                    108918.0               45.840909   \n",
      "12095076 -118179824.0                    276684.0               93.411209   \n",
      "\n",
      "          logerror  \n",
      "parcelid            \n",
      "14297519  0.025595  \n",
      "17052889  0.055619  \n",
      "14186244  0.005383  \n",
      "12177905 -0.103410  \n",
      "12095076 -0.001011   \n",
      "\n",
      "2019-11-07 10:54:11 ending frame_splain ; time: 0:00:00.065448\n"
     ]
    }
   ],
   "source": [
    "frame_splain(df, splain=True)"
   ]
  },
  {
   "cell_type": "markdown",
   "metadata": {},
   "source": [
    "**Find string categoricals**"
   ]
  },
  {
   "cell_type": "code",
   "execution_count": 14,
   "metadata": {},
   "outputs": [
    {
     "name": "stdout",
     "output_type": "stream",
     "text": [
      "2019-11-07 10:54:11 starting get_column_values_stats\n",
      "2019-11-07 10:54:12 ending get_column_values_stats ; time: 0:00:00.108714\n"
     ]
    },
    {
     "data": {
      "text/html": [
       "<div>\n",
       "<style scoped>\n",
       "    .dataframe tbody tr th:only-of-type {\n",
       "        vertical-align: middle;\n",
       "    }\n",
       "\n",
       "    .dataframe tbody tr th {\n",
       "        vertical-align: top;\n",
       "    }\n",
       "\n",
       "    .dataframe thead th {\n",
       "        text-align: right;\n",
       "    }\n",
       "</style>\n",
       "<table border=\"1\" class=\"dataframe\">\n",
       "  <thead>\n",
       "    <tr style=\"text-align: right;\">\n",
       "      <th></th>\n",
       "      <th>dtype</th>\n",
       "      <th>num_rows_values</th>\n",
       "      <th>num_rows_missing</th>\n",
       "      <th>pct_rows_missing</th>\n",
       "      <th>num_uniques</th>\n",
       "      <th>unique_values</th>\n",
       "    </tr>\n",
       "    <tr>\n",
       "      <th>cols</th>\n",
       "      <th></th>\n",
       "      <th></th>\n",
       "      <th></th>\n",
       "      <th></th>\n",
       "      <th></th>\n",
       "      <th></th>\n",
       "    </tr>\n",
       "  </thead>\n",
       "  <tbody>\n",
       "    <tr>\n",
       "      <th>bathroomcnt</th>\n",
       "      <td>float64</td>\n",
       "      <td>52089</td>\n",
       "      <td>0</td>\n",
       "      <td>0.0</td>\n",
       "      <td>21</td>\n",
       "      <td>[3.5, 1.0, 2.0, 3.0, 2.5, 4.5, 4.0, 5.0, 6.5, ...</td>\n",
       "    </tr>\n",
       "    <tr>\n",
       "      <th>bedroomcnt</th>\n",
       "      <td>float64</td>\n",
       "      <td>52089</td>\n",
       "      <td>0</td>\n",
       "      <td>0.0</td>\n",
       "      <td>13</td>\n",
       "      <td>[4.0, 2.0, 3.0, 6.0, 5.0, 1.0, 7.0, 8.0, 9.0, ...</td>\n",
       "    </tr>\n",
       "    <tr>\n",
       "      <th>calculatedfinishedsquarefeet</th>\n",
       "      <td>float64</td>\n",
       "      <td>52089</td>\n",
       "      <td>0</td>\n",
       "      <td>0.0</td>\n",
       "      <td>4710</td>\n",
       "      <td>[3100.0, 1465.0, 1243.0, 2376.0, 2962.0, 738.0...</td>\n",
       "    </tr>\n",
       "  </tbody>\n",
       "</table>\n",
       "</div>"
      ],
      "text/plain": [
       "                                dtype  num_rows_values  num_rows_missing  \\\n",
       "cols                                                                       \n",
       "bathroomcnt                   float64            52089                 0   \n",
       "bedroomcnt                    float64            52089                 0   \n",
       "calculatedfinishedsquarefeet  float64            52089                 0   \n",
       "\n",
       "                              pct_rows_missing  num_uniques  \\\n",
       "cols                                                          \n",
       "bathroomcnt                                0.0           21   \n",
       "bedroomcnt                                 0.0           13   \n",
       "calculatedfinishedsquarefeet               0.0         4710   \n",
       "\n",
       "                                                                  unique_values  \n",
       "cols                                                                             \n",
       "bathroomcnt                   [3.5, 1.0, 2.0, 3.0, 2.5, 4.5, 4.0, 5.0, 6.5, ...  \n",
       "bedroomcnt                    [4.0, 2.0, 3.0, 6.0, 5.0, 1.0, 7.0, 8.0, 9.0, ...  \n",
       "calculatedfinishedsquarefeet  [3100.0, 1465.0, 1243.0, 2376.0, 2962.0, 738.0...  "
      ]
     },
     "execution_count": 14,
     "metadata": {},
     "output_type": "execute_result"
    }
   ],
   "source": [
    "df_strings = get_column_values_stats(\n",
    "    df, \n",
    "    get_cols=df.columns[df.dtypes=='object'],\n",
    "    max_uniques=20000,\n",
    "    limit_to_max=True\n",
    ")\n",
    "df_strings"
   ]
  },
  {
   "cell_type": "code",
   "execution_count": 15,
   "metadata": {},
   "outputs": [
    {
     "data": {
      "text/plain": [
       "Index(['bathroomcnt', 'bedroomcnt', 'calculatedfinishedsquarefeet'], dtype='object', name='cols')"
      ]
     },
     "execution_count": 15,
     "metadata": {},
     "output_type": "execute_result"
    }
   ],
   "source": [
    "df_strings.index"
   ]
  },
  {
   "cell_type": "code",
   "execution_count": 16,
   "metadata": {},
   "outputs": [],
   "source": [
    "string_categoricals = [\n",
    "    'airconditioningdesc', \n",
    "    'architecturalstyledesc', \n",
    "    'buildingclassdesc', \n",
    "    'county', \n",
    "    'state', \n",
    "    'heatingorsystemdesc', \n",
    "    'propertycountylandusecode', \n",
    "    'propertylandusedesc', \n",
    "    'propertyzoningdesc', \n",
    "    'storydesc', \n",
    "    'taxdelinquencyflag', \n",
    "    'typeconstructiondesc'\n",
    "]"
   ]
  },
  {
   "cell_type": "code",
   "execution_count": 17,
   "metadata": {},
   "outputs": [
    {
     "name": "stdout",
     "output_type": "stream",
     "text": [
      "2019-11-07 10:54:12 starting retype_cols\n",
      "2019-11-07 10:54:12 ending retype_cols ; time: 0:00:00.003165\n",
      "<class 'pandas.core.frame.DataFrame'>\n",
      "Int64Index: 52089 entries, 14297519 to 12826780\n",
      "Data columns (total 8 columns):\n",
      "bathroomcnt                     52089 non-null float64\n",
      "bedroomcnt                      52089 non-null float64\n",
      "calculatedfinishedsquarefeet    52089 non-null float64\n",
      "latitude                        52089 non-null float64\n",
      "longitude                       52089 non-null float64\n",
      "structuretaxvaluedollarcnt      52089 non-null float64\n",
      "structuredollarpersqft          52089 non-null float64\n",
      "logerror                        52089 non-null float64\n",
      "dtypes: float64(8)\n",
      "memory usage: 3.6 MB\n"
     ]
    }
   ],
   "source": [
    "df = retype_cols(df, cols=string_categoricals, to_dtype='category')\n",
    "df.info()"
   ]
  },
  {
   "cell_type": "markdown",
   "metadata": {},
   "source": [
    "**Find Numeric Categoricals**"
   ]
  },
  {
   "cell_type": "code",
   "execution_count": 18,
   "metadata": {},
   "outputs": [
    {
     "name": "stdout",
     "output_type": "stream",
     "text": [
      "2019-11-07 10:54:12 starting get_column_values_stats\n",
      "2019-11-07 10:54:12 ending get_column_values_stats ; time: 0:00:00.120999\n"
     ]
    },
    {
     "data": {
      "text/html": [
       "<div>\n",
       "<style scoped>\n",
       "    .dataframe tbody tr th:only-of-type {\n",
       "        vertical-align: middle;\n",
       "    }\n",
       "\n",
       "    .dataframe tbody tr th {\n",
       "        vertical-align: top;\n",
       "    }\n",
       "\n",
       "    .dataframe thead th {\n",
       "        text-align: right;\n",
       "    }\n",
       "</style>\n",
       "<table border=\"1\" class=\"dataframe\">\n",
       "  <thead>\n",
       "    <tr style=\"text-align: right;\">\n",
       "      <th></th>\n",
       "      <th>dtype</th>\n",
       "      <th>num_rows_values</th>\n",
       "      <th>num_rows_missing</th>\n",
       "      <th>pct_rows_missing</th>\n",
       "      <th>num_uniques</th>\n",
       "      <th>unique_values</th>\n",
       "    </tr>\n",
       "    <tr>\n",
       "      <th>cols</th>\n",
       "      <th></th>\n",
       "      <th></th>\n",
       "      <th></th>\n",
       "      <th></th>\n",
       "      <th></th>\n",
       "      <th></th>\n",
       "    </tr>\n",
       "  </thead>\n",
       "  <tbody>\n",
       "    <tr>\n",
       "      <th>bathroomcnt</th>\n",
       "      <td>float64</td>\n",
       "      <td>52089</td>\n",
       "      <td>0</td>\n",
       "      <td>0.0</td>\n",
       "      <td>21</td>\n",
       "      <td>[3.5, 1.0, 2.0, 3.0, 2.5, 4.5, 4.0, 5.0, 6.5, ...</td>\n",
       "    </tr>\n",
       "    <tr>\n",
       "      <th>bedroomcnt</th>\n",
       "      <td>float64</td>\n",
       "      <td>52089</td>\n",
       "      <td>0</td>\n",
       "      <td>0.0</td>\n",
       "      <td>13</td>\n",
       "      <td>[4.0, 2.0, 3.0, 6.0, 5.0, 1.0, 7.0, 8.0, 9.0, ...</td>\n",
       "    </tr>\n",
       "    <tr>\n",
       "      <th>calculatedfinishedsquarefeet</th>\n",
       "      <td>float64</td>\n",
       "      <td>52089</td>\n",
       "      <td>0</td>\n",
       "      <td>0.0</td>\n",
       "      <td>4710</td>\n",
       "      <td>[3100.0, 1465.0, 1243.0, 2376.0, 2962.0, 738.0...</td>\n",
       "    </tr>\n",
       "    <tr>\n",
       "      <th>latitude</th>\n",
       "      <td>float64</td>\n",
       "      <td>52089</td>\n",
       "      <td>0</td>\n",
       "      <td>0.0</td>\n",
       "      <td>50293</td>\n",
       "      <td>[33634931.0, 34449266.0, 33886168.0, 34245180....</td>\n",
       "    </tr>\n",
       "    <tr>\n",
       "      <th>longitude</th>\n",
       "      <td>float64</td>\n",
       "      <td>52089</td>\n",
       "      <td>0</td>\n",
       "      <td>0.0</td>\n",
       "      <td>50571</td>\n",
       "      <td>[-117869207.0, -119281531.0, -117823170.0, -11...</td>\n",
       "    </tr>\n",
       "    <tr>\n",
       "      <th>structuretaxvaluedollarcnt</th>\n",
       "      <td>float64</td>\n",
       "      <td>52089</td>\n",
       "      <td>0</td>\n",
       "      <td>0.0</td>\n",
       "      <td>37220</td>\n",
       "      <td>[485713.0, 88000.0, 85289.0, 108918.0, 276684....</td>\n",
       "    </tr>\n",
       "    <tr>\n",
       "      <th>structuredollarpersqft</th>\n",
       "      <td>float64</td>\n",
       "      <td>52089</td>\n",
       "      <td>0</td>\n",
       "      <td>0.0</td>\n",
       "      <td>51809</td>\n",
       "      <td>[156.6816129032258, 60.06825938566553, 68.6154...</td>\n",
       "    </tr>\n",
       "  </tbody>\n",
       "</table>\n",
       "</div>"
      ],
      "text/plain": [
       "                                dtype  num_rows_values  num_rows_missing  \\\n",
       "cols                                                                       \n",
       "bathroomcnt                   float64            52089                 0   \n",
       "bedroomcnt                    float64            52089                 0   \n",
       "calculatedfinishedsquarefeet  float64            52089                 0   \n",
       "latitude                      float64            52089                 0   \n",
       "longitude                     float64            52089                 0   \n",
       "structuretaxvaluedollarcnt    float64            52089                 0   \n",
       "structuredollarpersqft        float64            52089                 0   \n",
       "\n",
       "                              pct_rows_missing  num_uniques  \\\n",
       "cols                                                          \n",
       "bathroomcnt                                0.0           21   \n",
       "bedroomcnt                                 0.0           13   \n",
       "calculatedfinishedsquarefeet               0.0         4710   \n",
       "latitude                                   0.0        50293   \n",
       "longitude                                  0.0        50571   \n",
       "structuretaxvaluedollarcnt                 0.0        37220   \n",
       "structuredollarpersqft                     0.0        51809   \n",
       "\n",
       "                                                                  unique_values  \n",
       "cols                                                                             \n",
       "bathroomcnt                   [3.5, 1.0, 2.0, 3.0, 2.5, 4.5, 4.0, 5.0, 6.5, ...  \n",
       "bedroomcnt                    [4.0, 2.0, 3.0, 6.0, 5.0, 1.0, 7.0, 8.0, 9.0, ...  \n",
       "calculatedfinishedsquarefeet  [3100.0, 1465.0, 1243.0, 2376.0, 2962.0, 738.0...  \n",
       "latitude                      [33634931.0, 34449266.0, 33886168.0, 34245180....  \n",
       "longitude                     [-117869207.0, -119281531.0, -117823170.0, -11...  \n",
       "structuretaxvaluedollarcnt    [485713.0, 88000.0, 85289.0, 108918.0, 276684....  \n",
       "structuredollarpersqft        [156.6816129032258, 60.06825938566553, 68.6154...  "
      ]
     },
     "execution_count": 18,
     "metadata": {},
     "output_type": "execute_result"
    }
   ],
   "source": [
    "df_cat_check = prep.get_column_values_stats(\n",
    "    df, \n",
    "    get_cols=df.columns[df.dtypes!='category'],\n",
    "    max_uniques=750000,\n",
    "    target_col=dfo.y_column,\n",
    "    limit_to_max=True\n",
    ")\n",
    "df_cat_check"
   ]
  },
  {
   "cell_type": "code",
   "execution_count": 19,
   "metadata": {},
   "outputs": [
    {
     "data": {
      "text/plain": [
       "Index(['bathroomcnt', 'bedroomcnt', 'calculatedfinishedsquarefeet', 'latitude',\n",
       "       'longitude', 'structuretaxvaluedollarcnt', 'structuredollarpersqft'],\n",
       "      dtype='object', name='cols')"
      ]
     },
     "execution_count": 19,
     "metadata": {},
     "output_type": "execute_result"
    }
   ],
   "source": [
    "df_cat_check.index"
   ]
  },
  {
   "cell_type": "code",
   "execution_count": 20,
   "metadata": {},
   "outputs": [],
   "source": [
    "numeric_categoricals = [\n",
    "    'airconditioningtypeid', \n",
    "    'architecturalstyletypeid', \n",
    "    'buildingclasstypeid', \n",
    "    'buildingqualitytypeid',\n",
    "    'decktypeid', \n",
    "    'fips', \n",
    "    'hashottuborspa',\n",
    "    'heatingorsystemtypeid',\n",
    "    'pooltypeid10', \n",
    "    'pooltypeid2', \n",
    "    'pooltypeid7', \n",
    "    'propertylandusetypeid',\n",
    "    'regionidcounty', \n",
    "    'regionidcity',\n",
    "    'regionidneighborhood',\n",
    "    'regionidzip',\n",
    "    'rawcensustractandblock',\n",
    "    'censustractandblock',\n",
    "    'storytypeid', \n",
    "    'threequarterbathnbr', \n",
    "    'numberofstories', \n",
    "    'fireplaceflag', \n",
    "    'assessmentyear', \n",
    "    'typeconstructiontypeid', \n",
    "    'transactions'\n",
    "]"
   ]
  },
  {
   "cell_type": "code",
   "execution_count": 21,
   "metadata": {},
   "outputs": [
    {
     "name": "stdout",
     "output_type": "stream",
     "text": [
      "2019-11-07 10:54:12 starting retype_cols\n",
      "2019-11-07 10:54:12 ending retype_cols ; time: 0:00:00.003838\n",
      "<class 'pandas.core.frame.DataFrame'>\n",
      "Int64Index: 52089 entries, 14297519 to 12826780\n",
      "Data columns (total 8 columns):\n",
      "bathroomcnt                     52089 non-null float64\n",
      "bedroomcnt                      52089 non-null float64\n",
      "calculatedfinishedsquarefeet    52089 non-null float64\n",
      "latitude                        52089 non-null float64\n",
      "longitude                       52089 non-null float64\n",
      "structuretaxvaluedollarcnt      52089 non-null float64\n",
      "structuredollarpersqft          52089 non-null float64\n",
      "logerror                        52089 non-null float64\n",
      "dtypes: float64(8)\n",
      "memory usage: 3.6 MB\n"
     ]
    }
   ],
   "source": [
    "df = retype_cols(df, cols=numeric_categoricals, to_dtype='category')\n",
    "df.info()"
   ]
  },
  {
   "cell_type": "code",
   "execution_count": null,
   "metadata": {},
   "outputs": [],
   "source": []
  },
  {
   "cell_type": "code",
   "execution_count": 22,
   "metadata": {},
   "outputs": [
    {
     "name": "stdout",
     "output_type": "stream",
     "text": [
      "2019-11-07 10:54:12 starting nulls_by_row\n",
      "2019-11-07 10:54:12 ending nulls_by_row ; time: 0:00:00.034113\n"
     ]
    },
    {
     "data": {
      "text/html": [
       "<div>\n",
       "<style scoped>\n",
       "    .dataframe tbody tr th:only-of-type {\n",
       "        vertical-align: middle;\n",
       "    }\n",
       "\n",
       "    .dataframe tbody tr th {\n",
       "        vertical-align: top;\n",
       "    }\n",
       "\n",
       "    .dataframe thead th {\n",
       "        text-align: right;\n",
       "    }\n",
       "</style>\n",
       "<table border=\"1\" class=\"dataframe\">\n",
       "  <thead>\n",
       "    <tr style=\"text-align: right;\">\n",
       "      <th></th>\n",
       "      <th>num_cols_missing</th>\n",
       "      <th>pct_cols_missing</th>\n",
       "      <th>parcelid</th>\n",
       "    </tr>\n",
       "  </thead>\n",
       "  <tbody>\n",
       "    <tr>\n",
       "      <th>0</th>\n",
       "      <td>0</td>\n",
       "      <td>0.0</td>\n",
       "      <td>52089</td>\n",
       "    </tr>\n",
       "  </tbody>\n",
       "</table>\n",
       "</div>"
      ],
      "text/plain": [
       "  num_cols_missing pct_cols_missing  parcelid\n",
       "0                0              0.0     52089"
      ]
     },
     "execution_count": 22,
     "metadata": {},
     "output_type": "execute_result"
    }
   ],
   "source": [
    "nulls_by_row(df)"
   ]
  },
  {
   "cell_type": "code",
   "execution_count": 23,
   "metadata": {},
   "outputs": [],
   "source": [
    "# check_outlier_cols ="
   ]
  },
  {
   "cell_type": "code",
   "execution_count": null,
   "metadata": {},
   "outputs": [],
   "source": []
  },
  {
   "cell_type": "code",
   "execution_count": null,
   "metadata": {},
   "outputs": [],
   "source": []
  },
  {
   "cell_type": "code",
   "execution_count": null,
   "metadata": {},
   "outputs": [],
   "source": []
  },
  {
   "cell_type": "code",
   "execution_count": null,
   "metadata": {},
   "outputs": [],
   "source": []
  },
  {
   "cell_type": "code",
   "execution_count": null,
   "metadata": {},
   "outputs": [],
   "source": []
  },
  {
   "cell_type": "code",
   "execution_count": null,
   "metadata": {},
   "outputs": [],
   "source": []
  },
  {
   "cell_type": "code",
   "execution_count": null,
   "metadata": {},
   "outputs": [],
   "source": []
  },
  {
   "cell_type": "code",
   "execution_count": null,
   "metadata": {},
   "outputs": [],
   "source": []
  },
  {
   "cell_type": "code",
   "execution_count": null,
   "metadata": {},
   "outputs": [],
   "source": []
  },
  {
   "cell_type": "code",
   "execution_count": null,
   "metadata": {},
   "outputs": [],
   "source": []
  },
  {
   "cell_type": "code",
   "execution_count": null,
   "metadata": {},
   "outputs": [],
   "source": []
  },
  {
   "cell_type": "code",
   "execution_count": null,
   "metadata": {},
   "outputs": [],
   "source": []
  },
  {
   "cell_type": "code",
   "execution_count": null,
   "metadata": {},
   "outputs": [],
   "source": []
  },
  {
   "cell_type": "markdown",
   "metadata": {},
   "source": [
    "#### Prepare"
   ]
  },
  {
   "cell_type": "markdown",
   "metadata": {},
   "source": [
    "1. Remove any properties that are likely to be something other than single unit properties. (e.g. no duplexes, no land/lot, ...). There are multiple ways to estimate that a property is a single unit, and there is not a single \"right\" answer. But for this exercise, do not purely filter by unitcnt as we did previously. Add some new logic that will reduce the number of properties that are falsely removed. You might want to use # bedrooms, square feet, unit type or the like to then identify those with unitcnt not defined."
   ]
  },
  {
   "cell_type": "markdown",
   "metadata": {},
   "source": [
    "2. Create a function that will drop rows or columns based on the percent of values that are missing: `handle_missing_values(df, prop_required_column, prop_required_row)`.\n",
    "\n",
    "   - The input:\n",
    "       - A dataframe\n",
    "       - A number between 0 and 1 that represents the proportion, for each column, of rows with non-missing values required to keep the column. i.e. if prop_required_column = .6, then you are requiring a column to have at least 60% of values not-NA (no more than 40% missing).\n",
    "       - A number between 0 and 1 that represents the proportion, for each row, of columns/variables with non-missing values required to keep the row. For example, if prop_required_row = .75, then you are requiring a row to have at least 75% of variables with a non-missing value (no more that 25% missing).\n",
    "   - The output:\n",
    "       - The dataframe with the columns and rows dropped as indicated. Be sure to drop the columns prior to the rows in your function.\n",
    "   - hint:\n",
    "       - Look up the dropna documentation.\n",
    "       - You will want to compute a threshold from your input values (prop_required) and total number of rows or columns.\n",
    "       - Make use of inplace, i.e. inplace=True/False."
   ]
  },
  {
   "cell_type": "code",
   "execution_count": 24,
   "metadata": {},
   "outputs": [],
   "source": [
    "# def handle_missing_values(\n",
    "#     df, \n",
    "#     prop_required_column, \n",
    "#     prop_required_row\n",
    "#     ):\n",
    "#     '''\n",
    "#     handle_missing_values(\n",
    "#     df, \n",
    "#     prop_required_column=.9, \n",
    "#     prop_required_row=.9\n",
    "#     )\n",
    "#     '''\n",
    "    "
   ]
  },
  {
   "cell_type": "markdown",
   "metadata": {},
   "source": [
    "3. Decide how to handle the remaining missing values:\n",
    "   - Fill with constant value.\n",
    "   - Impute with mean, median, mode.\n",
    "   - Drop row/column"
   ]
  },
  {
   "cell_type": "code",
   "execution_count": 25,
   "metadata": {},
   "outputs": [],
   "source": [
    "# df_sqft = df[['calculatedfinishedsquarefeet',\n",
    "# 'finishedfloor1squarefeet',\n",
    "# 'finishedsquarefeet6',\n",
    "# 'finishedsquarefeet12',\n",
    "# 'finishedsquarefeet13',\n",
    "# 'finishedsquarefeet15',\n",
    "# 'finishedsquarefeet50'\n",
    "# ]]"
   ]
  },
  {
   "cell_type": "markdown",
   "metadata": {},
   "source": [
    "#### `wrangle_zillow.py`"
   ]
  },
  {
   "cell_type": "markdown",
   "metadata": {},
   "source": [
    "Functions of the work above needed to acquire and prepare a new sample of data."
   ]
  },
  {
   "cell_type": "code",
   "execution_count": 26,
   "metadata": {},
   "outputs": [],
   "source": [
    "# df_sqft[df_sqft.calculatedfinishedsquarefeet.isna() & (df_sqft.finishedsquarefeet50.isna()==False)]"
   ]
  },
  {
   "cell_type": "code",
   "execution_count": 27,
   "metadata": {},
   "outputs": [],
   "source": [
    "# df_pool = df[['poolcnt','poolsizesum','pooltypeid2','pooltypeid7','pooltypeid10']]\n",
    "# df_pool[(df_pool.poolcnt.isna()==False) | (df_pool.pooltypeid10.isna()==False)]"
   ]
  },
  {
   "cell_type": "code",
   "execution_count": null,
   "metadata": {},
   "outputs": [],
   "source": []
  },
  {
   "cell_type": "code",
   "execution_count": 28,
   "metadata": {},
   "outputs": [
    {
     "name": "stdout",
     "output_type": "stream",
     "text": [
      "<class 'pandas.core.frame.DataFrame'>\n",
      "Int64Index: 52089 entries, 14297519 to 12826780\n",
      "Data columns (total 8 columns):\n",
      "bathroomcnt                     52089 non-null float64\n",
      "bedroomcnt                      52089 non-null float64\n",
      "calculatedfinishedsquarefeet    52089 non-null float64\n",
      "latitude                        52089 non-null float64\n",
      "longitude                       52089 non-null float64\n",
      "structuretaxvaluedollarcnt      52089 non-null float64\n",
      "structuredollarpersqft          52089 non-null float64\n",
      "logerror                        52089 non-null float64\n",
      "dtypes: float64(8)\n",
      "memory usage: 3.6 MB\n"
     ]
    }
   ],
   "source": [
    "dfo.df = df\n",
    "dfo.df.info()"
   ]
  },
  {
   "cell_type": "code",
   "execution_count": 29,
   "metadata": {},
   "outputs": [
    {
     "data": {
      "image/png": "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\n",
      "text/plain": [
       "<Figure size 792x720 with 2 Axes>"
      ]
     },
     "metadata": {
      "needs_background": "light"
     },
     "output_type": "display_data"
    }
   ],
   "source": [
    "plt.figure(figsize=(11,10))\n",
    "cor = df.corr()\n",
    "plot = sns.heatmap(cor, annot=True, cmap=plt.cm.RdBu_r)\n"
   ]
  },
  {
   "cell_type": "code",
   "execution_count": 30,
   "metadata": {},
   "outputs": [],
   "source": [
    "# sns.pairplot(df)"
   ]
  },
  {
   "cell_type": "code",
   "execution_count": 31,
   "metadata": {},
   "outputs": [
    {
     "name": "stdout",
     "output_type": "stream",
     "text": [
      "2019-11-07 10:54:12 starting xy_df\n",
      "2019-11-07 10:54:12 starting frame_splain\n",
      "2019-11-07 10:54:12 ending frame_splain ; time: 0:00:00.000154\n",
      "2019-11-07 10:54:12 starting frame_splain\n",
      "2019-11-07 10:54:12 ending frame_splain ; time: 0:00:00.000130\n",
      "2019-11-07 10:54:12 ending xy_df ; time: 0:00:00.003697\n"
     ]
    }
   ],
   "source": [
    "dfo.X, dfo.y = prep.xy_df(dfo.df, dfo.y_column)"
   ]
  },
  {
   "cell_type": "code",
   "execution_count": 32,
   "metadata": {},
   "outputs": [
    {
     "name": "stdout",
     "output_type": "stream",
     "text": [
      "<class 'pandas.core.frame.DataFrame'>\n",
      "Int64Index: 52089 entries, 14297519 to 12826780\n",
      "Data columns (total 7 columns):\n",
      "bathroomcnt                     52089 non-null float64\n",
      "bedroomcnt                      52089 non-null float64\n",
      "calculatedfinishedsquarefeet    52089 non-null float64\n",
      "latitude                        52089 non-null float64\n",
      "longitude                       52089 non-null float64\n",
      "structuretaxvaluedollarcnt      52089 non-null float64\n",
      "structuredollarpersqft          52089 non-null float64\n",
      "dtypes: float64(7)\n",
      "memory usage: 3.2 MB\n"
     ]
    }
   ],
   "source": [
    "X = dfo.X\n",
    "X.info()"
   ]
  },
  {
   "cell_type": "code",
   "execution_count": null,
   "metadata": {},
   "outputs": [],
   "source": []
  },
  {
   "cell_type": "code",
   "execution_count": null,
   "metadata": {},
   "outputs": [],
   "source": []
  },
  {
   "cell_type": "code",
   "execution_count": null,
   "metadata": {},
   "outputs": [],
   "source": []
  },
  {
   "cell_type": "code",
   "execution_count": null,
   "metadata": {},
   "outputs": [],
   "source": []
  },
  {
   "cell_type": "code",
   "execution_count": null,
   "metadata": {},
   "outputs": [],
   "source": []
  },
  {
   "cell_type": "code",
   "execution_count": null,
   "metadata": {},
   "outputs": [],
   "source": []
  },
  {
   "cell_type": "code",
   "execution_count": null,
   "metadata": {},
   "outputs": [],
   "source": []
  },
  {
   "cell_type": "code",
   "execution_count": null,
   "metadata": {},
   "outputs": [],
   "source": []
  },
  {
   "cell_type": "code",
   "execution_count": null,
   "metadata": {},
   "outputs": [],
   "source": []
  },
  {
   "cell_type": "code",
   "execution_count": null,
   "metadata": {},
   "outputs": [],
   "source": []
  },
  {
   "cell_type": "code",
   "execution_count": null,
   "metadata": {},
   "outputs": [],
   "source": []
  },
  {
   "cell_type": "code",
   "execution_count": null,
   "metadata": {},
   "outputs": [],
   "source": []
  },
  {
   "cell_type": "code",
   "execution_count": 33,
   "metadata": {},
   "outputs": [],
   "source": [
    "cluster_cols = ['longitude', 'latitude', 'structuredollarpersqft']"
   ]
  },
  {
   "cell_type": "code",
   "execution_count": 34,
   "metadata": {},
   "outputs": [],
   "source": [
    "cluster_col = ['cluster']"
   ]
  },
  {
   "cell_type": "code",
   "execution_count": 35,
   "metadata": {},
   "outputs": [],
   "source": [
    "ignore_cols = ['structuretaxvaluedollarcnt']"
   ]
  },
  {
   "cell_type": "code",
   "execution_count": 36,
   "metadata": {},
   "outputs": [],
   "source": [
    "non_cluster_cols = [col for col in X.columns if col not in cluster_cols + ignore_cols + cluster_col]"
   ]
  },
  {
   "cell_type": "code",
   "execution_count": 37,
   "metadata": {},
   "outputs": [
    {
     "data": {
      "text/plain": [
       "['bathroomcnt', 'bedroomcnt', 'calculatedfinishedsquarefeet']"
      ]
     },
     "execution_count": 37,
     "metadata": {},
     "output_type": "execute_result"
    }
   ],
   "source": [
    "non_cluster_cols"
   ]
  },
  {
   "cell_type": "code",
   "execution_count": 38,
   "metadata": {},
   "outputs": [],
   "source": [
    "Xc = X[cluster_cols]"
   ]
  },
  {
   "cell_type": "code",
   "execution_count": 39,
   "metadata": {},
   "outputs": [
    {
     "name": "stdout",
     "output_type": "stream",
     "text": [
      "<class 'pandas.core.frame.DataFrame'>\n",
      "Int64Index: 52089 entries, 14297519 to 12826780\n",
      "Data columns (total 3 columns):\n",
      "longitude                 52089 non-null float64\n",
      "latitude                  52089 non-null float64\n",
      "structuredollarpersqft    52089 non-null float64\n",
      "dtypes: float64(3)\n",
      "memory usage: 1.6 MB\n"
     ]
    }
   ],
   "source": [
    "Xc.info()"
   ]
  },
  {
   "cell_type": "code",
   "execution_count": 40,
   "metadata": {},
   "outputs": [
    {
     "name": "stdout",
     "output_type": "stream",
     "text": [
      "<class 'pandas.core.frame.DataFrame'>\n",
      "Int64Index: 52089 entries, 14297519 to 12826780\n",
      "Data columns (total 3 columns):\n",
      "bathroomcnt                     52089 non-null float64\n",
      "bedroomcnt                      52089 non-null float64\n",
      "calculatedfinishedsquarefeet    52089 non-null float64\n",
      "dtypes: float64(3)\n",
      "memory usage: 1.6 MB\n"
     ]
    }
   ],
   "source": [
    "Xnc = X[non_cluster_cols]\n",
    "Xnc.info()"
   ]
  },
  {
   "cell_type": "code",
   "execution_count": 41,
   "metadata": {},
   "outputs": [],
   "source": [
    "Xc_scaler = MinMaxScaler(copy=True, feature_range=(0,1)).fit(Xc)"
   ]
  },
  {
   "cell_type": "code",
   "execution_count": 42,
   "metadata": {},
   "outputs": [],
   "source": [
    "Xc_scaled = pd.DataFrame(Xc_scaler.transform(Xc), columns=Xc.columns.values).set_index([Xc.index.values])"
   ]
  },
  {
   "cell_type": "code",
   "execution_count": 43,
   "metadata": {},
   "outputs": [
    {
     "name": "stdout",
     "output_type": "stream",
     "text": [
      "<class 'pandas.core.frame.DataFrame'>\n",
      "Int64Index: 52089 entries, 14297519 to 12826780\n",
      "Data columns (total 3 columns):\n",
      "longitude                 52089 non-null float64\n",
      "latitude                  52089 non-null float64\n",
      "structuredollarpersqft    52089 non-null float64\n",
      "dtypes: float64(3)\n",
      "memory usage: 1.6 MB\n"
     ]
    }
   ],
   "source": [
    "Xc_scaled.info()"
   ]
  },
  {
   "cell_type": "code",
   "execution_count": 44,
   "metadata": {},
   "outputs": [],
   "source": [
    "Xc_scaled['sdpsf_score'] = Xc_scaled.structuredollarpersqft * 15"
   ]
  },
  {
   "cell_type": "code",
   "execution_count": 45,
   "metadata": {},
   "outputs": [],
   "source": [
    "Xc_structuredollarpersqft = Xc_scaled[['structuredollarpersqft']]\n",
    "Xc_scaled = Xc_scaled.drop(columns='structuredollarpersqft')"
   ]
  },
  {
   "cell_type": "code",
   "execution_count": null,
   "metadata": {},
   "outputs": [],
   "source": []
  },
  {
   "cell_type": "code",
   "execution_count": null,
   "metadata": {},
   "outputs": [],
   "source": []
  },
  {
   "cell_type": "code",
   "execution_count": null,
   "metadata": {},
   "outputs": [],
   "source": []
  },
  {
   "cell_type": "code",
   "execution_count": null,
   "metadata": {},
   "outputs": [],
   "source": []
  },
  {
   "cell_type": "code",
   "execution_count": null,
   "metadata": {},
   "outputs": [],
   "source": []
  },
  {
   "cell_type": "code",
   "execution_count": null,
   "metadata": {},
   "outputs": [],
   "source": []
  },
  {
   "cell_type": "code",
   "execution_count": null,
   "metadata": {},
   "outputs": [],
   "source": []
  },
  {
   "cell_type": "code",
   "execution_count": null,
   "metadata": {},
   "outputs": [],
   "source": []
  },
  {
   "cell_type": "code",
   "execution_count": null,
   "metadata": {},
   "outputs": [],
   "source": []
  },
  {
   "cell_type": "code",
   "execution_count": null,
   "metadata": {},
   "outputs": [],
   "source": []
  },
  {
   "cell_type": "code",
   "execution_count": null,
   "metadata": {},
   "outputs": [],
   "source": []
  },
  {
   "cell_type": "code",
   "execution_count": null,
   "metadata": {},
   "outputs": [],
   "source": []
  },
  {
   "cell_type": "code",
   "execution_count": null,
   "metadata": {},
   "outputs": [],
   "source": []
  },
  {
   "cell_type": "code",
   "execution_count": null,
   "metadata": {},
   "outputs": [],
   "source": []
  },
  {
   "cell_type": "code",
   "execution_count": null,
   "metadata": {},
   "outputs": [],
   "source": []
  },
  {
   "cell_type": "code",
   "execution_count": 46,
   "metadata": {},
   "outputs": [
    {
     "data": {
      "image/png": "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\n",
      "text/plain": [
       "<Figure size 432x288 with 1 Axes>"
      ]
     },
     "metadata": {
      "needs_background": "light"
     },
     "output_type": "display_data"
    }
   ],
   "source": [
    "cf.compare_ks(Xc_scaled, min_k=4, max_k=18)"
   ]
  },
  {
   "cell_type": "code",
<<<<<<< ours
   "execution_count": 47,
=======
   "execution_count": 108,
>>>>>>> theirs
   "metadata": {},
   "outputs": [
    {
     "data": {
      "text/html": [
       "<div>\n",
       "<style scoped>\n",
       "    .dataframe tbody tr th:only-of-type {\n",
       "        vertical-align: middle;\n",
       "    }\n",
       "\n",
       "    .dataframe tbody tr th {\n",
       "        vertical-align: top;\n",
       "    }\n",
       "\n",
       "    .dataframe thead th {\n",
       "        text-align: right;\n",
       "    }\n",
       "</style>\n",
       "<table border=\"1\" class=\"dataframe\">\n",
       "  <thead>\n",
       "    <tr style=\"text-align: right;\">\n",
       "      <th></th>\n",
       "      <th>longitude</th>\n",
       "      <th>latitude</th>\n",
       "      <th>sdpsf_score</th>\n",
       "      <th>cluster</th>\n",
       "    </tr>\n",
       "  </thead>\n",
       "  <tbody>\n",
       "    <tr>\n",
       "      <th>14297519</th>\n",
       "      <td>0.836227</td>\n",
       "      <td>0.199108</td>\n",
       "      <td>1.626961</td>\n",
<<<<<<< ours
       "      <td>0</td>\n",
=======
       "      <td>7</td>\n",
>>>>>>> theirs
       "    </tr>\n",
       "    <tr>\n",
       "      <th>17052889</th>\n",
       "      <td>0.100941</td>\n",
       "      <td>0.750024</td>\n",
       "      <td>0.623486</td>\n",
<<<<<<< ours
       "      <td>9</td>\n",
=======
       "      <td>0</td>\n",
>>>>>>> theirs
       "    </tr>\n",
       "    <tr>\n",
       "      <th>14186244</th>\n",
       "      <td>0.860195</td>\n",
       "      <td>0.369076</td>\n",
       "      <td>0.712261</td>\n",
<<<<<<< ours
       "      <td>11</td>\n",
=======
       "      <td>19</td>\n",
>>>>>>> theirs
       "    </tr>\n",
       "    <tr>\n",
       "      <th>12177905</th>\n",
       "      <td>0.642809</td>\n",
       "      <td>0.611955</td>\n",
       "      <td>0.475713</td>\n",
<<<<<<< ours
       "      <td>9</td>\n",
=======
       "      <td>0</td>\n",
>>>>>>> theirs
       "    </tr>\n",
       "    <tr>\n",
       "      <th>12095076</th>\n",
       "      <td>0.674513</td>\n",
       "      <td>0.544318</td>\n",
       "      <td>0.969803</td>\n",
<<<<<<< ours
       "      <td>4</td>\n",
=======
       "      <td>2</td>\n",
>>>>>>> theirs
       "    </tr>\n",
       "    <tr>\n",
       "      <th>12069064</th>\n",
       "      <td>0.643519</td>\n",
       "      <td>0.547032</td>\n",
       "      <td>0.265441</td>\n",
<<<<<<< ours
       "      <td>7</td>\n",
=======
       "      <td>5</td>\n",
>>>>>>> theirs
       "    </tr>\n",
       "    <tr>\n",
       "      <th>12790562</th>\n",
       "      <td>0.764534</td>\n",
       "      <td>0.419180</td>\n",
       "      <td>0.606327</td>\n",
<<<<<<< ours
       "      <td>11</td>\n",
=======
       "      <td>1</td>\n",
>>>>>>> theirs
       "    </tr>\n",
       "    <tr>\n",
       "      <th>11104527</th>\n",
       "      <td>0.526362</td>\n",
       "      <td>0.740353</td>\n",
       "      <td>1.110677</td>\n",
<<<<<<< ours
       "      <td>5</td>\n",
=======
       "      <td>6</td>\n",
>>>>>>> theirs
       "    </tr>\n",
       "    <tr>\n",
       "      <th>13944538</th>\n",
       "      <td>0.777071</td>\n",
       "      <td>0.291458</td>\n",
       "      <td>0.748477</td>\n",
<<<<<<< ours
       "      <td>11</td>\n",
=======
       "      <td>19</td>\n",
>>>>>>> theirs
       "    </tr>\n",
       "    <tr>\n",
       "      <th>17110996</th>\n",
       "      <td>0.158677</td>\n",
       "      <td>0.607253</td>\n",
       "      <td>0.749794</td>\n",
<<<<<<< ours
       "      <td>5</td>\n",
=======
       "      <td>15</td>\n",
>>>>>>> theirs
       "    </tr>\n",
       "    <tr>\n",
       "      <th>14375300</th>\n",
       "      <td>0.920566</td>\n",
       "      <td>0.204432</td>\n",
       "      <td>1.047019</td>\n",
<<<<<<< ours
       "      <td>4</td>\n",
=======
       "      <td>18</td>\n",
>>>>>>> theirs
       "    </tr>\n",
       "    <tr>\n",
       "      <th>11830315</th>\n",
       "      <td>0.685308</td>\n",
       "      <td>0.462349</td>\n",
       "      <td>1.159322</td>\n",
<<<<<<< ours
       "      <td>4</td>\n",
=======
       "      <td>2</td>\n",
>>>>>>> theirs
       "    </tr>\n",
       "    <tr>\n",
       "      <th>14387959</th>\n",
       "      <td>0.925777</td>\n",
       "      <td>0.166474</td>\n",
       "      <td>0.867310</td>\n",
<<<<<<< ours
       "      <td>4</td>\n",
=======
       "      <td>18</td>\n",
>>>>>>> theirs
       "    </tr>\n",
       "    <tr>\n",
       "      <th>14349322</th>\n",
       "      <td>0.895870</td>\n",
       "      <td>0.262738</td>\n",
       "      <td>1.139287</td>\n",
<<<<<<< ours
       "      <td>4</td>\n",
=======
       "      <td>18</td>\n",
>>>>>>> theirs
       "    </tr>\n",
       "    <tr>\n",
       "      <th>11706737</th>\n",
       "      <td>0.621812</td>\n",
       "      <td>0.452493</td>\n",
       "      <td>0.296841</td>\n",
<<<<<<< ours
       "      <td>7</td>\n",
=======
       "      <td>5</td>\n",
>>>>>>> theirs
       "    </tr>\n",
       "  </tbody>\n",
       "</table>\n",
       "</div>"
      ],
      "text/plain": [
       "          longitude  latitude  sdpsf_score  cluster\n",
<<<<<<< ours
       "14297519   0.836227  0.199108     1.626961        0\n",
       "17052889   0.100941  0.750024     0.623486        9\n",
       "14186244   0.860195  0.369076     0.712261       11\n",
       "12177905   0.642809  0.611955     0.475713        9\n",
       "12095076   0.674513  0.544318     0.969803        4\n",
       "12069064   0.643519  0.547032     0.265441        7\n",
       "12790562   0.764534  0.419180     0.606327       11\n",
       "11104527   0.526362  0.740353     1.110677        5\n",
       "13944538   0.777071  0.291458     0.748477       11\n",
       "17110996   0.158677  0.607253     0.749794        5\n",
       "14375300   0.920566  0.204432     1.047019        4\n",
       "11830315   0.685308  0.462349     1.159322        4\n",
       "14387959   0.925777  0.166474     0.867310        4\n",
       "14349322   0.895870  0.262738     1.139287        4\n",
       "11706737   0.621812  0.452493     0.296841        7"
      ]
     },
     "execution_count": 47,
=======
       "14297519   0.836227  0.199108     1.626961        7\n",
       "17052889   0.100941  0.750024     0.623486        0\n",
       "14186244   0.860195  0.369076     0.712261       19\n",
       "12177905   0.642809  0.611955     0.475713        0\n",
       "12095076   0.674513  0.544318     0.969803        2\n",
       "12069064   0.643519  0.547032     0.265441        5\n",
       "12790562   0.764534  0.419180     0.606327        1\n",
       "11104527   0.526362  0.740353     1.110677        6\n",
       "13944538   0.777071  0.291458     0.748477       19\n",
       "17110996   0.158677  0.607253     0.749794       15\n",
       "14375300   0.920566  0.204432     1.047019       18\n",
       "11830315   0.685308  0.462349     1.159322        2\n",
       "14387959   0.925777  0.166474     0.867310       18\n",
       "14349322   0.895870  0.262738     1.139287       18\n",
       "11706737   0.621812  0.452493     0.296841        5"
      ]
     },
     "execution_count": 108,
>>>>>>> theirs
     "metadata": {},
     "output_type": "execute_result"
    }
   ],
   "source": [
    "cf.set_kmeans_clusters(Xc_scaled, 20)\n",
    "Xc_scaled.head(15)"
   ]
  },
  {
   "cell_type": "code",
   "execution_count": 48,
   "metadata": {},
   "outputs": [],
   "source": [
    "# plt.figure(figsize=(6,5))\n",
    "# cf.plot_2d_clusters(X, x_col='bathroomcnt', y_col='bedroomcnt', c_col='cluster')\n",
    "# plt.show()"
   ]
  },
  {
   "cell_type": "code",
   "execution_count": 49,
   "metadata": {},
   "outputs": [],
   "source": [
    "# plt.figure(figsize=(6,5))\n",
    "# cf.plot_2d_clusters(X, x_col='bedroomcnt', y_col='calculatedfinishedsquarefeet', c_col='cluster')\n",
    "# plt.show()"
   ]
  },
  {
   "cell_type": "code",
   "execution_count": 50,
   "metadata": {},
   "outputs": [],
   "source": [
    "# plt.figure(figsize=(6,5))\n",
    "# cf.plot_2d_clusters(X, x_col='bathroomcnt', y_col='calculatedfinishedsquarefeet', c_col='cluster')\n",
    "# plt.show()"
   ]
  },
  {
   "cell_type": "code",
   "execution_count": 51,
   "metadata": {},
   "outputs": [],
   "source": [
    "def features_2d(df, c_col=None, **kwargs):\n",
    "    \n",
    "    cols = [col for col in df.columns if col != c_col]\n",
    "    n = len(cols)\n",
    "    grid = []\n",
    "    for x in range(0, n-1):\n",
    "        for y in range(x+1, n):\n",
    "            line = [cols[x], cols[y]]\n",
    "            grid.append(line)\n",
    "    \n",
    "    return_df = pd.DataFrame(grid, columns=['x_col', 'y_col'])\n",
    "    if c_col:\n",
    "        return_df['c_col'] = c_col\n",
    "    return return_df\n",
    "\n"
   ]
  },
  {
   "cell_type": "code",
   "execution_count": 52,
   "metadata": {},
   "outputs": [],
   "source": [
    "def features_3d(df, c_col=None, **kwargs):\n",
    "    \n",
    "    cols = [col for col in df.columns if col != c_col]\n",
    "    n = len(cols)\n",
    "    grid = []\n",
    "    for x in range(0, n-2):\n",
    "        for y in range(x+1, n-1):\n",
    "            for z in range(y+1, n):\n",
    "                line = [cols[x], cols[y], cols[z]]\n",
    "                grid.append(line)\n",
    "    \n",
    "\n",
    "    return_df = pd.DataFrame(grid, columns=['x_col', 'y_col', 'z_col'])\n",
    "    if c_col:\n",
    "        return_df['c_col'] = c_col\n",
    "    return return_df\n",
    "\n"
   ]
  },
  {
   "cell_type": "code",
   "execution_count": 53,
   "metadata": {},
   "outputs": [],
   "source": [
    "# features_2d(Xc_scaled)"
   ]
  },
  {
   "cell_type": "code",
   "execution_count": 62,
   "metadata": {},
   "outputs": [
    {
     "data": {
      "text/html": [
       "<div>\n",
       "<style scoped>\n",
       "    .dataframe tbody tr th:only-of-type {\n",
       "        vertical-align: middle;\n",
       "    }\n",
       "\n",
       "    .dataframe tbody tr th {\n",
       "        vertical-align: top;\n",
       "    }\n",
       "\n",
       "    .dataframe thead th {\n",
       "        text-align: right;\n",
       "    }\n",
       "</style>\n",
       "<table border=\"1\" class=\"dataframe\">\n",
       "  <thead>\n",
       "    <tr style=\"text-align: right;\">\n",
       "      <th></th>\n",
       "      <th>x_col</th>\n",
       "      <th>y_col</th>\n",
       "      <th>c_col</th>\n",
       "    </tr>\n",
       "  </thead>\n",
       "  <tbody>\n",
       "    <tr>\n",
       "      <th>0</th>\n",
       "      <td>longitude</td>\n",
       "      <td>latitude</td>\n",
       "      <td>cluster</td>\n",
       "    </tr>\n",
       "    <tr>\n",
       "      <th>1</th>\n",
       "      <td>longitude</td>\n",
       "      <td>sdpsf_score</td>\n",
       "      <td>cluster</td>\n",
       "    </tr>\n",
       "    <tr>\n",
       "      <th>2</th>\n",
       "      <td>latitude</td>\n",
       "      <td>sdpsf_score</td>\n",
       "      <td>cluster</td>\n",
       "    </tr>\n",
       "  </tbody>\n",
       "</table>\n",
       "</div>"
      ],
      "text/plain": [
       "       x_col        y_col    c_col\n",
       "0  longitude     latitude  cluster\n",
       "1  longitude  sdpsf_score  cluster\n",
       "2   latitude  sdpsf_score  cluster"
      ]
     },
     "execution_count": 62,
     "metadata": {},
     "output_type": "execute_result"
    }
   ],
   "source": [
    "features_cl = features_2d(Xc_scaled, c_col=cluster_col[0])\n",
    "features_cl"
   ]
  },
  {
   "cell_type": "code",
   "execution_count": 63,
   "metadata": {},
   "outputs": [],
   "source": [
    "# features_3d(Xc_scaled, c_col=)"
   ]
  },
  {
   "cell_type": "code",
   "execution_count": 64,
   "metadata": {},
   "outputs": [],
   "source": [
    "# features_3d(df)"
   ]
  },
  {
   "cell_type": "code",
<<<<<<< ours
   "execution_count": null,
=======
   "execution_count": 109,
>>>>>>> theirs
   "metadata": {},
   "outputs": [],
   "source": [
    "def plot_features_2D(feature_df, df, x_col='x_col', y_col='y_col', c_col='c_col'):\n",
    "    x_vals = feature_df[x_col]\n",
    "    y_vals = feature_df[y_col]\n",
    "    c_vals = feature_df[c_col]\n",
    "    n = len(x_vals)\n",
    "    for idx in range(0,n):\n",
    "        plt.figure(figsize=(6,5))\n",
    "        cf.plot_2d_clusters(df, x_col=x_vals[idx], y_col=y_vals[idx], c_col=c_vals[idx], alpha= .02, marker= 'o', s= 500)\n",
    "        plt.show()"
   ]
  },
  {
   "cell_type": "code",
<<<<<<< ours
   "execution_count": null,
   "metadata": {},
   "outputs": [],
=======
   "execution_count": 110,
   "metadata": {},
   "outputs": [
    {
     "data": {
      "image/png": "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\n",
      "text/plain": [
       "<Figure size 432x360 with 1 Axes>"
      ]
     },
     "metadata": {},
     "output_type": "display_data"
    },
    {
     "data": {
      "image/png": "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\n",
      "text/plain": [
       "<Figure size 432x360 with 1 Axes>"
      ]
     },
     "metadata": {},
     "output_type": "display_data"
    },
    {
     "data": {
      "image/png": "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\n",
      "text/plain": [
       "<Figure size 432x360 with 1 Axes>"
      ]
     },
     "metadata": {},
     "output_type": "display_data"
    }
   ],
>>>>>>> theirs
   "source": [
    "plot_features_2D(features_cl, Xc_scaled)"
   ]
  },
  {
   "cell_type": "code",
   "execution_count": null,
   "metadata": {},
   "outputs": [],
   "source": [
    "cluster_y = "
   ]
  },
  {
   "cell_type": "code",
   "execution_count": null,
   "metadata": {},
   "outputs": [],
   "source": []
  },
  {
   "cell_type": "code",
   "execution_count": null,
   "metadata": {},
   "outputs": [],
   "source": []
  },
  {
   "cell_type": "code",
   "execution_count": null,
   "metadata": {},
   "outputs": [],
   "source": []
  },
  {
   "cell_type": "code",
   "execution_count": null,
   "metadata": {},
   "outputs": [],
   "source": []
  },
  {
   "cell_type": "code",
   "execution_count": null,
   "metadata": {},
   "outputs": [],
   "source": []
  },
  {
   "cell_type": "code",
   "execution_count": null,
   "metadata": {},
   "outputs": [],
   "source": []
  },
  {
   "cell_type": "code",
   "execution_count": null,
   "metadata": {},
   "outputs": [],
   "source": []
  },
  {
   "cell_type": "code",
   "execution_count": 61,
   "metadata": {},
   "outputs": [
    {
     "data": {
      "text/plain": [
       "<Figure size 432x360 with 0 Axes>"
      ]
     },
     "execution_count": 61,
     "metadata": {},
     "output_type": "execute_result"
    },
    {
     "data": {
      "text/plain": [
       "<Figure size 432x360 with 0 Axes>"
      ]
     },
     "metadata": {},
     "output_type": "display_data"
    }
   ],
   "source": [
    "plt.figure(figsize=(6,5))\n",
    "\n"
   ]
  },
  {
   "cell_type": "code",
   "execution_count": null,
   "metadata": {},
   "outputs": [],
   "source": []
  }
 ],
 "metadata": {
  "kernelspec": {
   "display_name": "Python 3",
   "language": "python",
   "name": "python3"
  },
  "language_info": {
   "codemirror_mode": {
    "name": "ipython",
    "version": 3
   },
   "file_extension": ".py",
   "mimetype": "text/x-python",
   "name": "python",
   "nbconvert_exporter": "python",
   "pygments_lexer": "ipython3",
   "version": "3.7.3"
  }
 },
 "nbformat": 4,
 "nbformat_minor": 2
}
