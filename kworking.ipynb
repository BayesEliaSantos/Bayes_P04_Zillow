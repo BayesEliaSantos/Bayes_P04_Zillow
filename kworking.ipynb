{
 "cells": [
  {
   "cell_type": "markdown",
   "metadata": {},
   "source": [
    "# Exercises"
   ]
  },
  {
   "cell_type": "markdown",
   "metadata": {},
   "source": [
    "## Acquire (`acquire.py`)"
   ]
  },
  {
   "cell_type": "markdown",
   "metadata": {},
   "source": [
    "### Zillow\n",
    "**For the following, iterate through the steps you would take to create functions: Write the code to do the following in a jupyter notebook, test it, convert to functions, then create the file to house those functions.**\n",
    "\n",
    "**You will have a** \n",
    "`zillow.ipynb` \n",
    "**file and a helper file for each section in the pipeline.**"
   ]
  },
  {
   "cell_type": "code",
   "execution_count": 1,
   "metadata": {},
   "outputs": [],
   "source": [
    "###############################################################################\n",
    "### python imports                                                          ###\n",
    "###############################################################################\n",
    "\n",
    "import matplotlib.pyplot as plt\n",
    "import seaborn as sns\n",
    "\n",
    "import pandas as pd\n",
    "import numpy as np\n",
    "import matplotlib.pyplot as plt\n",
    "import seaborn as sns\n",
    "\n",
    "from sklearn.model_selection import train_test_split\n",
    "from sklearn.metrics import mean_squared_error, r2_score, explained_variance_score\n",
    "from sklearn.linear_model import LassoCV\n",
    "\n",
    "from sklearn.preprocessing import StandardScaler, QuantileTransformer, PowerTransformer, RobustScaler, MinMaxScaler\n",
    "\n",
    "\n",
    "import warnings\n",
    "warnings.filterwarnings(\"ignore\")\n",
    "\n",
    "# from math import sqrt\n",
    "import statsmodels.api as sm\n",
    "from statsmodels.formula.api import ols"
   ]
  },
  {
   "cell_type": "code",
   "execution_count": 2,
   "metadata": {},
   "outputs": [],
   "source": [
    "###############################################################################\n",
    "### local imports                                                           ###\n",
    "###############################################################################\n",
    "\n",
    "import acquire as acq\n",
    "import prepare as prep\n",
    "import clusterfunctions as cf\n",
    "\n",
    "from debug import local_settings, timeifdebug, timeargsifdebug, frame_splain\n",
    "from dfo import DFO, set_dfo\n",
    "from prepare import convert_to_dates, get_column_values_stats, retype_cols, nulls_by_row"
   ]
  },
  {
   "cell_type": "code",
   "execution_count": 3,
   "metadata": {},
   "outputs": [],
   "source": [
    "local_settings.splain=True\n",
    "local_settings.debug=True\n",
    "splain = local_settings.splain\n",
    "debug = local_settings.debug"
   ]
  },
  {
   "cell_type": "code",
   "execution_count": 4,
   "metadata": {},
   "outputs": [],
   "source": [
    "from wrangle_zillow import get_zillow_data, prep_zillow_data, sqls"
   ]
  },
  {
   "cell_type": "markdown",
   "metadata": {},
   "source": [
    "#### Acquire & Summarize"
   ]
  },
  {
   "cell_type": "markdown",
   "metadata": {},
   "source": [
    "1. **Acquire data from mySQL using the python module to connect and query. You will want to end with a single dataframe. Make sure to include: the logerror, all fields related to the properties that are available. You will end up using all the tables in the database.**\n",
    "\n",
    "   - *Be sure to do the correct join (inner, outer, etc.). We do not want to eliminate properties purely because they may have a null value for* \n",
    "`airconditioningtypeid`\n",
    "*.*\n",
    "   - Only include properties with a transaction in 2017, and include only the last transaction for each properity (so no duplicate property ID's), along with zestimate error and date of transaction.\n",
    "   - Only include properties that include a latitude and longitude value."
   ]
  },
  {
   "cell_type": "code",
   "execution_count": 5,
   "metadata": {},
   "outputs": [
    {
     "name": "stdout",
     "output_type": "stream",
     "text": [
      "2019-11-06 14:49:44 starting get_zillow_data\n",
      "2019-11-06 14:49:44 starting sql_df\n",
      "2019-11-06 14:49:44 starting get_db_url\n",
      "2019-11-06 14:49:44 ending get_db_url ; time: 0:00:00.000060\n",
      "2019-11-06 14:50:09 starting check_df\n",
      "2019-11-06 14:50:09 starting frame_splain\n",
      "DATAFRAME SHAPE:\n",
      "(52089, 9) \n",
      "\n",
      "DATAFRAME INFO:\n",
      "<class 'pandas.core.frame.DataFrame'>\n",
      "RangeIndex: 52089 entries, 0 to 52088\n",
      "Data columns (total 9 columns):\n",
      "parcelid                        52089 non-null int64\n",
      "bathroomcnt                     52089 non-null float64\n",
      "bedroomcnt                      52089 non-null float64\n",
      "calculatedfinishedsquarefeet    52089 non-null float64\n",
      "latitude                        52089 non-null float64\n",
      "longitude                       52089 non-null float64\n",
      "structuretaxvaluedollarcnt      52089 non-null float64\n",
      "structuredollarpersqft          52089 non-null float64\n",
      "logerror                        52089 non-null float64\n",
      "dtypes: float64(8), int64(1)\n",
      "memory usage: 3.6 MB\n",
      "None \n",
      "\n",
      "DATAFRAME DESCRIPTION:\n",
      "                                count          mean           std  \\\n",
      "parcelid                      52089.0  1.298377e+07  3.070062e+06   \n",
      "bathroomcnt                   52089.0  2.305669e+00  1.017265e+00   \n",
      "bedroomcnt                    52089.0  3.309912e+00  9.334532e-01   \n",
      "calculatedfinishedsquarefeet  52089.0  1.923432e+03  1.003069e+03   \n",
      "latitude                      52089.0  3.402263e+07  2.740844e+05   \n",
      "longitude                     52089.0 -1.181938e+08  3.564175e+05   \n",
      "structuretaxvaluedollarcnt    52089.0  1.959778e+05  2.524218e+05   \n",
      "structuredollarpersqft        52089.0  9.084642e+01  5.995686e+01   \n",
      "logerror                      52089.0  1.824858e-02  1.759901e-01   \n",
      "\n",
      "                                       min           25%           50%  \\\n",
      "parcelid                      1.071186e+07  1.150787e+07  1.257813e+07   \n",
      "bathroomcnt                   1.000000e+00  2.000000e+00  2.000000e+00   \n",
      "bedroomcnt                    1.000000e+00  3.000000e+00  3.000000e+00   \n",
      "calculatedfinishedsquarefeet  1.520000e+02  1.268000e+03  1.659000e+03   \n",
      "latitude                      3.334062e+07  3.382689e+07  3.402338e+07   \n",
      "longitude                    -1.194754e+08 -1.184004e+08 -1.181529e+08   \n",
      "structuretaxvaluedollarcnt    1.480000e+02  7.720000e+04  1.318830e+05   \n",
      "structuredollarpersqft        3.983275e-02  5.498029e+01  8.216741e+01   \n",
      "logerror                     -4.655420e+00 -2.457495e-02  6.956119e-03   \n",
      "\n",
      "                                       75%           max  \n",
      "parcelid                      1.412934e+07  1.676392e+08  \n",
      "bathroomcnt                   3.000000e+00  1.800000e+01  \n",
      "bedroomcnt                    4.000000e+00  1.400000e+01  \n",
      "calculatedfinishedsquarefeet  2.306000e+03  2.192900e+04  \n",
      "latitude                      3.418742e+07  3.481877e+07  \n",
      "longitude                    -1.179291e+08 -1.175546e+08  \n",
      "structuretaxvaluedollarcnt    2.261220e+05  9.164901e+06  \n",
      "structuredollarpersqft        1.135682e+02  1.444221e+03  \n",
      "logerror                      4.052645e-02  5.262999e+00   \n",
      "\n",
      "DATAFRAME HEAD:\n",
      "   parcelid  bathroomcnt  bedroomcnt  calculatedfinishedsquarefeet  \\\n",
      "0  14297519          3.5         4.0                        3100.0   \n",
      "1  17052889          1.0         2.0                        1465.0   \n",
      "2  14186244          2.0         3.0                        1243.0   \n",
      "3  12177905          3.0         4.0                        2376.0   \n",
      "4  12095076          3.0         4.0                        2962.0   \n",
      "\n",
      "     latitude    longitude  structuretaxvaluedollarcnt  \\\n",
      "0  33634931.0 -117869207.0                    485713.0   \n",
      "1  34449266.0 -119281531.0                     88000.0   \n",
      "2  33886168.0 -117823170.0                     85289.0   \n",
      "3  34245180.0 -118240722.0                    108918.0   \n",
      "4  34145202.0 -118179824.0                    276684.0   \n",
      "\n",
      "   structuredollarpersqft  logerror  \n",
      "0              156.681613  0.025595  \n",
      "1               60.068259  0.055619  \n",
      "2               68.615447  0.005383  \n",
      "3               45.840909 -0.103410  \n",
      "4               93.411209 -0.001011   \n",
      "\n",
      "2019-11-06 14:50:09 ending frame_splain ; time: 0:00:00.123392\n",
      "2019-11-06 14:50:09 ending check_df ; time: 0:00:00.131092\n",
      "2019-11-06 14:50:09 ending sql_df ; time: 0:00:25.273384\n",
      "2019-11-06 14:50:09 ending get_zillow_data ; time: 0:00:25.274757\n",
      "2019-11-06 14:50:09 starting set_dfo\n",
      "2019-11-06 14:50:09 ending set_dfo ; time: 0:00:00.000040\n"
     ]
    }
   ],
   "source": [
    "dfo = set_dfo(get_zillow_data(sql=sqls['mvp']), splain=True)"
   ]
  },
  {
   "cell_type": "markdown",
   "metadata": {},
   "source": [
    "2. **Summarize your data (summary stats, info, dtypes, shape, distributions, value_counts, etc.).**"
   ]
  },
  {
   "cell_type": "code",
   "execution_count": 6,
   "metadata": {},
   "outputs": [],
   "source": [
    "df = dfo.df"
   ]
  },
  {
   "cell_type": "code",
   "execution_count": 7,
   "metadata": {},
   "outputs": [],
   "source": [
    "dfo.index_columns = 'parcelid'"
   ]
  },
  {
   "cell_type": "code",
   "execution_count": 8,
   "metadata": {},
   "outputs": [],
   "source": [
    "dfo.y_column = 'logerror'"
   ]
  },
  {
   "cell_type": "code",
   "execution_count": 9,
   "metadata": {},
   "outputs": [],
   "source": [
    "df = df.set_index(dfo.index_columns)"
   ]
  },
  {
   "cell_type": "code",
   "execution_count": 10,
   "metadata": {},
   "outputs": [
    {
     "name": "stdout",
     "output_type": "stream",
     "text": [
      "2019-11-06 14:50:09 starting frame_splain\n",
      "ZILLOW DATA SHAPE:\n",
      "(52089, 8) \n",
      "\n",
      "ZILLOW DATA INFO:\n",
      "<class 'pandas.core.frame.DataFrame'>\n",
      "Int64Index: 52089 entries, 14297519 to 12826780\n",
      "Data columns (total 8 columns):\n",
      "bathroomcnt                     52089 non-null float64\n",
      "bedroomcnt                      52089 non-null float64\n",
      "calculatedfinishedsquarefeet    52089 non-null float64\n",
      "latitude                        52089 non-null float64\n",
      "longitude                       52089 non-null float64\n",
      "structuretaxvaluedollarcnt      52089 non-null float64\n",
      "structuredollarpersqft          52089 non-null float64\n",
      "logerror                        52089 non-null float64\n",
      "dtypes: float64(8)\n",
      "memory usage: 3.6 MB\n",
      "None \n",
      "\n",
      "ZILLOW DATA DESCRIPTION:\n",
      "                                count          mean            std  \\\n",
      "bathroomcnt                   52089.0  2.305669e+00       1.017265   \n",
      "bedroomcnt                    52089.0  3.309912e+00       0.933453   \n",
      "calculatedfinishedsquarefeet  52089.0  1.923432e+03    1003.068834   \n",
      "latitude                      52089.0  3.402263e+07  274084.436731   \n",
      "longitude                     52089.0 -1.181938e+08  356417.454324   \n",
      "structuretaxvaluedollarcnt    52089.0  1.959778e+05  252421.820192   \n",
      "structuredollarpersqft        52089.0  9.084642e+01      59.956862   \n",
      "logerror                      52089.0  1.824858e-02       0.175990   \n",
      "\n",
      "                                       min           25%           50%  \\\n",
      "bathroomcnt                   1.000000e+00  2.000000e+00  2.000000e+00   \n",
      "bedroomcnt                    1.000000e+00  3.000000e+00  3.000000e+00   \n",
      "calculatedfinishedsquarefeet  1.520000e+02  1.268000e+03  1.659000e+03   \n",
      "latitude                      3.334062e+07  3.382689e+07  3.402338e+07   \n",
      "longitude                    -1.194754e+08 -1.184004e+08 -1.181529e+08   \n",
      "structuretaxvaluedollarcnt    1.480000e+02  7.720000e+04  1.318830e+05   \n",
      "structuredollarpersqft        3.983275e-02  5.498029e+01  8.216741e+01   \n",
      "logerror                     -4.655420e+00 -2.457495e-02  6.956119e-03   \n",
      "\n",
      "                                       75%           max  \n",
      "bathroomcnt                   3.000000e+00  1.800000e+01  \n",
      "bedroomcnt                    4.000000e+00  1.400000e+01  \n",
      "calculatedfinishedsquarefeet  2.306000e+03  2.192900e+04  \n",
      "latitude                      3.418742e+07  3.481877e+07  \n",
      "longitude                    -1.179291e+08 -1.175546e+08  \n",
      "structuretaxvaluedollarcnt    2.261220e+05  9.164901e+06  \n",
      "structuredollarpersqft        1.135682e+02  1.444221e+03  \n",
      "logerror                      4.052645e-02  5.262999e+00   \n",
      "\n",
      "ZILLOW DATA HEAD:\n",
      "          bathroomcnt  bedroomcnt  calculatedfinishedsquarefeet    latitude  \\\n",
      "parcelid                                                                      \n",
      "14297519          3.5         4.0                        3100.0  33634931.0   \n",
      "17052889          1.0         2.0                        1465.0  34449266.0   \n",
      "14186244          2.0         3.0                        1243.0  33886168.0   \n",
      "12177905          3.0         4.0                        2376.0  34245180.0   \n",
      "12095076          3.0         4.0                        2962.0  34145202.0   \n",
      "\n",
      "            longitude  structuretaxvaluedollarcnt  structuredollarpersqft  \\\n",
      "parcelid                                                                    \n",
      "14297519 -117869207.0                    485713.0              156.681613   \n",
      "17052889 -119281531.0                     88000.0               60.068259   \n",
      "14186244 -117823170.0                     85289.0               68.615447   \n",
      "12177905 -118240722.0                    108918.0               45.840909   \n",
      "12095076 -118179824.0                    276684.0               93.411209   \n",
      "\n",
      "          logerror  \n",
      "parcelid            \n",
      "14297519  0.025595  \n",
      "17052889  0.055619  \n",
      "14186244  0.005383  \n",
      "12177905 -0.103410  \n",
      "12095076 -0.001011   \n",
      "\n",
      "2019-11-06 14:50:10 ending frame_splain ; time: 0:00:00.217348\n"
     ]
    }
   ],
   "source": [
    "frame_splain(df, title='Zillow Data', splain=True)"
   ]
  },
  {
   "cell_type": "code",
   "execution_count": 65,
   "metadata": {},
   "outputs": [
    {
     "name": "stdout",
     "output_type": "stream",
     "text": [
      "2019-11-06 15:08:34 starting convert_to_dates\n",
      "2019-11-06 15:08:34 ending convert_to_dates ; time: 0:00:00.001014\n"
     ]
    }
   ],
   "source": [
    "date_columns = ['transactiondate']\n",
    "df = convert_to_dates(df, cols=date_columns)"
   ]
  },
  {
   "cell_type": "code",
   "execution_count": 12,
   "metadata": {},
   "outputs": [
    {
     "data": {
      "text/html": [
       "<div>\n",
       "<style scoped>\n",
       "    .dataframe tbody tr th:only-of-type {\n",
       "        vertical-align: middle;\n",
       "    }\n",
       "\n",
       "    .dataframe tbody tr th {\n",
       "        vertical-align: top;\n",
       "    }\n",
       "\n",
       "    .dataframe thead th {\n",
       "        text-align: right;\n",
       "    }\n",
       "</style>\n",
       "<table border=\"1\" class=\"dataframe\">\n",
       "  <thead>\n",
       "    <tr style=\"text-align: right;\">\n",
       "      <th></th>\n",
       "      <th>bathroomcnt</th>\n",
       "      <th>bedroomcnt</th>\n",
       "      <th>calculatedfinishedsquarefeet</th>\n",
       "      <th>latitude</th>\n",
       "      <th>longitude</th>\n",
       "      <th>structuretaxvaluedollarcnt</th>\n",
       "      <th>structuredollarpersqft</th>\n",
       "      <th>logerror</th>\n",
       "    </tr>\n",
       "    <tr>\n",
       "      <th>parcelid</th>\n",
       "      <th></th>\n",
       "      <th></th>\n",
       "      <th></th>\n",
       "      <th></th>\n",
       "      <th></th>\n",
       "      <th></th>\n",
       "      <th></th>\n",
       "      <th></th>\n",
       "    </tr>\n",
       "  </thead>\n",
       "  <tbody>\n",
       "    <tr>\n",
       "      <th>14297519</th>\n",
       "      <td>3.5</td>\n",
       "      <td>4.0</td>\n",
       "      <td>3100.0</td>\n",
       "      <td>33634931.0</td>\n",
       "      <td>-117869207.0</td>\n",
       "      <td>485713.0</td>\n",
       "      <td>156.681613</td>\n",
       "      <td>0.025595</td>\n",
       "    </tr>\n",
       "    <tr>\n",
       "      <th>17052889</th>\n",
       "      <td>1.0</td>\n",
       "      <td>2.0</td>\n",
       "      <td>1465.0</td>\n",
       "      <td>34449266.0</td>\n",
       "      <td>-119281531.0</td>\n",
       "      <td>88000.0</td>\n",
       "      <td>60.068259</td>\n",
       "      <td>0.055619</td>\n",
       "    </tr>\n",
       "    <tr>\n",
       "      <th>14186244</th>\n",
       "      <td>2.0</td>\n",
       "      <td>3.0</td>\n",
       "      <td>1243.0</td>\n",
       "      <td>33886168.0</td>\n",
       "      <td>-117823170.0</td>\n",
       "      <td>85289.0</td>\n",
       "      <td>68.615447</td>\n",
       "      <td>0.005383</td>\n",
       "    </tr>\n",
       "    <tr>\n",
       "      <th>12177905</th>\n",
       "      <td>3.0</td>\n",
       "      <td>4.0</td>\n",
       "      <td>2376.0</td>\n",
       "      <td>34245180.0</td>\n",
       "      <td>-118240722.0</td>\n",
       "      <td>108918.0</td>\n",
       "      <td>45.840909</td>\n",
       "      <td>-0.103410</td>\n",
       "    </tr>\n",
       "    <tr>\n",
       "      <th>12095076</th>\n",
       "      <td>3.0</td>\n",
       "      <td>4.0</td>\n",
       "      <td>2962.0</td>\n",
       "      <td>34145202.0</td>\n",
       "      <td>-118179824.0</td>\n",
       "      <td>276684.0</td>\n",
       "      <td>93.411209</td>\n",
       "      <td>-0.001011</td>\n",
       "    </tr>\n",
       "    <tr>\n",
       "      <th>12069064</th>\n",
       "      <td>1.0</td>\n",
       "      <td>2.0</td>\n",
       "      <td>738.0</td>\n",
       "      <td>34149214.0</td>\n",
       "      <td>-118239357.0</td>\n",
       "      <td>18890.0</td>\n",
       "      <td>25.596206</td>\n",
       "      <td>0.101723</td>\n",
       "    </tr>\n",
       "    <tr>\n",
       "      <th>12790562</th>\n",
       "      <td>3.0</td>\n",
       "      <td>4.0</td>\n",
       "      <td>3039.0</td>\n",
       "      <td>33960230.0</td>\n",
       "      <td>-118006914.0</td>\n",
       "      <td>177527.0</td>\n",
       "      <td>58.416255</td>\n",
       "      <td>-0.040966</td>\n",
       "    </tr>\n",
       "    <tr>\n",
       "      <th>11104527</th>\n",
       "      <td>3.0</td>\n",
       "      <td>4.0</td>\n",
       "      <td>2540.0</td>\n",
       "      <td>34434971.0</td>\n",
       "      <td>-118464390.0</td>\n",
       "      <td>271715.0</td>\n",
       "      <td>106.974409</td>\n",
       "      <td>0.005963</td>\n",
       "    </tr>\n",
       "    <tr>\n",
       "      <th>13944538</th>\n",
       "      <td>2.5</td>\n",
       "      <td>3.0</td>\n",
       "      <td>1340.0</td>\n",
       "      <td>33771438.0</td>\n",
       "      <td>-117982834.0</td>\n",
       "      <td>96617.0</td>\n",
       "      <td>72.102239</td>\n",
       "      <td>0.045602</td>\n",
       "    </tr>\n",
       "    <tr>\n",
       "      <th>17110996</th>\n",
       "      <td>2.5</td>\n",
       "      <td>3.0</td>\n",
       "      <td>1371.0</td>\n",
       "      <td>34238229.0</td>\n",
       "      <td>-119170633.0</td>\n",
       "      <td>99026.0</td>\n",
       "      <td>72.229030</td>\n",
       "      <td>0.008669</td>\n",
       "    </tr>\n",
       "    <tr>\n",
       "      <th>14375300</th>\n",
       "      <td>2.0</td>\n",
       "      <td>4.0</td>\n",
       "      <td>1677.0</td>\n",
       "      <td>33642800.0</td>\n",
       "      <td>-117707211.0</td>\n",
       "      <td>169118.0</td>\n",
       "      <td>100.845558</td>\n",
       "      <td>-0.021896</td>\n",
       "    </tr>\n",
       "    <tr>\n",
       "      <th>11830315</th>\n",
       "      <td>1.0</td>\n",
       "      <td>2.0</td>\n",
       "      <td>1146.0</td>\n",
       "      <td>34024040.0</td>\n",
       "      <td>-118159090.0</td>\n",
       "      <td>127960.0</td>\n",
       "      <td>111.657941</td>\n",
       "      <td>-0.035085</td>\n",
       "    </tr>\n",
       "    <tr>\n",
       "      <th>14387959</th>\n",
       "      <td>2.5</td>\n",
       "      <td>3.0</td>\n",
       "      <td>2074.0</td>\n",
       "      <td>33586693.0</td>\n",
       "      <td>-117697202.0</td>\n",
       "      <td>173269.0</td>\n",
       "      <td>83.543394</td>\n",
       "      <td>-0.006653</td>\n",
       "    </tr>\n",
       "    <tr>\n",
       "      <th>14349322</th>\n",
       "      <td>2.5</td>\n",
       "      <td>3.0</td>\n",
       "      <td>2018.0</td>\n",
       "      <td>33728985.0</td>\n",
       "      <td>-117754647.0</td>\n",
       "      <td>221433.0</td>\n",
       "      <td>109.728940</td>\n",
       "      <td>0.044309</td>\n",
       "    </tr>\n",
       "    <tr>\n",
       "      <th>11706737</th>\n",
       "      <td>1.0</td>\n",
       "      <td>2.0</td>\n",
       "      <td>1316.0</td>\n",
       "      <td>34009471.0</td>\n",
       "      <td>-118281052.0</td>\n",
       "      <td>37663.0</td>\n",
       "      <td>28.619301</td>\n",
       "      <td>-0.120976</td>\n",
       "    </tr>\n",
       "  </tbody>\n",
       "</table>\n",
       "</div>"
      ],
      "text/plain": [
       "          bathroomcnt  bedroomcnt  calculatedfinishedsquarefeet    latitude  \\\n",
       "parcelid                                                                      \n",
       "14297519          3.5         4.0                        3100.0  33634931.0   \n",
       "17052889          1.0         2.0                        1465.0  34449266.0   \n",
       "14186244          2.0         3.0                        1243.0  33886168.0   \n",
       "12177905          3.0         4.0                        2376.0  34245180.0   \n",
       "12095076          3.0         4.0                        2962.0  34145202.0   \n",
       "12069064          1.0         2.0                         738.0  34149214.0   \n",
       "12790562          3.0         4.0                        3039.0  33960230.0   \n",
       "11104527          3.0         4.0                        2540.0  34434971.0   \n",
       "13944538          2.5         3.0                        1340.0  33771438.0   \n",
       "17110996          2.5         3.0                        1371.0  34238229.0   \n",
       "14375300          2.0         4.0                        1677.0  33642800.0   \n",
       "11830315          1.0         2.0                        1146.0  34024040.0   \n",
       "14387959          2.5         3.0                        2074.0  33586693.0   \n",
       "14349322          2.5         3.0                        2018.0  33728985.0   \n",
       "11706737          1.0         2.0                        1316.0  34009471.0   \n",
       "\n",
       "            longitude  structuretaxvaluedollarcnt  structuredollarpersqft  \\\n",
       "parcelid                                                                    \n",
       "14297519 -117869207.0                    485713.0              156.681613   \n",
       "17052889 -119281531.0                     88000.0               60.068259   \n",
       "14186244 -117823170.0                     85289.0               68.615447   \n",
       "12177905 -118240722.0                    108918.0               45.840909   \n",
       "12095076 -118179824.0                    276684.0               93.411209   \n",
       "12069064 -118239357.0                     18890.0               25.596206   \n",
       "12790562 -118006914.0                    177527.0               58.416255   \n",
       "11104527 -118464390.0                    271715.0              106.974409   \n",
       "13944538 -117982834.0                     96617.0               72.102239   \n",
       "17110996 -119170633.0                     99026.0               72.229030   \n",
       "14375300 -117707211.0                    169118.0              100.845558   \n",
       "11830315 -118159090.0                    127960.0              111.657941   \n",
       "14387959 -117697202.0                    173269.0               83.543394   \n",
       "14349322 -117754647.0                    221433.0              109.728940   \n",
       "11706737 -118281052.0                     37663.0               28.619301   \n",
       "\n",
       "          logerror  \n",
       "parcelid            \n",
       "14297519  0.025595  \n",
       "17052889  0.055619  \n",
       "14186244  0.005383  \n",
       "12177905 -0.103410  \n",
       "12095076 -0.001011  \n",
       "12069064  0.101723  \n",
       "12790562 -0.040966  \n",
       "11104527  0.005963  \n",
       "13944538  0.045602  \n",
       "17110996  0.008669  \n",
       "14375300 -0.021896  \n",
       "11830315 -0.035085  \n",
       "14387959 -0.006653  \n",
       "14349322  0.044309  \n",
       "11706737 -0.120976  "
      ]
     },
     "execution_count": 12,
     "metadata": {},
     "output_type": "execute_result"
    }
   ],
   "source": [
    "df.head(15)"
   ]
  },
  {
   "cell_type": "code",
   "execution_count": 13,
   "metadata": {},
   "outputs": [
    {
     "name": "stdout",
     "output_type": "stream",
     "text": [
      "2019-11-06 14:50:10 starting frame_splain\n",
      "DATAFRAME SHAPE:\n",
      "(52089, 8) \n",
      "\n",
      "DATAFRAME INFO:\n",
      "<class 'pandas.core.frame.DataFrame'>\n",
      "Int64Index: 52089 entries, 14297519 to 12826780\n",
      "Data columns (total 8 columns):\n",
      "bathroomcnt                     52089 non-null float64\n",
      "bedroomcnt                      52089 non-null float64\n",
      "calculatedfinishedsquarefeet    52089 non-null float64\n",
      "latitude                        52089 non-null float64\n",
      "longitude                       52089 non-null float64\n",
      "structuretaxvaluedollarcnt      52089 non-null float64\n",
      "structuredollarpersqft          52089 non-null float64\n",
      "logerror                        52089 non-null float64\n",
      "dtypes: float64(8)\n",
      "memory usage: 3.6 MB\n",
      "None \n",
      "\n",
      "DATAFRAME DESCRIPTION:\n",
      "                                count          mean            std  \\\n",
      "bathroomcnt                   52089.0  2.305669e+00       1.017265   \n",
      "bedroomcnt                    52089.0  3.309912e+00       0.933453   \n",
      "calculatedfinishedsquarefeet  52089.0  1.923432e+03    1003.068834   \n",
      "latitude                      52089.0  3.402263e+07  274084.436731   \n",
      "longitude                     52089.0 -1.181938e+08  356417.454324   \n",
      "structuretaxvaluedollarcnt    52089.0  1.959778e+05  252421.820192   \n",
      "structuredollarpersqft        52089.0  9.084642e+01      59.956862   \n",
      "logerror                      52089.0  1.824858e-02       0.175990   \n",
      "\n",
      "                                       min           25%           50%  \\\n",
      "bathroomcnt                   1.000000e+00  2.000000e+00  2.000000e+00   \n",
      "bedroomcnt                    1.000000e+00  3.000000e+00  3.000000e+00   \n",
      "calculatedfinishedsquarefeet  1.520000e+02  1.268000e+03  1.659000e+03   \n",
      "latitude                      3.334062e+07  3.382689e+07  3.402338e+07   \n",
      "longitude                    -1.194754e+08 -1.184004e+08 -1.181529e+08   \n",
      "structuretaxvaluedollarcnt    1.480000e+02  7.720000e+04  1.318830e+05   \n",
      "structuredollarpersqft        3.983275e-02  5.498029e+01  8.216741e+01   \n",
      "logerror                     -4.655420e+00 -2.457495e-02  6.956119e-03   \n",
      "\n",
      "                                       75%           max  \n",
      "bathroomcnt                   3.000000e+00  1.800000e+01  \n",
      "bedroomcnt                    4.000000e+00  1.400000e+01  \n",
      "calculatedfinishedsquarefeet  2.306000e+03  2.192900e+04  \n",
      "latitude                      3.418742e+07  3.481877e+07  \n",
      "longitude                    -1.179291e+08 -1.175546e+08  \n",
      "structuretaxvaluedollarcnt    2.261220e+05  9.164901e+06  \n",
      "structuredollarpersqft        1.135682e+02  1.444221e+03  \n",
      "logerror                      4.052645e-02  5.262999e+00   \n",
      "\n",
      "DATAFRAME HEAD:\n",
      "          bathroomcnt  bedroomcnt  calculatedfinishedsquarefeet    latitude  \\\n",
      "parcelid                                                                      \n",
      "14297519          3.5         4.0                        3100.0  33634931.0   \n",
      "17052889          1.0         2.0                        1465.0  34449266.0   \n",
      "14186244          2.0         3.0                        1243.0  33886168.0   \n",
      "12177905          3.0         4.0                        2376.0  34245180.0   \n",
      "12095076          3.0         4.0                        2962.0  34145202.0   \n",
      "\n",
      "            longitude  structuretaxvaluedollarcnt  structuredollarpersqft  \\\n",
      "parcelid                                                                    \n",
      "14297519 -117869207.0                    485713.0              156.681613   \n",
      "17052889 -119281531.0                     88000.0               60.068259   \n",
      "14186244 -117823170.0                     85289.0               68.615447   \n",
      "12177905 -118240722.0                    108918.0               45.840909   \n",
      "12095076 -118179824.0                    276684.0               93.411209   \n",
      "\n",
      "          logerror  \n",
      "parcelid            \n",
      "14297519  0.025595  \n",
      "17052889  0.055619  \n",
      "14186244  0.005383  \n",
      "12177905 -0.103410  \n",
      "12095076 -0.001011   \n",
      "\n",
      "2019-11-06 14:50:10 ending frame_splain ; time: 0:00:00.149358\n"
     ]
    }
   ],
   "source": [
    "frame_splain(df, splain=True)"
   ]
  },
  {
   "cell_type": "markdown",
   "metadata": {},
   "source": [
    "**Find string categoricals**"
   ]
  },
  {
   "cell_type": "code",
   "execution_count": 14,
   "metadata": {},
   "outputs": [
    {
     "name": "stdout",
     "output_type": "stream",
     "text": [
      "2019-11-06 14:50:10 starting get_column_values_stats\n",
      "2019-11-06 14:50:10 ending get_column_values_stats ; time: 0:00:00.220891\n"
     ]
    },
    {
     "data": {
      "text/html": [
       "<div>\n",
       "<style scoped>\n",
       "    .dataframe tbody tr th:only-of-type {\n",
       "        vertical-align: middle;\n",
       "    }\n",
       "\n",
       "    .dataframe tbody tr th {\n",
       "        vertical-align: top;\n",
       "    }\n",
       "\n",
       "    .dataframe thead th {\n",
       "        text-align: right;\n",
       "    }\n",
       "</style>\n",
       "<table border=\"1\" class=\"dataframe\">\n",
       "  <thead>\n",
       "    <tr style=\"text-align: right;\">\n",
       "      <th></th>\n",
       "      <th>dtype</th>\n",
       "      <th>num_rows_values</th>\n",
       "      <th>num_rows_missing</th>\n",
       "      <th>pct_rows_missing</th>\n",
       "      <th>num_uniques</th>\n",
       "      <th>unique_values</th>\n",
       "    </tr>\n",
       "    <tr>\n",
       "      <th>cols</th>\n",
       "      <th></th>\n",
       "      <th></th>\n",
       "      <th></th>\n",
       "      <th></th>\n",
       "      <th></th>\n",
       "      <th></th>\n",
       "    </tr>\n",
       "  </thead>\n",
       "  <tbody>\n",
       "    <tr>\n",
       "      <th>bathroomcnt</th>\n",
       "      <td>float64</td>\n",
       "      <td>52089</td>\n",
       "      <td>0</td>\n",
       "      <td>0.0</td>\n",
       "      <td>21</td>\n",
       "      <td>[3.5, 1.0, 2.0, 3.0, 2.5, 4.5, 4.0, 5.0, 6.5, ...</td>\n",
       "    </tr>\n",
       "    <tr>\n",
       "      <th>bedroomcnt</th>\n",
       "      <td>float64</td>\n",
       "      <td>52089</td>\n",
       "      <td>0</td>\n",
       "      <td>0.0</td>\n",
       "      <td>13</td>\n",
       "      <td>[4.0, 2.0, 3.0, 6.0, 5.0, 1.0, 7.0, 8.0, 9.0, ...</td>\n",
       "    </tr>\n",
       "    <tr>\n",
       "      <th>calculatedfinishedsquarefeet</th>\n",
       "      <td>float64</td>\n",
       "      <td>52089</td>\n",
       "      <td>0</td>\n",
       "      <td>0.0</td>\n",
       "      <td>4710</td>\n",
       "      <td>[3100.0, 1465.0, 1243.0, 2376.0, 2962.0, 738.0...</td>\n",
       "    </tr>\n",
       "  </tbody>\n",
       "</table>\n",
       "</div>"
      ],
      "text/plain": [
       "                                dtype  num_rows_values  num_rows_missing  \\\n",
       "cols                                                                       \n",
       "bathroomcnt                   float64            52089                 0   \n",
       "bedroomcnt                    float64            52089                 0   \n",
       "calculatedfinishedsquarefeet  float64            52089                 0   \n",
       "\n",
       "                              pct_rows_missing  num_uniques  \\\n",
       "cols                                                          \n",
       "bathroomcnt                                0.0           21   \n",
       "bedroomcnt                                 0.0           13   \n",
       "calculatedfinishedsquarefeet               0.0         4710   \n",
       "\n",
       "                                                                  unique_values  \n",
       "cols                                                                             \n",
       "bathroomcnt                   [3.5, 1.0, 2.0, 3.0, 2.5, 4.5, 4.0, 5.0, 6.5, ...  \n",
       "bedroomcnt                    [4.0, 2.0, 3.0, 6.0, 5.0, 1.0, 7.0, 8.0, 9.0, ...  \n",
       "calculatedfinishedsquarefeet  [3100.0, 1465.0, 1243.0, 2376.0, 2962.0, 738.0...  "
      ]
     },
     "execution_count": 14,
     "metadata": {},
     "output_type": "execute_result"
    }
   ],
   "source": [
    "df_strings = get_column_values_stats(\n",
    "    df, \n",
    "    get_cols=df.columns[df.dtypes=='object'],\n",
    "    max_uniques=20000,\n",
    "    limit_to_max=True\n",
    ")\n",
    "df_strings"
   ]
  },
  {
   "cell_type": "code",
   "execution_count": 15,
   "metadata": {},
   "outputs": [
    {
     "data": {
      "text/plain": [
       "Index(['bathroomcnt', 'bedroomcnt', 'calculatedfinishedsquarefeet'], dtype='object', name='cols')"
      ]
     },
     "execution_count": 15,
     "metadata": {},
     "output_type": "execute_result"
    }
   ],
   "source": [
    "df_strings.index"
   ]
  },
  {
   "cell_type": "code",
   "execution_count": 16,
   "metadata": {},
   "outputs": [],
   "source": [
    "string_categoricals = [\n",
    "    'airconditioningdesc', \n",
    "    'architecturalstyledesc', \n",
    "    'buildingclassdesc', \n",
    "    'county', \n",
    "    'state', \n",
    "    'heatingorsystemdesc', \n",
    "    'propertycountylandusecode', \n",
    "    'propertylandusedesc', \n",
    "    'propertyzoningdesc', \n",
    "    'storydesc', \n",
    "    'taxdelinquencyflag', \n",
    "    'typeconstructiondesc'\n",
    "]"
   ]
  },
  {
   "cell_type": "code",
   "execution_count": 17,
   "metadata": {},
   "outputs": [
    {
     "name": "stdout",
     "output_type": "stream",
     "text": [
      "2019-11-06 14:50:10 starting retype_cols\n",
      "2019-11-06 14:50:10 ending retype_cols ; time: 0:00:00.001999\n",
      "<class 'pandas.core.frame.DataFrame'>\n",
      "Int64Index: 52089 entries, 14297519 to 12826780\n",
      "Data columns (total 8 columns):\n",
      "bathroomcnt                     52089 non-null float64\n",
      "bedroomcnt                      52089 non-null float64\n",
      "calculatedfinishedsquarefeet    52089 non-null float64\n",
      "latitude                        52089 non-null float64\n",
      "longitude                       52089 non-null float64\n",
      "structuretaxvaluedollarcnt      52089 non-null float64\n",
      "structuredollarpersqft          52089 non-null float64\n",
      "logerror                        52089 non-null float64\n",
      "dtypes: float64(8)\n",
      "memory usage: 3.6 MB\n"
     ]
    }
   ],
   "source": [
    "df = retype_cols(df, cols=string_categoricals, to_dtype='category')\n",
    "df.info()"
   ]
  },
  {
   "cell_type": "markdown",
   "metadata": {},
   "source": [
    "**Find Numeric Categoricals**"
   ]
  },
  {
   "cell_type": "code",
   "execution_count": 18,
   "metadata": {},
   "outputs": [
    {
     "name": "stdout",
     "output_type": "stream",
     "text": [
      "2019-11-06 14:50:10 starting get_column_values_stats\n",
      "2019-11-06 14:50:10 ending get_column_values_stats ; time: 0:00:00.169192\n"
     ]
    },
    {
     "data": {
      "text/html": [
       "<div>\n",
       "<style scoped>\n",
       "    .dataframe tbody tr th:only-of-type {\n",
       "        vertical-align: middle;\n",
       "    }\n",
       "\n",
       "    .dataframe tbody tr th {\n",
       "        vertical-align: top;\n",
       "    }\n",
       "\n",
       "    .dataframe thead th {\n",
       "        text-align: right;\n",
       "    }\n",
       "</style>\n",
       "<table border=\"1\" class=\"dataframe\">\n",
       "  <thead>\n",
       "    <tr style=\"text-align: right;\">\n",
       "      <th></th>\n",
       "      <th>dtype</th>\n",
       "      <th>num_rows_values</th>\n",
       "      <th>num_rows_missing</th>\n",
       "      <th>pct_rows_missing</th>\n",
       "      <th>num_uniques</th>\n",
       "      <th>unique_values</th>\n",
       "    </tr>\n",
       "    <tr>\n",
       "      <th>cols</th>\n",
       "      <th></th>\n",
       "      <th></th>\n",
       "      <th></th>\n",
       "      <th></th>\n",
       "      <th></th>\n",
       "      <th></th>\n",
       "    </tr>\n",
       "  </thead>\n",
       "  <tbody>\n",
       "    <tr>\n",
       "      <th>bathroomcnt</th>\n",
       "      <td>float64</td>\n",
       "      <td>52089</td>\n",
       "      <td>0</td>\n",
       "      <td>0.0</td>\n",
       "      <td>21</td>\n",
       "      <td>[3.5, 1.0, 2.0, 3.0, 2.5, 4.5, 4.0, 5.0, 6.5, ...</td>\n",
       "    </tr>\n",
       "    <tr>\n",
       "      <th>bedroomcnt</th>\n",
       "      <td>float64</td>\n",
       "      <td>52089</td>\n",
       "      <td>0</td>\n",
       "      <td>0.0</td>\n",
       "      <td>13</td>\n",
       "      <td>[4.0, 2.0, 3.0, 6.0, 5.0, 1.0, 7.0, 8.0, 9.0, ...</td>\n",
       "    </tr>\n",
       "    <tr>\n",
       "      <th>calculatedfinishedsquarefeet</th>\n",
       "      <td>float64</td>\n",
       "      <td>52089</td>\n",
       "      <td>0</td>\n",
       "      <td>0.0</td>\n",
       "      <td>4710</td>\n",
       "      <td>[3100.0, 1465.0, 1243.0, 2376.0, 2962.0, 738.0...</td>\n",
       "    </tr>\n",
       "    <tr>\n",
       "      <th>latitude</th>\n",
       "      <td>float64</td>\n",
       "      <td>52089</td>\n",
       "      <td>0</td>\n",
       "      <td>0.0</td>\n",
       "      <td>50293</td>\n",
       "      <td>[33634931.0, 34449266.0, 33886168.0, 34245180....</td>\n",
       "    </tr>\n",
       "    <tr>\n",
       "      <th>longitude</th>\n",
       "      <td>float64</td>\n",
       "      <td>52089</td>\n",
       "      <td>0</td>\n",
       "      <td>0.0</td>\n",
       "      <td>50571</td>\n",
       "      <td>[-117869207.0, -119281531.0, -117823170.0, -11...</td>\n",
       "    </tr>\n",
       "    <tr>\n",
       "      <th>structuretaxvaluedollarcnt</th>\n",
       "      <td>float64</td>\n",
       "      <td>52089</td>\n",
       "      <td>0</td>\n",
       "      <td>0.0</td>\n",
       "      <td>37220</td>\n",
       "      <td>[485713.0, 88000.0, 85289.0, 108918.0, 276684....</td>\n",
       "    </tr>\n",
       "    <tr>\n",
       "      <th>structuredollarpersqft</th>\n",
       "      <td>float64</td>\n",
       "      <td>52089</td>\n",
       "      <td>0</td>\n",
       "      <td>0.0</td>\n",
       "      <td>51809</td>\n",
       "      <td>[156.6816129032258, 60.06825938566553, 68.6154...</td>\n",
       "    </tr>\n",
       "  </tbody>\n",
       "</table>\n",
       "</div>"
      ],
      "text/plain": [
       "                                dtype  num_rows_values  num_rows_missing  \\\n",
       "cols                                                                       \n",
       "bathroomcnt                   float64            52089                 0   \n",
       "bedroomcnt                    float64            52089                 0   \n",
       "calculatedfinishedsquarefeet  float64            52089                 0   \n",
       "latitude                      float64            52089                 0   \n",
       "longitude                     float64            52089                 0   \n",
       "structuretaxvaluedollarcnt    float64            52089                 0   \n",
       "structuredollarpersqft        float64            52089                 0   \n",
       "\n",
       "                              pct_rows_missing  num_uniques  \\\n",
       "cols                                                          \n",
       "bathroomcnt                                0.0           21   \n",
       "bedroomcnt                                 0.0           13   \n",
       "calculatedfinishedsquarefeet               0.0         4710   \n",
       "latitude                                   0.0        50293   \n",
       "longitude                                  0.0        50571   \n",
       "structuretaxvaluedollarcnt                 0.0        37220   \n",
       "structuredollarpersqft                     0.0        51809   \n",
       "\n",
       "                                                                  unique_values  \n",
       "cols                                                                             \n",
       "bathroomcnt                   [3.5, 1.0, 2.0, 3.0, 2.5, 4.5, 4.0, 5.0, 6.5, ...  \n",
       "bedroomcnt                    [4.0, 2.0, 3.0, 6.0, 5.0, 1.0, 7.0, 8.0, 9.0, ...  \n",
       "calculatedfinishedsquarefeet  [3100.0, 1465.0, 1243.0, 2376.0, 2962.0, 738.0...  \n",
       "latitude                      [33634931.0, 34449266.0, 33886168.0, 34245180....  \n",
       "longitude                     [-117869207.0, -119281531.0, -117823170.0, -11...  \n",
       "structuretaxvaluedollarcnt    [485713.0, 88000.0, 85289.0, 108918.0, 276684....  \n",
       "structuredollarpersqft        [156.6816129032258, 60.06825938566553, 68.6154...  "
      ]
     },
     "execution_count": 18,
     "metadata": {},
     "output_type": "execute_result"
    }
   ],
   "source": [
    "df_cat_check = prep.get_column_values_stats(\n",
    "    df, \n",
    "    get_cols=df.columns[df.dtypes!='category'],\n",
    "    max_uniques=750000,\n",
    "    target_col=dfo.y_column,\n",
    "    limit_to_max=True\n",
    ")\n",
    "df_cat_check"
   ]
  },
  {
   "cell_type": "code",
   "execution_count": 19,
   "metadata": {},
   "outputs": [
    {
     "data": {
      "text/plain": [
       "Index(['bathroomcnt', 'bedroomcnt', 'calculatedfinishedsquarefeet', 'latitude',\n",
       "       'longitude', 'structuretaxvaluedollarcnt', 'structuredollarpersqft'],\n",
       "      dtype='object', name='cols')"
      ]
     },
     "execution_count": 19,
     "metadata": {},
     "output_type": "execute_result"
    }
   ],
   "source": [
    "df_cat_check.index"
   ]
  },
  {
   "cell_type": "code",
   "execution_count": 20,
   "metadata": {},
   "outputs": [],
   "source": [
    "numeric_categoricals = [\n",
    "    'airconditioningtypeid', \n",
    "    'architecturalstyletypeid', \n",
    "    'buildingclasstypeid', \n",
    "    'buildingqualitytypeid',\n",
    "    'decktypeid', \n",
    "    'fips', \n",
    "    'hashottuborspa',\n",
    "    'heatingorsystemtypeid',\n",
    "    'pooltypeid10', \n",
    "    'pooltypeid2', \n",
    "    'pooltypeid7', \n",
    "    'propertylandusetypeid',\n",
    "    'regionidcounty', \n",
    "    'regionidcity',\n",
    "    'regionidneighborhood',\n",
    "    'regionidzip',\n",
    "    'rawcensustractandblock',\n",
    "    'censustractandblock',\n",
    "    'storytypeid', \n",
    "    'threequarterbathnbr', \n",
    "    'numberofstories', \n",
    "    'fireplaceflag', \n",
    "    'assessmentyear', \n",
    "    'typeconstructiontypeid', \n",
    "    'transactions'\n",
    "]"
   ]
  },
  {
   "cell_type": "code",
   "execution_count": 21,
   "metadata": {},
   "outputs": [
    {
     "name": "stdout",
     "output_type": "stream",
     "text": [
      "2019-11-06 14:50:11 starting retype_cols\n",
      "2019-11-06 14:50:11 ending retype_cols ; time: 0:00:00.000355\n",
      "<class 'pandas.core.frame.DataFrame'>\n",
      "Int64Index: 52089 entries, 14297519 to 12826780\n",
      "Data columns (total 8 columns):\n",
      "bathroomcnt                     52089 non-null float64\n",
      "bedroomcnt                      52089 non-null float64\n",
      "calculatedfinishedsquarefeet    52089 non-null float64\n",
      "latitude                        52089 non-null float64\n",
      "longitude                       52089 non-null float64\n",
      "structuretaxvaluedollarcnt      52089 non-null float64\n",
      "structuredollarpersqft          52089 non-null float64\n",
      "logerror                        52089 non-null float64\n",
      "dtypes: float64(8)\n",
      "memory usage: 3.6 MB\n"
     ]
    }
   ],
   "source": [
    "df = retype_cols(df, cols=numeric_categoricals, to_dtype='category')\n",
    "df.info()"
   ]
  },
  {
   "cell_type": "code",
   "execution_count": null,
   "metadata": {},
   "outputs": [],
   "source": []
  },
  {
   "cell_type": "code",
   "execution_count": 22,
   "metadata": {},
   "outputs": [
    {
     "name": "stdout",
     "output_type": "stream",
     "text": [
      "2019-11-06 14:50:11 starting nulls_by_row\n",
      "2019-11-06 14:50:11 ending nulls_by_row ; time: 0:00:00.054998\n"
     ]
    },
    {
     "data": {
      "text/html": [
       "<div>\n",
       "<style scoped>\n",
       "    .dataframe tbody tr th:only-of-type {\n",
       "        vertical-align: middle;\n",
       "    }\n",
       "\n",
       "    .dataframe tbody tr th {\n",
       "        vertical-align: top;\n",
       "    }\n",
       "\n",
       "    .dataframe thead th {\n",
       "        text-align: right;\n",
       "    }\n",
       "</style>\n",
       "<table border=\"1\" class=\"dataframe\">\n",
       "  <thead>\n",
       "    <tr style=\"text-align: right;\">\n",
       "      <th></th>\n",
       "      <th>num_cols_missing</th>\n",
       "      <th>pct_cols_missing</th>\n",
       "      <th>parcelid</th>\n",
       "    </tr>\n",
       "  </thead>\n",
       "  <tbody>\n",
       "    <tr>\n",
       "      <th>0</th>\n",
       "      <td>0</td>\n",
       "      <td>0.0</td>\n",
       "      <td>52089</td>\n",
       "    </tr>\n",
       "  </tbody>\n",
       "</table>\n",
       "</div>"
      ],
      "text/plain": [
       "  num_cols_missing pct_cols_missing  parcelid\n",
       "0                0              0.0     52089"
      ]
     },
     "execution_count": 22,
     "metadata": {},
     "output_type": "execute_result"
    }
   ],
   "source": [
    "nulls_by_row(df)"
   ]
  },
  {
   "cell_type": "code",
   "execution_count": null,
   "metadata": {},
   "outputs": [],
   "source": [
    "# check_outlier_cols ="
   ]
  },
  {
   "cell_type": "code",
   "execution_count": null,
   "metadata": {},
   "outputs": [],
   "source": []
  },
  {
   "cell_type": "code",
   "execution_count": null,
   "metadata": {},
   "outputs": [],
   "source": []
  },
  {
   "cell_type": "code",
   "execution_count": null,
   "metadata": {},
   "outputs": [],
   "source": []
  },
  {
   "cell_type": "code",
   "execution_count": null,
   "metadata": {},
   "outputs": [],
   "source": []
  },
  {
   "cell_type": "code",
   "execution_count": null,
   "metadata": {},
   "outputs": [],
   "source": []
  },
  {
   "cell_type": "code",
   "execution_count": null,
   "metadata": {},
   "outputs": [],
   "source": []
  },
  {
   "cell_type": "code",
   "execution_count": null,
   "metadata": {},
   "outputs": [],
   "source": []
  },
  {
   "cell_type": "code",
   "execution_count": null,
   "metadata": {},
   "outputs": [],
   "source": []
  },
  {
   "cell_type": "code",
   "execution_count": null,
   "metadata": {},
   "outputs": [],
   "source": []
  },
  {
   "cell_type": "code",
   "execution_count": null,
   "metadata": {},
   "outputs": [],
   "source": []
  },
  {
   "cell_type": "code",
   "execution_count": null,
   "metadata": {},
   "outputs": [],
   "source": []
  },
  {
   "cell_type": "code",
   "execution_count": null,
   "metadata": {},
   "outputs": [],
   "source": []
  },
  {
   "cell_type": "code",
   "execution_count": null,
   "metadata": {},
   "outputs": [],
   "source": []
  },
  {
   "cell_type": "markdown",
   "metadata": {},
   "source": [
    "#### Prepare"
   ]
  },
  {
   "cell_type": "markdown",
   "metadata": {},
   "source": [
    "1. Remove any properties that are likely to be something other than single unit properties. (e.g. no duplexes, no land/lot, ...). There are multiple ways to estimate that a property is a single unit, and there is not a single \"right\" answer. But for this exercise, do not purely filter by unitcnt as we did previously. Add some new logic that will reduce the number of properties that are falsely removed. You might want to use # bedrooms, square feet, unit type or the like to then identify those with unitcnt not defined."
   ]
  },
  {
   "cell_type": "markdown",
   "metadata": {},
   "source": [
    "2. Create a function that will drop rows or columns based on the percent of values that are missing: `handle_missing_values(df, prop_required_column, prop_required_row)`.\n",
    "\n",
    "   - The input:\n",
    "       - A dataframe\n",
    "       - A number between 0 and 1 that represents the proportion, for each column, of rows with non-missing values required to keep the column. i.e. if prop_required_column = .6, then you are requiring a column to have at least 60% of values not-NA (no more than 40% missing).\n",
    "       - A number between 0 and 1 that represents the proportion, for each row, of columns/variables with non-missing values required to keep the row. For example, if prop_required_row = .75, then you are requiring a row to have at least 75% of variables with a non-missing value (no more that 25% missing).\n",
    "   - The output:\n",
    "       - The dataframe with the columns and rows dropped as indicated. Be sure to drop the columns prior to the rows in your function.\n",
    "   - hint:\n",
    "       - Look up the dropna documentation.\n",
    "       - You will want to compute a threshold from your input values (prop_required) and total number of rows or columns.\n",
    "       - Make use of inplace, i.e. inplace=True/False."
   ]
  },
  {
   "cell_type": "code",
   "execution_count": 23,
   "metadata": {},
   "outputs": [],
   "source": [
    "# def handle_missing_values(\n",
    "#     df, \n",
    "#     prop_required_column, \n",
    "#     prop_required_row\n",
    "#     ):\n",
    "#     '''\n",
    "#     handle_missing_values(\n",
    "#     df, \n",
    "#     prop_required_column=.9, \n",
    "#     prop_required_row=.9\n",
    "#     )\n",
    "#     '''\n",
    "    "
   ]
  },
  {
   "cell_type": "markdown",
   "metadata": {},
   "source": [
    "3. Decide how to handle the remaining missing values:\n",
    "   - Fill with constant value.\n",
    "   - Impute with mean, median, mode.\n",
    "   - Drop row/column"
   ]
  },
  {
   "cell_type": "code",
   "execution_count": 24,
   "metadata": {},
   "outputs": [],
   "source": [
    "# df_sqft = df[['calculatedfinishedsquarefeet',\n",
    "# 'finishedfloor1squarefeet',\n",
    "# 'finishedsquarefeet6',\n",
    "# 'finishedsquarefeet12',\n",
    "# 'finishedsquarefeet13',\n",
    "# 'finishedsquarefeet15',\n",
    "# 'finishedsquarefeet50'\n",
    "# ]]"
   ]
  },
  {
   "cell_type": "markdown",
   "metadata": {},
   "source": [
    "#### `wrangle_zillow.py`"
   ]
  },
  {
   "cell_type": "markdown",
   "metadata": {},
   "source": [
    "Functions of the work above needed to acquire and prepare a new sample of data."
   ]
  },
  {
   "cell_type": "code",
   "execution_count": 25,
   "metadata": {},
   "outputs": [],
   "source": [
    "# df_sqft[df_sqft.calculatedfinishedsquarefeet.isna() & (df_sqft.finishedsquarefeet50.isna()==False)]"
   ]
  },
  {
   "cell_type": "code",
   "execution_count": 26,
   "metadata": {},
   "outputs": [],
   "source": [
    "# df_pool = df[['poolcnt','poolsizesum','pooltypeid2','pooltypeid7','pooltypeid10']]\n",
    "# df_pool[(df_pool.poolcnt.isna()==False) | (df_pool.pooltypeid10.isna()==False)]"
   ]
  },
  {
   "cell_type": "code",
   "execution_count": null,
   "metadata": {},
   "outputs": [],
   "source": []
  },
  {
   "cell_type": "code",
   "execution_count": 27,
   "metadata": {},
   "outputs": [
    {
     "name": "stdout",
     "output_type": "stream",
     "text": [
      "<class 'pandas.core.frame.DataFrame'>\n",
      "Int64Index: 52089 entries, 14297519 to 12826780\n",
      "Data columns (total 8 columns):\n",
      "bathroomcnt                     52089 non-null float64\n",
      "bedroomcnt                      52089 non-null float64\n",
      "calculatedfinishedsquarefeet    52089 non-null float64\n",
      "latitude                        52089 non-null float64\n",
      "longitude                       52089 non-null float64\n",
      "structuretaxvaluedollarcnt      52089 non-null float64\n",
      "structuredollarpersqft          52089 non-null float64\n",
      "logerror                        52089 non-null float64\n",
      "dtypes: float64(8)\n",
      "memory usage: 3.6 MB\n"
     ]
    }
   ],
   "source": [
    "dfo.df = df\n",
    "dfo.df.info()"
   ]
  },
  {
   "cell_type": "code",
   "execution_count": 28,
   "metadata": {},
   "outputs": [
    {
     "data": {
      "image/png": "[encoded data removed]",
      "text/plain": [
       "<Figure size 792x720 with 2 Axes>"
      ]
     },
     "metadata": {},
     "output_type": "display_data"
    }
   ],
   "source": [
    "plt.figure(figsize=(11,10))\n",
    "cor = df.corr()\n",
    "plot = sns.heatmap(cor, annot=True, cmap=plt.cm.RdBu_r)\n"
   ]
  },
  {
   "cell_type": "code",
   "execution_count": 29,
   "metadata": {},
   "outputs": [],
   "source": [
    "# sns.pairplot(df)"
   ]
  },
  {
   "cell_type": "code",
   "execution_count": 30,
   "metadata": {},
   "outputs": [
    {
     "name": "stdout",
     "output_type": "stream",
     "text": [
      "2019-11-06 14:50:11 starting xy_df\n",
      "2019-11-06 14:50:11 starting frame_splain\n",
      "2019-11-06 14:50:11 ending frame_splain ; time: 0:00:00.000669\n",
      "2019-11-06 14:50:11 starting frame_splain\n",
      "2019-11-06 14:50:11 ending frame_splain ; time: 0:00:00.000558\n",
      "2019-11-06 14:50:11 ending xy_df ; time: 0:00:00.008561\n"
     ]
    }
   ],
   "source": [
    "dfo.X, dfo.y = prep.xy_df(dfo.df, dfo.y_column)"
   ]
  },
  {
   "cell_type": "code",
   "execution_count": 31,
   "metadata": {},
   "outputs": [
    {
     "name": "stdout",
     "output_type": "stream",
     "text": [
      "<class 'pandas.core.frame.DataFrame'>\n",
      "Int64Index: 52089 entries, 14297519 to 12826780\n",
      "Data columns (total 7 columns):\n",
      "bathroomcnt                     52089 non-null float64\n",
      "bedroomcnt                      52089 non-null float64\n",
      "calculatedfinishedsquarefeet    52089 non-null float64\n",
      "latitude                        52089 non-null float64\n",
      "longitude                       52089 non-null float64\n",
      "structuretaxvaluedollarcnt      52089 non-null float64\n",
      "structuredollarpersqft          52089 non-null float64\n",
      "dtypes: float64(7)\n",
      "memory usage: 3.2 MB\n"
     ]
    }
   ],
   "source": [
    "X = dfo.X\n",
    "X.info()"
   ]
  },
  {
   "cell_type": "code",
   "execution_count": null,
   "metadata": {},
   "outputs": [],
   "source": []
  },
  {
   "cell_type": "code",
   "execution_count": null,
   "metadata": {},
   "outputs": [],
   "source": []
  },
  {
   "cell_type": "code",
   "execution_count": null,
   "metadata": {},
   "outputs": [],
   "source": []
  },
  {
   "cell_type": "code",
   "execution_count": null,
   "metadata": {},
   "outputs": [],
   "source": []
  },
  {
   "cell_type": "code",
   "execution_count": null,
   "metadata": {},
   "outputs": [],
   "source": []
  },
  {
   "cell_type": "code",
   "execution_count": null,
   "metadata": {},
   "outputs": [],
   "source": []
  },
  {
   "cell_type": "code",
   "execution_count": null,
   "metadata": {},
   "outputs": [],
   "source": []
  },
  {
   "cell_type": "code",
   "execution_count": null,
   "metadata": {},
   "outputs": [],
   "source": []
  },
  {
   "cell_type": "code",
   "execution_count": null,
   "metadata": {},
   "outputs": [],
   "source": []
  },
  {
   "cell_type": "code",
   "execution_count": null,
   "metadata": {},
   "outputs": [],
   "source": []
  },
  {
   "cell_type": "code",
   "execution_count": null,
   "metadata": {},
   "outputs": [],
   "source": []
  },
  {
   "cell_type": "code",
   "execution_count": null,
   "metadata": {},
   "outputs": [],
   "source": []
  },
  {
   "cell_type": "code",
   "execution_count": 86,
   "metadata": {},
   "outputs": [],
   "source": [
    "cluster_cols = ['longitude', 'latitude', 'structuredollarpersqft']"
   ]
  },
  {
   "cell_type": "code",
   "execution_count": 87,
   "metadata": {},
   "outputs": [],
   "source": [
    "cluster_col = ['cluster']"
   ]
  },
  {
   "cell_type": "code",
   "execution_count": 88,
   "metadata": {},
   "outputs": [],
   "source": [
    "ignore_cols = ['structuretaxvaluedollarcnt']"
   ]
  },
  {
   "cell_type": "code",
   "execution_count": 89,
   "metadata": {},
   "outputs": [],
   "source": [
    "non_cluster_cols = [col for col in X.columns if col not in cluster_cols + ignore_cols + cluster_col]"
   ]
  },
  {
   "cell_type": "code",
   "execution_count": 90,
   "metadata": {},
   "outputs": [
    {
     "data": {
      "text/plain": [
       "['bathroomcnt', 'bedroomcnt', 'calculatedfinishedsquarefeet']"
      ]
     },
     "execution_count": 90,
     "metadata": {},
     "output_type": "execute_result"
    }
   ],
   "source": [
    "non_cluster_cols"
   ]
  },
  {
   "cell_type": "code",
   "execution_count": 91,
   "metadata": {},
   "outputs": [],
   "source": [
    "Xc = X[cluster_cols]"
   ]
  },
  {
   "cell_type": "code",
   "execution_count": 92,
   "metadata": {},
   "outputs": [
    {
     "name": "stdout",
     "output_type": "stream",
     "text": [
      "<class 'pandas.core.frame.DataFrame'>\n",
      "Int64Index: 52089 entries, 14297519 to 12826780\n",
      "Data columns (total 3 columns):\n",
      "longitude                 52089 non-null float64\n",
      "latitude                  52089 non-null float64\n",
      "structuredollarpersqft    52089 non-null float64\n",
      "dtypes: float64(3)\n",
      "memory usage: 1.6 MB\n"
     ]
    }
   ],
   "source": [
    "Xc.info()"
   ]
  },
  {
   "cell_type": "code",
   "execution_count": 93,
   "metadata": {},
   "outputs": [
    {
     "name": "stdout",
     "output_type": "stream",
     "text": [
      "<class 'pandas.core.frame.DataFrame'>\n",
      "Int64Index: 52089 entries, 14297519 to 12826780\n",
      "Data columns (total 3 columns):\n",
      "bathroomcnt                     52089 non-null float64\n",
      "bedroomcnt                      52089 non-null float64\n",
      "calculatedfinishedsquarefeet    52089 non-null float64\n",
      "dtypes: float64(3)\n",
      "memory usage: 1.6 MB\n"
     ]
    }
   ],
   "source": [
    "Xnc = X[non_cluster_cols]\n",
    "Xnc.info()"
   ]
  },
  {
   "cell_type": "code",
   "execution_count": 94,
   "metadata": {},
   "outputs": [],
   "source": [
    "Xc_scaler = MinMaxScaler(copy=True, feature_range=(0,1)).fit(Xc)"
   ]
  },
  {
   "cell_type": "code",
   "execution_count": 95,
   "metadata": {},
   "outputs": [],
   "source": [
    "Xc_scaled = pd.DataFrame(Xc_scaler.transform(Xc), columns=Xc.columns.values).set_index([Xc.index.values])"
   ]
  },
  {
   "cell_type": "code",
   "execution_count": 96,
   "metadata": {},
   "outputs": [
    {
     "name": "stdout",
     "output_type": "stream",
     "text": [
      "<class 'pandas.core.frame.DataFrame'>\n",
      "Int64Index: 52089 entries, 14297519 to 12826780\n",
      "Data columns (total 3 columns):\n",
      "longitude                 52089 non-null float64\n",
      "latitude                  52089 non-null float64\n",
      "structuredollarpersqft    52089 non-null float64\n",
      "dtypes: float64(3)\n",
      "memory usage: 1.6 MB\n"
     ]
    }
   ],
   "source": [
    "Xc_scaled.info()"
   ]
  },
  {
   "cell_type": "code",
   "execution_count": 99,
   "metadata": {},
   "outputs": [],
   "source": [
    "Xc_scaled['sdpsf_score'] = Xc_scaled.structuredollarpersqft * 15"
   ]
  },
  {
   "cell_type": "code",
   "execution_count": 100,
   "metadata": {},
   "outputs": [],
   "source": [
    "Xc_structuredollarpersqft = Xc_scaled[['structuredollarpersqft']]\n",
    "Xc_scaled = Xc_scaled.drop(columns='structuredollarpersqft')"
   ]
  },
  {
   "cell_type": "code",
   "execution_count": null,
   "metadata": {},
   "outputs": [],
   "source": []
  },
  {
   "cell_type": "code",
   "execution_count": null,
   "metadata": {},
   "outputs": [],
   "source": []
  },
  {
   "cell_type": "code",
   "execution_count": null,
   "metadata": {},
   "outputs": [],
   "source": []
  },
  {
   "cell_type": "code",
   "execution_count": null,
   "metadata": {},
   "outputs": [],
   "source": []
  },
  {
   "cell_type": "code",
   "execution_count": null,
   "metadata": {},
   "outputs": [],
   "source": []
  },
  {
   "cell_type": "code",
   "execution_count": null,
   "metadata": {},
   "outputs": [],
   "source": []
  },
  {
   "cell_type": "code",
   "execution_count": null,
   "metadata": {},
   "outputs": [],
   "source": []
  },
  {
   "cell_type": "code",
   "execution_count": null,
   "metadata": {},
   "outputs": [],
   "source": []
  },
  {
   "cell_type": "code",
   "execution_count": null,
   "metadata": {},
   "outputs": [],
   "source": []
  },
  {
   "cell_type": "code",
   "execution_count": null,
   "metadata": {},
   "outputs": [],
   "source": []
  },
  {
   "cell_type": "code",
   "execution_count": null,
   "metadata": {},
   "outputs": [],
   "source": []
  },
  {
   "cell_type": "code",
   "execution_count": null,
   "metadata": {},
   "outputs": [],
   "source": []
  },
  {
   "cell_type": "code",
   "execution_count": null,
   "metadata": {},
   "outputs": [],
   "source": []
  },
  {
   "cell_type": "code",
   "execution_count": null,
   "metadata": {},
   "outputs": [],
   "source": []
  },
  {
   "cell_type": "code",
   "execution_count": null,
   "metadata": {},
   "outputs": [],
   "source": []
  },
  {
   "cell_type": "code",
   "execution_count": 101,
   "metadata": {},
   "outputs": [
    {
     "data": {
      "image/png": "[encoded data removed]",
      "text/plain": [
       "<Figure size 576x396 with 1 Axes>"
      ]
     },
     "metadata": {},
     "output_type": "display_data"
    }
   ],
   "source": [
    "cf.compare_ks(Xc_scaled, min_k=4, max_k=18)"
   ]
  },
  {
   "cell_type": "code",
   "execution_count": 102,
   "metadata": {},
   "outputs": [
    {
     "data": {
      "text/html": [
       "<div>\n",
       "<style scoped>\n",
       "    .dataframe tbody tr th:only-of-type {\n",
       "        vertical-align: middle;\n",
       "    }\n",
       "\n",
       "    .dataframe tbody tr th {\n",
       "        vertical-align: top;\n",
       "    }\n",
       "\n",
       "    .dataframe thead th {\n",
       "        text-align: right;\n",
       "    }\n",
       "</style>\n",
       "<table border=\"1\" class=\"dataframe\">\n",
       "  <thead>\n",
       "    <tr style=\"text-align: right;\">\n",
       "      <th></th>\n",
       "      <th>longitude</th>\n",
       "      <th>latitude</th>\n",
       "      <th>sdpsf_score</th>\n",
       "      <th>cluster</th>\n",
       "    </tr>\n",
       "  </thead>\n",
       "  <tbody>\n",
       "    <tr>\n",
       "      <th>14297519</th>\n",
       "      <td>0.836227</td>\n",
       "      <td>0.199108</td>\n",
       "      <td>1.626961</td>\n",
       "      <td>1</td>\n",
       "    </tr>\n",
       "    <tr>\n",
       "      <th>17052889</th>\n",
       "      <td>0.100941</td>\n",
       "      <td>0.750024</td>\n",
       "      <td>0.623486</td>\n",
       "      <td>7</td>\n",
       "    </tr>\n",
       "    <tr>\n",
       "      <th>14186244</th>\n",
       "      <td>0.860195</td>\n",
       "      <td>0.369076</td>\n",
       "      <td>0.712261</td>\n",
       "      <td>3</td>\n",
       "    </tr>\n",
       "    <tr>\n",
       "      <th>12177905</th>\n",
       "      <td>0.642809</td>\n",
       "      <td>0.611955</td>\n",
       "      <td>0.475713</td>\n",
       "      <td>7</td>\n",
       "    </tr>\n",
       "    <tr>\n",
       "      <th>12095076</th>\n",
       "      <td>0.674513</td>\n",
       "      <td>0.544318</td>\n",
       "      <td>0.969803</td>\n",
       "      <td>10</td>\n",
       "    </tr>\n",
       "    <tr>\n",
       "      <th>12069064</th>\n",
       "      <td>0.643519</td>\n",
       "      <td>0.547032</td>\n",
       "      <td>0.265441</td>\n",
       "      <td>11</td>\n",
       "    </tr>\n",
       "    <tr>\n",
       "      <th>12790562</th>\n",
       "      <td>0.764534</td>\n",
       "      <td>0.419180</td>\n",
       "      <td>0.606327</td>\n",
       "      <td>3</td>\n",
       "    </tr>\n",
       "    <tr>\n",
       "      <th>11104527</th>\n",
       "      <td>0.526362</td>\n",
       "      <td>0.740353</td>\n",
       "      <td>1.110677</td>\n",
       "      <td>9</td>\n",
       "    </tr>\n",
       "    <tr>\n",
       "      <th>13944538</th>\n",
       "      <td>0.777071</td>\n",
       "      <td>0.291458</td>\n",
       "      <td>0.748477</td>\n",
       "      <td>3</td>\n",
       "    </tr>\n",
       "    <tr>\n",
       "      <th>17110996</th>\n",
       "      <td>0.158677</td>\n",
       "      <td>0.607253</td>\n",
       "      <td>0.749794</td>\n",
       "      <td>9</td>\n",
       "    </tr>\n",
       "    <tr>\n",
       "      <th>14375300</th>\n",
       "      <td>0.920566</td>\n",
       "      <td>0.204432</td>\n",
       "      <td>1.047019</td>\n",
       "      <td>10</td>\n",
       "    </tr>\n",
       "    <tr>\n",
       "      <th>11830315</th>\n",
       "      <td>0.685308</td>\n",
       "      <td>0.462349</td>\n",
       "      <td>1.159322</td>\n",
       "      <td>10</td>\n",
       "    </tr>\n",
       "    <tr>\n",
       "      <th>14387959</th>\n",
       "      <td>0.925777</td>\n",
       "      <td>0.166474</td>\n",
       "      <td>0.867310</td>\n",
       "      <td>10</td>\n",
       "    </tr>\n",
       "    <tr>\n",
       "      <th>14349322</th>\n",
       "      <td>0.895870</td>\n",
       "      <td>0.262738</td>\n",
       "      <td>1.139287</td>\n",
       "      <td>10</td>\n",
       "    </tr>\n",
       "    <tr>\n",
       "      <th>11706737</th>\n",
       "      <td>0.621812</td>\n",
       "      <td>0.452493</td>\n",
       "      <td>0.296841</td>\n",
       "      <td>11</td>\n",
       "    </tr>\n",
       "  </tbody>\n",
       "</table>\n",
       "</div>"
      ],
      "text/plain": [
       "          longitude  latitude  sdpsf_score  cluster\n",
       "14297519   0.836227  0.199108     1.626961        1\n",
       "17052889   0.100941  0.750024     0.623486        7\n",
       "14186244   0.860195  0.369076     0.712261        3\n",
       "12177905   0.642809  0.611955     0.475713        7\n",
       "12095076   0.674513  0.544318     0.969803       10\n",
       "12069064   0.643519  0.547032     0.265441       11\n",
       "12790562   0.764534  0.419180     0.606327        3\n",
       "11104527   0.526362  0.740353     1.110677        9\n",
       "13944538   0.777071  0.291458     0.748477        3\n",
       "17110996   0.158677  0.607253     0.749794        9\n",
       "14375300   0.920566  0.204432     1.047019       10\n",
       "11830315   0.685308  0.462349     1.159322       10\n",
       "14387959   0.925777  0.166474     0.867310       10\n",
       "14349322   0.895870  0.262738     1.139287       10\n",
       "11706737   0.621812  0.452493     0.296841       11"
      ]
     },
     "execution_count": 102,
     "metadata": {},
     "output_type": "execute_result"
    }
   ],
   "source": [
    "cf.set_kmeans_clusters(Xc_scaled, 12)\n",
    "Xc_scaled.head(15)"
   ]
  },
  {
   "cell_type": "code",
   "execution_count": 75,
   "metadata": {},
   "outputs": [],
   "source": [
    "# plt.figure(figsize=(6,5))\n",
    "# cf.plot_2d_clusters(X, x_col='bathroomcnt', y_col='bedroomcnt', c_col='cluster')\n",
    "# plt.show()"
   ]
  },
  {
   "cell_type": "code",
   "execution_count": 76,
   "metadata": {},
   "outputs": [],
   "source": [
    "# plt.figure(figsize=(6,5))\n",
    "# cf.plot_2d_clusters(X, x_col='bedroomcnt', y_col='calculatedfinishedsquarefeet', c_col='cluster')\n",
    "# plt.show()"
   ]
  },
  {
   "cell_type": "code",
   "execution_count": 77,
   "metadata": {},
   "outputs": [],
   "source": [
    "# plt.figure(figsize=(6,5))\n",
    "# cf.plot_2d_clusters(X, x_col='bathroomcnt', y_col='calculatedfinishedsquarefeet', c_col='cluster')\n",
    "# plt.show()"
   ]
  },
  {
   "cell_type": "code",
   "execution_count": 78,
   "metadata": {},
   "outputs": [],
   "source": [
    "def features_2d(df, c_col=None, **kwargs):\n",
    "    \n",
    "    cols = [col for col in df.columns if col != c_col]\n",
    "    n = len(cols)\n",
    "    grid = []\n",
    "    for x in range(0, n-1):\n",
    "        for y in range(x+1, n):\n",
    "            line = [cols[x], cols[y]]\n",
    "            grid.append(line)\n",
    "    \n",
    "    return_df = pd.DataFrame(grid, columns=['x_col', 'y_col'])\n",
    "    if c_col:\n",
    "        return_df['c_col'] = c_col\n",
    "    return return_df\n",
    "\n"
   ]
  },
  {
   "cell_type": "code",
   "execution_count": 79,
   "metadata": {},
   "outputs": [],
   "source": [
    "def features_3d(df, c_col=None, **kwargs):\n",
    "    \n",
    "    cols = [col for col in df.columns if col != c_col]\n",
    "    n = len(cols)\n",
    "    grid = []\n",
    "    for x in range(0, n-2):\n",
    "        for y in range(x+1, n-1):\n",
    "            for z in range(y+1, n):\n",
    "                line = [cols[x], cols[y], cols[z]]\n",
    "                grid.append(line)\n",
    "    \n",
    "\n",
    "    return_df = pd.DataFrame(grid, columns=['x_col', 'y_col', 'z_col'])\n",
    "    if c_col:\n",
    "        return_df['c_col'] = c_col\n",
    "    return return_df\n",
    "\n"
   ]
  },
  {
   "cell_type": "code",
   "execution_count": 80,
   "metadata": {},
   "outputs": [],
   "source": [
    "# features_2d(Xc_scaled)"
   ]
  },
  {
   "cell_type": "code",
   "execution_count": 103,
   "metadata": {},
   "outputs": [
    {
     "data": {
      "text/html": [
       "<div>\n",
       "<style scoped>\n",
       "    .dataframe tbody tr th:only-of-type {\n",
       "        vertical-align: middle;\n",
       "    }\n",
       "\n",
       "    .dataframe tbody tr th {\n",
       "        vertical-align: top;\n",
       "    }\n",
       "\n",
       "    .dataframe thead th {\n",
       "        text-align: right;\n",
       "    }\n",
       "</style>\n",
       "<table border=\"1\" class=\"dataframe\">\n",
       "  <thead>\n",
       "    <tr style=\"text-align: right;\">\n",
       "      <th></th>\n",
       "      <th>x_col</th>\n",
       "      <th>y_col</th>\n",
       "      <th>c_col</th>\n",
       "    </tr>\n",
       "  </thead>\n",
       "  <tbody>\n",
       "    <tr>\n",
       "      <th>0</th>\n",
       "      <td>longitude</td>\n",
       "      <td>latitude</td>\n",
       "      <td>cluster</td>\n",
       "    </tr>\n",
       "    <tr>\n",
       "      <th>1</th>\n",
       "      <td>longitude</td>\n",
       "      <td>sdpsf_score</td>\n",
       "      <td>cluster</td>\n",
       "    </tr>\n",
       "    <tr>\n",
       "      <th>2</th>\n",
       "      <td>latitude</td>\n",
       "      <td>sdpsf_score</td>\n",
       "      <td>cluster</td>\n",
       "    </tr>\n",
       "  </tbody>\n",
       "</table>\n",
       "</div>"
      ],
      "text/plain": [
       "       x_col        y_col    c_col\n",
       "0  longitude     latitude  cluster\n",
       "1  longitude  sdpsf_score  cluster\n",
       "2   latitude  sdpsf_score  cluster"
      ]
     },
     "execution_count": 103,
     "metadata": {},
     "output_type": "execute_result"
    }
   ],
   "source": [
    "features_cl = features_2d(Xc_scaled, c_col=cluster_col[0])\n",
    "features_cl"
   ]
  },
  {
   "cell_type": "code",
   "execution_count": 104,
   "metadata": {},
   "outputs": [],
   "source": [
    "# features_3d(Xc_scaled, c_col=)"
   ]
  },
  {
   "cell_type": "code",
   "execution_count": 105,
   "metadata": {},
   "outputs": [],
   "source": [
    "# features_3d(X, c_col='cluster')"
   ]
  },
  {
   "cell_type": "code",
   "execution_count": 106,
   "metadata": {},
   "outputs": [],
   "source": [
    "def plot_features_2D(feature_df, df, x_col='x_col', y_col='y_col', c_col='c_col'):\n",
    "    x_vals = feature_df[x_col]\n",
    "    y_vals = feature_df[y_col]\n",
    "    c_vals = feature_df[c_col]\n",
    "    n = len(x_vals)\n",
    "    for idx in range(0,n):\n",
    "        plt.figure(figsize=(6,5))\n",
    "        cf.plot_2d_clusters(df, x_col=x_vals[idx], y_col=y_vals[idx], c_col=c_vals[idx])\n",
    "        plt.show()"
   ]
  },
  {
   "cell_type": "code",
   "execution_count": 107,
   "metadata": {},
   "outputs": [
    {
     "data": {
      "image/png": "[encoded data removed]",
      "text/plain": [
       "<Figure size 432x360 with 1 Axes>"
      ]
     },
     "metadata": {},
     "output_type": "display_data"
    },
    {
     "data": {
      "image/png": "[encoded data removed]",
      "text/plain": [
       "<Figure size 432x360 with 1 Axes>"
      ]
     },
     "metadata": {},
     "output_type": "display_data"
    },
    {
     "data": {
      "image/png": "[encoded data removed]",
      "text/plain": [
       "<Figure size 432x360 with 1 Axes>"
      ]
     },
     "metadata": {},
     "output_type": "display_data"
    }
   ],
   "source": [
    "plot_features_2D(features_cl, Xc_scaled)"
   ]
  },
  {
   "cell_type": "code",
   "execution_count": null,
   "metadata": {},
   "outputs": [],
   "source": []
  },
  {
   "cell_type": "code",
   "execution_count": null,
   "metadata": {},
   "outputs": [],
   "source": []
  },
  {
   "cell_type": "code",
   "execution_count": null,
   "metadata": {},
   "outputs": [],
   "source": []
  },
  {
   "cell_type": "code",
   "execution_count": null,
   "metadata": {},
   "outputs": [],
   "source": []
  },
  {
   "cell_type": "code",
   "execution_count": null,
   "metadata": {},
   "outputs": [],
   "source": []
  },
  {
   "cell_type": "code",
   "execution_count": null,
   "metadata": {},
   "outputs": [],
   "source": []
  },
  {
   "cell_type": "code",
   "execution_count": null,
   "metadata": {},
   "outputs": [],
   "source": []
  },
  {
   "cell_type": "code",
   "execution_count": null,
   "metadata": {},
   "outputs": [],
   "source": []
  },
  {
   "cell_type": "code",
   "execution_count": 56,
   "metadata": {},
   "outputs": [
    {
     "data": {
      "text/plain": [
       "<Figure size 432x360 with 0 Axes>"
      ]
     },
     "execution_count": 56,
     "metadata": {},
     "output_type": "execute_result"
    },
    {
     "data": {
      "text/plain": [
       "<Figure size 432x360 with 0 Axes>"
      ]
     },
     "metadata": {},
     "output_type": "display_data"
    }
   ],
   "source": [
    "plt.figure(figsize=(6,5))\n",
    "\n"
   ]
  }
 ],
 "metadata": {
  "kernelspec": {
   "display_name": "Python 3",
   "language": "python",
   "name": "python3"
  },
  "language_info": {
   "codemirror_mode": {
    "name": "ipython",
    "version": 3
   },
   "file_extension": ".py",
   "mimetype": "text/x-python",
   "name": "python",
   "nbconvert_exporter": "python",
   "pygments_lexer": "ipython3",
   "version": "3.7.3"
  }
 },
 "nbformat": 4,
 "nbformat_minor": 2
}
