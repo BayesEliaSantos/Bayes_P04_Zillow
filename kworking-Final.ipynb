{
 "cells": [
  {
   "cell_type": "markdown",
   "metadata": {},
   "source": [
    "# Exercises"
   ]
  },
  {
   "cell_type": "markdown",
   "metadata": {},
   "source": [
    "## Acquire "
   ]
  },
  {
   "cell_type": "markdown",
   "metadata": {},
   "source": [
    "### Zillow\n",
    "**For the following, iterate through the steps you would take to create functions: Write the code to do the following in a jupyter notebook, test it, convert to functions, then create the file to house those functions.**\n",
    "\n",
    "**You will have a** \n",
    "`zillow.ipynb` \n",
    "**file and a helper file for each section in the pipeline.**"
   ]
  },
  {
   "cell_type": "code",
   "execution_count": 1,
   "metadata": {},
   "outputs": [],
   "source": [
    "###############################################################################\n",
    "### python imports                                                          ###\n",
    "###############################################################################\n",
    "\n",
    "import matplotlib.pyplot as plt\n",
    "import seaborn as sns\n",
    "\n",
    "import pandas as pd\n",
    "import numpy as np\n",
    "import matplotlib.pyplot as plt\n",
    "import seaborn as sns #; sns.set()\n",
    "\n",
    "from sklearn.model_selection import train_test_split\n",
    "from sklearn.metrics import mean_squared_error, r2_score, explained_variance_score\n",
    "from sklearn.linear_model import LassoCV\n",
    "from sklearn.linear_model import LinearRegression\n",
    "from sklearn import metrics\n",
    "\n",
    "# from math import sqrt\n",
    "import statsmodels.api as sm\n",
    "from statsmodels.formula.api import ols\n",
    "from sklearn.preprocessing import StandardScaler, QuantileTransformer, PowerTransformer, RobustScaler, MinMaxScaler\n",
    "\n",
    "\n",
    "import warnings\n",
    "warnings.filterwarnings(\"ignore\")\n",
    "\n",
    "# from math import sqrt\n",
    "import statsmodels.api as sm\n",
    "from statsmodels.formula.api import ols\n",
    "import dfo"
   ]
  },
  {
   "cell_type": "code",
   "execution_count": 2,
   "metadata": {},
   "outputs": [],
   "source": [
    "from sklearn.tree import DecisionTreeRegressor\n",
    "from sklearn.tree import export_graphviz\n",
    "from sklearn.metrics import classification_report\n",
    "from sklearn.metrics import confusion_matrix\n",
    "\n",
    "from sklearn.model_selection import cross_val_score\n",
    "import graphviz\n",
    "\n",
    "from graphviz import Graph"
   ]
  },
  {
   "cell_type": "code",
   "execution_count": 3,
   "metadata": {},
   "outputs": [],
   "source": [
    "from math import sqrt\n",
    "from scipy import stats"
   ]
  },
  {
   "cell_type": "code",
   "execution_count": 4,
   "metadata": {},
   "outputs": [],
   "source": [
    "###############################################################################\n",
    "### local imports                                                           ###\n",
    "###############################################################################\n",
    "\n",
    "import acquire as acq\n",
    "import prepare as prep\n",
    "import clusterfunctions as cf\n",
    "import explore as xplr\n",
    "\n",
    "from debug import local_settings, timeifdebug, timeargsifdebug, frame_splain\n",
    "from dfo import DFO, set_dfo\n",
    "from prepare import convert_to_dates, get_column_values_stats, retype_cols, remove_cols, nulls_by_row"
   ]
  },
  {
   "cell_type": "code",
   "execution_count": 5,
   "metadata": {},
   "outputs": [],
   "source": [
    "local_settings.splain=True\n",
    "local_settings.debug=True\n",
    "splain = local_settings.splain\n",
    "debug = local_settings.debug"
   ]
  },
  {
   "cell_type": "code",
   "execution_count": 6,
   "metadata": {},
   "outputs": [],
   "source": [
    "import evaluate as p_eval"
   ]
  },
  {
   "cell_type": "code",
   "execution_count": 7,
   "metadata": {},
   "outputs": [],
   "source": [
    "from wrangle_zillow import get_zillow_data, get_zillow_local_data, prep_zillow_data, sqls, keep_cols"
   ]
  },
  {
   "cell_type": "markdown",
   "metadata": {},
   "source": [
    "#### Acquire & Summarize"
   ]
  },
  {
   "cell_type": "markdown",
   "metadata": {},
   "source": [
    "1. **Acquire data from mySQL using the python module to connect and query. You will want to end with a single dataframe. Make sure to include: the logerror, all fields related to the properties that are available. You will end up using all the tables in the database.**\n",
    "\n",
    "   - *Be sure to do the correct join (inner, outer, etc.). We do not want to eliminate properties purely because they may have a null value for* \n",
    "`airconditioningtypeid`\n",
    "*.*\n",
    "   - Only include properties with a transaction in 2017, and include only the last transaction for each properity (so no duplicate property ID's), along with zestimate error and date of transaction.\n",
    "   - Only include properties that include a latitude and longitude value."
   ]
  },
  {
   "cell_type": "code",
   "execution_count": 8,
   "metadata": {},
   "outputs": [
    {
     "name": "stdout",
     "output_type": "stream",
     "text": [
      "2019-11-11 20:25:29 starting get_zillow_local_data\n",
      "2019-11-11 20:25:29 starting csv_df\n",
      "2019-11-11 20:25:29 starting check_df\n",
      "2019-11-11 20:25:29 starting frame_splain\n",
      "DATAFRAME SHAPE:\n",
      "(52089, 11) \n",
      "\n",
      "DATAFRAME INFO:\n",
      "<class 'pandas.core.frame.DataFrame'>\n",
      "RangeIndex: 52089 entries, 0 to 52088\n",
      "Data columns (total 11 columns):\n",
      "id                              52089 non-null int64\n",
      "parcelid                        52089 non-null int64\n",
      "bathroomcnt                     52089 non-null float64\n",
      "bedroomcnt                      52089 non-null float64\n",
      "calculatedfinishedsquarefeet    52089 non-null float64\n",
      "fips                            52089 non-null float64\n",
      "latitude                        52089 non-null float64\n",
      "longitude                       52089 non-null float64\n",
      "structuretaxvaluedollarcnt      52089 non-null float64\n",
      "structuredollarpersqft          52089 non-null float64\n",
      "logerror                        52089 non-null float64\n",
      "dtypes: float64(9), int64(2)\n",
      "memory usage: 4.4 MB\n",
      "None \n",
      "\n",
      "DATAFRAME DESCRIPTION:\n",
      "                                count          mean           std  \\\n",
      "id                            52089.0  1.496967e+06  8.594335e+05   \n",
      "parcelid                      52089.0  1.298377e+07  3.070062e+06   \n",
      "bathroomcnt                   52089.0  2.305669e+00  1.017265e+00   \n",
      "bedroomcnt                    52089.0  3.309912e+00  9.334532e-01   \n",
      "calculatedfinishedsquarefeet  52089.0  1.923432e+03  1.003069e+03   \n",
      "fips                          52089.0  6.049118e+03  2.100962e+01   \n",
      "latitude                      52089.0  3.402263e+07  2.740844e+05   \n",
      "longitude                     52089.0 -1.181938e+08  3.564175e+05   \n",
      "structuretaxvaluedollarcnt    52089.0  1.959778e+05  2.524218e+05   \n",
      "structuredollarpersqft        52089.0  9.084642e+01  5.995686e+01   \n",
      "logerror                      52089.0  1.824858e-02  1.759901e-01   \n",
      "\n",
      "                                       min           25%           50%  \\\n",
      "id                            3.490000e+02  7.579590e+05  1.500051e+06   \n",
      "parcelid                      1.071186e+07  1.150787e+07  1.257813e+07   \n",
      "bathroomcnt                   1.000000e+00  2.000000e+00  2.000000e+00   \n",
      "bedroomcnt                    1.000000e+00  3.000000e+00  3.000000e+00   \n",
      "calculatedfinishedsquarefeet  1.520000e+02  1.268000e+03  1.659000e+03   \n",
      "fips                          6.037000e+03  6.037000e+03  6.037000e+03   \n",
      "latitude                      3.334062e+07  3.382689e+07  3.402338e+07   \n",
      "longitude                    -1.194754e+08 -1.184004e+08 -1.181529e+08   \n",
      "structuretaxvaluedollarcnt    1.480000e+02  7.720000e+04  1.318830e+05   \n",
      "structuredollarpersqft        3.983275e-02  5.498029e+01  8.216741e+01   \n",
      "logerror                     -4.655420e+00 -2.457495e-02  6.956119e-03   \n",
      "\n",
      "                                       75%           max  \n",
      "id                            2.241643e+06  2.982270e+06  \n",
      "parcelid                      1.412934e+07  1.676392e+08  \n",
      "bathroomcnt                   3.000000e+00  1.800000e+01  \n",
      "bedroomcnt                    4.000000e+00  1.400000e+01  \n",
      "calculatedfinishedsquarefeet  2.306000e+03  2.192900e+04  \n",
      "fips                          6.059000e+03  6.111000e+03  \n",
      "latitude                      3.418742e+07  3.481877e+07  \n",
      "longitude                    -1.179291e+08 -1.175546e+08  \n",
      "structuretaxvaluedollarcnt    2.261220e+05  9.164901e+06  \n",
      "structuredollarpersqft        1.135682e+02  1.444221e+03  \n",
      "logerror                      4.052645e-02  5.262999e+00   \n",
      "\n",
      "2019-11-11 20:25:29 ending frame_splain ; time: 0:00:00.066898\n",
      "2019-11-11 20:25:29 ending check_df ; time: 0:00:00.068574\n",
      "2019-11-11 20:25:29 ending csv_df ; time: 0:00:00.185137\n",
      "2019-11-11 20:25:29 ending get_zillow_local_data ; time: 0:00:00.185422\n",
      "2019-11-11 20:25:29 starting set_dfo\n",
      "2019-11-11 20:25:29 ending set_dfo ; time: 0:00:00.000075\n"
     ]
    }
   ],
   "source": [
    "# dfo = set_dfo(get_zillow_data(sql=sqls['mvp']), splain=True)\n",
    "dfo = set_dfo(get_zillow_local_data(csv='zillow_local_mvp.csv'), splain=True)"
   ]
  },
  {
   "cell_type": "markdown",
   "metadata": {},
   "source": [
    "2. **Summarize your data (summary stats, info, dtypes, shape, distributions, value_counts, etc.).**"
   ]
  },
  {
   "cell_type": "code",
   "execution_count": 9,
   "metadata": {},
   "outputs": [
    {
     "name": "stdout",
     "output_type": "stream",
     "text": [
      "2019-11-11 20:25:29 starting remove_cols\n",
      "2019-11-11 20:25:29 ending remove_cols ; time: 0:00:00.002782\n",
      "2019-11-11 20:25:29 starting frame_splain\n",
      "ZILLOW DATA SHAPE:\n",
      "(52089, 9) \n",
      "\n",
      "ZILLOW DATA INFO:\n",
      "<class 'pandas.core.frame.DataFrame'>\n",
      "Int64Index: 52089 entries, 14297519 to 12826780\n",
      "Data columns (total 9 columns):\n",
      "bathroomcnt                     52089 non-null float64\n",
      "bedroomcnt                      52089 non-null float64\n",
      "calculatedfinishedsquarefeet    52089 non-null float64\n",
      "fips                            52089 non-null float64\n",
      "latitude                        52089 non-null float64\n",
      "longitude                       52089 non-null float64\n",
      "structuretaxvaluedollarcnt      52089 non-null float64\n",
      "structuredollarpersqft          52089 non-null float64\n",
      "y                               52089 non-null float64\n",
      "dtypes: float64(9)\n",
      "memory usage: 4.0 MB\n",
      "None \n",
      "\n",
      "ZILLOW DATA DESCRIPTION:\n",
      "                                count          mean            std  \\\n",
      "bathroomcnt                   52089.0  2.305669e+00       1.017265   \n",
      "bedroomcnt                    52089.0  3.309912e+00       0.933453   \n",
      "calculatedfinishedsquarefeet  52089.0  1.923432e+03    1003.068834   \n",
      "fips                          52089.0  6.049118e+03      21.009624   \n",
      "latitude                      52089.0  3.402263e+07  274084.436731   \n",
      "longitude                     52089.0 -1.181938e+08  356417.454324   \n",
      "structuretaxvaluedollarcnt    52089.0  1.959778e+05  252421.820192   \n",
      "structuredollarpersqft        52089.0  9.084642e+01      59.956862   \n",
      "y                             52089.0  1.824858e-02       0.175990   \n",
      "\n",
      "                                       min           25%           50%  \\\n",
      "bathroomcnt                   1.000000e+00  2.000000e+00  2.000000e+00   \n",
      "bedroomcnt                    1.000000e+00  3.000000e+00  3.000000e+00   \n",
      "calculatedfinishedsquarefeet  1.520000e+02  1.268000e+03  1.659000e+03   \n",
      "fips                          6.037000e+03  6.037000e+03  6.037000e+03   \n",
      "latitude                      3.334062e+07  3.382689e+07  3.402338e+07   \n",
      "longitude                    -1.194754e+08 -1.184004e+08 -1.181529e+08   \n",
      "structuretaxvaluedollarcnt    1.480000e+02  7.720000e+04  1.318830e+05   \n",
      "structuredollarpersqft        3.983275e-02  5.498029e+01  8.216741e+01   \n",
      "y                            -4.655420e+00 -2.457495e-02  6.956119e-03   \n",
      "\n",
      "                                       75%           max  \n",
      "bathroomcnt                   3.000000e+00  1.800000e+01  \n",
      "bedroomcnt                    4.000000e+00  1.400000e+01  \n",
      "calculatedfinishedsquarefeet  2.306000e+03  2.192900e+04  \n",
      "fips                          6.059000e+03  6.111000e+03  \n",
      "latitude                      3.418742e+07  3.481877e+07  \n",
      "longitude                    -1.179291e+08 -1.175546e+08  \n",
      "structuretaxvaluedollarcnt    2.261220e+05  9.164901e+06  \n",
      "structuredollarpersqft        1.135682e+02  1.444221e+03  \n",
      "y                             4.052645e-02  5.262999e+00   \n",
      "\n",
      "ZILLOW DATA HEAD:\n",
      "          bathroomcnt  bedroomcnt  calculatedfinishedsquarefeet    fips  \\\n",
      "parcelid                                                                  \n",
      "14297519          3.5         4.0                        3100.0  6059.0   \n",
      "17052889          1.0         2.0                        1465.0  6111.0   \n",
      "14186244          2.0         3.0                        1243.0  6059.0   \n",
      "12177905          3.0         4.0                        2376.0  6037.0   \n",
      "12095076          3.0         4.0                        2962.0  6037.0   \n",
      "\n",
      "            latitude    longitude  structuretaxvaluedollarcnt  \\\n",
      "parcelid                                                        \n",
      "14297519  33634931.0 -117869207.0                    485713.0   \n",
      "17052889  34449266.0 -119281531.0                     88000.0   \n",
      "14186244  33886168.0 -117823170.0                     85289.0   \n",
      "12177905  34245180.0 -118240722.0                    108918.0   \n",
      "12095076  34145202.0 -118179824.0                    276684.0   \n",
      "\n",
      "          structuredollarpersqft         y  \n",
      "parcelid                                    \n",
      "14297519              156.681613  0.025595  \n",
      "17052889               60.068259  0.055619  \n",
      "14186244               68.615447  0.005383  \n",
      "12177905               45.840909 -0.103410  \n",
      "12095076               93.411209 -0.001011   \n",
      "\n",
      "2019-11-11 20:25:29 ending frame_splain ; time: 0:00:00.068193\n"
     ]
    }
   ],
   "source": [
    "df = dfo.df\n",
    "df = remove_cols(df, ['Unnamed: 0', 'id'])\n",
    "dfo.index_columns = 'parcelid'\n",
    "df = df.set_index(dfo.index_columns)\n",
    "dfo.y_column = 'logerror'\n",
    "y_col = 'y'\n",
    "df = df.rename(columns={dfo.y_column: 'y'})\n",
    "dfo.stratify = 'fips'\n",
    "frame_splain(df, title='Zillow Data', splain=True)"
   ]
  },
  {
   "cell_type": "code",
   "execution_count": 10,
   "metadata": {},
   "outputs": [
    {
     "name": "stdout",
     "output_type": "stream",
     "text": [
      "2019-11-11 20:25:29 starting convert_to_dates\n",
      "2019-11-11 20:25:29 ending convert_to_dates ; time: 0:00:00.000590\n"
     ]
    },
    {
     "data": {
      "text/html": [
       "<div>\n",
       "<style scoped>\n",
       "    .dataframe tbody tr th:only-of-type {\n",
       "        vertical-align: middle;\n",
       "    }\n",
       "\n",
       "    .dataframe tbody tr th {\n",
       "        vertical-align: top;\n",
       "    }\n",
       "\n",
       "    .dataframe thead th {\n",
       "        text-align: right;\n",
       "    }\n",
       "</style>\n",
       "<table border=\"1\" class=\"dataframe\">\n",
       "  <thead>\n",
       "    <tr style=\"text-align: right;\">\n",
       "      <th></th>\n",
       "      <th>bathroomcnt</th>\n",
       "      <th>bedroomcnt</th>\n",
       "      <th>calculatedfinishedsquarefeet</th>\n",
       "      <th>fips</th>\n",
       "      <th>latitude</th>\n",
       "      <th>longitude</th>\n",
       "      <th>structuretaxvaluedollarcnt</th>\n",
       "      <th>structuredollarpersqft</th>\n",
       "      <th>y</th>\n",
       "    </tr>\n",
       "    <tr>\n",
       "      <th>parcelid</th>\n",
       "      <th></th>\n",
       "      <th></th>\n",
       "      <th></th>\n",
       "      <th></th>\n",
       "      <th></th>\n",
       "      <th></th>\n",
       "      <th></th>\n",
       "      <th></th>\n",
       "      <th></th>\n",
       "    </tr>\n",
       "  </thead>\n",
       "  <tbody>\n",
       "    <tr>\n",
       "      <th>14297519</th>\n",
       "      <td>3.5</td>\n",
       "      <td>4.0</td>\n",
       "      <td>3100.0</td>\n",
       "      <td>6059.0</td>\n",
       "      <td>33634931.0</td>\n",
       "      <td>-117869207.0</td>\n",
       "      <td>485713.0</td>\n",
       "      <td>156.681613</td>\n",
       "      <td>0.025595</td>\n",
       "    </tr>\n",
       "    <tr>\n",
       "      <th>17052889</th>\n",
       "      <td>1.0</td>\n",
       "      <td>2.0</td>\n",
       "      <td>1465.0</td>\n",
       "      <td>6111.0</td>\n",
       "      <td>34449266.0</td>\n",
       "      <td>-119281531.0</td>\n",
       "      <td>88000.0</td>\n",
       "      <td>60.068259</td>\n",
       "      <td>0.055619</td>\n",
       "    </tr>\n",
       "    <tr>\n",
       "      <th>14186244</th>\n",
       "      <td>2.0</td>\n",
       "      <td>3.0</td>\n",
       "      <td>1243.0</td>\n",
       "      <td>6059.0</td>\n",
       "      <td>33886168.0</td>\n",
       "      <td>-117823170.0</td>\n",
       "      <td>85289.0</td>\n",
       "      <td>68.615447</td>\n",
       "      <td>0.005383</td>\n",
       "    </tr>\n",
       "    <tr>\n",
       "      <th>12177905</th>\n",
       "      <td>3.0</td>\n",
       "      <td>4.0</td>\n",
       "      <td>2376.0</td>\n",
       "      <td>6037.0</td>\n",
       "      <td>34245180.0</td>\n",
       "      <td>-118240722.0</td>\n",
       "      <td>108918.0</td>\n",
       "      <td>45.840909</td>\n",
       "      <td>-0.103410</td>\n",
       "    </tr>\n",
       "    <tr>\n",
       "      <th>12095076</th>\n",
       "      <td>3.0</td>\n",
       "      <td>4.0</td>\n",
       "      <td>2962.0</td>\n",
       "      <td>6037.0</td>\n",
       "      <td>34145202.0</td>\n",
       "      <td>-118179824.0</td>\n",
       "      <td>276684.0</td>\n",
       "      <td>93.411209</td>\n",
       "      <td>-0.001011</td>\n",
       "    </tr>\n",
       "    <tr>\n",
       "      <th>12069064</th>\n",
       "      <td>1.0</td>\n",
       "      <td>2.0</td>\n",
       "      <td>738.0</td>\n",
       "      <td>6037.0</td>\n",
       "      <td>34149214.0</td>\n",
       "      <td>-118239357.0</td>\n",
       "      <td>18890.0</td>\n",
       "      <td>25.596206</td>\n",
       "      <td>0.101723</td>\n",
       "    </tr>\n",
       "    <tr>\n",
       "      <th>12790562</th>\n",
       "      <td>3.0</td>\n",
       "      <td>4.0</td>\n",
       "      <td>3039.0</td>\n",
       "      <td>6037.0</td>\n",
       "      <td>33960230.0</td>\n",
       "      <td>-118006914.0</td>\n",
       "      <td>177527.0</td>\n",
       "      <td>58.416255</td>\n",
       "      <td>-0.040966</td>\n",
       "    </tr>\n",
       "    <tr>\n",
       "      <th>11104527</th>\n",
       "      <td>3.0</td>\n",
       "      <td>4.0</td>\n",
       "      <td>2540.0</td>\n",
       "      <td>6037.0</td>\n",
       "      <td>34434971.0</td>\n",
       "      <td>-118464390.0</td>\n",
       "      <td>271715.0</td>\n",
       "      <td>106.974409</td>\n",
       "      <td>0.005963</td>\n",
       "    </tr>\n",
       "    <tr>\n",
       "      <th>13944538</th>\n",
       "      <td>2.5</td>\n",
       "      <td>3.0</td>\n",
       "      <td>1340.0</td>\n",
       "      <td>6059.0</td>\n",
       "      <td>33771438.0</td>\n",
       "      <td>-117982834.0</td>\n",
       "      <td>96617.0</td>\n",
       "      <td>72.102239</td>\n",
       "      <td>0.045602</td>\n",
       "    </tr>\n",
       "    <tr>\n",
       "      <th>17110996</th>\n",
       "      <td>2.5</td>\n",
       "      <td>3.0</td>\n",
       "      <td>1371.0</td>\n",
       "      <td>6111.0</td>\n",
       "      <td>34238229.0</td>\n",
       "      <td>-119170633.0</td>\n",
       "      <td>99026.0</td>\n",
       "      <td>72.229030</td>\n",
       "      <td>0.008669</td>\n",
       "    </tr>\n",
       "    <tr>\n",
       "      <th>14375300</th>\n",
       "      <td>2.0</td>\n",
       "      <td>4.0</td>\n",
       "      <td>1677.0</td>\n",
       "      <td>6059.0</td>\n",
       "      <td>33642800.0</td>\n",
       "      <td>-117707211.0</td>\n",
       "      <td>169118.0</td>\n",
       "      <td>100.845558</td>\n",
       "      <td>-0.021896</td>\n",
       "    </tr>\n",
       "    <tr>\n",
       "      <th>11830315</th>\n",
       "      <td>1.0</td>\n",
       "      <td>2.0</td>\n",
       "      <td>1146.0</td>\n",
       "      <td>6037.0</td>\n",
       "      <td>34024040.0</td>\n",
       "      <td>-118159090.0</td>\n",
       "      <td>127960.0</td>\n",
       "      <td>111.657941</td>\n",
       "      <td>-0.035085</td>\n",
       "    </tr>\n",
       "    <tr>\n",
       "      <th>14387959</th>\n",
       "      <td>2.5</td>\n",
       "      <td>3.0</td>\n",
       "      <td>2074.0</td>\n",
       "      <td>6059.0</td>\n",
       "      <td>33586693.0</td>\n",
       "      <td>-117697202.0</td>\n",
       "      <td>173269.0</td>\n",
       "      <td>83.543394</td>\n",
       "      <td>-0.006653</td>\n",
       "    </tr>\n",
       "    <tr>\n",
       "      <th>14349322</th>\n",
       "      <td>2.5</td>\n",
       "      <td>3.0</td>\n",
       "      <td>2018.0</td>\n",
       "      <td>6059.0</td>\n",
       "      <td>33728985.0</td>\n",
       "      <td>-117754647.0</td>\n",
       "      <td>221433.0</td>\n",
       "      <td>109.728940</td>\n",
       "      <td>0.044309</td>\n",
       "    </tr>\n",
       "    <tr>\n",
       "      <th>11706737</th>\n",
       "      <td>1.0</td>\n",
       "      <td>2.0</td>\n",
       "      <td>1316.0</td>\n",
       "      <td>6037.0</td>\n",
       "      <td>34009471.0</td>\n",
       "      <td>-118281052.0</td>\n",
       "      <td>37663.0</td>\n",
       "      <td>28.619301</td>\n",
       "      <td>-0.120976</td>\n",
       "    </tr>\n",
       "  </tbody>\n",
       "</table>\n",
       "</div>"
      ],
      "text/plain": [
       "          bathroomcnt  bedroomcnt  calculatedfinishedsquarefeet    fips  \\\n",
       "parcelid                                                                  \n",
       "14297519          3.5         4.0                        3100.0  6059.0   \n",
       "17052889          1.0         2.0                        1465.0  6111.0   \n",
       "14186244          2.0         3.0                        1243.0  6059.0   \n",
       "12177905          3.0         4.0                        2376.0  6037.0   \n",
       "12095076          3.0         4.0                        2962.0  6037.0   \n",
       "12069064          1.0         2.0                         738.0  6037.0   \n",
       "12790562          3.0         4.0                        3039.0  6037.0   \n",
       "11104527          3.0         4.0                        2540.0  6037.0   \n",
       "13944538          2.5         3.0                        1340.0  6059.0   \n",
       "17110996          2.5         3.0                        1371.0  6111.0   \n",
       "14375300          2.0         4.0                        1677.0  6059.0   \n",
       "11830315          1.0         2.0                        1146.0  6037.0   \n",
       "14387959          2.5         3.0                        2074.0  6059.0   \n",
       "14349322          2.5         3.0                        2018.0  6059.0   \n",
       "11706737          1.0         2.0                        1316.0  6037.0   \n",
       "\n",
       "            latitude    longitude  structuretaxvaluedollarcnt  \\\n",
       "parcelid                                                        \n",
       "14297519  33634931.0 -117869207.0                    485713.0   \n",
       "17052889  34449266.0 -119281531.0                     88000.0   \n",
       "14186244  33886168.0 -117823170.0                     85289.0   \n",
       "12177905  34245180.0 -118240722.0                    108918.0   \n",
       "12095076  34145202.0 -118179824.0                    276684.0   \n",
       "12069064  34149214.0 -118239357.0                     18890.0   \n",
       "12790562  33960230.0 -118006914.0                    177527.0   \n",
       "11104527  34434971.0 -118464390.0                    271715.0   \n",
       "13944538  33771438.0 -117982834.0                     96617.0   \n",
       "17110996  34238229.0 -119170633.0                     99026.0   \n",
       "14375300  33642800.0 -117707211.0                    169118.0   \n",
       "11830315  34024040.0 -118159090.0                    127960.0   \n",
       "14387959  33586693.0 -117697202.0                    173269.0   \n",
       "14349322  33728985.0 -117754647.0                    221433.0   \n",
       "11706737  34009471.0 -118281052.0                     37663.0   \n",
       "\n",
       "          structuredollarpersqft         y  \n",
       "parcelid                                    \n",
       "14297519              156.681613  0.025595  \n",
       "17052889               60.068259  0.055619  \n",
       "14186244               68.615447  0.005383  \n",
       "12177905               45.840909 -0.103410  \n",
       "12095076               93.411209 -0.001011  \n",
       "12069064               25.596206  0.101723  \n",
       "12790562               58.416255 -0.040966  \n",
       "11104527              106.974409  0.005963  \n",
       "13944538               72.102239  0.045602  \n",
       "17110996               72.229030  0.008669  \n",
       "14375300              100.845558 -0.021896  \n",
       "11830315              111.657941 -0.035085  \n",
       "14387959               83.543394 -0.006653  \n",
       "14349322              109.728940  0.044309  \n",
       "11706737               28.619301 -0.120976  "
      ]
     },
     "execution_count": 10,
     "metadata": {},
     "output_type": "execute_result"
    }
   ],
   "source": [
    "date_columns = ['transactiondate']\n",
    "df = convert_to_dates(df, cols=date_columns)\n",
    "dfo.stratify= 'fips'\n",
    "df.head(15)"
   ]
  },
  {
   "cell_type": "code",
   "execution_count": 11,
   "metadata": {},
   "outputs": [
    {
     "name": "stdout",
     "output_type": "stream",
     "text": [
      "2019-11-11 20:25:29 starting frame_splain\n",
      "DATAFRAME SHAPE:\n",
      "(52089, 9) \n",
      "\n",
      "DATAFRAME INFO:\n",
      "<class 'pandas.core.frame.DataFrame'>\n",
      "Int64Index: 52089 entries, 14297519 to 12826780\n",
      "Data columns (total 9 columns):\n",
      "bathroomcnt                     52089 non-null float64\n",
      "bedroomcnt                      52089 non-null float64\n",
      "calculatedfinishedsquarefeet    52089 non-null float64\n",
      "fips                            52089 non-null float64\n",
      "latitude                        52089 non-null float64\n",
      "longitude                       52089 non-null float64\n",
      "structuretaxvaluedollarcnt      52089 non-null float64\n",
      "structuredollarpersqft          52089 non-null float64\n",
      "y                               52089 non-null float64\n",
      "dtypes: float64(9)\n",
      "memory usage: 4.0 MB\n",
      "None \n",
      "\n",
      "DATAFRAME DESCRIPTION:\n",
      "                                count          mean            std  \\\n",
      "bathroomcnt                   52089.0  2.305669e+00       1.017265   \n",
      "bedroomcnt                    52089.0  3.309912e+00       0.933453   \n",
      "calculatedfinishedsquarefeet  52089.0  1.923432e+03    1003.068834   \n",
      "fips                          52089.0  6.049118e+03      21.009624   \n",
      "latitude                      52089.0  3.402263e+07  274084.436731   \n",
      "longitude                     52089.0 -1.181938e+08  356417.454324   \n",
      "structuretaxvaluedollarcnt    52089.0  1.959778e+05  252421.820192   \n",
      "structuredollarpersqft        52089.0  9.084642e+01      59.956862   \n",
      "y                             52089.0  1.824858e-02       0.175990   \n",
      "\n",
      "                                       min           25%           50%  \\\n",
      "bathroomcnt                   1.000000e+00  2.000000e+00  2.000000e+00   \n",
      "bedroomcnt                    1.000000e+00  3.000000e+00  3.000000e+00   \n",
      "calculatedfinishedsquarefeet  1.520000e+02  1.268000e+03  1.659000e+03   \n",
      "fips                          6.037000e+03  6.037000e+03  6.037000e+03   \n",
      "latitude                      3.334062e+07  3.382689e+07  3.402338e+07   \n",
      "longitude                    -1.194754e+08 -1.184004e+08 -1.181529e+08   \n",
      "structuretaxvaluedollarcnt    1.480000e+02  7.720000e+04  1.318830e+05   \n",
      "structuredollarpersqft        3.983275e-02  5.498029e+01  8.216741e+01   \n",
      "y                            -4.655420e+00 -2.457495e-02  6.956119e-03   \n",
      "\n",
      "                                       75%           max  \n",
      "bathroomcnt                   3.000000e+00  1.800000e+01  \n",
      "bedroomcnt                    4.000000e+00  1.400000e+01  \n",
      "calculatedfinishedsquarefeet  2.306000e+03  2.192900e+04  \n",
      "fips                          6.059000e+03  6.111000e+03  \n",
      "latitude                      3.418742e+07  3.481877e+07  \n",
      "longitude                    -1.179291e+08 -1.175546e+08  \n",
      "structuretaxvaluedollarcnt    2.261220e+05  9.164901e+06  \n",
      "structuredollarpersqft        1.135682e+02  1.444221e+03  \n",
      "y                             4.052645e-02  5.262999e+00   \n",
      "\n",
      "DATAFRAME HEAD:\n",
      "          bathroomcnt  bedroomcnt  calculatedfinishedsquarefeet    fips  \\\n",
      "parcelid                                                                  \n",
      "14297519          3.5         4.0                        3100.0  6059.0   \n",
      "17052889          1.0         2.0                        1465.0  6111.0   \n",
      "14186244          2.0         3.0                        1243.0  6059.0   \n",
      "12177905          3.0         4.0                        2376.0  6037.0   \n",
      "12095076          3.0         4.0                        2962.0  6037.0   \n",
      "\n",
      "            latitude    longitude  structuretaxvaluedollarcnt  \\\n",
      "parcelid                                                        \n",
      "14297519  33634931.0 -117869207.0                    485713.0   \n",
      "17052889  34449266.0 -119281531.0                     88000.0   \n",
      "14186244  33886168.0 -117823170.0                     85289.0   \n",
      "12177905  34245180.0 -118240722.0                    108918.0   \n",
      "12095076  34145202.0 -118179824.0                    276684.0   \n",
      "\n",
      "          structuredollarpersqft         y  \n",
      "parcelid                                    \n",
      "14297519              156.681613  0.025595  \n",
      "17052889               60.068259  0.055619  \n",
      "14186244               68.615447  0.005383  \n",
      "12177905               45.840909 -0.103410  \n",
      "12095076               93.411209 -0.001011   \n",
      "\n",
      "2019-11-11 20:25:29 ending frame_splain ; time: 0:00:00.071004\n"
     ]
    }
   ],
   "source": [
    "frame_splain(df, splain=True)"
   ]
  },
  {
   "cell_type": "markdown",
   "metadata": {},
   "source": [
    "**Find string categoricals**"
   ]
  },
  {
   "cell_type": "code",
   "execution_count": 12,
   "metadata": {},
   "outputs": [
    {
     "name": "stdout",
     "output_type": "stream",
     "text": [
      "2019-11-11 20:25:29 starting get_column_values_stats\n",
      "2019-11-11 20:25:29 ending get_column_values_stats ; time: 0:00:00.114727\n"
     ]
    },
    {
     "data": {
      "text/plain": [
       "Index(['bathroomcnt', 'bedroomcnt', 'calculatedfinishedsquarefeet', 'fips'], dtype='object', name='cols')"
      ]
     },
     "execution_count": 12,
     "metadata": {},
     "output_type": "execute_result"
    }
   ],
   "source": [
    "df_strings = get_column_values_stats(\n",
    "    df, \n",
    "    get_cols=df.columns[df.dtypes=='object'],\n",
    "    max_uniques=20000,\n",
    "    limit_to_max=True\n",
    ")\n",
    "df_strings.index"
   ]
  },
  {
   "cell_type": "code",
   "execution_count": 13,
   "metadata": {},
   "outputs": [],
   "source": [
    "string_categoricals = [\n",
    "    'airconditioningdesc', \n",
    "    'architecturalstyledesc', \n",
    "    'buildingclassdesc', \n",
    "    'county', \n",
    "    'state', \n",
    "    'heatingorsystemdesc', \n",
    "    'propertycountylandusecode', \n",
    "    'propertylandusedesc', \n",
    "    'propertyzoningdesc', \n",
    "    'storydesc', \n",
    "    'taxdelinquencyflag', \n",
    "    'typeconstructiondesc'\n",
    "]"
   ]
  },
  {
   "cell_type": "code",
   "execution_count": 14,
   "metadata": {},
   "outputs": [
    {
     "name": "stdout",
     "output_type": "stream",
     "text": [
      "2019-11-11 20:25:30 starting retype_cols\n",
      "2019-11-11 20:25:30 ending retype_cols ; time: 0:00:00.005163\n",
      "<class 'pandas.core.frame.DataFrame'>\n",
      "Int64Index: 52089 entries, 14297519 to 12826780\n",
      "Data columns (total 9 columns):\n",
      "bathroomcnt                     52089 non-null float64\n",
      "bedroomcnt                      52089 non-null float64\n",
      "calculatedfinishedsquarefeet    52089 non-null float64\n",
      "fips                            52089 non-null float64\n",
      "latitude                        52089 non-null float64\n",
      "longitude                       52089 non-null float64\n",
      "structuretaxvaluedollarcnt      52089 non-null float64\n",
      "structuredollarpersqft          52089 non-null float64\n",
      "y                               52089 non-null float64\n",
      "dtypes: float64(9)\n",
      "memory usage: 4.0 MB\n"
     ]
    }
   ],
   "source": [
    "df = retype_cols(df, cols=string_categoricals, to_dtype='category')\n",
    "df.info()"
   ]
  },
  {
   "cell_type": "markdown",
   "metadata": {},
   "source": [
    "**Find Numeric Categoricals**"
   ]
  },
  {
   "cell_type": "code",
   "execution_count": 15,
   "metadata": {},
   "outputs": [
    {
     "name": "stdout",
     "output_type": "stream",
     "text": [
      "2019-11-11 20:25:30 starting get_column_values_stats\n",
      "2019-11-11 20:25:30 ending get_column_values_stats ; time: 0:00:00.078485\n"
     ]
    },
    {
     "data": {
      "text/plain": [
       "Index(['bathroomcnt', 'bedroomcnt', 'calculatedfinishedsquarefeet', 'fips',\n",
       "       'latitude', 'longitude', 'structuretaxvaluedollarcnt',\n",
       "       'structuredollarpersqft', 'y'],\n",
       "      dtype='object', name='cols')"
      ]
     },
     "execution_count": 15,
     "metadata": {},
     "output_type": "execute_result"
    }
   ],
   "source": [
    "df_cat_check = prep.get_column_values_stats(\n",
    "    df, \n",
    "    get_cols=df.columns[df.dtypes!='category'],\n",
    "    max_uniques=750000,\n",
    "    target_col=dfo.y_column,\n",
    "    limit_to_max=True\n",
    ")\n",
    "df_cat_check.index"
   ]
  },
  {
   "cell_type": "code",
   "execution_count": 16,
   "metadata": {},
   "outputs": [],
   "source": [
    "numeric_categoricals = [\n",
    "    'airconditioningtypeid', \n",
    "    'architecturalstyletypeid', \n",
    "    'buildingclasstypeid', \n",
    "    'buildingqualitytypeid',\n",
    "    'decktypeid', \n",
    "    'fips', \n",
    "    'hashottuborspa',\n",
    "    'heatingorsystemtypeid',\n",
    "    'pooltypeid10', \n",
    "    'pooltypeid2', \n",
    "    'pooltypeid7', \n",
    "    'propertylandusetypeid',\n",
    "    'regionidcounty', \n",
    "    'regionidcity',\n",
    "    'regionidneighborhood',\n",
    "    'regionidzip',\n",
    "    'rawcensustractandblock',\n",
    "    'censustractandblock',\n",
    "    'storytypeid', \n",
    "    'threequarterbathnbr', \n",
    "    'numberofstories', \n",
    "    'fireplaceflag', \n",
    "    'assessmentyear', \n",
    "    'typeconstructiontypeid', \n",
    "    'transactions'\n",
    "]"
   ]
  },
  {
   "cell_type": "code",
   "execution_count": 17,
   "metadata": {},
   "outputs": [
    {
     "name": "stdout",
     "output_type": "stream",
     "text": [
      "2019-11-11 20:25:30 starting retype_cols\n",
      "2019-11-11 20:25:30 ending retype_cols ; time: 0:00:00.009194\n",
      "2019-11-11 20:25:30 starting nulls_by_row\n",
      "2019-11-11 20:25:30 ending nulls_by_row ; time: 0:00:00.034670\n"
     ]
    },
    {
     "data": {
      "text/html": [
       "<div>\n",
       "<style scoped>\n",
       "    .dataframe tbody tr th:only-of-type {\n",
       "        vertical-align: middle;\n",
       "    }\n",
       "\n",
       "    .dataframe tbody tr th {\n",
       "        vertical-align: top;\n",
       "    }\n",
       "\n",
       "    .dataframe thead th {\n",
       "        text-align: right;\n",
       "    }\n",
       "</style>\n",
       "<table border=\"1\" class=\"dataframe\">\n",
       "  <thead>\n",
       "    <tr style=\"text-align: right;\">\n",
       "      <th></th>\n",
       "      <th>num_cols_missing</th>\n",
       "      <th>pct_cols_missing</th>\n",
       "      <th>parcelid</th>\n",
       "    </tr>\n",
       "  </thead>\n",
       "  <tbody>\n",
       "    <tr>\n",
       "      <th>0</th>\n",
       "      <td>0</td>\n",
       "      <td>0.0</td>\n",
       "      <td>52089</td>\n",
       "    </tr>\n",
       "  </tbody>\n",
       "</table>\n",
       "</div>"
      ],
      "text/plain": [
       "  num_cols_missing pct_cols_missing  parcelid\n",
       "0                0              0.0     52089"
      ]
     },
     "execution_count": 17,
     "metadata": {},
     "output_type": "execute_result"
    }
   ],
   "source": [
    "df = retype_cols(df, cols=numeric_categoricals, to_dtype='category')\n",
    "nulls_by_row(df)"
   ]
  },
  {
   "cell_type": "code",
   "execution_count": 18,
   "metadata": {},
   "outputs": [],
   "source": [
    "dfo.df = df\n",
    "df=pd.DataFrame(df)"
   ]
  },
  {
   "cell_type": "code",
   "execution_count": null,
   "metadata": {},
   "outputs": [],
   "source": []
  },
  {
   "cell_type": "markdown",
   "metadata": {},
   "source": [
    "##### Baseline Model - will use bathroom count, bedroom count, and calculatedfinishedsquarefeet"
   ]
  },
  {
   "cell_type": "code",
   "execution_count": 19,
   "metadata": {},
   "outputs": [
    {
     "name": "stdout",
     "output_type": "stream",
     "text": [
      "RMSE=  0.17811007166548018\n",
      "RMSE Mean_y=  0.17829951577429268\n"
     ]
    }
   ],
   "source": [
    "\n",
    "feature_cols = df[['bathroomcnt', 'bedroomcnt', 'calculatedfinishedsquarefeet']]\n",
    "Xbase = feature_cols\n",
    "#y= logerror\n",
    "ybase = df.y\n",
    "\n",
    "# Split data\n",
    "X_trainbase, X_testbase, y_trainbase, y_testbase = train_test_split(Xbase, ybase, test_size=0.2, random_state=1)\n",
    "\n",
    "# Instantiate model\n",
    "lmbase = LinearRegression()\n",
    "\n",
    "# Fit model\n",
    "lmbase.fit(X_trainbase, y_trainbase)\n",
    "\n",
    "# Predict\n",
    "y_predbase = lmbase.predict(X_testbase)\n",
    "\n",
    "# Predict Mean\n",
    "y_mean = y_trainbase.mean()\n",
    "X_trainbase['mean_y'] = y_mean\n",
    "X_testbase['mean_y'] = y_mean\n",
    "\n",
    "# RMSE\n",
    "print('RMSE= ',np.sqrt(metrics.mean_squared_error(y_testbase, y_predbase)))\n",
    "\n",
    "\n",
    "# RMSE\n",
    "print('RMSE Mean_y= ',np.sqrt(metrics.mean_squared_error(y_testbase, X_testbase.mean_y)))\n",
    "\n",
    "\n"
   ]
  },
  {
   "cell_type": "code",
   "execution_count": 20,
   "metadata": {},
   "outputs": [
    {
     "data": {
      "text/plain": [
       "<seaborn.axisgrid.PairGrid at 0x1c266ec0f0>"
      ]
     },
     "execution_count": 20,
     "metadata": {},
     "output_type": "execute_result"
    },
    {
     "data": {
      "image/png": "[encoded data removed]",
      "text/plain": [
       "<Figure size 1058.4x504 with 3 Axes>"
      ]
     },
     "metadata": {
      "needs_background": "light"
     },
     "output_type": "display_data"
    }
   ],
   "source": [
    "sns.pairplot(df, x_vars=['bathroomcnt', 'bedroomcnt', 'calculatedfinishedsquarefeet'], y_vars='y', size=7, aspect=0.7, kind='reg')"
   ]
  },
  {
   "cell_type": "code",
   "execution_count": 21,
   "metadata": {},
   "outputs": [
    {
     "data": {
      "text/html": [
       "<table class=\"simpletable\">\n",
       "<caption>OLS Regression Results</caption>\n",
       "<tr>\n",
       "  <th>Dep. Variable:</th>            <td>y</td>        <th>  R-squared (uncentered):</th>       <td>   0.013</td> \n",
       "</tr>\n",
       "<tr>\n",
       "  <th>Model:</th>                   <td>OLS</td>       <th>  Adj. R-squared (uncentered):</th>  <td>   0.012</td> \n",
       "</tr>\n",
       "<tr>\n",
       "  <th>Method:</th>             <td>Least Squares</td>  <th>  F-statistic:       </th>           <td>   220.1</td> \n",
       "</tr>\n",
       "<tr>\n",
       "  <th>Date:</th>             <td>Mon, 11 Nov 2019</td> <th>  Prob (F-statistic):</th>           <td>6.65e-142</td>\n",
       "</tr>\n",
       "<tr>\n",
       "  <th>Time:</th>                 <td>20:25:39</td>     <th>  Log-Likelihood:    </th>           <td>  16635.</td> \n",
       "</tr>\n",
       "<tr>\n",
       "  <th>No. Observations:</th>      <td> 52089</td>      <th>  AIC:               </th>          <td>-3.326e+04</td>\n",
       "</tr>\n",
       "<tr>\n",
       "  <th>Df Residuals:</th>          <td> 52086</td>      <th>  BIC:               </th>          <td>-3.324e+04</td>\n",
       "</tr>\n",
       "<tr>\n",
       "  <th>Df Model:</th>              <td>     3</td>      <th>                     </th>               <td> </td>    \n",
       "</tr>\n",
       "<tr>\n",
       "  <th>Covariance Type:</th>      <td>nonrobust</td>    <th>                     </th>               <td> </td>    \n",
       "</tr>\n",
       "</table>\n",
       "<table class=\"simpletable\">\n",
       "<tr>\n",
       "                <td></td>                  <th>coef</th>     <th>std err</th>      <th>t</th>      <th>P>|t|</th>  <th>[0.025</th>    <th>0.975]</th>  \n",
       "</tr>\n",
       "<tr>\n",
       "  <th>bathroomcnt</th>                  <td>-1.241e-05</td> <td>    0.001</td> <td>   -0.008</td> <td> 0.993</td> <td>   -0.003</td> <td>    0.003</td>\n",
       "</tr>\n",
       "<tr>\n",
       "  <th>bedroomcnt</th>                   <td>    0.0029</td> <td>    0.001</td> <td>    3.968</td> <td> 0.000</td> <td>    0.001</td> <td>    0.004</td>\n",
       "</tr>\n",
       "<tr>\n",
       "  <th>calculatedfinishedsquarefeet</th> <td> 4.677e-06</td> <td> 1.48e-06</td> <td>    3.152</td> <td> 0.002</td> <td> 1.77e-06</td> <td> 7.58e-06</td>\n",
       "</tr>\n",
       "</table>\n",
       "<table class=\"simpletable\">\n",
       "<tr>\n",
       "  <th>Omnibus:</th>       <td>49991.743</td> <th>  Durbin-Watson:     </th>   <td>   2.009</td>  \n",
       "</tr>\n",
       "<tr>\n",
       "  <th>Prob(Omnibus):</th>  <td> 0.000</td>   <th>  Jarque-Bera (JB):  </th> <td>27205876.849</td>\n",
       "</tr>\n",
       "<tr>\n",
       "  <th>Skew:</th>           <td> 3.820</td>   <th>  Prob(JB):          </th>   <td>    0.00</td>  \n",
       "</tr>\n",
       "<tr>\n",
       "  <th>Kurtosis:</th>       <td>114.699</td>  <th>  Cond. No.          </th>   <td>4.37e+03</td>  \n",
       "</tr>\n",
       "</table><br/><br/>Warnings:<br/>[1] Standard Errors assume that the covariance matrix of the errors is correctly specified.<br/>[2] The condition number is large, 4.37e+03. This might indicate that there are<br/>strong multicollinearity or other numerical problems."
      ],
      "text/plain": [
       "<class 'statsmodels.iolib.summary.Summary'>\n",
       "\"\"\"\n",
       "                                 OLS Regression Results                                \n",
       "=======================================================================================\n",
       "Dep. Variable:                      y   R-squared (uncentered):                   0.013\n",
       "Model:                            OLS   Adj. R-squared (uncentered):              0.012\n",
       "Method:                 Least Squares   F-statistic:                              220.1\n",
       "Date:                Mon, 11 Nov 2019   Prob (F-statistic):                   6.65e-142\n",
       "Time:                        20:25:39   Log-Likelihood:                          16635.\n",
       "No. Observations:               52089   AIC:                                 -3.326e+04\n",
       "Df Residuals:                   52086   BIC:                                 -3.324e+04\n",
       "Df Model:                           3                                                  \n",
       "Covariance Type:            nonrobust                                                  \n",
       "================================================================================================\n",
       "                                   coef    std err          t      P>|t|      [0.025      0.975]\n",
       "------------------------------------------------------------------------------------------------\n",
       "bathroomcnt                  -1.241e-05      0.001     -0.008      0.993      -0.003       0.003\n",
       "bedroomcnt                       0.0029      0.001      3.968      0.000       0.001       0.004\n",
       "calculatedfinishedsquarefeet  4.677e-06   1.48e-06      3.152      0.002    1.77e-06    7.58e-06\n",
       "==============================================================================\n",
       "Omnibus:                    49991.743   Durbin-Watson:                   2.009\n",
       "Prob(Omnibus):                  0.000   Jarque-Bera (JB):         27205876.849\n",
       "Skew:                           3.820   Prob(JB):                         0.00\n",
       "Kurtosis:                     114.699   Cond. No.                     4.37e+03\n",
       "==============================================================================\n",
       "\n",
       "Warnings:\n",
       "[1] Standard Errors assume that the covariance matrix of the errors is correctly specified.\n",
       "[2] The condition number is large, 4.37e+03. This might indicate that there are\n",
       "strong multicollinearity or other numerical problems.\n",
       "\"\"\""
      ]
     },
     "execution_count": 21,
     "metadata": {},
     "output_type": "execute_result"
    }
   ],
   "source": [
    "ols_modelbase = sm.OLS(y_trainbase, X_trainbase)\n",
    "regbase = sm.OLS(ybase, Xbase).fit()\n",
    "regbase.summary()\n"
   ]
  },
  {
   "cell_type": "markdown",
   "metadata": {},
   "source": [
    "#### Our overall baseline error- "
   ]
  },
  {
   "cell_type": "markdown",
   "metadata": {},
   "source": [
    "###### More Prep fro Clustering"
   ]
  },
  {
   "cell_type": "code",
   "execution_count": 22,
   "metadata": {},
   "outputs": [
    {
     "name": "stdout",
     "output_type": "stream",
     "text": [
      "2019-11-11 20:25:39 starting retype_cols\n",
      "2019-11-11 20:25:39 ending retype_cols ; time: 0:00:00.001594\n",
      "2019-11-11 20:25:39 starting nulls_by_row\n",
      "2019-11-11 20:25:39 ending nulls_by_row ; time: 0:00:00.034805\n"
     ]
    },
    {
     "data": {
      "text/html": [
       "<div>\n",
       "<style scoped>\n",
       "    .dataframe tbody tr th:only-of-type {\n",
       "        vertical-align: middle;\n",
       "    }\n",
       "\n",
       "    .dataframe tbody tr th {\n",
       "        vertical-align: top;\n",
       "    }\n",
       "\n",
       "    .dataframe thead th {\n",
       "        text-align: right;\n",
       "    }\n",
       "</style>\n",
       "<table border=\"1\" class=\"dataframe\">\n",
       "  <thead>\n",
       "    <tr style=\"text-align: right;\">\n",
       "      <th></th>\n",
       "      <th>num_cols_missing</th>\n",
       "      <th>pct_cols_missing</th>\n",
       "      <th>parcelid</th>\n",
       "    </tr>\n",
       "  </thead>\n",
       "  <tbody>\n",
       "    <tr>\n",
       "      <th>0</th>\n",
       "      <td>0</td>\n",
       "      <td>0.0</td>\n",
       "      <td>52089</td>\n",
       "    </tr>\n",
       "  </tbody>\n",
       "</table>\n",
       "</div>"
      ],
      "text/plain": [
       "  num_cols_missing pct_cols_missing  parcelid\n",
       "0                0              0.0     52089"
      ]
     },
     "execution_count": 22,
     "metadata": {},
     "output_type": "execute_result"
    }
   ],
   "source": [
    "df = retype_cols(df, cols=numeric_categoricals, to_dtype='category')\n",
    "nulls_by_row(df)"
   ]
  },
  {
   "cell_type": "code",
   "execution_count": 23,
   "metadata": {},
   "outputs": [],
   "source": [
    "dfo.df = df"
   ]
  },
  {
   "cell_type": "code",
   "execution_count": 24,
   "metadata": {},
   "outputs": [
    {
     "name": "stdout",
     "output_type": "stream",
     "text": [
      "2019-11-11 20:25:39 starting split_dfo\n",
      "2019-11-11 20:25:39 starting remove_cols\n",
      "2019-11-11 20:25:39 ending remove_cols ; time: 0:00:00.000282\n",
      "2019-11-11 20:25:39 starting split_my_data_whole\n",
      "2019-11-11 20:25:39 ending split_my_data_whole ; time: 0:00:00.012646\n",
      "2019-11-11 20:25:39 starting frame_splain\n",
      "DFO TRAIN SHAPE:\n",
      "(39066, 9) \n",
      "\n",
      "DFO TRAIN INFO:\n",
      "<class 'pandas.core.frame.DataFrame'>\n",
      "Int64Index: 39066 entries, 12709284 to 11344051\n",
      "Data columns (total 9 columns):\n",
      "bathroomcnt                     39066 non-null float64\n",
      "bedroomcnt                      39066 non-null float64\n",
      "calculatedfinishedsquarefeet    39066 non-null float64\n",
      "fips                            39066 non-null category\n",
      "latitude                        39066 non-null float64\n",
      "longitude                       39066 non-null float64\n",
      "structuretaxvaluedollarcnt      39066 non-null float64\n",
      "structuredollarpersqft          39066 non-null float64\n",
      "y                               39066 non-null float64\n",
      "dtypes: category(1), float64(8)\n",
      "memory usage: 2.7 MB\n",
      "None \n",
      "\n",
      "DFO TRAIN DESCRIPTION:\n",
      "                                count          mean            std  \\\n",
      "bathroomcnt                   39066.0  2.308324e+00       1.018864   \n",
      "bedroomcnt                    39066.0  3.308657e+00       0.928139   \n",
      "calculatedfinishedsquarefeet  39066.0  1.924155e+03    1005.062909   \n",
      "latitude                      39066.0  3.402244e+07  274084.175787   \n",
      "longitude                     39066.0 -1.181920e+08  354447.210080   \n",
      "structuretaxvaluedollarcnt    39066.0  1.964836e+05  257548.024761   \n",
      "structuredollarpersqft        39066.0  9.094653e+01      60.567713   \n",
      "y                             39066.0  1.772410e-02       0.177520   \n",
      "\n",
      "                                       min           25%           50%  \\\n",
      "bathroomcnt                   1.000000e+00  2.000000e+00  2.000000e+00   \n",
      "bedroomcnt                    1.000000e+00  3.000000e+00  3.000000e+00   \n",
      "calculatedfinishedsquarefeet  1.520000e+02  1.267000e+03  1.658000e+03   \n",
      "latitude                      3.334062e+07  3.382678e+07  3.402308e+07   \n",
      "longitude                    -1.194754e+08 -1.183992e+08 -1.181527e+08   \n",
      "structuretaxvaluedollarcnt    1.810000e+02  7.697375e+04  1.319820e+05   \n",
      "structuredollarpersqft        3.983275e-02  5.501783e+01  8.218571e+01   \n",
      "y                            -4.655420e+00 -2.494333e-02  6.854048e-03   \n",
      "\n",
      "                                       75%           max  \n",
      "bathroomcnt                   3.000000e+00  1.300000e+01  \n",
      "bedroomcnt                    4.000000e+00  1.200000e+01  \n",
      "calculatedfinishedsquarefeet  2.308000e+03  2.192900e+04  \n",
      "latitude                      3.418690e+07  3.481877e+07  \n",
      "longitude                    -1.179284e+08 -1.175546e+08  \n",
      "structuretaxvaluedollarcnt    2.263392e+05  9.164901e+06  \n",
      "structuredollarpersqft        1.135178e+02  1.444221e+03  \n",
      "y                             4.035895e-02  5.262999e+00   \n",
      "\n",
      "DFO TRAIN HEAD:\n",
      "          bathroomcnt  bedroomcnt  calculatedfinishedsquarefeet    fips  \\\n",
      "parcelid                                                                  \n",
      "12709284          2.0         3.0                        1864.0  6037.0   \n",
      "17135073          2.0         4.0                        1844.0  6111.0   \n",
      "11450752          2.0         3.0                        1198.0  6037.0   \n",
      "12887447          1.0         2.0                         775.0  6037.0   \n",
      "10935173          4.0         3.0                        2722.0  6037.0   \n",
      "\n",
      "            latitude    longitude  structuretaxvaluedollarcnt  \\\n",
      "parcelid                                                        \n",
      "12709284  33761779.0 -118409671.0                     79508.0   \n",
      "17135073  34230054.0 -119053514.0                    178666.0   \n",
      "11450752  33876320.0 -118318877.0                     36634.0   \n",
      "12887447  34055348.0 -117765318.0                     47000.0   \n",
      "10935173  34127486.0 -118347902.0                    792910.0   \n",
      "\n",
      "          structuredollarpersqft         y  \n",
      "parcelid                                    \n",
      "12709284               42.654506  0.154148  \n",
      "17135073               96.890456 -0.003112  \n",
      "11450752               30.579299  0.149855  \n",
      "12887447               60.645161  0.003864  \n",
      "10935173              291.296841  0.074136   \n",
      "\n",
      "2019-11-11 20:25:39 ending frame_splain ; time: 0:00:00.056383\n",
      "2019-11-11 20:25:39 starting frame_splain\n",
      "DFO TEST SHAPE:\n",
      "(13023, 9) \n",
      "\n",
      "DFO TEST INFO:\n",
      "<class 'pandas.core.frame.DataFrame'>\n",
      "Int64Index: 13023 entries, 13880661 to 17181171\n",
      "Data columns (total 9 columns):\n",
      "bathroomcnt                     13023 non-null float64\n",
      "bedroomcnt                      13023 non-null float64\n",
      "calculatedfinishedsquarefeet    13023 non-null float64\n",
      "fips                            13023 non-null category\n",
      "latitude                        13023 non-null float64\n",
      "longitude                       13023 non-null float64\n",
      "structuretaxvaluedollarcnt      13023 non-null float64\n",
      "structuredollarpersqft          13023 non-null float64\n",
      "y                               13023 non-null float64\n",
      "dtypes: category(1), float64(8)\n",
      "memory usage: 928.5 KB\n",
      "None \n",
      "\n",
      "DFO TEST DESCRIPTION:\n",
      "                                count          mean            std  \\\n",
      "bathroomcnt                   13023.0  2.297704e+00       1.012451   \n",
      "bedroomcnt                    13023.0  3.313676e+00       0.949243   \n",
      "calculatedfinishedsquarefeet  13023.0  1.921262e+03     997.098430   \n",
      "latitude                      13023.0  3.402320e+07  274094.951089   \n",
      "longitude                     13023.0 -1.181992e+08  362223.896537   \n",
      "structuretaxvaluedollarcnt    13023.0  1.944606e+05  236381.408234   \n",
      "structuredollarpersqft        13023.0  9.054610e+01      58.087168   \n",
      "y                             13023.0  1.982193e-02       0.171315   \n",
      "\n",
      "                                       min           25%           50%  \\\n",
      "bathroomcnt                   1.000000e+00  2.000000e+00  2.000000e+00   \n",
      "bedroomcnt                    1.000000e+00  3.000000e+00  3.000000e+00   \n",
      "calculatedfinishedsquarefeet  4.000000e+02  1.273000e+03  1.664000e+03   \n",
      "latitude                      3.334122e+07  3.382723e+07  3.402387e+07   \n",
      "longitude                    -1.194753e+08 -1.184045e+08 -1.181535e+08   \n",
      "structuretaxvaluedollarcnt    1.480000e+02  7.781850e+04  1.314840e+05   \n",
      "structuredollarpersqft        1.582809e-01  5.489186e+01  8.209847e+01   \n",
      "y                            -2.331727e+00 -2.361231e-02  7.223281e-03   \n",
      "\n",
      "                                       75%           max  \n",
      "bathroomcnt                   3.000000e+00  1.800000e+01  \n",
      "bedroomcnt                    4.000000e+00  1.400000e+01  \n",
      "calculatedfinishedsquarefeet  2.303000e+03  1.865400e+04  \n",
      "latitude                      3.418880e+07  3.481240e+07  \n",
      "longitude                    -1.179317e+08 -1.175554e+08  \n",
      "structuretaxvaluedollarcnt    2.254010e+05  6.932495e+06  \n",
      "structuredollarpersqft        1.138249e+02  1.386371e+03  \n",
      "y                             4.083018e-02  2.536896e+00   \n",
      "\n",
      "DFO TEST HEAD:\n",
      "          bathroomcnt  bedroomcnt  calculatedfinishedsquarefeet    fips  \\\n",
      "parcelid                                                                  \n",
      "13880661          3.0         3.0                        1526.0  6059.0   \n",
      "10827235          2.0         3.0                        1360.0  6037.0   \n",
      "12873120          2.0         4.0                        1400.0  6037.0   \n",
      "14152265          3.0         4.0                        2732.0  6059.0   \n",
      "12192258          2.0         2.0                        1248.0  6037.0   \n",
      "\n",
      "            latitude    longitude  structuretaxvaluedollarcnt  \\\n",
      "parcelid                                                        \n",
      "13880661  33831232.0 -117922645.0                     30398.0   \n",
      "10827235  34199081.0 -118432838.0                    135230.0   \n",
      "12873120  34069228.0 -117731880.0                    178422.0   \n",
      "14152265  33944225.0 -117926829.0                    167630.0   \n",
      "12192258  33980121.0 -118315598.0                     62802.0   \n",
      "\n",
      "          structuredollarpersqft         y  \n",
      "parcelid                                    \n",
      "13880661               19.920052  0.048389  \n",
      "10827235               99.433824  0.032907  \n",
      "12873120              127.444286 -0.043181  \n",
      "14152265               61.357980  0.007022  \n",
      "12192258               50.322115 -0.087248   \n",
      "\n",
      "2019-11-11 20:25:39 ending frame_splain ; time: 0:00:00.041062\n",
      "2019-11-11 20:25:39 ending split_dfo ; time: 0:00:00.112411\n"
     ]
    }
   ],
   "source": [
    "dfo = prep.split_dfo(\n",
    "    dfo, \n",
    "    train_pct=.7, \n",
    "    randomer=12345, \n",
    "    stratify=dfo.stratify, \n",
    "    drop_cols={'id'}, \n",
    "    splain=local_settings.splain\n",
    ")"
   ]
  },
  {
   "cell_type": "code",
   "execution_count": 26,
   "metadata": {},
   "outputs": [
    {
     "name": "stdout",
     "output_type": "stream",
     "text": [
      "2019-11-11 20:27:43 starting remove_cols\n",
      "2019-11-11 20:27:43 ending remove_cols ; time: 0:00:00.002187\n"
     ]
    }
   ],
   "source": [
    "dfo.train = remove_cols(dfo.train, [dfo.stratify])"
   ]
  },
  {
   "cell_type": "code",
   "execution_count": 27,
   "metadata": {},
   "outputs": [
    {
     "name": "stdout",
     "output_type": "stream",
     "text": [
      "2019-11-11 20:27:44 starting remove_cols\n",
      "2019-11-11 20:27:44 ending remove_cols ; time: 0:00:00.001930\n"
     ]
    }
   ],
   "source": [
    "dfo.test = remove_cols(dfo.test, [dfo.stratify])\n"
   ]
  },
  {
   "cell_type": "code",
   "execution_count": 32,
   "metadata": {},
   "outputs": [],
   "source": [
    "train = dfo.train\n",
    "test = dfo.test\n",
    "dfo.yhat = dfo.train.y.mean()\n",
    "dfo.ystd = dfo.train.y.std()\n",
    "dfo.yhat\n",
    "dfo.train['yhat'] = dfo.yhat\n",
    "dfo.test['yhat'] = dfo.yhat"
   ]
  },
  {
   "cell_type": "code",
   "execution_count": 33,
   "metadata": {},
   "outputs": [
    {
     "data": {
      "image/png": "[encoded data removed]",
      "text/plain": [
       "<Figure size 792x720 with 2 Axes>"
      ]
     },
     "metadata": {
      "needs_background": "light"
     },
     "output_type": "display_data"
    }
   ],
   "source": [
    "plt.figure(figsize=(11,10))\n",
    "cor = train.corr()\n",
    "plot = sns.heatmap(cor, annot=True, cmap=plt.cm.RdBu_r)"
   ]
  },
  {
   "cell_type": "code",
   "execution_count": 34,
   "metadata": {},
   "outputs": [
    {
     "name": "stdout",
     "output_type": "stream",
     "text": [
      "2019-11-11 20:29:43 starting xy_df\n",
      "2019-11-11 20:29:43 starting frame_splain\n",
      "2019-11-11 20:29:43 ending frame_splain ; time: 0:00:00.000298\n",
      "2019-11-11 20:29:43 starting frame_splain\n",
      "2019-11-11 20:29:43 ending frame_splain ; time: 0:00:00.000161\n",
      "2019-11-11 20:29:43 ending xy_df ; time: 0:00:00.003998\n"
     ]
    }
   ],
   "source": [
    "dfo.X_train, dfo.y_train = prep.xy_df(dfo.train, y_col)"
   ]
  },
  {
   "cell_type": "code",
   "execution_count": 43,
   "metadata": {},
   "outputs": [],
   "source": [
    "X = dfo.X_train\n",
    "y = dfo.y_train"
   ]
  },
  {
   "cell_type": "code",
   "execution_count": 44,
   "metadata": {},
   "outputs": [
    {
     "name": "stdout",
     "output_type": "stream",
     "text": [
      "2019-11-11 20:33:00 starting xy_df\n",
      "2019-11-11 20:33:00 starting frame_splain\n",
      "2019-11-11 20:33:00 ending frame_splain ; time: 0:00:00.000150\n",
      "2019-11-11 20:33:00 starting frame_splain\n",
      "2019-11-11 20:33:00 ending frame_splain ; time: 0:00:00.000225\n",
      "2019-11-11 20:33:00 ending xy_df ; time: 0:00:00.003123\n"
     ]
    }
   ],
   "source": [
    "dfo.X_test, dfo.y_test = prep.xy_df(dfo.test, y_col)\n",
    "XT = dfo.X_test\n",
    "yT = dfo.y_test"
   ]
  },
  {
   "cell_type": "code",
   "execution_count": 50,
   "metadata": {},
   "outputs": [],
   "source": [
    "clustered_cols = ['longitude', 'latitude', 'structuredollarpersqft']\n",
    "c_col = ['cluster']\n",
    "ignore_cols = ['structuretaxvaluedollarcnt']\n",
    "non_cluster_cols = [col for col in X.columns if col not in cluster_cols + ignore_cols + cluster_col]"
   ]
  },
  {
   "cell_type": "code",
   "execution_count": 52,
   "metadata": {},
   "outputs": [],
   "source": [
    "Xc = X[clustered_cols]\n",
    "XTc = XT[clustered_cols]"
   ]
  },
  {
   "cell_type": "markdown",
   "metadata": {},
   "source": [
    "##### Clustering\n",
    "Now we will cluster our data set by location based variables: latitude, longtitude, and price per square foot"
   ]
  },
  {
   "cell_type": "code",
   "execution_count": null,
   "metadata": {},
   "outputs": [],
   "source": []
  },
  {
   "cell_type": "code",
   "execution_count": null,
   "metadata": {},
   "outputs": [],
   "source": []
  },
  {
   "cell_type": "code",
   "execution_count": null,
   "metadata": {},
   "outputs": [],
   "source": []
  },
  {
   "cell_type": "code",
   "execution_count": null,
   "metadata": {},
   "outputs": [],
   "source": []
  },
  {
   "cell_type": "code",
   "execution_count": null,
   "metadata": {},
   "outputs": [],
   "source": [
    "# cf.compare_ks(Xc_scaled, min_k=4, max_k=18)"
   ]
  },
  {
   "cell_type": "code",
   "execution_count": null,
   "metadata": {},
   "outputs": [],
   "source": [
    "Xc_scaled, Xc_kmeans = cf.set_kmeans_clusters(Xc_scaled, n_clusters=8, random_state=dfo.randomer)\n",
    "Xc_scaled.head(15)"
   ]
  },
  {
   "cell_type": "code",
   "execution_count": null,
   "metadata": {},
   "outputs": [],
   "source": [
    "@timeifdebug\n",
    "def features_2d(df, c_col=None, **kwargs):\n",
    "    \n",
    "    cols = [col for col in df.columns if col != c_col]\n",
    "    n = len(cols)\n",
    "    grid = []\n",
    "    for x in range(0, n-1):\n",
    "        for y in range(x+1, n):\n",
    "            line = [cols[x], cols[y]]\n",
    "            grid.append(line)\n",
    "    \n",
    "    return_df = pd.DataFrame(grid, columns=['x_col', 'y_col'])\n",
    "    if c_col:\n",
    "        return_df['c_col'] = c_col\n",
    "    return return_df\n",
    "\n"
   ]
  },
  {
   "cell_type": "code",
   "execution_count": null,
   "metadata": {},
   "outputs": [],
   "source": [
    "@timeifdebug\n",
    "def features_3d(df, c_col=None, **kwargs):\n",
    "    \n",
    "    cols = [col for col in df.columns if col != c_col]\n",
    "    n = len(cols)\n",
    "    grid = []\n",
    "    for x in range(0, n-2):\n",
    "        for y in range(x+1, n-1):\n",
    "            for z in range(y+1, n):\n",
    "                line = [cols[x], cols[y], cols[z]]\n",
    "                grid.append(line)\n",
    "    \n",
    "\n",
    "    return_df = pd.DataFrame(grid, columns=['x_col', 'y_col', 'z_col'])\n",
    "    if c_col:\n",
    "        return_df['c_col'] = c_col\n",
    "    return return_df\n",
    "\n"
   ]
  },
  {
   "cell_type": "code",
   "execution_count": null,
   "metadata": {},
   "outputs": [],
   "source": [
    "# features_2d(Xc_scaled)"
   ]
  },
  {
   "cell_type": "code",
   "execution_count": null,
   "metadata": {},
   "outputs": [],
   "source": [
    "features_cl = features_2d(Xc_scaled, c_col=cluster_col[0])\n",
    "features_cl"
   ]
  },
  {
   "cell_type": "code",
   "execution_count": null,
   "metadata": {},
   "outputs": [],
   "source": [
    "# features_3d(Xc_scaled, c_col=)"
   ]
  },
  {
   "cell_type": "code",
   "execution_count": null,
   "metadata": {},
   "outputs": [],
   "source": [
    "# features_3d(X)"
   ]
  },
  {
   "cell_type": "code",
   "execution_count": null,
   "metadata": {},
   "outputs": [],
   "source": [
    "@timeifdebug\n",
    "def plot_features_2D(feature_df, df, x_col='x_col', y_col='y_col', c_col='c_col'):\n",
    "    x_vals = feature_df[x_col]\n",
    "    y_vals = feature_df[y_col]\n",
    "    c_vals = feature_df[c_col]\n",
    "    n = len(x_vals)\n",
    "    for idx in range(0,n):\n",
    "        plt.figure(figsize=(8,7))\n",
    "        cf.plot_2d_clusters(\n",
    "            df, \n",
    "            x_col=x_vals[idx], \n",
    "            y_col=y_vals[idx], \n",
    "            c_col=c_vals[idx], \n",
    "            alpha=.5, \n",
    "#             marker='x', \n",
    "#             s=250, \n",
    "#             c='black'\n",
    "        )\n",
    "        plt.show()"
   ]
  },
  {
   "cell_type": "code",
   "execution_count": null,
   "metadata": {},
   "outputs": [],
   "source": [
    "plot_features_2D(features_cl, Xc_scaled)"
   ]
  },
  {
   "cell_type": "code",
   "execution_count": null,
   "metadata": {},
   "outputs": [],
   "source": [
    "cluster_y = prep.df_join_xy(Xc_scaled[[cluster_col[0]]], y) "
   ]
  },
  {
   "cell_type": "code",
   "execution_count": null,
   "metadata": {},
   "outputs": [],
   "source": [
    "frame_splain(cluster_y, splain=True)"
   ]
  },
  {
   "cell_type": "code",
   "execution_count": null,
   "metadata": {},
   "outputs": [],
   "source": [
    "c_col = cluster_col[0]\n",
    "y_col = 'y'"
   ]
  },
  {
   "cell_type": "code",
   "execution_count": null,
   "metadata": {},
   "outputs": [],
   "source": [
    "XncC = prep.df_join_xy(Xnc, Xc_scaled['cluster']) \n",
    "XncC.head()"
   ]
  },
  {
   "cell_type": "code",
   "execution_count": null,
   "metadata": {},
   "outputs": [],
   "source": [
    "cluster_stats = cluster_y.groupby(c_col).y.agg(['count', 'mean', 'std']).reset_index()"
   ]
  },
  {
   "cell_type": "code",
   "execution_count": null,
   "metadata": {},
   "outputs": [],
   "source": [
    "cluster_stats"
   ]
  },
  {
   "cell_type": "code",
   "execution_count": null,
   "metadata": {},
   "outputs": [],
   "source": [
    "df_stats = y.agg(['count', 'mean', 'std'])\n",
    "df_stats"
   ]
  },
  {
   "cell_type": "code",
   "execution_count": null,
   "metadata": {},
   "outputs": [],
   "source": [
    "@timeifdebug\n",
    "def bool_ttest_single_uniq(df, target_column='target', check_column='check', alpha=.05, **kwargs):\n",
    "\n",
    "    p_list = []\n",
    "    uniq_vals = sorted(df[check_column].unique())\n",
    "    print(uniq_vals)\n",
    "    #tgt_name = target_column\n",
    "    #chk_name = check_column\n",
    "    for val in uniq_vals:\n",
    "        is_true = df[df[check_column] == val]\n",
    "        num_true = len(is_true)\n",
    "        y_if_true = is_true[target_column].mean()\n",
    "        std_if_true = is_true[target_column].std()\n",
    "        y_mean = df[target_column].mean()\n",
    "        y_std = df[target_column].std()\n",
    "        t, p = stats.ttest_1samp(is_true[target_column], df[target_column].mean())\n",
    "        p_list.append([check_column, val, num_true, t, p, p<alpha, y_if_true, y_mean, std_if_true, y_std])\n",
    "    df_p = (pd.DataFrame(\n",
    "        p_list, \n",
    "        columns=[\n",
    "            'column','value','count','t_stat','p_value','is_sig',\n",
    "            target_column+'_if_value',target_column+'_mean',\n",
    "            'std_if_value','std_all'])\n",
    "        .set_index(['value'])\n",
    "            .sort_values(by='p_value'))\n",
    "    return df_p\n"
   ]
  },
  {
   "cell_type": "code",
   "execution_count": null,
   "metadata": {},
   "outputs": [],
   "source": [
    "tc = bool_ttest_single_uniq(cluster_y, target_column='y', check_column=c_col, alpha=.05, debug=True)"
   ]
  },
  {
   "cell_type": "code",
   "execution_count": null,
   "metadata": {},
   "outputs": [],
   "source": [
    "tc"
   ]
  },
  {
   "cell_type": "code",
   "execution_count": null,
   "metadata": {},
   "outputs": [],
   "source": [
    "tctrue = sorted(tc[tc.is_sig].index)\n",
    "tctrue"
   ]
  },
  {
   "cell_type": "code",
   "execution_count": null,
   "metadata": {},
   "outputs": [],
   "source": [
    "for tcval in tctrue:\n",
    "    XncC['c' + str(tcval)] = XncC.cluster == tcval\n",
    "    \n",
    "XncC.head()"
   ]
  },
  {
   "cell_type": "code",
   "execution_count": null,
   "metadata": {},
   "outputs": [],
   "source": [
    "XncCs = XncC.drop(columns='cluster')\n",
    "XncCs.head(15)"
   ]
  },
  {
   "cell_type": "code",
   "execution_count": null,
   "metadata": {},
   "outputs": [],
   "source": []
  },
  {
   "cell_type": "code",
   "execution_count": null,
   "metadata": {},
   "outputs": [],
   "source": []
  },
  {
   "cell_type": "code",
   "execution_count": null,
   "metadata": {},
   "outputs": [],
   "source": [
    "if 'prediction' in XncCs.columns:\n",
    "    XncCs = XncCs.drop(columns='prediction')"
   ]
  },
  {
   "cell_type": "code",
   "execution_count": null,
   "metadata": {},
   "outputs": [],
   "source": [
    "dtr = DecisionTreeRegressor(\n",
    "    max_depth=9,\n",
    "    random_state=dfo.randomer,\n",
    "    min_samples_leaf=3,\n",
    "    max_leaf_nodes=None\n",
    ")\n",
    "dtr.fit(XncCs, y)\n",
    "#clf = clf.fit(XncCs, dfo.y_column)\n",
    "\n",
    "\n",
    "#dot_data = export_graphviz(clf, out_file=None) \n",
    "#graph = graphviz.Source(dot_data) \n",
    "\n",
    "#graph.render('iris_decision_tree', view=True)"
   ]
  },
  {
   "cell_type": "code",
   "execution_count": null,
   "metadata": {},
   "outputs": [],
   "source": [
    "# cross_val_score(dtr, XncCs, y, cv=10)\n"
   ]
  },
  {
   "cell_type": "code",
   "execution_count": null,
   "metadata": {},
   "outputs": [],
   "source": [
    "dtr_score_ = dtr.score(XncCs, y)\n",
    "dtr_score_"
   ]
  },
  {
   "cell_type": "code",
   "execution_count": null,
   "metadata": {},
   "outputs": [],
   "source": [
    "dtr_pred_ = dtr.predict(XncCs)"
   ]
  },
  {
   "cell_type": "code",
   "execution_count": null,
   "metadata": {},
   "outputs": [],
   "source": [
    "Xp = XncCs[XncCs.columns]"
   ]
  },
  {
   "cell_type": "code",
   "execution_count": null,
   "metadata": {},
   "outputs": [],
   "source": [
    "Xp = Xp.join(y)\n",
    "Xp.head()"
   ]
  },
  {
   "cell_type": "code",
   "execution_count": null,
   "metadata": {},
   "outputs": [],
   "source": [
    "Xp['pred_dtr'] = dtr_pred_\n",
    "Xp.head()"
   ]
  },
  {
   "cell_type": "code",
   "execution_count": null,
   "metadata": {},
   "outputs": [],
   "source": [
    "dtr.get_params()"
   ]
  },
  {
   "cell_type": "code",
   "execution_count": null,
   "metadata": {},
   "outputs": [],
   "source": [
    "bl_errors = p_eval.regression_errors(Xp.y, Xp.yhat)\n",
    "print(bl_errors)\n",
    "dtr_errors = p_eval.regression_errors(Xp.y, Xp.pred_dtr)\n",
    "print(dtr_errors)\n"
   ]
  },
  {
   "cell_type": "code",
   "execution_count": null,
   "metadata": {},
   "outputs": [],
   "source": [
    "y.std()"
   ]
  },
  {
   "cell_type": "code",
   "execution_count": null,
   "metadata": {},
   "outputs": [],
   "source": [
    "bl_errors['RMSE']/y.std()"
   ]
  },
  {
   "cell_type": "code",
   "execution_count": null,
   "metadata": {},
   "outputs": [],
   "source": [
    "dtr_errors['RMSE']/y.std()"
   ]
  },
  {
   "cell_type": "code",
   "execution_count": null,
   "metadata": {},
   "outputs": [],
   "source": []
  },
  {
   "cell_type": "code",
   "execution_count": null,
   "metadata": {},
   "outputs": [],
   "source": []
  },
  {
   "cell_type": "code",
   "execution_count": null,
   "metadata": {},
   "outputs": [],
   "source": []
  },
  {
   "cell_type": "code",
   "execution_count": null,
   "metadata": {},
   "outputs": [],
   "source": []
  }
 ],
 "metadata": {
  "kernelspec": {
   "display_name": "Python 3",
   "language": "python",
   "name": "python3"
  },
  "language_info": {
   "codemirror_mode": {
    "name": "ipython",
    "version": 3
   },
   "file_extension": ".py",
   "mimetype": "text/x-python",
   "name": "python",
   "nbconvert_exporter": "python",
   "pygments_lexer": "ipython3",
   "version": "3.7.3"
  }
 },
 "nbformat": 4,
 "nbformat_minor": 2
}
